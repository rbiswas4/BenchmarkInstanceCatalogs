{
 "cells": [
  {
   "cell_type": "markdown",
   "metadata": {},
   "source": [
    "The times taken to query the base galaxy Table using obsMetadata and instance Catalogs is much larger than the time to query the galaxy table on fatboy directly. This records timeit results for these queries"
   ]
  },
  {
   "cell_type": "markdown",
   "metadata": {},
   "source": [
    "## Setup"
   ]
  },
  {
   "cell_type": "code",
   "execution_count": 11,
   "metadata": {
    "collapsed": true
   },
   "outputs": [],
   "source": [
    "import time\n",
    "import os\n",
    "import pandas as pd"
   ]
  },
  {
   "cell_type": "code",
   "execution_count": 2,
   "metadata": {
    "collapsed": false
   },
   "outputs": [
    {
     "name": "stderr",
     "output_type": "stream",
     "text": [
      "/Users/rbiswas/src/LSST/sims_catalogs_generation/python/lsst/sims/catalogs/generation/db/dbConnection.py:438: UserWarning: Duplicate object type id 25 specified: \n",
      "Output object ids may not be unique.\n",
      "This may not be a problem if you do not want globally unique id values\n",
      "  'want globally unique id values')\n",
      "/Users/rbiswas/src/LSST/sims_catalogs_generation/python/lsst/sims/catalogs/generation/db/dbConnection.py:438: UserWarning: Duplicate object type id 40 specified: \n",
      "Output object ids may not be unique.\n",
      "This may not be a problem if you do not want globally unique id values\n",
      "  'want globally unique id values')\n"
     ]
    }
   ],
   "source": [
    "from lsst.sims.catalogs.measures.instance import InstanceCatalog\n",
    "import lsst.sims.catUtils.baseCatalogModels as bcm\n",
    "from lsst.sims.catalogs.generation.db import CatalogDBObject\n",
    "from lsst.sims.catUtils.baseCatalogModels.GalaxyModels import GalaxyTileObj\n",
    "from lsst.sims.utils import ObservationMetaData"
   ]
  },
  {
   "cell_type": "markdown",
   "metadata": {},
   "source": [
    "## galaxy Instance Catalog + writeCatalog"
   ]
  },
  {
   "cell_type": "code",
   "execution_count": 2,
   "metadata": {
    "collapsed": true
   },
   "outputs": [],
   "source": [
    "obsMetaData = ObservationMetaData(boundType='box',\n",
    "                                  pointingRA=0.,\n",
    "                                  pointingDec=0.,\n",
    "                                  boundLength=2.)"
   ]
  },
  {
   "cell_type": "code",
   "execution_count": 3,
   "metadata": {
    "collapsed": true
   },
   "outputs": [],
   "source": [
    "class galCopy(InstanceCatalog):\n",
    "    column_outputs = ['galtileid', 'raJ2000', 'decJ2000', 'redshift']#, 'a_d', 'b_d', 'pa_disk', 'mass_stellar', 'absmag_r_total']\n",
    "    override_formats = {'raJ2000': '%8e', 'decJ2000': '%8e', 'a_d': '%8e', 'b_d': '%8e', 'pa_disk': '%8e', \n",
    "                        'mass_stellar': '%8e', 'absmag_r_total': '%8e'}"
   ]
  },
  {
   "cell_type": "code",
   "execution_count": 6,
   "metadata": {
    "collapsed": true
   },
   "outputs": [],
   "source": [
    "def writeCat(redshiftmax=0.4, fname='gB-test.csv', chunkSize=None):\n",
    "    constr = 'redshift < {0}'.format(redshiftmax)\n",
    "    galaxyTiled = GalaxyTileObj()\n",
    "    galaxyBase = galCopy(galaxyTiled, obs_metadata=obsMetaData, constraint=constr)\n",
    "    galaxyBase.write_catalog(fname, chunkSize)"
   ]
  },
  {
   "cell_type": "code",
   "execution_count": 7,
   "metadata": {
    "collapsed": false
   },
   "outputs": [
    {
     "name": "stdout",
     "output_type": "stream",
     "text": [
      "50.277971983\n",
      "50.7782390118\n",
      "52.8341991901\n",
      "53.0963251591\n",
      "1 loops, best of 3: 50.8 s per loop\n"
     ]
    },
    {
     "name": "stderr",
     "output_type": "stream",
     "text": [
      "/usr/local/manual/anaconda/lib/python2.7/site-packages/sqlalchemy/dialects/mssql/base.py:1294: SAWarning: Did not recognize type 'geography' of column 'geopoint'\n",
      "  return fn(*arg, **kw)\n"
     ]
    }
   ],
   "source": [
    "%%timeit\n",
    "chunksize = None\n",
    "tstart = time.time()\n",
    "writeCat(chunkSize=chunksize)\n",
    "tend = time.time()\n",
    "print(tend - tstart)"
   ]
  },
  {
   "cell_type": "code",
   "execution_count": 8,
   "metadata": {
    "collapsed": false
   },
   "outputs": [
    {
     "name": "stdout",
     "output_type": "stream",
     "text": [
      "52.747150898\n",
      "50.3756668568\n",
      "52.9057190418\n",
      "50.5252020359\n",
      "1 loops, best of 3: 50.4 s per loop\n"
     ]
    }
   ],
   "source": [
    "%%timeit\n",
    "chunksize = 50000\n",
    "tstart = time.time()\n",
    "writeCat(chunkSize=chunksize)\n",
    "tend = time.time()\n",
    "print(tend - tstart)"
   ]
  },
  {
   "cell_type": "code",
   "execution_count": 9,
   "metadata": {
    "collapsed": false
   },
   "outputs": [
    {
     "name": "stdout",
     "output_type": "stream",
     "text": [
      "51.8218009472\n",
      "49.6426441669\n",
      "52.1382918358\n",
      "55.8443951607\n",
      "1 loops, best of 3: 49.6 s per loop\n"
     ]
    }
   ],
   "source": [
    "%%timeit\n",
    "chunksize = 500000\n",
    "tstart = time.time()\n",
    "writeCat(chunkSize=chunksize)\n",
    "tend = time.time()\n",
    "print(tend - tstart)"
   ]
  },
  {
   "cell_type": "code",
   "execution_count": 10,
   "metadata": {
    "collapsed": false
   },
   "outputs": [
    {
     "name": "stdout",
     "output_type": "stream",
     "text": [
      "52.6447761059\n",
      "52.5556430817\n",
      "50.3972399235\n",
      "49.5057430267\n",
      "1 loops, best of 3: 49.5 s per loop\n"
     ]
    }
   ],
   "source": [
    "%%timeit\n",
    "chunksize = 5000\n",
    "tstart = time.time()\n",
    "writeCat(chunkSize=chunksize)\n",
    "tend = time.time()\n",
    "print(tend - tstart)"
   ]
  },
  {
   "cell_type": "code",
   "execution_count": 15,
   "metadata": {
    "collapsed": false
   },
   "outputs": [
    {
     "name": "stdout",
     "output_type": "stream",
     "text": [
      "54.0655651093\n",
      "54.7553839684\n",
      "55.7499918938\n",
      "56.8625900745\n",
      "1 loops, best of 3: 54.8 s per loop\n"
     ]
    }
   ],
   "source": [
    "%%timeit\n",
    "chunksize = 50\n",
    "tstart = time.time()\n",
    "writeCat(chunkSize=chunksize)\n",
    "tend = time.time()\n",
    "print(tend - tstart)"
   ]
  },
  {
   "cell_type": "markdown",
   "metadata": {},
   "source": [
    "## Direct query with fetch"
   ]
  },
  {
   "cell_type": "code",
   "execution_count": 3,
   "metadata": {
    "collapsed": true
   },
   "outputs": [],
   "source": [
    "from lsst.utils import getPackageDir\n",
    "from lsst.daf.persistence import DbAuth\n",
    "import lsst.pex.config as pexConfig\n",
    "import pymssql"
   ]
  },
  {
   "cell_type": "code",
   "execution_count": 4,
   "metadata": {
    "collapsed": false
   },
   "outputs": [
    {
     "name": "stdout",
     "output_type": "stream",
     "text": [
      "(907562, 4)\n",
      "2.89684391022\n",
      "(907562, 4)\n",
      "2.78780198097\n",
      "(907562, 4)\n",
      "2.91004490852\n",
      "(907562, 4)\n",
      "2.87404108047\n",
      "1 loops, best of 3: 2.79 s per loop\n"
     ]
    }
   ],
   "source": [
    "%%timeit\n",
    "tstart = time.time()\n",
    "config = bcm.BaseCatalogConfig()\n",
    "config.load(os.path.join(getPackageDir(\"sims_catUtils\"), \"config\", \"db.py\"))\n",
    "DBConnection = pymssql.connect(user=DbAuth.username(config.host, config.port),\n",
    "                               password=DbAuth.password(config.host, config.port),\n",
    "                               database=config.database, port=config.port)\n",
    "db = DBConnection.cursor()\n",
    "query = \"\"\"SELECT id, ra, dec, redshift FROM galaxy WHERE redshift < 0.4 AND ra < 2 and ra > -2 and dec < 2 and dec > -2\"\"\"\n",
    "db.execute(query)\n",
    "x = db.fetchall()\n",
    "print(len(x), len(x[0]))\n",
    "tend = time.time()\n",
    "print(tend - tstart)"
   ]
  },
  {
   "cell_type": "code",
   "execution_count": 9,
   "metadata": {
    "collapsed": false
   },
   "outputs": [
    {
     "name": "stdout",
     "output_type": "stream",
     "text": [
      "47.9792869091\n",
      "23.2235229015\n",
      "34.0013780594\n",
      "37.0588347912\n",
      "1 loops, best of 3: 23.2 s per loop\n"
     ]
    }
   ],
   "source": [
    "%%timeit\n",
    "tstart = time.time()\n",
    "config = bcm.BaseCatalogConfig()\n",
    "config.load(os.path.join(getPackageDir(\"sims_catUtils\"), \"config\", \"db.py\"))\n",
    "DBConnection = pymssql.connect(user=DbAuth.username(config.host, config.port),\n",
    "                               password=DbAuth.password(config.host, config.port),\n",
    "                               database=config.database, port=config.port)\n",
    "db = DBConnection.cursor()\n",
    "query = \"\"\"SELECT id, ra, dec, redshift FROM galaxy WHERE redshift < 0.4 AND ra < 2 and ra > -2 and dec < 2 and dec > -2\"\"\"\n",
    "db.execute(query)\n",
    "num = 50000\n",
    "x = db.fetchmany(num)\n",
    "while len(x)>0:\n",
    "    x = db.fetchmany(num)\n",
    "# print(len(x), len(x[0]))\n",
    "tend = time.time()\n",
    "print(tend - tstart)"
   ]
  },
  {
   "cell_type": "code",
   "execution_count": 7,
   "metadata": {
    "collapsed": false
   },
   "outputs": [
    {
     "name": "stdout",
     "output_type": "stream",
     "text": [
      "/Users/rbiswas/src/LSST/BenchmarkInstanceCatalogs/examples\r\n"
     ]
    }
   ],
   "source": [
    "!pwd"
   ]
  },
  {
   "cell_type": "code",
   "execution_count": 10,
   "metadata": {
    "collapsed": false
   },
   "outputs": [
    {
     "name": "stdout",
     "output_type": "stream",
     "text": [
      "38.0828609467\n",
      "48.4139699936\n",
      "46.8077619076\n",
      "42.6143682003\n",
      "1 loops, best of 3: 42.6 s per loop\n"
     ]
    }
   ],
   "source": [
    "%%timeit\n",
    "tstart = time.time()\n",
    "config = bcm.BaseCatalogConfig()\n",
    "config.load(os.path.join(getPackageDir(\"sims_catUtils\"), \"config\", \"db.py\"))\n",
    "DBConnection = pymssql.connect(user=DbAuth.username(config.host, config.port),\n",
    "                               password=DbAuth.password(config.host, config.port),\n",
    "                               database=config.database, port=config.port)\n",
    "db = DBConnection.cursor()\n",
    "query = \"\"\"SELECT id, ra, dec, redshift FROM galaxy WHERE redshift < 0.4 AND ra < 2 and ra > -2 and dec < 2 and dec > -2\"\"\"\n",
    "db.execute(query)\n",
    "#num = 50000\n",
    "x = db.fetchall()\n",
    "# print(len(x), len(x[0]))\n",
    "tend = time.time()\n",
    "print(tend - tstart)"
   ]
  },
  {
   "cell_type": "code",
   "execution_count": 16,
   "metadata": {
    "collapsed": false
   },
   "outputs": [
    {
     "name": "stdout",
     "output_type": "stream",
     "text": [
      "3.06677079201\n",
      "2.84902787209\n",
      "2.82190299034\n",
      "2.79049491882\n",
      "1 loops, best of 3: 2.79 s per loop\n"
     ]
    }
   ],
   "source": [
    "%%timeit\n",
    "tstart = time.time()\n",
    "config = bcm.BaseCatalogConfig()\n",
    "config.load(os.path.join(getPackageDir(\"sims_catUtils\"), \"config\", \"db.py\"))\n",
    "DBConnection = pymssql.connect(user=DbAuth.username(config.host, config.port),\n",
    "                               password=DbAuth.password(config.host, config.port),\n",
    "                               database=config.database, port=config.port)\n",
    "db = DBConnection.cursor()\n",
    "query = \"\"\"SELECT id, ra, dec, redshift FROM galaxy WHERE redshift < 0.4 AND ra < 2 and ra > -2 and dec < 2 and dec > -2\"\"\"\n",
    "db.execute(query)\n",
    "num = 50000\n",
    "x = db.fetchmany(num)\n",
    "while len(x) > 0:\n",
    "    x = db.fetchmany(num)\n",
    "# print(len(x), len(x[0]))\n",
    "#df = pd.DataFrame.from_records(x, columns=['id', 'ra', 'dec', 'redshift'])\n",
    "#df.to_csv('gb_pd.test.csv', index=False)\n",
    "tend = time.time()\n",
    "print(tend - tstart)"
   ]
  },
  {
   "cell_type": "code",
   "execution_count": 14,
   "metadata": {
    "collapsed": false
   },
   "outputs": [
    {
     "name": "stdout",
     "output_type": "stream",
     "text": [
      "5.25460505486\n",
      "5.22433400154\n",
      "5.32429909706\n",
      "5.30123806\n",
      "1 loops, best of 3: 5.22 s per loop\n"
     ]
    }
   ],
   "source": [
    "%%timeit\n",
    "tstart = time.time()\n",
    "config = bcm.BaseCatalogConfig()\n",
    "config.load(os.path.join(getPackageDir(\"sims_catUtils\"), \"config\", \"db.py\"))\n",
    "DBConnection = pymssql.connect(user=DbAuth.username(config.host, config.port),\n",
    "                               password=DbAuth.password(config.host, config.port),\n",
    "                               database=config.database, port=config.port)\n",
    "db = DBConnection.cursor()\n",
    "query = \"\"\"SELECT id, ra, dec, redshift FROM galaxy WHERE redshift < 0.4 AND ra < 2 and ra > -2 and dec < 2 and dec > -2\"\"\"\n",
    "db.execute(query)\n",
    "#num = 50000\n",
    "x = db.fetchall()\n",
    "# print(len(x), len(x[0]))\n",
    "df = pd.DataFrame.from_records(x, columns=['id', 'ra', 'dec', 'redshift'])\n",
    "df.to_csv('gb_pd.test.csv', index=False)\n",
    "tend = time.time()\n",
    "print(tend - tstart)"
   ]
  },
  {
   "cell_type": "code",
   "execution_count": null,
   "metadata": {
    "collapsed": true
   },
   "outputs": [],
   "source": []
  }
 ],
 "metadata": {
  "kernelspec": {
   "display_name": "Python 2",
   "language": "python",
   "name": "python2"
  },
  "language_info": {
   "codemirror_mode": {
    "name": "ipython",
    "version": 2
   },
   "file_extension": ".py",
   "mimetype": "text/x-python",
   "name": "python",
   "nbconvert_exporter": "python",
   "pygments_lexer": "ipython2",
   "version": "2.7.11"
  }
 },
 "nbformat": 4,
 "nbformat_minor": 0
}
