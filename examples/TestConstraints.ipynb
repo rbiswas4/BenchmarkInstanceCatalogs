{
 "metadata": {
  "name": "",
  "signature": "sha256:a6e641be9b8c746d892c7639109464c6086938dd8d16d870f6f570efeeb45a31"
 },
 "nbformat": 3,
 "nbformat_minor": 0,
 "worksheets": [
  {
   "cells": [
    {
     "cell_type": "code",
     "collapsed": false,
     "input": [
      "from benchmarkInstanceCatalogs.InstanceCatalogBenchMarks import QueryBenchMarks"
     ],
     "language": "python",
     "metadata": {},
     "outputs": [],
     "prompt_number": 1
    },
    {
     "cell_type": "code",
     "collapsed": false,
     "input": [
      "%matplotlib inline\n",
      "import matplotlib.pyplot as plt"
     ],
     "language": "python",
     "metadata": {},
     "outputs": [],
     "prompt_number": 2
    },
    {
     "cell_type": "code",
     "collapsed": false,
     "input": [
      "import pandas as pd"
     ],
     "language": "python",
     "metadata": {},
     "outputs": [],
     "prompt_number": 3
    },
    {
     "cell_type": "code",
     "collapsed": false,
     "input": [
      "from lsst.sims.catalogs.generation.db import CatalogDBObject\n",
      "import lsst.sims.catUtils.baseCatalogModels as bcm\n",
      "from lsst.sims.catalogs.measures.instance import InstanceCatalog\n",
      "\n",
      "galDB = CatalogDBObject.from_objid('galaxyTiled')\n",
      "\n",
      "# Create a child of the InstanceCatalog Class\n",
      "class galCopy(InstanceCatalog):\n",
      "    column_outputs = ['id', 'raJ2000', 'decJ2000', 'redshift']\n",
      "    override_formats = {'raJ2000': '%8e', 'decJ2000': '%8e'}"
     ],
     "language": "python",
     "metadata": {},
     "outputs": [
      {
       "output_type": "stream",
       "stream": "stderr",
       "text": [
        "/usr/local/manual/anaconda/lib/python2.7/site-packages/sqlalchemy/dialects/mssql/base.py:1294: SAWarning: Did not recognize type 'geography' of column 'geopoint'\n",
        "  return fn(*arg, **kw)\n"
       ]
      }
     ],
     "prompt_number": 4
    },
    {
     "cell_type": "code",
     "collapsed": false,
     "input": [
      "boundLens = [0.1]\n",
      "opsimDBHDF ='/Users/rbiswas/data/LSST/OpSimData/storage.h5'\n",
      "\n",
      "fulldb = QueryBenchMarks.fromOpSimDF(instanceCatChild=galCopy, dbObject=galDB,\n",
      "                                  opSimHDF=opsimDBHDF, boundLens=boundLens,\n",
      "                                  numSamps=1, name='testingFullDB')"
     ],
     "language": "python",
     "metadata": {},
     "outputs": [],
     "prompt_number": 5
    },
    {
     "cell_type": "code",
     "collapsed": false,
     "input": [
      "print fulldb.df"
     ],
     "language": "python",
     "metadata": {},
     "outputs": [
      {
       "output_type": "stream",
       "stream": "stdout",
       "text": [
        "None\n"
       ]
      }
     ],
     "prompt_number": 7
    },
    {
     "cell_type": "code",
     "collapsed": false,
     "input": [
      "fulldb.aggregateResults()"
     ],
     "language": "python",
     "metadata": {},
     "outputs": [
      {
       "output_type": "stream",
       "stream": "stdout",
       "text": [
        "boundLen used 0 0.1\n"
       ]
      }
     ],
     "prompt_number": 8
    },
    {
     "cell_type": "code",
     "collapsed": false,
     "input": [
      "rless24db = QueryBenchMarks.fromOpSimDF(instanceCatChild=galCopy, dbObject=galDB,\n",
      "                                  opSimHDF=opsimDBHDF, boundLens=boundLens,\n",
      "                                  numSamps=1, name='testingrless24DB', constraints='r_ab < 24')"
     ],
     "language": "python",
     "metadata": {},
     "outputs": [],
     "prompt_number": 10
    },
    {
     "cell_type": "code",
     "collapsed": false,
     "input": [
      "rless24db.aggregateResults()"
     ],
     "language": "python",
     "metadata": {},
     "outputs": [
      {
       "output_type": "stream",
       "stream": "stdout",
       "text": [
        "boundLen used 0 0.1\n"
       ]
      }
     ],
     "prompt_number": 12
    },
    {
     "cell_type": "code",
     "collapsed": false,
     "input": [
      "fulldb.df"
     ],
     "language": "python",
     "metadata": {},
     "outputs": [
      {
       "html": [
        "<div style=\"max-height:1000px;max-width:1500px;overflow:auto;\">\n",
        "<table border=\"1\" class=\"dataframe\">\n",
        "  <thead>\n",
        "    <tr style=\"text-align: right;\">\n",
        "      <th></th>\n",
        "      <th>boundLen</th>\n",
        "      <th>Ra</th>\n",
        "      <th>Dec</th>\n",
        "      <th>Mjd</th>\n",
        "      <th>numObjects</th>\n",
        "      <th>deltaT</th>\n",
        "      <th>deltaTFull</th>\n",
        "    </tr>\n",
        "  </thead>\n",
        "  <tbody>\n",
        "    <tr>\n",
        "      <th>0</th>\n",
        "      <td>0.1</td>\n",
        "      <td>-170.597132</td>\n",
        "      <td>-1.953156</td>\n",
        "      <td>57210</td>\n",
        "      <td>27010</td>\n",
        "      <td>5.524872</td>\n",
        "      <td>1691.99207</td>\n",
        "    </tr>\n",
        "  </tbody>\n",
        "</table>\n",
        "</div>"
       ],
       "metadata": {},
       "output_type": "pyout",
       "prompt_number": 9,
       "text": [
        "   boundLen          Ra       Dec    Mjd  numObjects    deltaT  deltaTFull\n",
        "0       0.1 -170.597132 -1.953156  57210       27010  5.524872  1691.99207"
       ]
      }
     ],
     "prompt_number": 9
    },
    {
     "cell_type": "code",
     "collapsed": false,
     "input": [
      "rless24db.df"
     ],
     "language": "python",
     "metadata": {},
     "outputs": [
      {
       "html": [
        "<div style=\"max-height:1000px;max-width:1500px;overflow:auto;\">\n",
        "<table border=\"1\" class=\"dataframe\">\n",
        "  <thead>\n",
        "    <tr style=\"text-align: right;\">\n",
        "      <th></th>\n",
        "      <th>boundLen</th>\n",
        "      <th>Ra</th>\n",
        "      <th>Dec</th>\n",
        "      <th>Mjd</th>\n",
        "      <th>numObjects</th>\n",
        "      <th>deltaT</th>\n",
        "      <th>deltaTFull</th>\n",
        "    </tr>\n",
        "  </thead>\n",
        "  <tbody>\n",
        "    <tr>\n",
        "      <th>0</th>\n",
        "      <td>0.1</td>\n",
        "      <td>-150.547735</td>\n",
        "      <td>-12.697604</td>\n",
        "      <td>57210</td>\n",
        "      <td>1632</td>\n",
        "      <td>24.738113</td>\n",
        "      <td>7576.047157</td>\n",
        "    </tr>\n",
        "  </tbody>\n",
        "</table>\n",
        "</div>"
       ],
       "metadata": {},
       "output_type": "pyout",
       "prompt_number": 13,
       "text": [
        "   boundLen          Ra        Dec    Mjd  numObjects     deltaT   deltaTFull\n",
        "0       0.1 -150.547735 -12.697604  57210        1632  24.738113  7576.047157"
       ]
      }
     ],
     "prompt_number": 13
    },
    {
     "cell_type": "code",
     "collapsed": false,
     "input": [],
     "language": "python",
     "metadata": {},
     "outputs": []
    }
   ],
   "metadata": {}
  }
 ]
}