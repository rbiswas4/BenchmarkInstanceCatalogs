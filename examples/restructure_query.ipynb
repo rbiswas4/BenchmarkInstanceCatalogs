{
 "cells": [
  {
   "cell_type": "markdown",
   "metadata": {},
   "source": [
    "The times taken to query the base galaxy Table using obsMetadata and instance Catalogs is much larger than the time to query the galaxy table on fatboy directly. This records timeit results for these queries"
   ]
  },
  {
   "cell_type": "markdown",
   "metadata": {},
   "source": [
    "## Setup"
   ]
  },
  {
   "cell_type": "code",
   "execution_count": 261,
   "metadata": {
    "collapsed": true
   },
   "outputs": [],
   "source": [
    "from __future__ import division, print_function, absolute_import"
   ]
  },
  {
   "cell_type": "code",
   "execution_count": 262,
   "metadata": {
    "collapsed": true
   },
   "outputs": [],
   "source": [
    "import time\n",
    "import os\n",
    "import pandas as pd\n",
    "import numpy as np"
   ]
  },
  {
   "cell_type": "code",
   "execution_count": 263,
   "metadata": {
    "collapsed": false
   },
   "outputs": [],
   "source": [
    "%matplotlib inline\n",
    "import matplotlib.pyplot as plt\n",
    "from matplotlib.patches import Polygon\n",
    "import seaborn as sns\n",
    "sns.set()"
   ]
  },
  {
   "cell_type": "code",
   "execution_count": 264,
   "metadata": {
    "collapsed": false
   },
   "outputs": [
    {
     "name": "stderr",
     "output_type": "stream",
     "text": [
      "/Users/rbiswas/src/LSST/sims_catalogs_generation/python/lsst/sims/catalogs/generation/db/dbConnection.py:438: UserWarning: Duplicate object type id 25 specified: \n",
      "Output object ids may not be unique.\n",
      "This may not be a problem if you do not want globally unique id values\n",
      "  'want globally unique id values')\n",
      "/Users/rbiswas/src/LSST/sims_catalogs_generation/python/lsst/sims/catalogs/generation/db/dbConnection.py:438: UserWarning: Duplicate object type id 40 specified: \n",
      "Output object ids may not be unique.\n",
      "This may not be a problem if you do not want globally unique id values\n",
      "  'want globally unique id values')\n"
     ]
    }
   ],
   "source": [
    "from lsst.sims.catalogs.measures.instance import InstanceCatalog\n",
    "import lsst.sims.catUtils.baseCatalogModels as bcm\n",
    "from lsst.sims.catalogs.generation.db import CatalogDBObject, DBObject\n",
    "from lsst.sims.catUtils.baseCatalogModels.GalaxyModels import GalaxyTileObj, GalaxyObj\n",
    "from lsst.sims.utils import ObservationMetaData"
   ]
  },
  {
   "cell_type": "markdown",
   "metadata": {},
   "source": [
    "## Observation Meta Data"
   ]
  },
  {
   "cell_type": "code",
   "execution_count": 265,
   "metadata": {
    "collapsed": true
   },
   "outputs": [],
   "source": [
    "# Shifted to corner\n",
    "observerMetaData_2 = ObservationMetaData(boundType='box',\n",
    "                                  pointingRA=2.,\n",
    "                                  pointingDec=2.,\n",
    "                                  boundLength=1.)"
   ]
  },
  {
   "cell_type": "code",
   "execution_count": 79,
   "metadata": {
    "collapsed": true
   },
   "outputs": [],
   "source": [
    "# Shifted to corner\n",
    "observerMetaData_1 = ObservationMetaData(boundType='box',\n",
    "                                  pointingRA=2.,\n",
    "                                  pointingDec=2.,\n",
    "                                  boundLength=2.)"
   ]
  },
  {
   "cell_type": "code",
   "execution_count": 80,
   "metadata": {
    "collapsed": true
   },
   "outputs": [],
   "source": [
    "# Original Base\n",
    "observerMetaData = ObservationMetaData(boundType='box',\n",
    "                                  pointingRA=0.,\n",
    "                                  pointingDec=0.,\n",
    "                                  boundLength=2.)"
   ]
  },
  {
   "cell_type": "code",
   "execution_count": 106,
   "metadata": {
    "collapsed": true
   },
   "outputs": [],
   "source": [
    "# Shifted to corner\n",
    "observerMetaData_3 = ObservationMetaData(boundType='box',\n",
    "                                  pointingRA=2.,\n",
    "                                  pointingDec=2.,\n",
    "                                  boundLength=0.5)"
   ]
  },
  {
   "cell_type": "code",
   "execution_count": 107,
   "metadata": {
    "collapsed": false
   },
   "outputs": [
    {
     "data": {
      "text/plain": [
       "2.0"
      ]
     },
     "execution_count": 107,
     "metadata": {},
     "output_type": "execute_result"
    }
   ],
   "source": [
    "observerMetaData.boundLength"
   ]
  },
  {
   "cell_type": "code",
   "execution_count": 124,
   "metadata": {
    "collapsed": true
   },
   "outputs": [],
   "source": [
    "def queryObsMetaData(obsMetaData):\n",
    "    ra, dec, size = obsMetaData.pointingRA, obsMetaData.pointingDec, obsMetaData.boundLength\n",
    "    raSize , decSize = (size, size)\n",
    "    coords = np.asarray([ra - size, ra + size, dec - size, dec + size])\n",
    "    \n",
    "    coordTrans = np.remainder(coords + size, np.repeat(4., 4)) - size\n",
    "    coordWraps =  np.floor_divide(coords[[1,3]] - coords[[0,2]] , (4,4))\n",
    "    querylims = coordTrans[2], coordTrans[0], coordTrans[3], coordTrans[1]\n",
    "    \n",
    "    \n",
    "    if coordTrans[2] < coordTrans[0]:\n",
    "        print('split')\n",
    "    if coordTrans[3] < coordTrans[1]:\n",
    "        print('split')\n",
    "        \n",
    "    #bounds = [Polygon(vert, fill=False, lw=2, alpha=1., ls='dashed') for vert in verts]\n",
    "    return coords, coordTrans, coordWraps, querylims\n"
   ]
  },
  {
   "cell_type": "code",
   "execution_count": 125,
   "metadata": {
    "collapsed": false
   },
   "outputs": [
    {
     "data": {
      "text/plain": [
       "(array([-2.,  2., -2.,  2.]),\n",
       " array([-2., -2., -2., -2.]),\n",
       " array([ 1.,  1.]),\n",
       " (-2.0, -2.0, -2.0, -2.0))"
      ]
     },
     "execution_count": 125,
     "metadata": {},
     "output_type": "execute_result"
    }
   ],
   "source": [
    "queryObsMetaData(observerMetaData)"
   ]
  },
  {
   "cell_type": "code",
   "execution_count": 126,
   "metadata": {
    "collapsed": false
   },
   "outputs": [
    {
     "data": {
      "text/plain": [
       "(array([ 0.,  4.,  0.,  4.]),\n",
       " array([ 0.,  0.,  0.,  0.]),\n",
       " array([ 1.,  1.]),\n",
       " (0.0, 0.0, 0.0, 0.0))"
      ]
     },
     "execution_count": 126,
     "metadata": {},
     "output_type": "execute_result"
    }
   ],
   "source": [
    "queryObsMetaData(observerMetaData_1)"
   ]
  },
  {
   "cell_type": "code",
   "execution_count": 127,
   "metadata": {
    "collapsed": false
   },
   "outputs": [
    {
     "data": {
      "text/plain": [
       "(array([ 1.,  3.,  1.,  3.]),\n",
       " array([ 1., -1.,  1., -1.]),\n",
       " array([ 0.,  0.]),\n",
       " (1.0, 1.0, -1.0, -1.0))"
      ]
     },
     "execution_count": 127,
     "metadata": {},
     "output_type": "execute_result"
    }
   ],
   "source": [
    "queryObsMetaData(observerMetaData_2)"
   ]
  },
  {
   "cell_type": "code",
   "execution_count": 128,
   "metadata": {
    "collapsed": false
   },
   "outputs": [
    {
     "data": {
      "text/plain": [
       "(array([ 1.5,  2.5,  1.5,  2.5]),\n",
       " array([ 1.5,  2.5,  1.5,  2.5]),\n",
       " array([ 0.,  0.]),\n",
       " (1.5, 1.5, 2.5, 2.5))"
      ]
     },
     "execution_count": 128,
     "metadata": {},
     "output_type": "execute_result"
    }
   ],
   "source": [
    "queryObsMetaData(observerMetaData_3)"
   ]
  },
  {
   "cell_type": "code",
   "execution_count": 129,
   "metadata": {
    "collapsed": false
   },
   "outputs": [
    {
     "data": {
      "text/plain": [
       "(array([ 1.5,  2.5,  1.5,  2.5]),\n",
       " array([ 1.5,  2.5,  1.5,  2.5]),\n",
       " array([ 0.,  0.]),\n",
       " (1.5, 1.5, 2.5, 2.5))"
      ]
     },
     "execution_count": 129,
     "metadata": {},
     "output_type": "execute_result"
    }
   ],
   "source": [
    "queryObsMetaData(observerMetaData_3)"
   ]
  },
  {
   "cell_type": "code",
   "execution_count": 30,
   "metadata": {
    "collapsed": false
   },
   "outputs": [],
   "source": [
    "def tileObsMetaData(obsMetaData, num):\n",
    "    ra, dec, size = obsMetaData.pointingRA, obsMetaData.pointingDec, obsMetaData.boundLength\n",
    "    blen = size / num\n",
    "    pras = np.arange(ra - size, ra + size, 2.0 *blen) + blen\n",
    "    pdecs = np.arange(dec - size, dec + size, 2.0 * blen) + blen\n",
    "    \n",
    "    coords = np.dstack(np.meshgrid(pras, pdecs)).reshape(len(pras) * len(pdecs), 2)\n",
    "    obsmdata = [ObservationMetaData(boundType='box',\n",
    "                                  pointingRA=coords[i, 0],\n",
    "                                  pointingDec=coords[i, 1],\n",
    "                                  boundLength=blen) for i in range(len(coords))]\n",
    "    # return coords\n",
    "    diffvec = np.array([blen, blen])\n",
    "    transvec = np.array([1, -1])\n",
    "    verts = [[coord - diffvec, coord - transvec * diffvec, coord + diffvec, coord + diffvec *transvec] for coord in coords]  \n",
    "    bounds = [Polygon(vert, fill=False, lw=2, alpha=1., ls='dashed') for vert in verts]\n",
    "    return obsmdata, coords, bounds\n",
    "\n"
   ]
  },
  {
   "cell_type": "code",
   "execution_count": 31,
   "metadata": {
    "collapsed": false
   },
   "outputs": [
    {
     "data": {
      "text/plain": [
       "(-2.0, 2.0)"
      ]
     },
     "execution_count": 31,
     "metadata": {},
     "output_type": "execute_result"
    },
    {
     "data": {
      "image/png": "[encoded data removed]",
      "text/plain": [
       "<matplotlib.figure.Figure at 0x121160bd0>"
      ]
     },
     "metadata": {},
     "output_type": "display_data"
    }
   ],
   "source": [
    "tiledObsMD, coords, bounds = tileObsMetaData(observerMetaData, 3)\n",
    "fig, ax =plt.subplots()\n",
    "ax.scatter(coords[:,0], coords[:, 1])\n",
    "for bound in bounds:\n",
    "    ax.add_patch(bound)\n",
    "ax.set_xlim(-2., 2.)\n",
    "ax.set_ylim(-2., 2.)"
   ]
  },
  {
   "cell_type": "code",
   "execution_count": null,
   "metadata": {
    "collapsed": false
   },
   "outputs": [],
   "source": [
    "len(tiledObsMD)"
   ]
  },
  {
   "cell_type": "code",
   "execution_count": null,
   "metadata": {
    "collapsed": false
   },
   "outputs": [],
   "source": [
    "class galCopy(InstanceCatalog):\n",
    "    column_outputs = ['galtileid', 'raJ2000', 'decJ2000', 'redshift']#, 'a_d', 'b_d', 'pa_disk', 'mass_stellar', 'absmag_r_total']\n",
    "    override_formats = {'raJ2000': '%8e', 'decJ2000': '%8e', 'a_d': '%8e', 'b_d': '%8e', 'pa_disk': '%8e', \n",
    "                        'mass_stellar': '%8e', 'absmag_r_total': '%8e'}"
   ]
  },
  {
   "cell_type": "code",
   "execution_count": null,
   "metadata": {
    "collapsed": true
   },
   "outputs": [],
   "source": [
    "def writeCat(obsMD=tiledObsMD, redshiftmax=0.4, fname='gB-test', chunkSize=None):\n",
    "    constr = 'redshift < {0}'.format(redshiftmax)\n",
    "    galaxyTiled = GalaxyTileObj()\n",
    "    print(len(obsMD))\n",
    "    filenames = []\n",
    "    for i, obsMetaData in enumerate(obsMD):\n",
    "        filename = fname  + '{}'.format(i) + '.csv'\n",
    "        filenames.append(filename)\n",
    "        galaxyBase = galCopy(galaxyTiled, obs_metadata=obsMetaData, constraint=constr)\n",
    "        galaxyBase.write_catalog(filename, chunkSize)\n",
    "    return filenames"
   ]
  },
  {
   "cell_type": "code",
   "execution_count": null,
   "metadata": {
    "collapsed": true
   },
   "outputs": [],
   "source": [
    "# No need\n",
    "def writeCatBase(redshiftmax=0.4, fname='gB-test.csv', chunkSize=None):\n",
    "    constr = 'redshift < {0}'.format(redshiftmax)\n",
    "    galaxyTiled = GalaxyObj()\n",
    "    galaxyBase = galBaseCopy(galaxyTiled, obs_metadata=obsMetaData, constraint=constr)\n",
    "    galaxyBase.write_catalog(fname, chunkSize)"
   ]
  },
  {
   "cell_type": "code",
   "execution_count": null,
   "metadata": {
    "collapsed": true
   },
   "outputs": [],
   "source": [
    "tileObsMD, coords, bounds = tileObsMetaData(observerMetaData, 1)"
   ]
  },
  {
   "cell_type": "code",
   "execution_count": null,
   "metadata": {
    "collapsed": false
   },
   "outputs": [],
   "source": [
    "len(tileObsMD)"
   ]
  },
  {
   "cell_type": "code",
   "execution_count": null,
   "metadata": {
    "collapsed": false
   },
   "outputs": [],
   "source": [
    "%%timeit\n",
    "chunksize = None\n",
    "tstart = time.time()\n",
    "fnames = writeCat(obsMD=tileObsMD, chunkSize=chunksize)\n",
    "print(fnames)\n",
    "tend = time.time()\n",
    "print(tend - tstart)\n",
    "numlines = 0"
   ]
  },
  {
   "cell_type": "code",
   "execution_count": null,
   "metadata": {
    "collapsed": false
   },
   "outputs": [],
   "source": [
    "tileObsMD, coords, bounds = tileObsMetaData(observerMetaData, 2)"
   ]
  },
  {
   "cell_type": "code",
   "execution_count": null,
   "metadata": {
    "collapsed": false
   },
   "outputs": [],
   "source": [
    "%%timeit\n",
    "chunksize = None\n",
    "tstart = time.time()\n",
    "fnames = writeCat(obsMD=tileObsMD, chunkSize=chunksize)\n",
    "print(fnames)\n",
    "tend = time.time()\n",
    "print(tend - tstart)\n",
    "numlines = 0"
   ]
  },
  {
   "cell_type": "code",
   "execution_count": null,
   "metadata": {
    "collapsed": false
   },
   "outputs": [],
   "source": [
    "tileObsMD, coords, bounds = tileObsMetaData(observerMetaData, 3)"
   ]
  },
  {
   "cell_type": "code",
   "execution_count": null,
   "metadata": {
    "collapsed": false
   },
   "outputs": [],
   "source": [
    "%%timeit\n",
    "chunksize = None\n",
    "tstart = time.time()\n",
    "fnames = writeCat(obsMD=tileObsMD, chunkSize=chunksize)\n",
    "print(fnames)\n",
    "tend = time.time()\n",
    "print(tend - tstart)\n",
    "numlines = 0"
   ]
  },
  {
   "cell_type": "code",
   "execution_count": null,
   "metadata": {
    "collapsed": false
   },
   "outputs": [],
   "source": [
    "query = \"\"\"EXECUTE [LSSTCATSIM].[dbo].[GalaxySearch2015l]\n",
    "                   @ApertureStr = 'REGION RECT J2000 358.000000 -2.000000 2.000000 2.000000', @ColumnNames = 'dec as decJ2000,ra as raJ2000,redshift as redshift',\n",
    "                   @ComponentSubset = 'ALL' , @WhereClause = 'redshift < 0.4’\n",
    "        \"\"\"\n"
   ]
  },
  {
   "cell_type": "code",
   "execution_count": null,
   "metadata": {
    "collapsed": false
   },
   "outputs": [],
   "source": [
    "numLines = 1\n",
    "for i in range(9):\n",
    "    fname = \"gB-test{}.csv\".format(i)\n",
    "    with open(fname, 'r') as fp:\n",
    "        numLines += sum(1 for line in fp) - 1 "
   ]
  },
  {
   "cell_type": "code",
   "execution_count": null,
   "metadata": {
    "collapsed": false
   },
   "outputs": [],
   "source": [
    "print(numLines)"
   ]
  },
  {
   "cell_type": "code",
   "execution_count": null,
   "metadata": {
    "collapsed": false
   },
   "outputs": [],
   "source": [
    "!tail gB-test0.csv"
   ]
  },
  {
   "cell_type": "code",
   "execution_count": null,
   "metadata": {
    "collapsed": false
   },
   "outputs": [],
   "source": [
    "!wc -l *.csv"
   ]
  },
  {
   "cell_type": "code",
   "execution_count": null,
   "metadata": {
    "collapsed": true
   },
   "outputs": [],
   "source": [
    "def writeDBObjBase(redshiftmax=0.4, fname='gB-test.csv', chunkSize=None):\n",
    "    constr = 'redshift < {0}'.format(redshiftmax)\n",
    "    galaxyBase = GalaxyTileObj()\n",
    "    # galDB = dbobject = DBObject(database=config.database, driver='mssql+pymssql', host=config.host, port=config.port, connection=None)\n",
    "    #galaxyBase = galBaseCopy(galaxyTiled, obs_metadata=obsMetaData, constraint=constr)\n",
    "    query = \"\"\"SELECT galtileid, raJ2000, decJ2000, redshift FROM galaxy WHERE redshift < 0.4 AND raJ2000 < 2 and raJ2000 > -2 and decJ2000 < 2 and decJ2000 > -2\"\"\"\n",
    "    x = galaxyBase.execute_arbitrary(query)\n",
    "    print(len(x), len(x[0]))\n",
    "    #galaxyBase.write_catalog(fname, chunkSize)"
   ]
  },
  {
   "cell_type": "code",
   "execution_count": null,
   "metadata": {
    "collapsed": true
   },
   "outputs": [],
   "source": [
    "def writeDBObjBase(redshiftmax=0.4, fname='gB-test.csv', chunkSize=None):\n",
    "    constr = 'redshift < {0}'.format(redshiftmax)\n",
    "    galaxyBase = GalaxyObj()\n",
    "    # galDB = dbobject = DBObject(database=config.database, driver='mssql+pymssql', host=config.host, port=config.port, connection=None)\n",
    "    #galaxyBase = galBaseCopy(galaxyTiled, obs_metadata=obsMetaData, constraint=constr)\n",
    "    query = \"\"\"SELECT id, ra, dec, redshift WHERE redshift < 0.4 AND ra < 2 and ra > -2 and dec < 2 and dec > -2\"\"\"\n",
    "    x = galaxyBase.execute_arbitrary(query)\n",
    "    print(len(x), len(x[0]))\n",
    "    #galaxyBase.write_catalog(fname, chunkSize)"
   ]
  },
  {
   "cell_type": "code",
   "execution_count": null,
   "metadata": {
    "collapsed": false
   },
   "outputs": [],
   "source": [
    "%%timeit\n",
    "chunksize = None\n",
    "tstart = time.time()\n",
    "writeDBObjBase(chunkSize=chunksize)\n",
    "tend = time.time()\n",
    "print(tend - tstart)"
   ]
  },
  {
   "cell_type": "code",
   "execution_count": null,
   "metadata": {
    "collapsed": false
   },
   "outputs": [],
   "source": [
    "%%timeit\n",
    "chunksize = None\n",
    "tstart = time.time()\n",
    "writeCat(chunkSize=chunksize)\n",
    "tend = time.time()\n",
    "print(tend - tstart)"
   ]
  },
  {
   "cell_type": "code",
   "execution_count": null,
   "metadata": {
    "collapsed": false
   },
   "outputs": [],
   "source": [
    "%%timeit\n",
    "chunksize = 50000\n",
    "tstart = time.time()\n",
    "writeCat(chunkSize=chunksize)\n",
    "tend = time.time()\n",
    "print(tend - tstart)"
   ]
  },
  {
   "cell_type": "code",
   "execution_count": null,
   "metadata": {
    "collapsed": false
   },
   "outputs": [],
   "source": [
    "%%timeit\n",
    "chunksize = 500000\n",
    "tstart = time.time()\n",
    "writeCat(chunkSize=chunksize)\n",
    "tend = time.time()\n",
    "print(tend - tstart)"
   ]
  },
  {
   "cell_type": "code",
   "execution_count": null,
   "metadata": {
    "collapsed": false
   },
   "outputs": [],
   "source": [
    "%%timeit\n",
    "chunksize = 5000\n",
    "tstart = time.time()\n",
    "writeCat(chunkSize=chunksize)\n",
    "tend = time.time()\n",
    "print(tend - tstart)"
   ]
  },
  {
   "cell_type": "code",
   "execution_count": null,
   "metadata": {
    "collapsed": false
   },
   "outputs": [],
   "source": [
    "%%timeit\n",
    "chunksize = 50\n",
    "tstart = time.time()\n",
    "writeCat(chunkSize=chunksize)\n",
    "tend = time.time()\n",
    "print(tend - tstart)"
   ]
  },
  {
   "cell_type": "code",
   "execution_count": null,
   "metadata": {
    "collapsed": true
   },
   "outputs": [],
   "source": []
  },
  {
   "cell_type": "code",
   "execution_count": null,
   "metadata": {
    "collapsed": true
   },
   "outputs": [],
   "source": [
    "# No need\n",
    "class galBaseCopy(InstanceCatalog):\n",
    "    column_outputs = ['id', 'raJ2000', 'decJ2000', 'redshift']#, 'a_d', 'b_d', 'pa_disk', 'mass_stellar', 'absmag_r_total']\n",
    "    override_formats = {'raJ2000': '%8e', 'decJ2000': '%8e', 'a_d': '%8e', 'b_d': '%8e', 'pa_disk': '%8e', \n",
    "                        'mass_stellar': '%8e', 'absmag_r_total': '%8e'}"
   ]
  },
  {
   "cell_type": "markdown",
   "metadata": {},
   "source": [
    "## Direct query with fetch"
   ]
  },
  {
   "cell_type": "code",
   "execution_count": 7,
   "metadata": {
    "collapsed": true
   },
   "outputs": [],
   "source": [
    "from lsst.utils import getPackageDir\n",
    "from lsst.daf.persistence import DbAuth\n",
    "import lsst.pex.config as pexConfig\n",
    "import pymssql"
   ]
  },
  {
   "cell_type": "code",
   "execution_count": null,
   "metadata": {
    "collapsed": true
   },
   "outputs": [],
   "source": [
    "def build_queries(obsMetaData):\n",
    "    \n",
    "    "
   ]
  },
  {
   "cell_type": "code",
   "execution_count": 23,
   "metadata": {
    "collapsed": false
   },
   "outputs": [
    {
     "name": "stdout",
     "output_type": "stream",
     "text": [
      "7158432 4\n",
      "26.2782211304\n",
      "7158432 4\n",
      "26.472784996\n",
      "7158432 4\n",
      "27.5812399387\n",
      "7158432 4\n",
      "25.6039869785\n",
      "1 loops, best of 3: 25.6 s per loop\n"
     ]
    }
   ],
   "source": [
    "%%timeit\n",
    "tstart = time.time()\n",
    "config = bcm.BaseCatalogConfig()\n",
    "config.load(os.path.join(getPackageDir(\"sims_catUtils\"), \"config\", \"db.py\"))\n",
    "DBConnection = pymssql.connect(user=DbAuth.username(config.host, config.port),\n",
    "                               password=DbAuth.password(config.host, config.port),\n",
    "                               database=config.database, port=config.port)\n",
    "db = DBConnection.cursor()\n",
    "query = \"\"\"SELECT id, ra, dec, redshift FROM galaxy WHERE redshift < 1.4 AND ra < 2 and ra > -2 and dec < 2 and dec > -2\"\"\"\n",
    "db.execute(query)\n",
    "x = db.fetchall()\n",
    "print(len(x), len(x[0]))\n",
    "tend = time.time()\n",
    "print(tend - tstart)"
   ]
  },
  {
   "cell_type": "code",
   "execution_count": 15,
   "metadata": {
    "collapsed": false
   },
   "outputs": [
    {
     "name": "stdout",
     "output_type": "stream",
     "text": [
      "56924 4\n",
      "14.428352356\n",
      "56924 4\n",
      "12.6928939819\n",
      "56924 4\n",
      "12.1693763733\n",
      "56924 4\n",
      "13.5419692993\n",
      "1 loops, best of 3: 761 ms per loop\n"
     ]
    }
   ],
   "source": [
    "%%timeit\n",
    "tstart = time.time()\n",
    "config = bcm.BaseCatalogConfig()\n",
    "config.load(os.path.join(getPackageDir(\"sims_catUtils\"), \"config\", \"db.py\"))\n",
    "DBConnection = pymssql.connect(user=DbAuth.username(config.host, config.port),\n",
    "                               password=DbAuth.password(config.host, config.port),\n",
    "                               database=config.database, port=config.port)\n",
    "db = DBConnection.cursor()\n",
    "query = \"\"\"SELECT id, ra, dec, redshift FROM galaxy WHERE redshift < 0.4 AND ra < 1 and ra > 0 and dec < 1 and dec > 0\"\"\"\n",
    "db.execute(query)\n",
    "x = db.fetchall()\n",
    "print(len(x), len(x[0]))\n",
    "tend = time.time()\n",
    "print((tend - tstart) * 16.)"
   ]
  },
  {
   "cell_type": "code",
   "execution_count": null,
   "metadata": {
    "collapsed": true
   },
   "outputs": [],
   "source": [
    "%%timeit\n",
    "\n",
    "tstart = time.time()\n",
    "config = bcm.BaseCatalogConfig()\n",
    "config.load(os.path.join(getPackageDir(\"sims_catUtils\"), \"config\", \"db.py\"))\n",
    "DBConnection = pymssql.connect(user=DbAuth.username(config.host, config.port),\n",
    "                               password=DbAuth.password(config.host, config.port),\n",
    "                               database=config.database, port=config.port)\n",
    "db = DBConnection.cursor()\n",
    "query = \"\"\"SELECT id, ra, dec, redshift FROM galaxy WHERE redshift < 0.4 AND ra < 2 and ra > -2 and dec < 2 and dec > -2\"\"\"\n",
    "db.execute(query)\n",
    "x = db.fetchall()\n",
    "print(len(x), len(x[0]))\n",
    "tend = time.time()\n",
    "print(tend - tstart)"
   ]
  },
  {
   "cell_type": "code",
   "execution_count": 17,
   "metadata": {
    "collapsed": true
   },
   "outputs": [],
   "source": [
    "config = bcm.BaseCatalogConfig()\n",
    "config.load(os.path.join(getPackageDir(\"sims_catUtils\"), \"config\", \"db.py\"))\n",
    "DBConnection = pymssql.connect(user=DbAuth.username(config.host, config.port),\n",
    "                               password=DbAuth.password(config.host, config.port),\n",
    "                               database=config.database, port=config.port)\n",
    "\n"
   ]
  },
  {
   "cell_type": "code",
   "execution_count": 22,
   "metadata": {
    "collapsed": false
   },
   "outputs": [
    {
     "name": "stdout",
     "output_type": "stream",
     "text": [
      "453911 4\n",
      "39.7260627747\n",
      "453911 4\n",
      "46.1514549255\n",
      "453911 4\n",
      "38.8499031067\n",
      "453911 4\n",
      "38.8650894165\n",
      "1 loops, best of 3: 2.43 s per loop\n"
     ]
    }
   ],
   "source": [
    "%%timeit\n",
    "\n",
    "tstart = time.time()\n",
    "db = DBConnection.cursor()\n",
    "query = \"\"\"SELECT id, ra, dec, redshift FROM galaxy WHERE redshift < 1.4 AND ra < 1 and ra > -0 and dec < 1 and dec > -0\"\"\"\n",
    "db.execute(query)\n",
    "x = db.fetchall()\n",
    "print(len(x), len(x[0]))\n",
    "tend = time.time()\n",
    "print(16.0*(tend - tstart))"
   ]
  },
  {
   "cell_type": "code",
   "execution_count": null,
   "metadata": {
    "collapsed": false
   },
   "outputs": [],
   "source": [
    "%%timeit\n",
    "tstart = time.time()\n",
    "config = bcm.BaseCatalogConfig()\n",
    "config.load(os.path.join(getPackageDir(\"sims_catUtils\"), \"config\", \"db.py\"))\n",
    "DBConnection = pymssql.connect(user=DbAuth.username(config.host, config.port),\n",
    "                               password=DbAuth.password(config.host, config.port),\n",
    "                               database=config.database, port=config.port)\n",
    "db = DBConnection.cursor()\n",
    "query = \"\"\"SELECT id, ra, dec, redshift FROM galaxy WHERE redshift < 0.4 AND ra < 2 and ra > -2 and dec < 2 and dec > -2\"\"\"\n",
    "db.execute(query)\n",
    "x = db.fetchall()\n",
    "print(len(x), len(x[0]))\n",
    "tend = time.time()\n",
    "print(tend - tstart)"
   ]
  },
  {
   "cell_type": "code",
   "execution_count": null,
   "metadata": {
    "collapsed": false
   },
   "outputs": [],
   "source": [
    "%%timeit\n",
    "tstart = time.time()\n",
    "config = bcm.BaseCatalogConfig()\n",
    "config.load(os.path.join(getPackageDir(\"sims_catUtils\"), \"config\", \"db.py\"))\n",
    "DBConnection = pymssql.connect(user=DbAuth.username(config.host, config.port),\n",
    "                               password=DbAuth.password(config.host, config.port),\n",
    "                               database=config.database, port=config.port)\n",
    "db = DBConnection.cursor()\n",
    "query = \"\"\"EXECUTE [LSSTCATSIM].[dbo].[GalaxySearch2015]\n",
    "                   @ApertureStr = 'REGION RECT J2000 358.000000 -2.000000 2.000000 2.000000', @ColumnNames = 'dec as decJ2000,ra as raJ2000,redshift as redshift',\n",
    "                   @ComponentSubset = 'ALL' , @WhereClause = 'redshift < 0.4'\n",
    "\"\"\"\n",
    "db.execute(query)\n",
    "x = db.fetchall()\n",
    "print(len(x), len(x[0]))\n",
    "tend = time.time()\n",
    "print(tend - tstart)"
   ]
  },
  {
   "cell_type": "code",
   "execution_count": null,
   "metadata": {
    "collapsed": false
   },
   "outputs": [],
   "source": [
    "%%timeit\n",
    "tstart = time.time()\n",
    "config = bcm.BaseCatalogConfig()\n",
    "config.load(os.path.join(getPackageDir(\"sims_catUtils\"), \"config\", \"db.py\"))\n",
    "DBConnection = pymssql.connect(user=DbAuth.username(config.host, config.port),\n",
    "                               password=DbAuth.password(config.host, config.port),\n",
    "                               database=config.database, port=config.port)\n",
    "db = DBConnection.cursor()\n",
    "query = \"\"\"[LSSTCATSIM].[dbo].[GalaxySearch2015]\n",
    "                   @ApertureStr = 'REGION RECT J2000 358.000000 -2.000000 2.000000 2.000000', @ColumnNames = 'dec as decJ2000,ra as raJ2000,redshift as redshift',\n",
    "                   @ComponentSubset = 'ALL' , @WhereClause = 'redshift < 0.4'\"\"\"\n",
    "\n",
    "db.execute(query)\n",
    "x = db.fetchall()\n",
    "print(len(x), len(x[0]))\n",
    "tend = time.time()\n",
    "print(tend - tstart)"
   ]
  },
  {
   "cell_type": "code",
   "execution_count": null,
   "metadata": {
    "collapsed": false
   },
   "outputs": [],
   "source": [
    "%%timeit\n",
    "tstart = time.time()\n",
    "config = bcm.BaseCatalogConfig()\n",
    "config.load(os.path.join(getPackageDir(\"sims_catUtils\"), \"config\", \"db.py\"))\n",
    "DBConnection = pymssql.connect(user=DbAuth.username(config.host, config.port),\n",
    "                               password=DbAuth.password(config.host, config.port),\n",
    "                               database=config.database, port=config.port)\n",
    "db = DBConnection.cursor()\n",
    "query = \"\"\"SELECT id, ra, dec, redshift FROM galaxy WHERE redshift < 0.4 AND ra < 2 and ra > -2 and dec < 2 and dec > -2\"\"\"\n",
    "db.execute(query)\n",
    "num = 50000\n",
    "x = db.fetchmany(num)\n",
    "while len(x)>0:\n",
    "    x = db.fetchmany(num)\n",
    "# print(len(x), len(x[0]))\n",
    "tend = time.time()\n",
    "print(tend - tstart)"
   ]
  },
  {
   "cell_type": "code",
   "execution_count": null,
   "metadata": {
    "collapsed": false
   },
   "outputs": [],
   "source": [
    "!pwd"
   ]
  },
  {
   "cell_type": "code",
   "execution_count": null,
   "metadata": {
    "collapsed": false
   },
   "outputs": [],
   "source": [
    "%%timeit\n",
    "tstart = time.time()\n",
    "config = bcm.BaseCatalogConfig()\n",
    "config.load(os.path.join(getPackageDir(\"sims_catUtils\"), \"config\", \"db.py\"))\n",
    "DBConnection = pymssql.connect(user=DbAuth.username(config.host, config.port),\n",
    "                               password=DbAuth.password(config.host, config.port),\n",
    "                               database=config.database, port=config.port)\n",
    "db = DBConnection.cursor()\n",
    "query = \"\"\"SELECT id, ra, dec, redshift FROM galaxy WHERE redshift < 0.4 AND ra < 2 and ra > -2 and dec < 2 and dec > -2\"\"\"\n",
    "db.execute(query)\n",
    "#num = 50000\n",
    "x = db.fetchall()\n",
    "# print(len(x), len(x[0]))\n",
    "tend = time.time()\n",
    "print(tend - tstart)"
   ]
  },
  {
   "cell_type": "code",
   "execution_count": null,
   "metadata": {
    "collapsed": false
   },
   "outputs": [],
   "source": [
    "%%timeit\n",
    "tstart = time.time()\n",
    "config = bcm.BaseCatalogConfig()\n",
    "config.load(os.path.join(getPackageDir(\"sims_catUtils\"), \"config\", \"db.py\"))\n",
    "DBConnection = pymssql.connect(user=DbAuth.username(config.host, config.port),\n",
    "                               password=DbAuth.password(config.host, config.port),\n",
    "                               database=config.database, port=config.port)\n",
    "db = DBConnection.cursor()\n",
    "query = \"\"\"SELECT id, ra, dec, redshift FROM galaxy WHERE redshift < 0.4 AND ra < 2 and ra > -2 and dec < 2 and dec > -2\"\"\"\n",
    "db.execute(query)\n",
    "num = 50000\n",
    "x = db.fetchmany(num)\n",
    "while len(x) > 0:\n",
    "    x = db.fetchmany(num)\n",
    "# print(len(x), len(x[0]))\n",
    "#df = pd.DataFrame.from_records(x, columns=['id', 'ra', 'dec', 'redshift'])\n",
    "#df.to_csv('gb_pd.test.csv', index=False)\n",
    "tend = time.time()\n",
    "print(tend - tstart)"
   ]
  },
  {
   "cell_type": "code",
   "execution_count": null,
   "metadata": {
    "collapsed": false
   },
   "outputs": [],
   "source": [
    "%%timeit\n",
    "tstart = time.time()\n",
    "config = bcm.BaseCatalogConfig()\n",
    "config.load(os.path.join(getPackageDir(\"sims_catUtils\"), \"config\", \"db.py\"))\n",
    "DBConnection = pymssql.connect(user=DbAuth.username(config.host, config.port),\n",
    "                               password=DbAuth.password(config.host, config.port),\n",
    "                               database=config.database, port=config.port)\n",
    "db = DBConnection.cursor()\n",
    "query = \"\"\"SELECT id, ra, dec, redshift FROM galaxy WHERE redshift < 0.4 AND ra < 2 and ra > -2 and dec < 2 and dec > -2\"\"\"\n",
    "db.execute(query)\n",
    "#num = 50000\n",
    "x = db.fetchall()\n",
    "# print(len(x), len(x[0]))\n",
    "df = pd.DataFrame.from_records(x, columns=['id', 'ra', 'dec', 'redshift'])\n",
    "df.to_csv('gb_pd.test.csv', index=False)\n",
    "tend = time.time()\n",
    "print(tend - tstart)"
   ]
  },
  {
   "cell_type": "code",
   "execution_count": null,
   "metadata": {
    "collapsed": true
   },
   "outputs": [],
   "source": [
    "%%timeit\n",
    "tstart = time.time()\n",
    "config = bcm.BaseCatalogConfig()\n",
    "config.load(os.path.join(getPackageDir(\"sims_catUtils\"), \"config\", \"db.py\"))\n",
    "DBConnection = pymssql.connect(user=DbAuth.username(config.host, config.port),\n",
    "                               password=DbAuth.password(config.host, config.port),\n",
    "                               database=config.database, port=config.port)\n",
    "db = DBConnection.cursor()\n",
    "query = \"\"\"SELECT id, ra, dec, redshift FROM galaxy WHERE redshift < 0.4 AND ra < 2 and ra > -2 and dec < 2 and dec > -2\"\"\"\n",
    "db.execute(query)\n",
    "#num = 50000\n",
    "x = db.fetchall()\n",
    "# print(len(x), len(x[0]))\n",
    "df = pd.DataFrame.from_records(x, columns=['id', 'ra', 'dec', 'redshift'])\n",
    "df.to_csv('gb_pd.test.csv', index=False)\n",
    "tend = time.time()\n",
    "print(tend - tstart)"
   ]
  },
  {
   "cell_type": "code",
   "execution_count": null,
   "metadata": {
    "collapsed": false
   },
   "outputs": [],
   "source": [
    "%%timeit\n",
    "tstart = time.time()\n",
    "config = bcm.BaseCatalogConfig()\n",
    "config.load(os.path.join(getPackageDir(\"sims_catUtils\"), \"config\", \"db.py\"))\n",
    "DBConnection = pymssql.connect(user=DbAuth.username(config.host, config.port),\n",
    "                               password=DbAuth.password(config.host, config.port),\n",
    "                               database=config.database, port=config.port)\n",
    "db = DBConnection.cursor()\n",
    "query = \"\"\"SELECT galaxy.id AS id, ra*PI()/180. AS [raJ2000], dec*PI()/180. AS [decJ2000], galaxy.redshift AS redshift \n",
    "FROM galaxy  WITH(FORCESEEK) JOIN (SELECT htmidstart, htmidend \n",
    "FROM fHtmCoverRegion(%(fHtmCoverRegion_1)s)) AS anon_1 ON galaxy.htmid BETWEEN anon_1.htmidstart AND anon_1.htmidend \n",
    "WHERE sph.fRegionContainsXYZ(sph.fSimplifyString(%(fSimplifyString_1)s), galaxy.cx, galaxy.cy, galaxy.cz) = %(fRegionContainsXYZ_1)s\n",
    "\"\"\"\n",
    "db.execute(query)\n",
    "#num = 50000\n",
    "x = db.fetchall()\n",
    "# print(len(x), len(x[0]))\n",
    "df = pd.DataFrame.from_records(x, columns=['id', 'ra', 'dec', 'redshift'])\n",
    "df.to_csv('gb_pd.test.csv', index=False)\n",
    "tend = time.time()\n",
    "print(tend - tstart)"
   ]
  },
  {
   "cell_type": "code",
   "execution_count": null,
   "metadata": {
    "collapsed": true
   },
   "outputs": [],
   "source": [
    "config = bcm.BaseCatalogConfig()\n",
    "config.load(os.path.join(getPackageDir(\"sims_catUtils\"), \"config\", \"db.py\"))\n",
    "DBConnection = pymssql.connect(user=DbAuth.username(config.host, config.port),\n",
    "                               password=DbAuth.password(config.host, config.port),\n",
    "                               database=config.database, port=config.port)\n",
    "\n"
   ]
  },
  {
   "cell_type": "code",
   "execution_count": null,
   "metadata": {
    "collapsed": false
   },
   "outputs": [],
   "source": [
    "config"
   ]
  },
  {
   "cell_type": "code",
   "execution_count": null,
   "metadata": {
    "collapsed": false
   },
   "outputs": [],
   "source": [
    "dbobject = DBObject(database=config.database, driver='mssql+pymssql', host=config.host, port=config.port, connection=None)"
   ]
  },
  {
   "cell_type": "code",
   "execution_count": null,
   "metadata": {
    "collapsed": true
   },
   "outputs": [],
   "source": [
    "dbobject.execute_arbitrary()"
   ]
  },
  {
   "cell_type": "markdown",
   "metadata": {},
   "source": [
    "## Test Rotations"
   ]
  },
  {
   "cell_type": "code",
   "execution_count": 5,
   "metadata": {
    "collapsed": false
   },
   "outputs": [],
   "source": [
    "deltaAng =  np.radians(2)"
   ]
  },
  {
   "cell_type": "code",
   "execution_count": 228,
   "metadata": {
    "collapsed": false
   },
   "outputs": [
    {
     "name": "stderr",
     "output_type": "stream",
     "text": [
      "/usr/local/manual/anaconda/lib/python2.7/site-packages/ipykernel/__main__.py:1: DeprecationWarning: using a non-integer number instead of an integer will result in an error in the future\n",
      "  if __name__ == '__main__':\n"
     ]
    }
   ],
   "source": [
    "coords = np.random.uniform((- deltaAng + np.pi/2., -deltaAng), (deltaAng + np.pi/2., deltaAng), size=(10e5, 2))"
   ]
  },
  {
   "cell_type": "code",
   "execution_count": 229,
   "metadata": {
    "collapsed": false
   },
   "outputs": [],
   "source": [
    "df = pd.DataFrame(coords, columns=['theta', 'phi'])"
   ]
  },
  {
   "cell_type": "code",
   "execution_count": 230,
   "metadata": {
    "collapsed": false
   },
   "outputs": [
    {
     "data": {
      "text/html": [
       "<div>\n",
       "<table border=\"1\" class=\"dataframe\">\n",
       "  <thead>\n",
       "    <tr style=\"text-align: right;\">\n",
       "      <th></th>\n",
       "      <th>theta</th>\n",
       "      <th>phi</th>\n",
       "    </tr>\n",
       "  </thead>\n",
       "  <tbody>\n",
       "    <tr>\n",
       "      <th>count</th>\n",
       "      <td>1000000.000000</td>\n",
       "      <td>1000000.000000</td>\n",
       "    </tr>\n",
       "    <tr>\n",
       "      <th>mean</th>\n",
       "      <td>1.570814</td>\n",
       "      <td>0.000032</td>\n",
       "    </tr>\n",
       "    <tr>\n",
       "      <th>std</th>\n",
       "      <td>0.020159</td>\n",
       "      <td>0.020149</td>\n",
       "    </tr>\n",
       "    <tr>\n",
       "      <th>min</th>\n",
       "      <td>1.535890</td>\n",
       "      <td>-0.034907</td>\n",
       "    </tr>\n",
       "    <tr>\n",
       "      <th>25%</th>\n",
       "      <td>1.553359</td>\n",
       "      <td>-0.017425</td>\n",
       "    </tr>\n",
       "    <tr>\n",
       "      <th>50%</th>\n",
       "      <td>1.570810</td>\n",
       "      <td>0.000062</td>\n",
       "    </tr>\n",
       "    <tr>\n",
       "      <th>75%</th>\n",
       "      <td>1.588290</td>\n",
       "      <td>0.017476</td>\n",
       "    </tr>\n",
       "    <tr>\n",
       "      <th>max</th>\n",
       "      <td>1.605703</td>\n",
       "      <td>0.034907</td>\n",
       "    </tr>\n",
       "  </tbody>\n",
       "</table>\n",
       "</div>"
      ],
      "text/plain": [
       "                theta             phi\n",
       "count  1000000.000000  1000000.000000\n",
       "mean         1.570814        0.000032\n",
       "std          0.020159        0.020149\n",
       "min          1.535890       -0.034907\n",
       "25%          1.553359       -0.017425\n",
       "50%          1.570810        0.000062\n",
       "75%          1.588290        0.017476\n",
       "max          1.605703        0.034907"
      ]
     },
     "execution_count": 230,
     "metadata": {},
     "output_type": "execute_result"
    }
   ],
   "source": [
    "df.describe()"
   ]
  },
  {
   "cell_type": "code",
   "execution_count": 231,
   "metadata": {
    "collapsed": true
   },
   "outputs": [],
   "source": [
    "def rotation(df, delta=0):\n",
    "    \"\"\"\n",
    "    delta : int\n",
    "    \"\"\"\n",
    "    d = delta\n",
    "    delta = np.radians(delta * 4.0)\n",
    "    cosDelta = np.cos(delta)\n",
    "    sinDelta = np.sin(delta)\n",
    "    \n",
    "    sintheta = np.sin(df.theta)\n",
    "    costheta = np.cos(df.theta)\n",
    "    cosphi = np.cos(df.phi)\n",
    "    # sinphi = np.sin(df.phi)\n",
    "    \n",
    "    zprime =  costheta * cosDelta - sinDelta * sintheta * cosphi\n",
    "    xprime = sintheta * cosphi * cosDelta + costheta * sinDelta\n",
    "    # yprime = sintheta * sinphi\n",
    "    \n",
    "    #rlat = np.sqrt(xprime **2. + yprime **2.)\n",
    "    rlat = np.sqrt(1.0 - zprime**2)\n",
    "    #print(min(rlat), max(rlat))\n",
    "    thetaprime = 'thetaprime_{}'.format(int(d))\n",
    "    phiprime = 'phiprime_{}'.format(d)\n",
    "    df[phiprime] = np.arccos(xprime / rlat)\n",
    "    #df['x'] = sintheta * cosphi\n",
    "    #df['y'] = sintheta * sinphi\n",
    "    #df['z'] = costheta\n",
    "    #df['xprime'] = xprime\n",
    "    #df['yprime'] = yprime\n",
    "    #df['zprime'] = zprime\n",
    "    df[thetaprime] = np.arccos(zprime)\n",
    "    #df[thetaprime] = np.arctan(rlat/zprime) \n",
    "    #df.thetaprime[df[thetaprime] < 0 ] += np.pi\n",
    "    #df[thetaprime] = np.arcsin(np.sqrt(xprime**2. + yprime**2))#*np.sign(zprime)\n",
    "    # df[thetaprime] = np.arcsin(rlat) * np.sign(zprime)"
   ]
  },
  {
   "cell_type": "code",
   "execution_count": 232,
   "metadata": {
    "collapsed": false
   },
   "outputs": [
    {
     "name": "stdout",
     "output_type": "stream",
     "text": [
      "1 loops, best of 3: 164 ms per loop\n"
     ]
    }
   ],
   "source": [
    "%timeit rotated(df, delta=0)"
   ]
  },
  {
   "cell_type": "code",
   "execution_count": 233,
   "metadata": {
    "collapsed": false
   },
   "outputs": [
    {
     "name": "stdout",
     "output_type": "stream",
     "text": [
      "1 loops, best of 3: 159 ms per loop\n"
     ]
    }
   ],
   "source": [
    "%timeit rotated(df, delta=1)"
   ]
  },
  {
   "cell_type": "code",
   "execution_count": 234,
   "metadata": {
    "collapsed": false
   },
   "outputs": [
    {
     "name": "stdout",
     "output_type": "stream",
     "text": [
      "10 loops, best of 3: 162 ms per loop\n"
     ]
    }
   ],
   "source": [
    "%timeit rotated(df, delta=4)"
   ]
  },
  {
   "cell_type": "code",
   "execution_count": 219,
   "metadata": {
    "collapsed": false
   },
   "outputs": [
    {
     "name": "stdout",
     "output_type": "stream",
     "text": [
      "1 loops, best of 3: 1.15 s per loop\n"
     ]
    }
   ],
   "source": [
    "%timeit rotation(df, delta=1)"
   ]
  },
  {
   "cell_type": "code",
   "execution_count": 217,
   "metadata": {
    "collapsed": false
   },
   "outputs": [
    {
     "name": "stdout",
     "output_type": "stream",
     "text": [
      "1 loops, best of 3: 1.18 s per loop\n"
     ]
    }
   ],
   "source": [
    "%timeit rotation(df, delta=4)"
   ]
  },
  {
   "cell_type": "code",
   "execution_count": null,
   "metadata": {
    "collapsed": true
   },
   "outputs": [],
   "source": [
    "def rotated(df, delta=0):\n",
    "    \"\"\"\n",
    "    delta : int\n",
    "    \"\"\"\n",
    "    d = delta\n",
    "    delta = np.radians(delta * 4.0)\n",
    "    cosDelta = np.cos(delta)\n",
    "    sinDelta = np.sin(delta)\n",
    "    \n",
    "    sintheta = np.sin(df.theta)\n",
    "    costheta = np.cos(df.theta)\n",
    "    cosphi = np.cos(df.phi)\n",
    "    sinphi = np.sin(df.phi)\n",
    "    \n",
    "    zprime =  costheta * cosDelta - sinDelta * sintheta * cosphi\n",
    "    xprime = sintheta * cosphi * cosDelta + costheta * sinDelta\n",
    "    yprime = sintheta * sinphi\n",
    "    \n",
    "    rlat = np.sqrt(xprime **2. + yprime **2.)\n",
    "    #print(min(rlat), max(rlat))\n",
    "    thetaprime = 'thetaprime_{}'.format(int(d))\n",
    "    phiprime = 'phiprime_{}'.format(d)\n",
    "    df[phiprime] = np.arcsin(yprime / rlat)\n",
    "    df['x'] = sintheta * cosphi\n",
    "    df['y'] = sintheta * sinphi\n",
    "    df['z'] = costheta\n",
    "    df['xprime'] = xprime\n",
    "    df['yprime'] = yprime\n",
    "    df['zprime'] = zprime\n",
    "    df[thetaprime] = np.arccos(zprime)\n",
    "    #df[thetaprime] = np.arctan(rlat/zprime) \n",
    "    #df.thetaprime[df[thetaprime] < 0 ] += np.pi\n",
    "    #df[thetaprime] = np.arcsin(np.sqrt(xprime**2. + yprime**2))#*np.sign(zprime)\n",
    "    # df[thetaprime] = np.arcsin(rlat) * np.sign(zprime)"
   ]
  },
  {
   "cell_type": "code",
   "execution_count": 195,
   "metadata": {
    "collapsed": false
   },
   "outputs": [],
   "source": [
    "def rotated(df, delta=0):\n",
    "    \"\"\"\n",
    "    delta : int\n",
    "    \"\"\"\n",
    "    d = delta\n",
    "    delta = np.radians(delta * 4.0)\n",
    "    cosDelta = np.cos(delta)\n",
    "    sinDelta = np.sin(delta)\n",
    "    \n",
    "    sintheta = np.sin(df.theta)\n",
    "    costheta = np.cos(df.theta)\n",
    "    cosphi = np.cos(df.phi)\n",
    "    sinphi = np.sin(df.phi)\n",
    "    \n",
    "    zprime =  costheta * cosDelta - sinDelta * sintheta * cosphi\n",
    "    xprime = sintheta * cosphi * cosDelta + costheta * sinDelta\n",
    "    yprime = sintheta * sinphi\n",
    "    \n",
    "    rlat = np.sqrt(xprime **2. + yprime **2.)\n",
    "    #print(min(rlat), max(rlat))\n",
    "    thetaprime = 'thetaprime_{}'.format(int(d))\n",
    "    phiprime = 'phiprime_{}'.format(d)\n",
    "    df[phiprime] = np.arcsin(yprime / rlat)\n",
    "    df['x'] = sintheta * cosphi\n",
    "    df['y'] = sintheta * sinphi\n",
    "    df['z'] = costheta\n",
    "    df['xprime'] = xprime\n",
    "    df['yprime'] = yprime\n",
    "    df['zprime'] = zprime\n",
    "    df[thetaprime] = np.arccos(zprime)\n",
    "    #df[thetaprime] = np.arctan(rlat/zprime) \n",
    "    #df.thetaprime[df[thetaprime] < 0 ] += np.pi\n",
    "    #df[thetaprime] = np.arcsin(np.sqrt(xprime**2. + yprime**2))#*np.sign(zprime)\n",
    "    # df[thetaprime] = np.arcsin(rlat) * np.sign(zprime)"
   ]
  },
  {
   "cell_type": "code",
   "execution_count": 66,
   "metadata": {
    "collapsed": false
   },
   "outputs": [
    {
     "ename": "IndentationError",
     "evalue": "unexpected indent (<ipython-input-66-49a29755f319>, line 2)",
     "output_type": "error",
     "traceback": [
      "\u001b[0;36m  File \u001b[0;32m\"<ipython-input-66-49a29755f319>\"\u001b[0;36m, line \u001b[0;32m2\u001b[0m\n\u001b[0;31m    \"\"\"\u001b[0m\n\u001b[0m    ^\u001b[0m\n\u001b[0;31mIndentationError\u001b[0m\u001b[0;31m:\u001b[0m unexpected indent\n"
     ]
    }
   ],
   "source": [
    "#def rotated(df, delta=0):\n",
    "    \"\"\"\n",
    "    delta : int\n",
    "    \"\"\"\n",
    "    d = delta\n",
    "    delta = np.radians(delta * 4.0)\n",
    "    cosDelta = np.cos(delta)\n",
    "    sinDelta = np.sin(delta)\n",
    "    \n",
    "    sintheta = np.sin(df.theta)\n",
    "    costheta = np.cos(df.theta)\n",
    "    cosphi = np.cos(df.phi)\n",
    "    \n",
    "    costhetaprime =  costheta * cosDelta - sinDelta * sintheta * cosphi\n",
    "    sinthetaprime = np.sqrt(1.0 - costhetaprime**2.) * np.sign(df.theta)\n",
    "    cosphiprime = (sintheta * cosphi * cosDelta + costheta * sinDelta ) /sinthetaprime\n",
    "    df['costhetprime']= costhetaprime\n",
    "    df['cosphiprime'] = cosphiprime\n",
    "    df['thetaprime'] = np.arcsin(sinthetaprime)\n",
    "    df['phiprime'] = np.arcsin(cosphiprime) * np.sign(df.phi)\n",
    "    "
   ]
  },
  {
   "cell_type": "code",
   "execution_count": 113,
   "metadata": {
    "collapsed": false
   },
   "outputs": [],
   "source": [
    "_ = np.arcsin(np.arange(-1., 1., 0.01))"
   ]
  },
  {
   "cell_type": "code",
   "execution_count": 135,
   "metadata": {
    "collapsed": false
   },
   "outputs": [],
   "source": [
    "ratio = lambda x: (np.arccos(x) - np.arccos(0.) ) / np.arcsin(x)"
   ]
  },
  {
   "cell_type": "code",
   "execution_count": 139,
   "metadata": {
    "collapsed": false
   },
   "outputs": [
    {
     "data": {
      "text/plain": [
       "-0.99999999998988442"
      ]
     },
     "execution_count": 139,
     "metadata": {},
     "output_type": "execute_result"
    }
   ],
   "source": [
    "ratio(1.0e-5)"
   ]
  },
  {
   "cell_type": "code",
   "execution_count": 124,
   "metadata": {
    "collapsed": false
   },
   "outputs": [
    {
     "data": {
      "text/plain": [
       "array([ 1.57079633,  1.56979633,  1.56879633,  1.56779632,  1.56679632,\n",
       "        1.56579631,  1.56479629,  1.56379627,  1.56279624,  1.56179621,\n",
       "        1.56079616,  1.5597961 ,  1.55879604,  1.55779596,  1.55679587,\n",
       "        1.55579576,  1.55479564,  1.55379551,  1.55279535,  1.55179518,\n",
       "        1.55079499,  1.54979478,  1.54879455,  1.5477943 ,  1.54679402,\n",
       "        1.54579372,  1.5447934 ,  1.54379305,  1.54279267,  1.54179226,\n",
       "        1.54079182,  1.53979136,  1.53879086,  1.53779033,  1.53678977,\n",
       "        1.53578918,  1.53478855,  1.53378788,  1.53278718,  1.53178643,\n",
       "        1.53078565,  1.52978483,  1.52878397,  1.52778306,  1.52678212,\n",
       "        1.52578113,  1.52478009,  1.52377901,  1.52277788,  1.5217767 ,\n",
       "        1.52077547,  1.51977419,  1.51877286,  1.51777148,  1.51677005,\n",
       "        1.51576856,  1.51476702,  1.51376542,  1.51276376,  1.51176204,\n",
       "        1.51076027,  1.50975843,  1.50875654,  1.50775458,  1.50675256,\n",
       "        1.50575047,  1.50474832,  1.5037461 ,  1.50274381,  1.50174146,\n",
       "        1.50073903,  1.49973654,  1.49873397,  1.49773133,  1.49672862,\n",
       "        1.49572584,  1.49472297,  1.49372003,  1.49271702,  1.49171392,\n",
       "        1.49071075,  1.48970749,  1.48870415,  1.48770073,  1.48669723,\n",
       "        1.48569364,  1.48468996,  1.4836862 ,  1.48268235,  1.48167841,\n",
       "        1.48067438,  1.47967026,  1.47866605,  1.47766174,  1.47665734,\n",
       "        1.47565285,  1.47464826,  1.47364357,  1.47263878,  1.47163389,\n",
       "        1.47062891,  1.46962382,  1.46861863,  1.46761333,  1.46660793,\n",
       "        1.46560243,  1.46459681,  1.46359109,  1.46258527,  1.46157933,\n",
       "        1.46057328,  1.45956712,  1.45856084,  1.45755445,  1.45654795,\n",
       "        1.45554133,  1.45453459,  1.45352773,  1.45252076,  1.45151366,\n",
       "        1.45050644,  1.4494991 ,  1.44849164,  1.44748405,  1.44647634,\n",
       "        1.4454685 ,  1.44446053,  1.44345243,  1.4424442 ,  1.44143584,\n",
       "        1.44042735,  1.43941872,  1.43840996,  1.43740107,  1.43639203,\n",
       "        1.43538286,  1.43437356,  1.43336411,  1.43235452,  1.43134479,\n",
       "        1.43033491,  1.42932489,  1.42831473,  1.42730442,  1.42629396,\n",
       "        1.42528335,  1.4242726 ,  1.42326169,  1.42225063,  1.42123942,\n",
       "        1.42022805,  1.41921653,  1.41820486,  1.41719302,  1.41618103,\n",
       "        1.41516887,  1.41415656,  1.41314408,  1.41213144,  1.41111864,\n",
       "        1.41010567,  1.40909254,  1.40807924,  1.40706577,  1.40605213,\n",
       "        1.40503832,  1.40402433,  1.40301018,  1.40199585,  1.40098134,\n",
       "        1.39996666,  1.3989518 ,  1.39793676,  1.39692154,  1.39590614,\n",
       "        1.39489056,  1.39387479,  1.39285884,  1.39184271,  1.39082639,\n",
       "        1.38980988,  1.38879318,  1.38777629,  1.38675921,  1.38574193,\n",
       "        1.38472446,  1.3837068 ,  1.38268894,  1.38167089,  1.38065263,\n",
       "        1.37963418,  1.37861553,  1.37759667,  1.37657761,  1.37555835,\n",
       "        1.37453888,  1.3735192 ,  1.37249932,  1.37147922,  1.37045892,\n",
       "        1.36943841,  1.36841768,  1.36739674,  1.36637558,  1.36535421,\n",
       "        1.36433262,  1.36331081,  1.36228878,  1.36126653,  1.36024406,\n",
       "        1.35922137,  1.35819845,  1.3571753 ,  1.35615193,  1.35512833,\n",
       "        1.3541045 ,  1.35308044,  1.35205614,  1.35103161,  1.35000685,\n",
       "        1.34898186,  1.34795662,  1.34693115,  1.34590544,  1.34487949,\n",
       "        1.34385329,  1.34282685,  1.34180017,  1.34077324,  1.33974607,\n",
       "        1.33871864,  1.33769097,  1.33666305,  1.33563487,  1.33460644,\n",
       "        1.33357776,  1.33254882,  1.33151962,  1.33049017,  1.32946045,\n",
       "        1.32843048,  1.32740024,  1.32636974,  1.32533897,  1.32430794,\n",
       "        1.32327663,  1.32224506,  1.32121322,  1.32018111,  1.31914873,\n",
       "        1.31811607,  1.31708314,  1.31604993,  1.31501644,  1.31398267,\n",
       "        1.31294862,  1.31191429,  1.31087968,  1.30984478,  1.3088096 ,\n",
       "        1.30777412,  1.30673836,  1.30570231,  1.30466597,  1.30362933,\n",
       "        1.3025924 ,  1.30155518,  1.30051766,  1.29947984,  1.29844172,\n",
       "        1.2974033 ,  1.29636457,  1.29532554,  1.29428621,  1.29324657,\n",
       "        1.29220662,  1.29116637,  1.2901258 ,  1.28908492,  1.28804373,\n",
       "        1.28700222,  1.28596039,  1.28491825,  1.28387579,  1.282833  ,\n",
       "        1.2817899 ,  1.28074647,  1.27970272,  1.27865864,  1.27761423,\n",
       "        1.27656949,  1.27552442,  1.27447902,  1.27343328,  1.27238721,\n",
       "        1.27134081,  1.27029406,  1.26924698,  1.26819955,  1.26715179,\n",
       "        1.26610367,  1.26505521,  1.26400641,  1.26295726,  1.26190775,\n",
       "        1.2608579 ,  1.25980769,  1.25875713,  1.25770621,  1.25665493,\n",
       "        1.25560329,  1.2545513 ,  1.25349894,  1.25244622,  1.25139313,\n",
       "        1.25033967,  1.24928585,  1.24823166,  1.24717709,  1.24612215,\n",
       "        1.24506684,  1.24401115,  1.24295508,  1.24189864,  1.24084181,\n",
       "        1.2397846 ,  1.238727  ,  1.23766902,  1.23661066,  1.2355519 ,\n",
       "        1.23449275,  1.23343321,  1.23237328,  1.23131295,  1.23025222,\n",
       "        1.2291911 ,  1.22812957,  1.22706764,  1.22600531,  1.22494257,\n",
       "        1.22387943,  1.22281588,  1.22175191,  1.22068754,  1.21962275,\n",
       "        1.21855754,  1.21749192,  1.21642588,  1.21535942,  1.21429253,\n",
       "        1.21322522,  1.21215749,  1.21108933,  1.21002074,  1.20895171,\n",
       "        1.20788226,  1.20681237,  1.20574204,  1.20467128,  1.20360008,\n",
       "        1.20252843,  1.20145635,  1.20038381,  1.19931083,  1.1982374 ,\n",
       "        1.19716352,  1.19608919,  1.19501441,  1.19393916,  1.19286347,\n",
       "        1.19178731,  1.19071069,  1.1896336 ,  1.18855605,  1.18747804,\n",
       "        1.18639955,  1.1853206 ,  1.18424117,  1.18316127,  1.18208089,\n",
       "        1.18100003,  1.17991869,  1.17883687,  1.17775457,  1.17667178,\n",
       "        1.1755885 ,  1.17450474,  1.17342048,  1.17233573,  1.17125048,\n",
       "        1.17016473,  1.16907849,  1.16799174,  1.16690449,  1.16581674,\n",
       "        1.16472848,  1.1636397 ,  1.16255042,  1.16146062,  1.16037031,\n",
       "        1.15927948,  1.15818813,  1.15709626,  1.15600387,  1.15491094,\n",
       "        1.1538175 ,  1.15272352,  1.15162901,  1.15053396,  1.14943838,\n",
       "        1.14834226,  1.14724561,  1.1461484 ,  1.14505066,  1.14395237,\n",
       "        1.14285352,  1.14175413,  1.14065419,  1.13955368,  1.13845263,\n",
       "        1.13735101,  1.13624883,  1.13514608,  1.13404277,  1.13293889,\n",
       "        1.13183444,  1.13072942,  1.12962382,  1.12851764,  1.12741089,\n",
       "        1.12630355,  1.12519563,  1.12408712,  1.12297802,  1.12186833,\n",
       "        1.12075805,  1.11964717,  1.1185357 ,  1.11742362,  1.11631094,\n",
       "        1.11519765,  1.11408376,  1.11296926,  1.11185414,  1.11073841,\n",
       "        1.10962207,  1.1085051 ,  1.10738751,  1.1062693 ,  1.10515046,\n",
       "        1.10403099,  1.10291089,  1.10179015,  1.10066878,  1.09954677,\n",
       "        1.09842411,  1.09730081,  1.09617687,  1.09505228,  1.09392703,\n",
       "        1.09280113,  1.09167457,  1.09054735,  1.08941947,  1.08829093,\n",
       "        1.08716172,  1.08603183,  1.08490128,  1.08377005,  1.08263814,\n",
       "        1.08150555,  1.08037228,  1.07923832,  1.07810367,  1.07696833,\n",
       "        1.0758323 ,  1.07469556,  1.07355813,  1.07242   ,  1.07128116,\n",
       "        1.07014161,  1.06900136,  1.06786038,  1.0667187 ,  1.06557629,\n",
       "        1.06443316,  1.0632893 ,  1.06214472,  1.06099941,  1.05985336,\n",
       "        1.05870657,  1.05755905,  1.05641078,  1.05526177,  1.05411201,\n",
       "        1.0529615 ,  1.05181023,  1.0506582 ,  1.04950542,  1.04835187,\n",
       "        1.04719755,  1.04604247,  1.04488661,  1.04372997,  1.04257256,\n",
       "        1.04141436,  1.04025538,  1.03909561,  1.03793505,  1.03677369,\n",
       "        1.03561154,  1.03444858,  1.03328482,  1.03212025,  1.03095487,\n",
       "        1.02978868,  1.02862167,  1.02745383,  1.02628518,  1.02511569,\n",
       "        1.02394538,  1.02277423,  1.02160224,  1.02042941,  1.01925574,\n",
       "        1.01808121,  1.01690584,  1.01572961,  1.01455253,  1.01337458,\n",
       "        1.01219576,  1.01101608,  1.00983552,  1.00865409,  1.00747178,\n",
       "        1.00628858,  1.0051045 ,  1.00391952,  1.00273365,  1.00154689,\n",
       "        1.00035922,  0.99917064,  0.99798116,  0.99679076,  0.99559945,\n",
       "        0.99440721,  0.99321405,  0.99201996,  0.99082494,  0.98962899,\n",
       "        0.98843209,  0.98723425,  0.98603546,  0.98483572,  0.98363502,\n",
       "        0.98243336,  0.98123074,  0.98002715,  0.97882259,  0.97761705,\n",
       "        0.97641053,  0.97520302,  0.97399453,  0.97278504,  0.97157456,\n",
       "        0.97036307,  0.96915058,  0.96793708,  0.96672256,  0.96550703,\n",
       "        0.96429047,  0.96307289,  0.96185427,  0.96063461,  0.95941392,\n",
       "        0.95819218,  0.95696939,  0.95574554,  0.95452064,  0.95329467,\n",
       "        0.95206764,  0.95083953,  0.94961034,  0.94838007,  0.94714872,\n",
       "        0.94591627,  0.94468272,  0.94344808,  0.94221233,  0.94097546,\n",
       "        0.93973749,  0.93849839,  0.93725816,  0.9360168 ,  0.93477431,\n",
       "        0.93353068,  0.9322859 ,  0.93103997,  0.92979288,  0.92854463,\n",
       "        0.92729522,  0.92604463,  0.92479287,  0.92353992,  0.92228579,\n",
       "        0.92103046,  0.91977393,  0.9185162 ,  0.91725726,  0.91599711,\n",
       "        0.91473574,  0.91347314,  0.9122093 ,  0.91094423,  0.90967792,\n",
       "        0.90841036,  0.90714154,  0.90587147,  0.90460013,  0.90332751,\n",
       "        0.90205362,  0.90077845,  0.89950198,  0.89822422,  0.89694516,\n",
       "        0.89566479,  0.89438311,  0.89310011,  0.89181578,  0.89053012,\n",
       "        0.88924312,  0.88795477,  0.88666507,  0.88537402,  0.8840816 ,\n",
       "        0.88278781,  0.88149264,  0.88019609,  0.87889814,  0.8775988 ,\n",
       "        0.87629806,  0.87499591,  0.87369233,  0.87238734,  0.87108091,\n",
       "        0.86977304,  0.86846373,  0.86715297,  0.86584074,  0.86452705,\n",
       "        0.86321189,  0.86189524,  0.86057711,  0.85925748,  0.85793635,\n",
       "        0.85661371,  0.85528954,  0.85396386,  0.85263664,  0.85130788,\n",
       "        0.84997757,  0.8486457 ,  0.84731227,  0.84597726,  0.84464068,\n",
       "        0.84330251,  0.84196274,  0.84062137,  0.83927838,  0.83793378,\n",
       "        0.83658754,  0.83523967,  0.83389015,  0.83253897,  0.83118613,\n",
       "        0.82983162,  0.82847543,  0.82711756,  0.82575798,  0.82439669,\n",
       "        0.82303369,  0.82166897,  0.82030251,  0.8189343 ,  0.81756435,\n",
       "        0.81619263,  0.81481914,  0.81344387,  0.81206681,  0.81068795,\n",
       "        0.80930727,  0.80792478,  0.80654046,  0.8051543 ,  0.80376629,\n",
       "        0.80237643,  0.80098469,  0.79959107,  0.79819556,  0.79679815,\n",
       "        0.79539883,  0.79399759,  0.79259441,  0.79118929,  0.78978222,\n",
       "        0.78837318,  0.78696217,  0.78554916,  0.78413416,  0.78271715,\n",
       "        0.78129812,  0.77987705,  0.77845394,  0.77702877,  0.77560154,\n",
       "        0.77417222,  0.77274081,  0.7713073 ,  0.76987167,  0.76843391,\n",
       "        0.76699401,  0.76555195,  0.76410773,  0.76266133,  0.76121273,\n",
       "        0.75976193,  0.75830891,  0.75685366,  0.75539616,  0.75393641,\n",
       "        0.75247438,  0.75101006,  0.74954344,  0.74807451,  0.74660325,\n",
       "        0.74512965,  0.74365368,  0.74217535,  0.74069463,  0.73921151,\n",
       "        0.73772597,  0.736238  ,  0.73474758,  0.7332547 ,  0.73175934,\n",
       "        0.73026149,  0.72876112,  0.72725823,  0.7257528 ,  0.72424481,\n",
       "        0.72273425,  0.72122109,  0.71970533,  0.71818694,  0.7166659 ,\n",
       "        0.71514221,  0.71361584,  0.71208677,  0.71055499,  0.70902047,\n",
       "        0.70748321,  0.70594318,  0.70440036,  0.70285474,  0.70130629,\n",
       "        0.699755  ,  0.69820084,  0.6966438 ,  0.69508385,  0.69352099,\n",
       "        0.69195518,  0.6903864 ,  0.68881464,  0.68723987,  0.68566208,\n",
       "        0.68408123,  0.68249732,  0.68091031,  0.67932019,  0.67772693,\n",
       "        0.67613051,  0.67453091,  0.6729281 ,  0.67132206,  0.66971277,\n",
       "        0.6681002 ,  0.66648433,  0.66486513,  0.66324258,  0.66161666,\n",
       "        0.65998733,  0.65835457,  0.65671836,  0.65507868,  0.65343548,\n",
       "        0.65178875,  0.65013845,  0.64848457,  0.64682707,  0.64516593,\n",
       "        0.64350111,  0.64183259,  0.64016033,  0.63848431,  0.6368045 ,\n",
       "        0.63512086,  0.63343337,  0.63174199,  0.63004669,  0.62834744,\n",
       "        0.62664421,  0.62493696,  0.62322567,  0.62151029,  0.61979079,\n",
       "        0.61806713,  0.61633929,  0.61460722,  0.61287089,  0.61113027,\n",
       "        0.60938531,  0.60763597,  0.60588223,  0.60412403,  0.60236134,\n",
       "        0.60059413,  0.59882234,  0.59704594,  0.59526488,  0.59347913,\n",
       "        0.59168864,  0.58989337,  0.58809327,  0.58628829,  0.5844784 ,\n",
       "        0.58266354,  0.58084367,  0.57901874,  0.5771887 ,  0.57535351,\n",
       "        0.5735131 ,  0.57166744,  0.56981647,  0.56796013,  0.56609838,\n",
       "        0.56423116,  0.56235841,  0.56048008,  0.55859612,  0.55670645,\n",
       "        0.55481103,  0.5529098 ,  0.55100269,  0.54908964,  0.5471706 ,\n",
       "        0.54524549,  0.54331425,  0.54137681,  0.53943311,  0.53748308,\n",
       "        0.53552665,  0.53356375,  0.5315943 ,  0.52961824,  0.52763548,\n",
       "        0.52564596,  0.52364958,  0.52164628,  0.51963597,  0.51761858,\n",
       "        0.51559401,  0.51356218,  0.511523  ,  0.5094764 ,  0.50742226,\n",
       "        0.50536051,  0.50329105,  0.50121378,  0.4991286 ,  0.49703542,\n",
       "        0.49493413,  0.49282462,  0.4907068 ,  0.48858055,  0.48644576,\n",
       "        0.48430232,  0.4821501 ,  0.479989  ,  0.4778189 ,  0.47563966,\n",
       "        0.47345116,  0.47125327,  0.46904586,  0.46682879,  0.46460193,\n",
       "        0.46236512,  0.46011824,  0.45786112,  0.45559361,  0.45331556,\n",
       "        0.45102681,  0.44872719,  0.44641654,  0.44409467,  0.44176142,\n",
       "        0.43941661,  0.43706003,  0.43469151,  0.43231084,  0.42991783,\n",
       "        0.42751226,  0.42509393,  0.4226626 ,  0.42021807,  0.41776008,\n",
       "        0.41528841,  0.4128028 ,  0.41030301,  0.40778876,  0.4052598 ,\n",
       "        0.40271584,  0.4001566 ,  0.39758178,  0.39499107,  0.39238417,\n",
       "        0.38976073,  0.38712044,  0.38446293,  0.38178785,  0.37909483,\n",
       "        0.37638348,  0.3736534 ,  0.37090418,  0.36813538,  0.36534656,\n",
       "        0.36253726,  0.359707  ,  0.35685527,  0.35398157,  0.35108534,\n",
       "        0.34816602,  0.34522303,  0.34225576,  0.33926357,  0.33624579,\n",
       "        0.33320172,  0.33013065,  0.3270318 ,  0.32390438,  0.32074755,\n",
       "        0.31756043,  0.3143421 ,  0.3110916 ,  0.3078079 ,  0.30448993,\n",
       "        0.30113655,  0.29774656,  0.2943187 ,  0.29085164,  0.28734394,\n",
       "        0.28379411,  0.28020054,  0.27656151,  0.27287523,  0.26913973,\n",
       "        0.26535295,  0.26151265,  0.25761644,  0.25366174,  0.24964577,\n",
       "        0.24556552,  0.24141773,  0.23719887,  0.23290506,  0.22853207,\n",
       "        0.22407529,  0.21952958,  0.21488933,  0.21014825,  0.20529936,\n",
       "        0.20033484,  0.19524586,  0.19002242,  0.18465311,  0.17912481,\n",
       "        0.17342232,  0.16752784,  0.16142035,  0.15507467,  0.14846027,\n",
       "        0.14153947,  0.13426491,  0.12657559,  0.11839073,  0.10959936,\n",
       "        0.10004171,  0.08947256,  0.07747904,  0.0632561 ,  0.04472509])"
      ]
     },
     "execution_count": 124,
     "metadata": {},
     "output_type": "execute_result"
    }
   ],
   "source": [
    "np.arccos(np.arange(-0., 1., 0.001))"
   ]
  },
  {
   "cell_type": "code",
   "execution_count": 196,
   "metadata": {
    "collapsed": false
   },
   "outputs": [
    {
     "name": "stdout",
     "output_type": "stream",
     "text": [
      "1 loops, best of 3: 1.65 s per loop\n"
     ]
    }
   ],
   "source": [
    "%timeit rotated(df, delta=2)"
   ]
  },
  {
   "cell_type": "code",
   "execution_count": 69,
   "metadata": {
    "collapsed": false
   },
   "outputs": [],
   "source": [
    "#rotated(df, delta=deltaAng*2.*3)"
   ]
  },
  {
   "cell_type": "code",
   "execution_count": 158,
   "metadata": {
    "collapsed": false
   },
   "outputs": [
    {
     "data": {
      "text/plain": [
       "True"
      ]
     },
     "execution_count": 158,
     "metadata": {},
     "output_type": "execute_result"
    }
   ],
   "source": [
    "np.allclose(df.theta, df.thetaprime_0)"
   ]
  },
  {
   "cell_type": "code",
   "execution_count": 159,
   "metadata": {
    "collapsed": false
   },
   "outputs": [
    {
     "data": {
      "text/plain": [
       "True"
      ]
     },
     "execution_count": 159,
     "metadata": {},
     "output_type": "execute_result"
    }
   ],
   "source": [
    "np.allclose(df.phi, df.phiprime_0)"
   ]
  },
  {
   "cell_type": "code",
   "execution_count": 160,
   "metadata": {
    "collapsed": false
   },
   "outputs": [
    {
     "data": {
      "text/plain": [
       "(array([  999920.,   998351.,   999815.,   999791.,   999174.,  1000880.,\n",
       "          998819.,  1000845.,  1000785.,  1001620.]),\n",
       " array([ -3.49065801e-02,  -2.79252638e-02,  -2.09439474e-02,\n",
       "         -1.39626311e-02,  -6.98131474e-03,   1.59791914e-09,\n",
       "          6.98131794e-03,   1.39626343e-02,   2.09439506e-02,\n",
       "          2.79252670e-02,   3.49065833e-02]),\n",
       " <a list of 10 Patch objects>)"
      ]
     },
     "execution_count": 160,
     "metadata": {},
     "output_type": "execute_result"
    },
    {
     "data": {
      "image/png": "[encoded data removed]",
      "text/plain": [
       "<matplotlib.figure.Figure at 0x125c5f4d0>"
      ]
     },
     "metadata": {},
     "output_type": "display_data"
    }
   ],
   "source": [
    "plt.hist(df.phi)"
   ]
  },
  {
   "cell_type": "code",
   "execution_count": 197,
   "metadata": {
    "collapsed": false
   },
   "outputs": [
    {
     "data": {
      "text/html": [
       "<div>\n",
       "<table border=\"1\" class=\"dataframe\">\n",
       "  <thead>\n",
       "    <tr style=\"text-align: right;\">\n",
       "      <th></th>\n",
       "      <th>theta</th>\n",
       "      <th>phi</th>\n",
       "      <th>phiprime_0</th>\n",
       "      <th>x</th>\n",
       "      <th>y</th>\n",
       "      <th>z</th>\n",
       "      <th>xprime</th>\n",
       "      <th>yprime</th>\n",
       "      <th>zprime</th>\n",
       "      <th>thetaprime_0</th>\n",
       "      <th>phiprime_1</th>\n",
       "      <th>thetaprime_1</th>\n",
       "      <th>cosine</th>\n",
       "      <th>phiprime_2</th>\n",
       "      <th>thetaprime_2</th>\n",
       "    </tr>\n",
       "  </thead>\n",
       "  <tbody>\n",
       "    <tr>\n",
       "      <th>0</th>\n",
       "      <td>1.585973</td>\n",
       "      <td>0.006567</td>\n",
       "      <td>0.006567</td>\n",
       "      <td>0.999863</td>\n",
       "      <td>0.006566</td>\n",
       "      <td>-0.015176</td>\n",
       "      <td>0.988021</td>\n",
       "      <td>0.006566</td>\n",
       "      <td>-0.154183</td>\n",
       "      <td>1.585973</td>\n",
       "      <td>0.006590</td>\n",
       "      <td>1.655785</td>\n",
       "      <td>0.997564</td>\n",
       "      <td>0.006645</td>\n",
       "      <td>1.725597</td>\n",
       "    </tr>\n",
       "    <tr>\n",
       "      <th>1</th>\n",
       "      <td>1.564978</td>\n",
       "      <td>0.020762</td>\n",
       "      <td>0.020762</td>\n",
       "      <td>0.999768</td>\n",
       "      <td>0.020761</td>\n",
       "      <td>0.005818</td>\n",
       "      <td>0.990848</td>\n",
       "      <td>0.020761</td>\n",
       "      <td>-0.133379</td>\n",
       "      <td>1.564978</td>\n",
       "      <td>0.020805</td>\n",
       "      <td>1.634776</td>\n",
       "      <td>0.997565</td>\n",
       "      <td>0.020949</td>\n",
       "      <td>1.704574</td>\n",
       "    </tr>\n",
       "    <tr>\n",
       "      <th>2</th>\n",
       "      <td>1.589663</td>\n",
       "      <td>-0.025131</td>\n",
       "      <td>-0.025131</td>\n",
       "      <td>0.999506</td>\n",
       "      <td>-0.025124</td>\n",
       "      <td>-0.018866</td>\n",
       "      <td>0.987154</td>\n",
       "      <td>-0.025124</td>\n",
       "      <td>-0.157787</td>\n",
       "      <td>1.589663</td>\n",
       "      <td>-0.025226</td>\n",
       "      <td>1.659454</td>\n",
       "      <td>0.997566</td>\n",
       "      <td>-0.025446</td>\n",
       "      <td>1.729245</td>\n",
       "    </tr>\n",
       "    <tr>\n",
       "      <th>3</th>\n",
       "      <td>1.570525</td>\n",
       "      <td>-0.012503</td>\n",
       "      <td>-0.012503</td>\n",
       "      <td>0.999922</td>\n",
       "      <td>-0.012503</td>\n",
       "      <td>0.000271</td>\n",
       "      <td>0.990228</td>\n",
       "      <td>-0.012503</td>\n",
       "      <td>-0.138893</td>\n",
       "      <td>1.570525</td>\n",
       "      <td>-0.012534</td>\n",
       "      <td>1.640333</td>\n",
       "      <td>0.997564</td>\n",
       "      <td>-0.012626</td>\n",
       "      <td>1.710140</td>\n",
       "    </tr>\n",
       "    <tr>\n",
       "      <th>4</th>\n",
       "      <td>1.575054</td>\n",
       "      <td>0.014608</td>\n",
       "      <td>0.014608</td>\n",
       "      <td>0.999884</td>\n",
       "      <td>0.014607</td>\n",
       "      <td>-0.004258</td>\n",
       "      <td>0.989561</td>\n",
       "      <td>0.014607</td>\n",
       "      <td>-0.143373</td>\n",
       "      <td>1.575054</td>\n",
       "      <td>0.014648</td>\n",
       "      <td>1.644860</td>\n",
       "      <td>0.997565</td>\n",
       "      <td>0.014760</td>\n",
       "      <td>1.714665</td>\n",
       "    </tr>\n",
       "  </tbody>\n",
       "</table>\n",
       "</div>"
      ],
      "text/plain": [
       "      theta       phi  phiprime_0         x         y         z    xprime  \\\n",
       "0  1.585973  0.006567    0.006567  0.999863  0.006566 -0.015176  0.988021   \n",
       "1  1.564978  0.020762    0.020762  0.999768  0.020761  0.005818  0.990848   \n",
       "2  1.589663 -0.025131   -0.025131  0.999506 -0.025124 -0.018866  0.987154   \n",
       "3  1.570525 -0.012503   -0.012503  0.999922 -0.012503  0.000271  0.990228   \n",
       "4  1.575054  0.014608    0.014608  0.999884  0.014607 -0.004258  0.989561   \n",
       "\n",
       "     yprime    zprime  thetaprime_0  phiprime_1  thetaprime_1    cosine  \\\n",
       "0  0.006566 -0.154183      1.585973    0.006590      1.655785  0.997564   \n",
       "1  0.020761 -0.133379      1.564978    0.020805      1.634776  0.997565   \n",
       "2 -0.025124 -0.157787      1.589663   -0.025226      1.659454  0.997566   \n",
       "3 -0.012503 -0.138893      1.570525   -0.012534      1.640333  0.997564   \n",
       "4  0.014607 -0.143373      1.575054    0.014648      1.644860  0.997565   \n",
       "\n",
       "   phiprime_2  thetaprime_2  \n",
       "0    0.006645      1.725597  \n",
       "1    0.020949      1.704574  \n",
       "2   -0.025446      1.729245  \n",
       "3   -0.012626      1.710140  \n",
       "4    0.014760      1.714665  "
      ]
     },
     "execution_count": 197,
     "metadata": {},
     "output_type": "execute_result"
    }
   ],
   "source": [
    "df.head()"
   ]
  },
  {
   "cell_type": "code",
   "execution_count": 149,
   "metadata": {
    "collapsed": false
   },
   "outputs": [
    {
     "data": {
      "text/plain": [
       "array([ 0.00999967,  0.01000067,  0.01000167, ...,  3.13158999,\n",
       "        3.13159099,  3.13159199])"
      ]
     },
     "execution_count": 149,
     "metadata": {},
     "output_type": "execute_result"
    }
   ],
   "source": [
    "np.arctan(np.arange(-100., 100., 0.01)) + np.pi/2."
   ]
  },
  {
   "cell_type": "code",
   "execution_count": 172,
   "metadata": {
    "collapsed": false
   },
   "outputs": [],
   "source": [
    "def angdist(df):\n",
    "    df['cosine'] = df['x'] *df['xprime'] + df['y'] *df['yprime'] + df['z'] * df['zprime']"
   ]
  },
  {
   "cell_type": "code",
   "execution_count": null,
   "metadata": {
    "collapsed": true
   },
   "outputs": [],
   "source": [
    "df.dot()"
   ]
  },
  {
   "cell_type": "code",
   "execution_count": 173,
   "metadata": {
    "collapsed": false
   },
   "outputs": [],
   "source": [
    "angdist(df)"
   ]
  },
  {
   "cell_type": "code",
   "execution_count": 188,
   "metadata": {
    "collapsed": false
   },
   "outputs": [
    {
     "data": {
      "image/png": "[encoded data removed]",
      "text/plain": [
       "<matplotlib.figure.Figure at 0x126a27090>"
      ]
     },
     "metadata": {},
     "output_type": "display_data"
    }
   ],
   "source": [
    "_ = plt.plot(df.phi, df.cosine.apply(np.arccos).apply(np.degrees) - 4.0, '.')"
   ]
  },
  {
   "cell_type": "code",
   "execution_count": 42,
   "metadata": {
    "collapsed": false
   },
   "outputs": [
    {
     "data": {
      "text/plain": [
       "True"
      ]
     },
     "execution_count": 42,
     "metadata": {},
     "output_type": "execute_result"
    }
   ],
   "source": [
    "np.allclose(df.z, df.zprime)"
   ]
  },
  {
   "cell_type": "code",
   "execution_count": 44,
   "metadata": {
    "collapsed": false
   },
   "outputs": [
    {
     "data": {
      "text/plain": [
       "0          1.600919\n",
       "1          1.591040\n",
       "2          1.547572\n",
       "3          1.562262\n",
       "4          1.602375\n",
       "5          1.602526\n",
       "6          1.603551\n",
       "7          1.551027\n",
       "8          1.553097\n",
       "9          1.565042\n",
       "10         1.547829\n",
       "11         1.547155\n",
       "12         1.578807\n",
       "13         1.540337\n",
       "14         1.565705\n",
       "15         1.585568\n",
       "16         1.574220\n",
       "17         1.586910\n",
       "18         1.581206\n",
       "19         1.588016\n",
       "20         1.540386\n",
       "21         1.545821\n",
       "22         1.536262\n",
       "23         1.578339\n",
       "24         1.597536\n",
       "25         1.575547\n",
       "26         1.537745\n",
       "27         1.556870\n",
       "28         1.572113\n",
       "29         1.574390\n",
       "             ...   \n",
       "9999970    1.581844\n",
       "9999971    1.567750\n",
       "9999972    1.541748\n",
       "9999973    1.604572\n",
       "9999974    1.579467\n",
       "9999975    1.546369\n",
       "9999976    1.543622\n",
       "9999977    1.572320\n",
       "9999978    1.541541\n",
       "9999979    1.543620\n",
       "9999980    1.585244\n",
       "9999981    1.547942\n",
       "9999982    1.545829\n",
       "9999983    1.594852\n",
       "9999984    1.543252\n",
       "9999985    1.548165\n",
       "9999986    1.585559\n",
       "9999987    1.586699\n",
       "9999988    1.602536\n",
       "9999989    1.572738\n",
       "9999990    1.581861\n",
       "9999991    1.593642\n",
       "9999992    1.592459\n",
       "9999993    1.549143\n",
       "9999994    1.596854\n",
       "9999995    1.580527\n",
       "9999996    1.566335\n",
       "9999997    1.544309\n",
       "9999998    1.605301\n",
       "9999999    1.542195\n",
       "Name: z, dtype: float64"
      ]
     },
     "execution_count": 44,
     "metadata": {},
     "output_type": "execute_result"
    }
   ],
   "source": [
    "np.arccos(df.z)"
   ]
  },
  {
   "cell_type": "code",
   "execution_count": 198,
   "metadata": {
    "collapsed": false
   },
   "outputs": [],
   "source": [
    "df_a = df.ix[np.random.random_integers(0, len(df), size=10000)]\n",
    "df_b = df.ix[np.random.random_integers(0, len(df), size=10000)]"
   ]
  },
  {
   "cell_type": "code",
   "execution_count": 199,
   "metadata": {
    "collapsed": false
   },
   "outputs": [
    {
     "data": {
      "text/html": [
       "<div>\n",
       "<table border=\"1\" class=\"dataframe\">\n",
       "  <thead>\n",
       "    <tr style=\"text-align: right;\">\n",
       "      <th></th>\n",
       "      <th>theta</th>\n",
       "      <th>phi</th>\n",
       "      <th>phiprime_0</th>\n",
       "      <th>x</th>\n",
       "      <th>y</th>\n",
       "      <th>z</th>\n",
       "      <th>xprime</th>\n",
       "      <th>yprime</th>\n",
       "      <th>zprime</th>\n",
       "      <th>thetaprime_0</th>\n",
       "      <th>phiprime_1</th>\n",
       "      <th>thetaprime_1</th>\n",
       "      <th>cosine</th>\n",
       "      <th>phiprime_2</th>\n",
       "      <th>thetaprime_2</th>\n",
       "    </tr>\n",
       "  </thead>\n",
       "  <tbody>\n",
       "    <tr>\n",
       "      <th>4912658</th>\n",
       "      <td>1.564374</td>\n",
       "      <td>0.000507</td>\n",
       "      <td>0.000507</td>\n",
       "      <td>0.999979</td>\n",
       "      <td>0.000507</td>\n",
       "      <td>0.006422</td>\n",
       "      <td>0.991141</td>\n",
       "      <td>0.000507</td>\n",
       "      <td>-0.132811</td>\n",
       "      <td>1.564374</td>\n",
       "      <td>0.000508</td>\n",
       "      <td>1.634187</td>\n",
       "      <td>0.997564</td>\n",
       "      <td>0.000511</td>\n",
       "      <td>1.704001</td>\n",
       "    </tr>\n",
       "    <tr>\n",
       "      <th>3945132</th>\n",
       "      <td>1.583989</td>\n",
       "      <td>-0.027156</td>\n",
       "      <td>-0.027156</td>\n",
       "      <td>0.999544</td>\n",
       "      <td>-0.027151</td>\n",
       "      <td>-0.013192</td>\n",
       "      <td>0.987981</td>\n",
       "      <td>-0.027151</td>\n",
       "      <td>-0.152173</td>\n",
       "      <td>1.583989</td>\n",
       "      <td>-0.027248</td>\n",
       "      <td>1.653776</td>\n",
       "      <td>0.997566</td>\n",
       "      <td>-0.027474</td>\n",
       "      <td>1.723563</td>\n",
       "    </tr>\n",
       "    <tr>\n",
       "      <th>846632</th>\n",
       "      <td>1.566988</td>\n",
       "      <td>-0.022609</td>\n",
       "      <td>-0.022609</td>\n",
       "      <td>0.999737</td>\n",
       "      <td>-0.022607</td>\n",
       "      <td>0.003808</td>\n",
       "      <td>0.990538</td>\n",
       "      <td>-0.022607</td>\n",
       "      <td>-0.135366</td>\n",
       "      <td>1.566988</td>\n",
       "      <td>-0.022658</td>\n",
       "      <td>1.636784</td>\n",
       "      <td>0.997565</td>\n",
       "      <td>-0.022819</td>\n",
       "      <td>1.706579</td>\n",
       "    </tr>\n",
       "    <tr>\n",
       "      <th>4268614</th>\n",
       "      <td>1.566772</td>\n",
       "      <td>0.022700</td>\n",
       "      <td>0.022700</td>\n",
       "      <td>0.999734</td>\n",
       "      <td>0.022698</td>\n",
       "      <td>0.004024</td>\n",
       "      <td>0.990565</td>\n",
       "      <td>0.022698</td>\n",
       "      <td>-0.135151</td>\n",
       "      <td>1.566772</td>\n",
       "      <td>0.022749</td>\n",
       "      <td>1.636568</td>\n",
       "      <td>0.997565</td>\n",
       "      <td>0.022910</td>\n",
       "      <td>1.706363</td>\n",
       "    </tr>\n",
       "    <tr>\n",
       "      <th>9562793</th>\n",
       "      <td>1.545548</td>\n",
       "      <td>0.018679</td>\n",
       "      <td>0.018679</td>\n",
       "      <td>0.999507</td>\n",
       "      <td>0.018672</td>\n",
       "      <td>0.025245</td>\n",
       "      <td>0.993293</td>\n",
       "      <td>0.018672</td>\n",
       "      <td>-0.114105</td>\n",
       "      <td>1.545548</td>\n",
       "      <td>0.018691</td>\n",
       "      <td>1.615349</td>\n",
       "      <td>0.997565</td>\n",
       "      <td>0.018796</td>\n",
       "      <td>1.685150</td>\n",
       "    </tr>\n",
       "  </tbody>\n",
       "</table>\n",
       "</div>"
      ],
      "text/plain": [
       "            theta       phi  phiprime_0         x         y         z  \\\n",
       "4912658  1.564374  0.000507    0.000507  0.999979  0.000507  0.006422   \n",
       "3945132  1.583989 -0.027156   -0.027156  0.999544 -0.027151 -0.013192   \n",
       "846632   1.566988 -0.022609   -0.022609  0.999737 -0.022607  0.003808   \n",
       "4268614  1.566772  0.022700    0.022700  0.999734  0.022698  0.004024   \n",
       "9562793  1.545548  0.018679    0.018679  0.999507  0.018672  0.025245   \n",
       "\n",
       "           xprime    yprime    zprime  thetaprime_0  phiprime_1  thetaprime_1  \\\n",
       "4912658  0.991141  0.000507 -0.132811      1.564374    0.000508      1.634187   \n",
       "3945132  0.987981 -0.027151 -0.152173      1.583989   -0.027248      1.653776   \n",
       "846632   0.990538 -0.022607 -0.135366      1.566988   -0.022658      1.636784   \n",
       "4268614  0.990565  0.022698 -0.135151      1.566772    0.022749      1.636568   \n",
       "9562793  0.993293  0.018672 -0.114105      1.545548    0.018691      1.615349   \n",
       "\n",
       "           cosine  phiprime_2  thetaprime_2  \n",
       "4912658  0.997564    0.000511      1.704001  \n",
       "3945132  0.997566   -0.027474      1.723563  \n",
       "846632   0.997565   -0.022819      1.706579  \n",
       "4268614  0.997565    0.022910      1.706363  \n",
       "9562793  0.997565    0.018796      1.685150  "
      ]
     },
     "execution_count": 199,
     "metadata": {},
     "output_type": "execute_result"
    }
   ],
   "source": [
    "df_a.head()"
   ]
  },
  {
   "cell_type": "code",
   "execution_count": 191,
   "metadata": {
    "collapsed": false
   },
   "outputs": [
    {
     "data": {
      "text/plain": [
       "theta           1.564978\n",
       "phi             0.020762\n",
       "phiprime_0      0.020762\n",
       "x               0.999768\n",
       "y               0.020761\n",
       "z               0.005818\n",
       "xprime          0.997738\n",
       "yprime          0.020761\n",
       "zprime         -0.063936\n",
       "thetaprime_0    1.564978\n",
       "phiprime_1      0.020805\n",
       "thetaprime_1    1.634776\n",
       "cosine          0.997565\n",
       "Name: 1, dtype: float64"
      ]
     },
     "execution_count": 191,
     "metadata": {},
     "output_type": "execute_result"
    }
   ],
   "source": [
    "df.ix[1]"
   ]
  },
  {
   "cell_type": "code",
   "execution_count": 192,
   "metadata": {
    "collapsed": false
   },
   "outputs": [],
   "source": [
    "def angSep( df1, df2, theta, phi):\n",
    "    th1 = df1[theta].values\n",
    "    th2 = df2[theta].values\n",
    "    ph1 = df1[phi].values\n",
    "    ph2 = df2[phi].values\n",
    "\n",
    "    cos = np.sin(th1)* np.sin(th2)* np.cos(ph1- ph2) + np.cos(th1)*np.cos(th2)\n",
    "    return cos"
   ]
  },
  {
   "cell_type": "code",
   "execution_count": 200,
   "metadata": {
    "collapsed": false
   },
   "outputs": [
    {
     "data": {
      "text/plain": [
       "[<matplotlib.lines.Line2D at 0x126fd5bd0>]"
      ]
     },
     "execution_count": 200,
     "metadata": {},
     "output_type": "execute_result"
    },
    {
     "data": {
      "image/png": "[encoded data removed]",
      "text/plain": [
       "<matplotlib.figure.Figure at 0x126fa6790>"
      ]
     },
     "metadata": {},
     "output_type": "display_data"
    }
   ],
   "source": [
    "plt.plot(df_a['theta'] , \n",
    "         angSep(df_a, df_b, 'theta', 'phi')- angSep(df_a, df_b, 'thetaprime_2', 'phiprime_2'),'.')"
   ]
  },
  {
   "cell_type": "code",
   "execution_count": 167,
   "metadata": {
    "collapsed": false
   },
   "outputs": [],
   "source": [
    "x = angSep(df_a, df_b, 'theta', 'phi')- angSep(df_a, df_b, 'thetaprime', 'phiprime')"
   ]
  },
  {
   "cell_type": "code",
   "execution_count": 170,
   "metadata": {
    "collapsed": false
   },
   "outputs": [
    {
     "data": {
      "text/plain": [
       "array([False, False, False, ..., False, False, False], dtype=bool)"
      ]
     },
     "execution_count": 170,
     "metadata": {},
     "output_type": "execute_result"
    }
   ],
   "source": [
    "x"
   ]
  },
  {
   "cell_type": "code",
   "execution_count": 160,
   "metadata": {
    "collapsed": false
   },
   "outputs": [
    {
     "data": {
      "text/plain": [
       "nan"
      ]
     },
     "execution_count": 160,
     "metadata": {},
     "output_type": "execute_result"
    }
   ],
   "source": [
    "np.max(x)"
   ]
  },
  {
   "cell_type": "code",
   "execution_count": 164,
   "metadata": {
    "collapsed": false
   },
   "outputs": [
    {
     "data": {
      "text/plain": [
       "1"
      ]
     },
     "execution_count": 164,
     "metadata": {},
     "output_type": "execute_result"
    }
   ],
   "source": [
    "len(x[np.isnan(x)])"
   ]
  },
  {
   "cell_type": "code",
   "execution_count": 44,
   "metadata": {
    "collapsed": false
   },
   "outputs": [
    {
     "data": {
      "text/plain": [
       "<matplotlib.axes._subplots.AxesSubplot at 0x14f338b50>"
      ]
     },
     "execution_count": 44,
     "metadata": {},
     "output_type": "execute_result"
    },
    {
     "data": {
      "image/png": "[encoded data removed]",
      "text/plain": [
       "<matplotlib.figure.Figure at 0x14f582510>"
      ]
     },
     "metadata": {},
     "output_type": "display_data"
    }
   ],
   "source": [
    "(df.thetaprime - df.theta).apply(np.degrees).hist()"
   ]
  },
  {
   "cell_type": "code",
   "execution_count": 51,
   "metadata": {
    "collapsed": false
   },
   "outputs": [
    {
     "data": {
      "text/plain": [
       "count    10000000.000000\n",
       "mean            0.482313\n",
       "std             0.298839\n",
       "min            -0.034907\n",
       "25%             0.223323\n",
       "50%             0.482206\n",
       "75%             0.741157\n",
       "max             1.000000\n",
       "Name: theta, dtype: float64"
      ]
     },
     "execution_count": 51,
     "metadata": {},
     "output_type": "execute_result"
    }
   ],
   "source": [
    "df.theta.describe()"
   ]
  },
  {
   "cell_type": "code",
   "execution_count": 62,
   "metadata": {
    "collapsed": false
   },
   "outputs": [
    {
     "data": {
      "text/plain": [
       "[<matplotlib.lines.Line2D at 0x1440b7c50>]"
      ]
     },
     "execution_count": 62,
     "metadata": {},
     "output_type": "execute_result"
    },
    {
     "data": {
      "image/png": "[encoded data removed]",
      "text/plain": [
       "<matplotlib.figure.Figure at 0x143577ed0>"
      ]
     },
     "metadata": {},
     "output_type": "display_data"
    }
   ],
   "source": [
    "plt.plot(df.theta.astype(np.float).values, df.thetaprime.astype(np.float).values - df.theta.astype(np.float).values, '.')"
   ]
  },
  {
   "cell_type": "code",
   "execution_count": 37,
   "metadata": {
    "collapsed": false
   },
   "outputs": [
    {
     "data": {
      "text/plain": [
       "10.0"
      ]
     },
     "execution_count": 37,
     "metadata": {},
     "output_type": "execute_result"
    }
   ],
   "source": [
    "len(df.theta)/1.0e6"
   ]
  },
  {
   "cell_type": "code",
   "execution_count": 31,
   "metadata": {
    "collapsed": false
   },
   "outputs": [],
   "source": [
    "x = rotated(df, delta=2*deltaAng) - df.theta.values"
   ]
  },
  {
   "cell_type": "code",
   "execution_count": 32,
   "metadata": {
    "collapsed": true
   },
   "outputs": [],
   "source": [
    "%matplotlib inline\n",
    "import matplotlib.pyplot as plt"
   ]
  },
  {
   "cell_type": "code",
   "execution_count": 33,
   "metadata": {
    "collapsed": false
   },
   "outputs": [
    {
     "data": {
      "text/plain": [
       "(array([   74411.,    77435.,    80472.,    73698.,    31837.,        0.,\n",
       "               0.,   228993.,  2615518.,  6817636.]),\n",
       " array([ -3.99999365e+00,  -3.19999431e+00,  -2.39999497e+00,\n",
       "         -1.59999562e+00,  -7.99996282e-01,   3.06095169e-06,\n",
       "          8.00002403e-01,   1.60000175e+00,   2.40000109e+00,\n",
       "          3.20000043e+00,   3.99999977e+00]),\n",
       " <a list of 10 Patch objects>)"
      ]
     },
     "execution_count": 33,
     "metadata": {},
     "output_type": "execute_result"
    },
    {
     "data": {
      "image/png": "[encoded data removed]",
      "text/plain": [
       "<matplotlib.figure.Figure at 0x10f4da650>"
      ]
     },
     "metadata": {},
     "output_type": "display_data"
    }
   ],
   "source": [
    "plt.hist(np.degrees(x))"
   ]
  },
  {
   "cell_type": "code",
   "execution_count": 171,
   "metadata": {
    "collapsed": false
   },
   "outputs": [
    {
     "name": "stdout",
     "output_type": "stream",
     "text": [
      "/Users/rbiswas/src/LSST/BenchmarkInstanceCatalogs/examples\r\n"
     ]
    }
   ],
   "source": [
    "!pwd"
   ]
  },
  {
   "cell_type": "markdown",
   "metadata": {},
   "source": [
    "##  Transformations"
   ]
  },
  {
   "cell_type": "code",
   "execution_count": 235,
   "metadata": {
    "collapsed": true
   },
   "outputs": [],
   "source": [
    "def rotated(df, delta=0):\n",
    "    \"\"\"\n",
    "    delta : int\n",
    "    \"\"\"\n",
    "    d = delta\n",
    "    delta = np.radians(delta * 4.0)\n",
    "    cosDelta = np.cos(delta)\n",
    "    sinDelta = np.sin(delta)\n",
    "    \n",
    "    sintheta = np.sin(df.theta)\n",
    "    costheta = np.cos(df.theta)\n",
    "    cosphi = np.cos(df.phi)\n",
    "    sinphi = np.sin(df.phi)\n",
    "    \n",
    "    zprime =  costheta * cosDelta - sinDelta * sintheta * cosphi\n",
    "    xprime = sintheta * cosphi * cosDelta + costheta * sinDelta\n",
    "    yprime = sintheta * sinphi\n",
    "    \n",
    "    rlat = np.sqrt(xprime **2. + yprime **2.)\n",
    "    #print(min(rlat), max(rlat))\n",
    "    thetaprime = 'thetaprime_{}'.format(int(d))\n",
    "    phiprime = 'phiprime_{}'.format(d)\n",
    "    df[phiprime] = np.arcsin(yprime / rlat)\n",
    "    df['x'] = sintheta * cosphi\n",
    "    df['y'] = sintheta * sinphi\n",
    "    df['z'] = costheta\n",
    "    df['xprime'] = xprime\n",
    "    df['yprime'] = yprime\n",
    "    df['zprime'] = zprime\n",
    "    df[thetaprime] = np.arccos(zprime)\n",
    "    #df[thetaprime] = np.arctan(rlat/zprime) \n",
    "    #df.thetaprime[df[thetaprime] < 0 ] += np.pi\n",
    "    #df[thetaprime] = np.arcsin(np.sqrt(xprime**2. + yprime**2))#*np.sign(zprime)\n",
    "    # df[thetaprime] = np.arcsin(rlat) * np.sign(zprime)"
   ]
  },
  {
   "cell_type": "code",
   "execution_count": 236,
   "metadata": {
    "collapsed": true
   },
   "outputs": [],
   "source": [
    "def angSep( df1, df2, theta, phi):\n",
    "    th1 = df1[theta].values\n",
    "    th2 = df2[theta].values\n",
    "    ph1 = df1[phi].values\n",
    "    ph2 = df2[phi].values\n",
    "\n",
    "    cos = np.sin(th1)* np.sin(th2)* np.cos(ph1- ph2) + np.cos(th1)*np.cos(th2)\n",
    "    return cos"
   ]
  },
  {
   "cell_type": "markdown",
   "metadata": {},
   "source": [
    "###  Tests of rotation"
   ]
  },
  {
   "cell_type": "code",
   "execution_count": 237,
   "metadata": {
    "collapsed": true
   },
   "outputs": [],
   "source": [
    "deltaAng =  np.radians(2)"
   ]
  },
  {
   "cell_type": "code",
   "execution_count": 241,
   "metadata": {
    "collapsed": false
   },
   "outputs": [
    {
     "name": "stderr",
     "output_type": "stream",
     "text": [
      "/usr/local/manual/anaconda/lib/python2.7/site-packages/ipykernel/__main__.py:1: DeprecationWarning: using a non-integer number instead of an integer will result in an error in the future\n",
      "  if __name__ == '__main__':\n"
     ]
    }
   ],
   "source": [
    "coords = np.random.uniform((- deltaAng + np.pi/2., -deltaAng), (deltaAng + np.pi/2., deltaAng), size=(10e6, 2))"
   ]
  },
  {
   "cell_type": "code",
   "execution_count": 242,
   "metadata": {
    "collapsed": true
   },
   "outputs": [],
   "source": [
    "df = pd.DataFrame(coords, columns=['theta', 'phi'])"
   ]
  },
  {
   "cell_type": "code",
   "execution_count": 243,
   "metadata": {
    "collapsed": false
   },
   "outputs": [
    {
     "name": "stdout",
     "output_type": "stream",
     "text": [
      "1 loops, best of 3: 1.68 s per loop\n"
     ]
    }
   ],
   "source": [
    "%timeit rotated(df, delta=1)"
   ]
  },
  {
   "cell_type": "code",
   "execution_count": 244,
   "metadata": {
    "collapsed": false
   },
   "outputs": [
    {
     "data": {
      "text/html": [
       "<div>\n",
       "<table border=\"1\" class=\"dataframe\">\n",
       "  <thead>\n",
       "    <tr style=\"text-align: right;\">\n",
       "      <th></th>\n",
       "      <th>theta</th>\n",
       "      <th>phi</th>\n",
       "      <th>phiprime_1</th>\n",
       "      <th>x</th>\n",
       "      <th>y</th>\n",
       "      <th>z</th>\n",
       "      <th>xprime</th>\n",
       "      <th>yprime</th>\n",
       "      <th>zprime</th>\n",
       "      <th>thetaprime_1</th>\n",
       "    </tr>\n",
       "  </thead>\n",
       "  <tbody>\n",
       "    <tr>\n",
       "      <th>0</th>\n",
       "      <td>1.605064</td>\n",
       "      <td>-0.012484</td>\n",
       "      <td>-0.012544</td>\n",
       "      <td>0.999335</td>\n",
       "      <td>-0.012476</td>\n",
       "      <td>-0.034261</td>\n",
       "      <td>0.994511</td>\n",
       "      <td>-0.012476</td>\n",
       "      <td>-0.103887</td>\n",
       "      <td>1.674871</td>\n",
       "    </tr>\n",
       "    <tr>\n",
       "      <th>1</th>\n",
       "      <td>1.592528</td>\n",
       "      <td>-0.009332</td>\n",
       "      <td>-0.009369</td>\n",
       "      <td>0.999720</td>\n",
       "      <td>-0.009330</td>\n",
       "      <td>-0.021730</td>\n",
       "      <td>0.995769</td>\n",
       "      <td>-0.009330</td>\n",
       "      <td>-0.091414</td>\n",
       "      <td>1.662338</td>\n",
       "    </tr>\n",
       "    <tr>\n",
       "      <th>2</th>\n",
       "      <td>1.582551</td>\n",
       "      <td>0.014767</td>\n",
       "      <td>0.014815</td>\n",
       "      <td>0.999822</td>\n",
       "      <td>0.014766</td>\n",
       "      <td>-0.011754</td>\n",
       "      <td>0.996566</td>\n",
       "      <td>0.014766</td>\n",
       "      <td>-0.081470</td>\n",
       "      <td>1.652357</td>\n",
       "    </tr>\n",
       "    <tr>\n",
       "      <th>3</th>\n",
       "      <td>1.590022</td>\n",
       "      <td>-0.008127</td>\n",
       "      <td>-0.008158</td>\n",
       "      <td>0.999782</td>\n",
       "      <td>-0.008126</td>\n",
       "      <td>-0.019224</td>\n",
       "      <td>0.996006</td>\n",
       "      <td>-0.008126</td>\n",
       "      <td>-0.088919</td>\n",
       "      <td>1.659833</td>\n",
       "    </tr>\n",
       "    <tr>\n",
       "      <th>4</th>\n",
       "      <td>1.599100</td>\n",
       "      <td>-0.008307</td>\n",
       "      <td>-0.008344</td>\n",
       "      <td>0.999565</td>\n",
       "      <td>-0.008304</td>\n",
       "      <td>-0.028299</td>\n",
       "      <td>0.995156</td>\n",
       "      <td>-0.008304</td>\n",
       "      <td>-0.097957</td>\n",
       "      <td>1.668910</td>\n",
       "    </tr>\n",
       "  </tbody>\n",
       "</table>\n",
       "</div>"
      ],
      "text/plain": [
       "      theta       phi  phiprime_1         x         y         z    xprime  \\\n",
       "0  1.605064 -0.012484   -0.012544  0.999335 -0.012476 -0.034261  0.994511   \n",
       "1  1.592528 -0.009332   -0.009369  0.999720 -0.009330 -0.021730  0.995769   \n",
       "2  1.582551  0.014767    0.014815  0.999822  0.014766 -0.011754  0.996566   \n",
       "3  1.590022 -0.008127   -0.008158  0.999782 -0.008126 -0.019224  0.996006   \n",
       "4  1.599100 -0.008307   -0.008344  0.999565 -0.008304 -0.028299  0.995156   \n",
       "\n",
       "     yprime    zprime  thetaprime_1  \n",
       "0 -0.012476 -0.103887      1.674871  \n",
       "1 -0.009330 -0.091414      1.662338  \n",
       "2  0.014766 -0.081470      1.652357  \n",
       "3 -0.008126 -0.088919      1.659833  \n",
       "4 -0.008304 -0.097957      1.668910  "
      ]
     },
     "execution_count": 244,
     "metadata": {},
     "output_type": "execute_result"
    }
   ],
   "source": [
    "df.head()"
   ]
  },
  {
   "cell_type": "code",
   "execution_count": 245,
   "metadata": {
    "collapsed": false
   },
   "outputs": [
    {
     "data": {
      "text/plain": [
       "[<matplotlib.lines.Line2D at 0x126a1cd50>]"
      ]
     },
     "execution_count": 245,
     "metadata": {},
     "output_type": "execute_result"
    },
    {
     "data": {
      "image/png": "[encoded data removed]",
      "text/plain": [
       "<matplotlib.figure.Figure at 0x126a55c50>"
      ]
     },
     "metadata": {},
     "output_type": "display_data"
    }
   ],
   "source": [
    "plt.plot(df.theta, (df.thetaprime_1 - df.theta), '.')"
   ]
  },
  {
   "cell_type": "code",
   "execution_count": 247,
   "metadata": {
    "collapsed": false
   },
   "outputs": [
    {
     "data": {
      "text/plain": [
       "[<matplotlib.lines.Line2D at 0x1268a87d0>]"
      ]
     },
     "execution_count": 247,
     "metadata": {},
     "output_type": "execute_result"
    },
    {
     "data": {
      "image/png": "[encoded data removed]",
      "text/plain": [
       "<matplotlib.figure.Figure at 0x1124665d0>"
      ]
     },
     "metadata": {},
     "output_type": "display_data"
    }
   ],
   "source": [
    "plt.plot(df.phi, (df.thetaprime_1 - df.theta - np.radians(4.)), '.')"
   ]
  },
  {
   "cell_type": "code",
   "execution_count": 248,
   "metadata": {
    "collapsed": false
   },
   "outputs": [
    {
     "data": {
      "text/plain": [
       "[<matplotlib.lines.Line2D at 0x1269fa690>]"
      ]
     },
     "execution_count": 248,
     "metadata": {},
     "output_type": "execute_result"
    },
    {
     "data": {
      "image/png": "[encoded data removed]",
      "text/plain": [
       "<matplotlib.figure.Figure at 0x1267c9150>"
      ]
     },
     "metadata": {},
     "output_type": "display_data"
    }
   ],
   "source": [
    "plt.plot(df.phi, (df.phiprime_1 - df.phi), '.')"
   ]
  },
  {
   "cell_type": "code",
   "execution_count": 249,
   "metadata": {
    "collapsed": false
   },
   "outputs": [
    {
     "data": {
      "text/plain": [
       "[<matplotlib.lines.Line2D at 0x129c9f3d0>]"
      ]
     },
     "execution_count": 249,
     "metadata": {},
     "output_type": "execute_result"
    },
    {
     "data": {
      "image/png": "[encoded data removed]",
      "text/plain": [
       "<matplotlib.figure.Figure at 0x12684c8d0>"
      ]
     },
     "metadata": {},
     "output_type": "display_data"
    }
   ],
   "source": [
    "plt.plot(df.theta, (df.thetaprime_1 - df.theta - np.radians(4.)), '.')"
   ]
  },
  {
   "cell_type": "markdown",
   "metadata": {},
   "source": [
    "Select at random 2n points from df and find their angular separations before and after the transformations"
   ]
  },
  {
   "cell_type": "code",
   "execution_count": 252,
   "metadata": {
    "collapsed": false
   },
   "outputs": [],
   "source": [
    "Nchecks = 1000\n",
    "sel = np.random.choice(df.index, 2*Nchecks, replace=False)"
   ]
  },
  {
   "cell_type": "code",
   "execution_count": 253,
   "metadata": {
    "collapsed": false
   },
   "outputs": [
    {
     "data": {
      "text/plain": [
       "True"
      ]
     },
     "execution_count": 253,
     "metadata": {},
     "output_type": "execute_result"
    }
   ],
   "source": [
    "np.unique(sel).size == sel.size"
   ]
  },
  {
   "cell_type": "code",
   "execution_count": 254,
   "metadata": {
    "collapsed": false
   },
   "outputs": [
    {
     "data": {
      "text/plain": [
       "2000"
      ]
     },
     "execution_count": 254,
     "metadata": {},
     "output_type": "execute_result"
    }
   ],
   "source": [
    "len(sel)"
   ]
  },
  {
   "cell_type": "code",
   "execution_count": 255,
   "metadata": {
    "collapsed": false
   },
   "outputs": [
    {
     "name": "stderr",
     "output_type": "stream",
     "text": [
      "/usr/local/manual/anaconda/lib/python2.7/site-packages/ipykernel/__main__.py:1: DeprecationWarning: using a non-integer number instead of an integer will result in an error in the future\n",
      "  if __name__ == '__main__':\n",
      "/usr/local/manual/anaconda/lib/python2.7/site-packages/ipykernel/__main__.py:2: DeprecationWarning: using a non-integer number instead of an integer will result in an error in the future\n",
      "  from ipykernel import kernelapp as app\n"
     ]
    }
   ],
   "source": [
    "df_a = df.ix[sel[:len(sel)/2.]]\n",
    "df_b = df.ix[sel[len(sel)/2:]]"
   ]
  },
  {
   "cell_type": "code",
   "execution_count": 257,
   "metadata": {
    "collapsed": false
   },
   "outputs": [
    {
     "name": "stdout",
     "output_type": "stream",
     "text": [
      "[1000, 1000]\n"
     ]
    }
   ],
   "source": [
    "print(map(len, (df_a, df_b)))"
   ]
  },
  {
   "cell_type": "code",
   "execution_count": 258,
   "metadata": {
    "collapsed": true
   },
   "outputs": [],
   "source": [
    "SepsBefore = angSep(df_a, df_b, 'theta', 'phi')"
   ]
  },
  {
   "cell_type": "code",
   "execution_count": 259,
   "metadata": {
    "collapsed": true
   },
   "outputs": [],
   "source": [
    "SepsAfter = angSep(df_a, df_b, 'thetaprime_1', 'phiprime_1')"
   ]
  },
  {
   "cell_type": "code",
   "execution_count": 260,
   "metadata": {
    "collapsed": false
   },
   "outputs": [
    {
     "data": {
      "text/plain": [
       "True"
      ]
     },
     "execution_count": 260,
     "metadata": {},
     "output_type": "execute_result"
    }
   ],
   "source": [
    "np.allclose(SepsAfter, SepsBefore)"
   ]
  },
  {
   "cell_type": "markdown",
   "metadata": {},
   "source": [
    "## Catsim Queries"
   ]
  },
  {
   "cell_type": "code",
   "execution_count": 266,
   "metadata": {
    "collapsed": true
   },
   "outputs": [],
   "source": [
    "observerMetaData = ObservationMetaData(boundType='box',\n",
    "                                  pointingRA=0.,\n",
    "                                  pointingDec=0.,\n",
    "                                  boundLength=0.1)"
   ]
  },
  {
   "cell_type": "code",
   "execution_count": 267,
   "metadata": {
    "collapsed": true
   },
   "outputs": [],
   "source": [
    "class galCopy(InstanceCatalog):\n",
    "    column_outputs = ['galtileid', 'raJ2000', 'decJ2000', 'redshift']#, 'a_d', 'b_d', 'pa_disk', 'mass_stellar', 'absmag_r_total']\n",
    "    override_formats = {'raJ2000': '%8e', 'decJ2000': '%8e', 'a_d': '%8e', 'b_d': '%8e', 'pa_disk': '%8e', \n",
    "                        'mass_stellar': '%8e', 'absmag_r_total': '%8e'}"
   ]
  },
  {
   "cell_type": "code",
   "execution_count": 406,
   "metadata": {
    "collapsed": true
   },
   "outputs": [],
   "source": [
    "def galTileID(tileID, galID):\n",
    "    return 100000000* tileID + galID\n",
    "\n",
    "def galIds(tileID, galTileID):\n",
    "    return galTileID - 100000000* tileID"
   ]
  },
  {
   "cell_type": "code",
   "execution_count": 273,
   "metadata": {
    "collapsed": false
   },
   "outputs": [],
   "source": [
    "galaxyTiled = GalaxyTileObj()"
   ]
  },
  {
   "cell_type": "code",
   "execution_count": 411,
   "metadata": {
    "collapsed": false
   },
   "outputs": [
    {
     "name": "stderr",
     "output_type": "stream",
     "text": [
      "/usr/local/manual/anaconda/lib/python2.7/site-packages/ipykernel/__main__.py:4: ParserWarning: Falling back to the 'python' engine because the 'c' engine does not support regex separators; you can avoid this warning by specifying engine='python'.\n"
     ]
    },
    {
     "data": {
      "text/html": [
       "<div>\n",
       "<table border=\"1\" class=\"dataframe\">\n",
       "  <thead>\n",
       "    <tr style=\"text-align: right;\">\n",
       "      <th></th>\n",
       "      <th>raJ2000</th>\n",
       "      <th>decJ2000</th>\n",
       "      <th>redshift</th>\n",
       "    </tr>\n",
       "    <tr>\n",
       "      <th>galtileid</th>\n",
       "      <th></th>\n",
       "      <th></th>\n",
       "      <th></th>\n",
       "    </tr>\n",
       "  </thead>\n",
       "  <tbody>\n",
       "    <tr>\n",
       "      <th>2207572926</th>\n",
       "      <td>0.001169</td>\n",
       "      <td>0.000089</td>\n",
       "      <td>0.0969</td>\n",
       "    </tr>\n",
       "    <tr>\n",
       "      <th>2204390270</th>\n",
       "      <td>0.001321</td>\n",
       "      <td>0.000592</td>\n",
       "      <td>0.1489</td>\n",
       "    </tr>\n",
       "    <tr>\n",
       "      <th>2201480140</th>\n",
       "      <td>0.001466</td>\n",
       "      <td>0.000671</td>\n",
       "      <td>0.1470</td>\n",
       "    </tr>\n",
       "    <tr>\n",
       "      <th>2214603211</th>\n",
       "      <td>0.001405</td>\n",
       "      <td>0.000683</td>\n",
       "      <td>0.1562</td>\n",
       "    </tr>\n",
       "    <tr>\n",
       "      <th>2214006934</th>\n",
       "      <td>0.001560</td>\n",
       "      <td>0.000761</td>\n",
       "      <td>0.1623</td>\n",
       "    </tr>\n",
       "  </tbody>\n",
       "</table>\n",
       "</div>"
      ],
      "text/plain": [
       "             raJ2000  decJ2000  redshift\n",
       "galtileid                               \n",
       "2207572926  0.001169  0.000089    0.0969\n",
       "2204390270  0.001321  0.000592    0.1489\n",
       "2201480140  0.001466  0.000671    0.1470\n",
       "2214603211  0.001405  0.000683    0.1562\n",
       "2214006934  0.001560  0.000761    0.1623"
      ]
     },
     "execution_count": 411,
     "metadata": {},
     "output_type": "execute_result"
    }
   ],
   "source": [
    "constr='redshift < 0.2'\n",
    "gBase = galCopy(galaxyTiled, obs_metadata=observerMetaData, constraint=constr)\n",
    "gBase.write_catalog('gBase.csv')\n",
    "gBase_df  = pd.read_csv('gBase.csv', delimiter=', ',index_col='#galtileid')\n",
    "gBase_df.index.name = 'galtileid'\n",
    "gBase_df.head()"
   ]
  },
  {
   "cell_type": "code",
   "execution_count": 414,
   "metadata": {
    "collapsed": false
   },
   "outputs": [
    {
     "data": {
      "text/html": [
       "<div>\n",
       "<table border=\"1\" class=\"dataframe\">\n",
       "  <thead>\n",
       "    <tr style=\"text-align: right;\">\n",
       "      <th></th>\n",
       "      <th>raJ2000</th>\n",
       "      <th>decJ2000</th>\n",
       "      <th>redshift</th>\n",
       "    </tr>\n",
       "    <tr>\n",
       "      <th>id</th>\n",
       "      <th></th>\n",
       "      <th></th>\n",
       "      <th></th>\n",
       "    </tr>\n",
       "  </thead>\n",
       "  <tbody>\n",
       "    <tr>\n",
       "      <th>7572926</th>\n",
       "      <td>0.001169</td>\n",
       "      <td>0.000089</td>\n",
       "      <td>0.0969</td>\n",
       "    </tr>\n",
       "    <tr>\n",
       "      <th>4390270</th>\n",
       "      <td>0.001321</td>\n",
       "      <td>0.000592</td>\n",
       "      <td>0.1489</td>\n",
       "    </tr>\n",
       "    <tr>\n",
       "      <th>1480140</th>\n",
       "      <td>0.001466</td>\n",
       "      <td>0.000671</td>\n",
       "      <td>0.1470</td>\n",
       "    </tr>\n",
       "    <tr>\n",
       "      <th>14603211</th>\n",
       "      <td>0.001405</td>\n",
       "      <td>0.000683</td>\n",
       "      <td>0.1562</td>\n",
       "    </tr>\n",
       "    <tr>\n",
       "      <th>14006934</th>\n",
       "      <td>0.001560</td>\n",
       "      <td>0.000761</td>\n",
       "      <td>0.1623</td>\n",
       "    </tr>\n",
       "  </tbody>\n",
       "</table>\n",
       "</div>"
      ],
      "text/plain": [
       "           raJ2000  decJ2000  redshift\n",
       "id                                    \n",
       "7572926   0.001169  0.000089    0.0969\n",
       "4390270   0.001321  0.000592    0.1489\n",
       "1480140   0.001466  0.000671    0.1470\n",
       "14603211  0.001405  0.000683    0.1562\n",
       "14006934  0.001560  0.000761    0.1623"
      ]
     },
     "execution_count": 414,
     "metadata": {},
     "output_type": "execute_result"
    }
   ],
   "source": [
    "gBase_df['id'] = galIds(22, gBase_df.index.values)\n",
    "gBase_df.set_index('id', inplace=True)\n",
    "gBase_df.head()"
   ]
  },
  {
   "cell_type": "code",
   "execution_count": 424,
   "metadata": {
    "collapsed": true
   },
   "outputs": [],
   "source": [
    "obsMetaData_1 = observerMetaData"
   ]
  },
  {
   "cell_type": "code",
   "execution_count": 425,
   "metadata": {
    "collapsed": true
   },
   "outputs": [],
   "source": [
    "obsMetaData_1.pointingDec = -4.0"
   ]
  },
  {
   "cell_type": "code",
   "execution_count": 426,
   "metadata": {
    "collapsed": false
   },
   "outputs": [
    {
     "data": {
      "text/plain": [
       "0.10000000000000001"
      ]
     },
     "execution_count": 426,
     "metadata": {},
     "output_type": "execute_result"
    }
   ],
   "source": [
    "obsMetaData_1.boundLength"
   ]
  },
  {
   "cell_type": "code",
   "execution_count": 427,
   "metadata": {
    "collapsed": true
   },
   "outputs": [],
   "source": [
    "constr='redshift < 0.2'\n",
    "gTile_1 = galCopy(galaxyTiled, obs_metadata=observerMetaData, constraint=constr)"
   ]
  },
  {
   "cell_type": "code",
   "execution_count": 428,
   "metadata": {
    "collapsed": true
   },
   "outputs": [],
   "source": [
    "gTile_1.write_catalog('gTile_1.csv')"
   ]
  },
  {
   "cell_type": "code",
   "execution_count": 437,
   "metadata": {
    "collapsed": false,
    "scrolled": true
   },
   "outputs": [
    {
     "name": "stderr",
     "output_type": "stream",
     "text": [
      "/usr/local/manual/anaconda/lib/python2.7/site-packages/ipykernel/__main__.py:1: ParserWarning: Falling back to the 'python' engine because the 'c' engine does not support regex separators; you can avoid this warning by specifying engine='python'.\n",
      "  if __name__ == '__main__':\n"
     ]
    },
    {
     "data": {
      "text/html": [
       "<div>\n",
       "<table border=\"1\" class=\"dataframe\">\n",
       "  <thead>\n",
       "    <tr style=\"text-align: right;\">\n",
       "      <th></th>\n",
       "      <th>raJ2000</th>\n",
       "      <th>decJ2000</th>\n",
       "      <th>redshift</th>\n",
       "    </tr>\n",
       "    <tr>\n",
       "      <th>galtileid</th>\n",
       "      <th></th>\n",
       "      <th></th>\n",
       "      <th></th>\n",
       "    </tr>\n",
       "  </thead>\n",
       "  <tbody>\n",
       "    <tr>\n",
       "      <th>2107333309</th>\n",
       "      <td>0.001163</td>\n",
       "      <td>-0.068984</td>\n",
       "      <td>0.1237</td>\n",
       "    </tr>\n",
       "    <tr>\n",
       "      <th>2112377595</th>\n",
       "      <td>0.001630</td>\n",
       "      <td>-0.068688</td>\n",
       "      <td>0.0896</td>\n",
       "    </tr>\n",
       "    <tr>\n",
       "      <th>2103081785</th>\n",
       "      <td>0.001627</td>\n",
       "      <td>-0.068572</td>\n",
       "      <td>0.1496</td>\n",
       "    </tr>\n",
       "    <tr>\n",
       "      <th>2107224035</th>\n",
       "      <td>0.001407</td>\n",
       "      <td>-0.068818</td>\n",
       "      <td>0.1485</td>\n",
       "    </tr>\n",
       "    <tr>\n",
       "      <th>2109815732</th>\n",
       "      <td>0.001741</td>\n",
       "      <td>-0.068676</td>\n",
       "      <td>0.1499</td>\n",
       "    </tr>\n",
       "  </tbody>\n",
       "</table>\n",
       "</div>"
      ],
      "text/plain": [
       "             raJ2000  decJ2000  redshift\n",
       "galtileid                               \n",
       "2107333309  0.001163 -0.068984    0.1237\n",
       "2112377595  0.001630 -0.068688    0.0896\n",
       "2103081785  0.001627 -0.068572    0.1496\n",
       "2107224035  0.001407 -0.068818    0.1485\n",
       "2109815732  0.001741 -0.068676    0.1499"
      ]
     },
     "execution_count": 437,
     "metadata": {},
     "output_type": "execute_result"
    }
   ],
   "source": [
    "gTile1_df  = pd.read_csv('gTile_1.csv', delimiter=', ', index_col='#galtileid')\n",
    "gTile1_df.index.name = 'galtileid'\n",
    "gTile1_df.head()"
   ]
  },
  {
   "cell_type": "code",
   "execution_count": 438,
   "metadata": {
    "collapsed": true
   },
   "outputs": [],
   "source": [
    "gTile1_df['id'] = galIds(21, gTile1_df.index.values)"
   ]
  },
  {
   "cell_type": "code",
   "execution_count": 439,
   "metadata": {
    "collapsed": true
   },
   "outputs": [],
   "source": [
    "gTile1_df.set_index('id', inplace=True)"
   ]
  },
  {
   "cell_type": "code",
   "execution_count": 440,
   "metadata": {
    "collapsed": false
   },
   "outputs": [
    {
     "data": {
      "text/html": [
       "<div>\n",
       "<table border=\"1\" class=\"dataframe\">\n",
       "  <thead>\n",
       "    <tr style=\"text-align: right;\">\n",
       "      <th></th>\n",
       "      <th>raJ2000</th>\n",
       "      <th>decJ2000</th>\n",
       "      <th>redshift</th>\n",
       "    </tr>\n",
       "    <tr>\n",
       "      <th>id</th>\n",
       "      <th></th>\n",
       "      <th></th>\n",
       "      <th></th>\n",
       "    </tr>\n",
       "  </thead>\n",
       "  <tbody>\n",
       "    <tr>\n",
       "      <th>7333309</th>\n",
       "      <td>0.001163</td>\n",
       "      <td>-0.068984</td>\n",
       "      <td>0.1237</td>\n",
       "    </tr>\n",
       "    <tr>\n",
       "      <th>12377595</th>\n",
       "      <td>0.001630</td>\n",
       "      <td>-0.068688</td>\n",
       "      <td>0.0896</td>\n",
       "    </tr>\n",
       "    <tr>\n",
       "      <th>3081785</th>\n",
       "      <td>0.001627</td>\n",
       "      <td>-0.068572</td>\n",
       "      <td>0.1496</td>\n",
       "    </tr>\n",
       "    <tr>\n",
       "      <th>7224035</th>\n",
       "      <td>0.001407</td>\n",
       "      <td>-0.068818</td>\n",
       "      <td>0.1485</td>\n",
       "    </tr>\n",
       "    <tr>\n",
       "      <th>9815732</th>\n",
       "      <td>0.001741</td>\n",
       "      <td>-0.068676</td>\n",
       "      <td>0.1499</td>\n",
       "    </tr>\n",
       "  </tbody>\n",
       "</table>\n",
       "</div>"
      ],
      "text/plain": [
       "           raJ2000  decJ2000  redshift\n",
       "id                                    \n",
       "7333309   0.001163 -0.068984    0.1237\n",
       "12377595  0.001630 -0.068688    0.0896\n",
       "3081785   0.001627 -0.068572    0.1496\n",
       "7224035   0.001407 -0.068818    0.1485\n",
       "9815732   0.001741 -0.068676    0.1499"
      ]
     },
     "execution_count": 440,
     "metadata": {},
     "output_type": "execute_result"
    }
   ],
   "source": [
    "gTile1_df.head()"
   ]
  },
  {
   "cell_type": "code",
   "execution_count": 442,
   "metadata": {
    "collapsed": false
   },
   "outputs": [
    {
     "data": {
      "text/plain": [
       "3439"
      ]
     },
     "execution_count": 442,
     "metadata": {},
     "output_type": "execute_result"
    }
   ],
   "source": [
    "gTile1_df.index.values.min()"
   ]
  },
  {
   "cell_type": "code",
   "execution_count": 443,
   "metadata": {
    "collapsed": true
   },
   "outputs": [],
   "source": [
    "gTile1_df.rename(columns={'raJ2000':'raJ2000_1', 'decJ2000':'decJ2000_1', 'redshift': 'redshift_1'},\n",
    "                 inplace=True)"
   ]
  },
  {
   "cell_type": "code",
   "execution_count": 444,
   "metadata": {
    "collapsed": true
   },
   "outputs": [],
   "source": [
    "merged = pd.concat([gBase_df, gTile1_df], axis=1)"
   ]
  },
  {
   "cell_type": "code",
   "execution_count": 472,
   "metadata": {
    "collapsed": false
   },
   "outputs": [],
   "source": [
    "merged['shiftedRA']  = np.where(merged.raJ2000 < 3., merged.raJ2000, merged.raJ2000 - 2.0*np.pi)"
   ]
  },
  {
   "cell_type": "code",
   "execution_count": 474,
   "metadata": {
    "collapsed": true
   },
   "outputs": [],
   "source": [
    "merged['shiftedRA_1']  = np.where(merged.raJ2000_1 < 3., merged.raJ2000_1, merged.raJ2000_1 - 2.0*np.pi)"
   ]
  },
  {
   "cell_type": "code",
   "execution_count": 475,
   "metadata": {
    "collapsed": false
   },
   "outputs": [
    {
     "data": {
      "text/html": [
       "<div>\n",
       "<table border=\"1\" class=\"dataframe\">\n",
       "  <thead>\n",
       "    <tr style=\"text-align: right;\">\n",
       "      <th></th>\n",
       "      <th>raJ2000</th>\n",
       "      <th>decJ2000</th>\n",
       "      <th>redshift</th>\n",
       "      <th>raJ2000_1</th>\n",
       "      <th>decJ2000_1</th>\n",
       "      <th>redshift_1</th>\n",
       "      <th>shiftedRA</th>\n",
       "      <th>shiftedRA_1</th>\n",
       "    </tr>\n",
       "    <tr>\n",
       "      <th>id</th>\n",
       "      <th></th>\n",
       "      <th></th>\n",
       "      <th></th>\n",
       "      <th></th>\n",
       "      <th></th>\n",
       "      <th></th>\n",
       "      <th></th>\n",
       "      <th></th>\n",
       "    </tr>\n",
       "  </thead>\n",
       "  <tbody>\n",
       "    <tr>\n",
       "      <th>3439</th>\n",
       "      <td>0.000843</td>\n",
       "      <td>0.000985</td>\n",
       "      <td>0.1980</td>\n",
       "      <td>0.000762</td>\n",
       "      <td>-0.068788</td>\n",
       "      <td>0.1980</td>\n",
       "      <td>0.000843</td>\n",
       "      <td>0.000762</td>\n",
       "    </tr>\n",
       "    <tr>\n",
       "      <th>9627</th>\n",
       "      <td>0.001659</td>\n",
       "      <td>-0.001398</td>\n",
       "      <td>0.1628</td>\n",
       "      <td>0.001575</td>\n",
       "      <td>-0.071173</td>\n",
       "      <td>0.1628</td>\n",
       "      <td>0.001659</td>\n",
       "      <td>0.001575</td>\n",
       "    </tr>\n",
       "    <tr>\n",
       "      <th>10445</th>\n",
       "      <td>0.000165</td>\n",
       "      <td>-0.001085</td>\n",
       "      <td>0.1744</td>\n",
       "      <td>0.000078</td>\n",
       "      <td>-0.070856</td>\n",
       "      <td>0.1744</td>\n",
       "      <td>0.000165</td>\n",
       "      <td>0.000078</td>\n",
       "    </tr>\n",
       "    <tr>\n",
       "      <th>10626</th>\n",
       "      <td>0.000229</td>\n",
       "      <td>-0.000595</td>\n",
       "      <td>0.1744</td>\n",
       "      <td>0.000143</td>\n",
       "      <td>-0.070366</td>\n",
       "      <td>0.1744</td>\n",
       "      <td>0.000229</td>\n",
       "      <td>0.000143</td>\n",
       "    </tr>\n",
       "    <tr>\n",
       "      <th>16122</th>\n",
       "      <td>NaN</td>\n",
       "      <td>NaN</td>\n",
       "      <td>NaN</td>\n",
       "      <td>0.001733</td>\n",
       "      <td>-0.071405</td>\n",
       "      <td>0.0882</td>\n",
       "      <td>NaN</td>\n",
       "      <td>0.001733</td>\n",
       "    </tr>\n",
       "  </tbody>\n",
       "</table>\n",
       "</div>"
      ],
      "text/plain": [
       "        raJ2000  decJ2000  redshift  raJ2000_1  decJ2000_1  redshift_1  \\\n",
       "id                                                                       \n",
       "3439   0.000843  0.000985    0.1980   0.000762   -0.068788      0.1980   \n",
       "9627   0.001659 -0.001398    0.1628   0.001575   -0.071173      0.1628   \n",
       "10445  0.000165 -0.001085    0.1744   0.000078   -0.070856      0.1744   \n",
       "10626  0.000229 -0.000595    0.1744   0.000143   -0.070366      0.1744   \n",
       "16122       NaN       NaN       NaN   0.001733   -0.071405      0.0882   \n",
       "\n",
       "       shiftedRA  shiftedRA_1  \n",
       "id                             \n",
       "3439    0.000843     0.000762  \n",
       "9627    0.001659     0.001575  \n",
       "10445   0.000165     0.000078  \n",
       "10626   0.000229     0.000143  \n",
       "16122        NaN     0.001733  "
      ]
     },
     "execution_count": 475,
     "metadata": {},
     "output_type": "execute_result"
    }
   ],
   "source": [
    "merged.head()"
   ]
  },
  {
   "cell_type": "code",
   "execution_count": 476,
   "metadata": {
    "collapsed": false
   },
   "outputs": [],
   "source": [
    "uncommon = merged[merged.isnull().any(axis=1)].copy()"
   ]
  },
  {
   "cell_type": "code",
   "execution_count": 499,
   "metadata": {
    "collapsed": false
   },
   "outputs": [
    {
     "data": {
      "text/plain": [
       "<matplotlib.collections.PathCollection at 0x146e99cd0>"
      ]
     },
     "execution_count": 499,
     "metadata": {},
     "output_type": "execute_result"
    },
    {
     "data": {
      "image/png": "[encoded data removed]",
      "text/plain": [
       "<matplotlib.figure.Figure at 0x146b62a90>"
      ]
     },
     "metadata": {},
     "output_type": "display_data"
    }
   ],
   "source": [
    "fig, ax = plt.subplots(2, 1, figsize=(6, 12), sharex=True)\n",
    "ax[0].plot(merged.shiftedRA, merged.decJ2000, 'y.')\n",
    "ax[0].scatter(uncommon.shiftedRA, uncommon.decJ2000, color='b')\n",
    "\n",
    "ax[1].plot(merged.shiftedRA_1, merged.decJ2000_1, 'y.')\n",
    "ax[1].scatter(uncommon.shiftedRA_1, uncommon.decJ2000_1, color='r')\n",
    "\n",
    "\n"
   ]
  },
  {
   "cell_type": "code",
   "execution_count": 323,
   "metadata": {
    "collapsed": false
   },
   "outputs": [
    {
     "name": "stderr",
     "output_type": "stream",
     "text": [
      "/usr/local/manual/anaconda/lib/python2.7/site-packages/ipykernel/__main__.py:1: FutureWarning: sort(columns=....) is deprecated, use sort_values(by=.....)\n",
      "  if __name__ == '__main__':\n"
     ]
    },
    {
     "data": {
      "text/html": [
       "<div>\n",
       "<table border=\"1\" class=\"dataframe\">\n",
       "  <thead>\n",
       "    <tr style=\"text-align: right;\">\n",
       "      <th></th>\n",
       "      <th>raJ2000</th>\n",
       "      <th>decJ2000</th>\n",
       "      <th>redshift</th>\n",
       "    </tr>\n",
       "    <tr>\n",
       "      <th>galtileid</th>\n",
       "      <th></th>\n",
       "      <th></th>\n",
       "      <th></th>\n",
       "    </tr>\n",
       "  </thead>\n",
       "  <tbody>\n",
       "    <tr>\n",
       "      <th>2107460316</th>\n",
       "      <td>0.000917</td>\n",
       "      <td>-0.070762</td>\n",
       "      <td>0.0382</td>\n",
       "    </tr>\n",
       "    <tr>\n",
       "      <th>2107460340</th>\n",
       "      <td>0.000907</td>\n",
       "      <td>-0.070824</td>\n",
       "      <td>0.0382</td>\n",
       "    </tr>\n",
       "    <tr>\n",
       "      <th>402606357940</th>\n",
       "      <td>6.282769</td>\n",
       "      <td>-0.070994</td>\n",
       "      <td>0.0404</td>\n",
       "    </tr>\n",
       "    <tr>\n",
       "      <th>402600000109</th>\n",
       "      <td>6.281642</td>\n",
       "      <td>-0.068593</td>\n",
       "      <td>0.0453</td>\n",
       "    </tr>\n",
       "    <tr>\n",
       "      <th>402600443253</th>\n",
       "      <td>6.282688</td>\n",
       "      <td>-0.071501</td>\n",
       "      <td>0.0591</td>\n",
       "    </tr>\n",
       "  </tbody>\n",
       "</table>\n",
       "</div>"
      ],
      "text/plain": [
       "               raJ2000  decJ2000  redshift\n",
       "galtileid                                 \n",
       "2107460316    0.000917 -0.070762    0.0382\n",
       "2107460340    0.000907 -0.070824    0.0382\n",
       "402606357940  6.282769 -0.070994    0.0404\n",
       "402600000109  6.281642 -0.068593    0.0453\n",
       "402600443253  6.282688 -0.071501    0.0591"
      ]
     },
     "execution_count": 323,
     "metadata": {},
     "output_type": "execute_result"
    }
   ],
   "source": [
    "gTile1_df.sort('redshift').head()"
   ]
  },
  {
   "cell_type": "code",
   "execution_count": 298,
   "metadata": {
    "collapsed": true
   },
   "outputs": [],
   "source": [
    "class galBaseCopy(InstanceCatalog):\n",
    "    column_outputs = ['id', 'raJ2000', 'decJ2000', 'redshift']#, 'a_d', 'b_d', 'pa_disk', 'mass_stellar', 'absmag_r_total']\n",
    "    override_formats = {'raJ2000': '%8e', 'decJ2000': '%8e', 'a_d': '%8e', 'b_d': '%8e', 'pa_disk': '%8e', \n",
    "                        'mass_stellar': '%8e', 'absmag_r_total': '%8e'}"
   ]
  },
  {
   "cell_type": "code",
   "execution_count": 309,
   "metadata": {
    "collapsed": true
   },
   "outputs": [],
   "source": [
    "galaxybaseObs = GalaxyObj()\n",
    "galaxyBase = galBaseCopy(galaxybaseObs, obs_metadata=observerMetaData, constraint=constr)\n",
    "galaxyBase.write_catalog('galaxyBase_small.csv')"
   ]
  },
  {
   "cell_type": "code",
   "execution_count": 316,
   "metadata": {
    "collapsed": false
   },
   "outputs": [
    {
     "name": "stderr",
     "output_type": "stream",
     "text": [
      "/usr/local/manual/anaconda/lib/python2.7/site-packages/ipykernel/__main__.py:1: ParserWarning: Falling back to the 'python' engine because the 'c' engine does not support regex separators; you can avoid this warning by specifying engine='python'.\n",
      "  if __name__ == '__main__':\n"
     ]
    }
   ],
   "source": [
    "galBase_df = pd.read_csv('galaxyBase_small.csv', delimiter=', ', index_col='#id')\n",
    "galBase_df.index.name = 'id'"
   ]
  },
  {
   "cell_type": "code",
   "execution_count": 327,
   "metadata": {
    "collapsed": false
   },
   "outputs": [
    {
     "name": "stderr",
     "output_type": "stream",
     "text": [
      "/usr/local/manual/anaconda/lib/python2.7/site-packages/ipykernel/__main__.py:1: FutureWarning: sort(columns=....) is deprecated, use sort_values(by=.....)\n",
      "  if __name__ == '__main__':\n"
     ]
    },
    {
     "data": {
      "text/html": [
       "<div>\n",
       "<table border=\"1\" class=\"dataframe\">\n",
       "  <thead>\n",
       "    <tr style=\"text-align: right;\">\n",
       "      <th></th>\n",
       "      <th>raJ2000</th>\n",
       "      <th>decJ2000</th>\n",
       "      <th>redshift</th>\n",
       "    </tr>\n",
       "    <tr>\n",
       "      <th>id</th>\n",
       "      <th></th>\n",
       "      <th></th>\n",
       "      <th></th>\n",
       "    </tr>\n",
       "  </thead>\n",
       "  <tbody>\n",
       "    <tr>\n",
       "      <th>371</th>\n",
       "      <td>0.001323</td>\n",
       "      <td>-0.000562</td>\n",
       "      <td>0.0421</td>\n",
       "    </tr>\n",
       "    <tr>\n",
       "      <th>10146853</th>\n",
       "      <td>0.000058</td>\n",
       "      <td>-0.000425</td>\n",
       "      <td>0.0452</td>\n",
       "    </tr>\n",
       "    <tr>\n",
       "      <th>10146863</th>\n",
       "      <td>0.000660</td>\n",
       "      <td>-0.001039</td>\n",
       "      <td>0.0452</td>\n",
       "    </tr>\n",
       "    <tr>\n",
       "      <th>416</th>\n",
       "      <td>6.283145</td>\n",
       "      <td>0.000352</td>\n",
       "      <td>0.0544</td>\n",
       "    </tr>\n",
       "    <tr>\n",
       "      <th>1605</th>\n",
       "      <td>6.282565</td>\n",
       "      <td>-0.000954</td>\n",
       "      <td>0.0545</td>\n",
       "    </tr>\n",
       "  </tbody>\n",
       "</table>\n",
       "</div>"
      ],
      "text/plain": [
       "           raJ2000  decJ2000  redshift\n",
       "id                                    \n",
       "371       0.001323 -0.000562    0.0421\n",
       "10146853  0.000058 -0.000425    0.0452\n",
       "10146863  0.000660 -0.001039    0.0452\n",
       "416       6.283145  0.000352    0.0544\n",
       "1605      6.282565 -0.000954    0.0545"
      ]
     },
     "execution_count": 327,
     "metadata": {},
     "output_type": "execute_result"
    }
   ],
   "source": [
    "galBase_df.sort('redshift').head()"
   ]
  },
  {
   "cell_type": "code",
   "execution_count": 328,
   "metadata": {
    "collapsed": true
   },
   "outputs": [],
   "source": [
    "from lsst.sims.utils import haversine"
   ]
  },
  {
   "cell_type": "code",
   "execution_count": 336,
   "metadata": {
    "collapsed": true
   },
   "outputs": [],
   "source": [
    "orig_1 = gBase_df.ix[2207460316]\n",
    "orig_2 = gBase_df.ix[2207460340]"
   ]
  },
  {
   "cell_type": "code",
   "execution_count": 337,
   "metadata": {
    "collapsed": false
   },
   "outputs": [
    {
     "data": {
      "text/plain": [
       "raJ2000     0.000992\n",
       "decJ2000   -0.001051\n",
       "redshift    0.038200\n",
       "Name: 2207460340, dtype: float64"
      ]
     },
     "execution_count": 337,
     "metadata": {},
     "output_type": "execute_result"
    }
   ],
   "source": [
    "orig_2"
   ]
  },
  {
   "cell_type": "code",
   "execution_count": 331,
   "metadata": {
    "collapsed": false
   },
   "outputs": [],
   "source": [
    "rot_1 = gTile1_df.ix[2107460316]\n",
    "rot_2 = gTile1_df.ix[2107460340]"
   ]
  },
  {
   "cell_type": "code",
   "execution_count": 338,
   "metadata": {
    "collapsed": false
   },
   "outputs": [
    {
     "data": {
      "text/plain": [
       "raJ2000     0.000907\n",
       "decJ2000   -0.070824\n",
       "redshift    0.038200\n",
       "Name: 2107460340, dtype: float64"
      ]
     },
     "execution_count": 338,
     "metadata": {},
     "output_type": "execute_result"
    }
   ],
   "source": [
    "rot_2"
   ]
  },
  {
   "cell_type": "code",
   "execution_count": 344,
   "metadata": {
    "collapsed": false
   },
   "outputs": [],
   "source": [
    "orig_sep = haversine(orig_1.decJ2000, orig_1.raJ2000, orig_2.decJ2000, orig_2.raJ2000)"
   ]
  },
  {
   "cell_type": "code",
   "execution_count": 342,
   "metadata": {
    "collapsed": false
   },
   "outputs": [],
   "source": [
    "rotated_sep = haversine(rot_1.decJ2000, rot_1.raJ2000, rot_2.decJ2000, rot_2.raJ2000)"
   ]
  },
  {
   "cell_type": "code",
   "execution_count": 346,
   "metadata": {
    "collapsed": false
   },
   "outputs": [
    {
     "data": {
      "text/plain": [
       "True"
      ]
     },
     "execution_count": 346,
     "metadata": {},
     "output_type": "execute_result"
    }
   ],
   "source": [
    "np.allclose(rotated_sep, orig_sep)"
   ]
  },
  {
   "cell_type": "code",
   "execution_count": 351,
   "metadata": {
    "collapsed": false
   },
   "outputs": [],
   "source": [
    "def galTileID(tileID, galID):\n",
    "    return 100000000* tileID + galID\n",
    "\n",
    "def galIds(tileID, galTileID):\n",
    "    return galTileID - 100000000* tileID"
   ]
  },
  {
   "cell_type": "code",
   "execution_count": 390,
   "metadata": {
    "collapsed": false
   },
   "outputs": [],
   "source": [
    "gBase_df['Id'] = galIds(22, gBase_df.index.values)\n",
    "gBase_df.set_index('Id', inplace=True)"
   ]
  },
  {
   "cell_type": "code",
   "execution_count": 391,
   "metadata": {
    "collapsed": false
   },
   "outputs": [
    {
     "data": {
      "text/html": [
       "<div>\n",
       "<table border=\"1\" class=\"dataframe\">\n",
       "  <thead>\n",
       "    <tr style=\"text-align: right;\">\n",
       "      <th></th>\n",
       "      <th>raJ2000</th>\n",
       "      <th>decJ2000</th>\n",
       "      <th>redshift</th>\n",
       "      <th>galIdFromBase</th>\n",
       "    </tr>\n",
       "    <tr>\n",
       "      <th>Id</th>\n",
       "      <th></th>\n",
       "      <th></th>\n",
       "      <th></th>\n",
       "      <th></th>\n",
       "    </tr>\n",
       "  </thead>\n",
       "  <tbody>\n",
       "    <tr>\n",
       "      <th>3439</th>\n",
       "      <td>0.001344</td>\n",
       "      <td>0.001715</td>\n",
       "      <td>0.0564</td>\n",
       "      <td>3439</td>\n",
       "    </tr>\n",
       "    <tr>\n",
       "      <th>9627</th>\n",
       "      <td>0.001243</td>\n",
       "      <td>0.000790</td>\n",
       "      <td>0.1237</td>\n",
       "      <td>9627</td>\n",
       "    </tr>\n",
       "    <tr>\n",
       "      <th>10445</th>\n",
       "      <td>0.001709</td>\n",
       "      <td>0.001086</td>\n",
       "      <td>0.0896</td>\n",
       "      <td>10445</td>\n",
       "    </tr>\n",
       "    <tr>\n",
       "      <th>10626</th>\n",
       "      <td>0.001705</td>\n",
       "      <td>0.001203</td>\n",
       "      <td>0.1496</td>\n",
       "      <td>10626</td>\n",
       "    </tr>\n",
       "    <tr>\n",
       "      <th>29244</th>\n",
       "      <td>0.001486</td>\n",
       "      <td>0.000957</td>\n",
       "      <td>0.1485</td>\n",
       "      <td>29244</td>\n",
       "    </tr>\n",
       "  </tbody>\n",
       "</table>\n",
       "</div>"
      ],
      "text/plain": [
       "        raJ2000  decJ2000  redshift  galIdFromBase\n",
       "Id                                                \n",
       "3439   0.001344  0.001715    0.0564           3439\n",
       "9627   0.001243  0.000790    0.1237           9627\n",
       "10445  0.001709  0.001086    0.0896          10445\n",
       "10626  0.001705  0.001203    0.1496          10626\n",
       "29244  0.001486  0.000957    0.1485          29244"
      ]
     },
     "execution_count": 391,
     "metadata": {},
     "output_type": "execute_result"
    }
   ],
   "source": [
    "gBase_df.head()"
   ]
  },
  {
   "cell_type": "code",
   "execution_count": 392,
   "metadata": {
    "collapsed": true
   },
   "outputs": [],
   "source": [
    "gTile1_df['Id'] = galIds(21, gTile1_df.index.values)"
   ]
  },
  {
   "cell_type": "code",
   "execution_count": 393,
   "metadata": {
    "collapsed": true
   },
   "outputs": [],
   "source": [
    "gTile1_df.set_index('Id', inplace=True)"
   ]
  },
  {
   "cell_type": "code",
   "execution_count": 394,
   "metadata": {
    "collapsed": false
   },
   "outputs": [
    {
     "data": {
      "text/html": [
       "<div>\n",
       "<table border=\"1\" class=\"dataframe\">\n",
       "  <thead>\n",
       "    <tr style=\"text-align: right;\">\n",
       "      <th></th>\n",
       "      <th>raJ2000</th>\n",
       "      <th>decJ2000</th>\n",
       "      <th>redshift</th>\n",
       "    </tr>\n",
       "    <tr>\n",
       "      <th>Id</th>\n",
       "      <th></th>\n",
       "      <th></th>\n",
       "      <th></th>\n",
       "    </tr>\n",
       "  </thead>\n",
       "  <tbody>\n",
       "    <tr>\n",
       "      <th>3439</th>\n",
       "      <td>0.001664</td>\n",
       "      <td>-0.069568</td>\n",
       "      <td>0.1337</td>\n",
       "    </tr>\n",
       "    <tr>\n",
       "      <th>9627</th>\n",
       "      <td>0.001551</td>\n",
       "      <td>-0.069453</td>\n",
       "      <td>0.1493</td>\n",
       "    </tr>\n",
       "    <tr>\n",
       "      <th>10445</th>\n",
       "      <td>0.001174</td>\n",
       "      <td>-0.069736</td>\n",
       "      <td>0.1742</td>\n",
       "    </tr>\n",
       "    <tr>\n",
       "      <th>10626</th>\n",
       "      <td>0.001281</td>\n",
       "      <td>-0.069714</td>\n",
       "      <td>0.1761</td>\n",
       "    </tr>\n",
       "    <tr>\n",
       "      <th>16122</th>\n",
       "      <td>0.001292</td>\n",
       "      <td>-0.069709</td>\n",
       "      <td>0.1737</td>\n",
       "    </tr>\n",
       "  </tbody>\n",
       "</table>\n",
       "</div>"
      ],
      "text/plain": [
       "        raJ2000  decJ2000  redshift\n",
       "Id                                 \n",
       "3439   0.001664 -0.069568    0.1337\n",
       "9627   0.001551 -0.069453    0.1493\n",
       "10445  0.001174 -0.069736    0.1742\n",
       "10626  0.001281 -0.069714    0.1761\n",
       "16122  0.001292 -0.069709    0.1737"
      ]
     },
     "execution_count": 394,
     "metadata": {},
     "output_type": "execute_result"
    }
   ],
   "source": [
    "gTile1_df.head()"
   ]
  },
  {
   "cell_type": "code",
   "execution_count": 401,
   "metadata": {
    "collapsed": false
   },
   "outputs": [],
   "source": [
    "merged = pd.concat([gBase_df, gTile1_df], axis=1)"
   ]
  },
  {
   "cell_type": "code",
   "execution_count": 402,
   "metadata": {
    "collapsed": false
   },
   "outputs": [
    {
     "data": {
      "text/html": [
       "<div>\n",
       "<table border=\"1\" class=\"dataframe\">\n",
       "  <thead>\n",
       "    <tr style=\"text-align: right;\">\n",
       "      <th></th>\n",
       "      <th>raJ2000</th>\n",
       "      <th>decJ2000</th>\n",
       "      <th>redshift</th>\n",
       "      <th>galIdFromBase</th>\n",
       "      <th>raJ2000</th>\n",
       "      <th>decJ2000</th>\n",
       "      <th>redshift</th>\n",
       "    </tr>\n",
       "    <tr>\n",
       "      <th>Id</th>\n",
       "      <th></th>\n",
       "      <th></th>\n",
       "      <th></th>\n",
       "      <th></th>\n",
       "      <th></th>\n",
       "      <th></th>\n",
       "      <th></th>\n",
       "    </tr>\n",
       "  </thead>\n",
       "  <tbody>\n",
       "    <tr>\n",
       "      <th>3439</th>\n",
       "      <td>0.001344</td>\n",
       "      <td>0.001715</td>\n",
       "      <td>0.0564</td>\n",
       "      <td>3.439000e+03</td>\n",
       "      <td>0.001664</td>\n",
       "      <td>-0.069568</td>\n",
       "      <td>0.1337</td>\n",
       "    </tr>\n",
       "    <tr>\n",
       "      <th>9627</th>\n",
       "      <td>0.001243</td>\n",
       "      <td>0.000790</td>\n",
       "      <td>0.1237</td>\n",
       "      <td>9.627000e+03</td>\n",
       "      <td>0.001551</td>\n",
       "      <td>-0.069453</td>\n",
       "      <td>0.1493</td>\n",
       "    </tr>\n",
       "    <tr>\n",
       "      <th>10445</th>\n",
       "      <td>0.001709</td>\n",
       "      <td>0.001086</td>\n",
       "      <td>0.0896</td>\n",
       "      <td>1.044500e+04</td>\n",
       "      <td>0.001174</td>\n",
       "      <td>-0.069736</td>\n",
       "      <td>0.1742</td>\n",
       "    </tr>\n",
       "    <tr>\n",
       "      <th>10626</th>\n",
       "      <td>0.001705</td>\n",
       "      <td>0.001203</td>\n",
       "      <td>0.1496</td>\n",
       "      <td>1.062600e+04</td>\n",
       "      <td>0.001281</td>\n",
       "      <td>-0.069714</td>\n",
       "      <td>0.1761</td>\n",
       "    </tr>\n",
       "    <tr>\n",
       "      <th>16122</th>\n",
       "      <td>NaN</td>\n",
       "      <td>NaN</td>\n",
       "      <td>NaN</td>\n",
       "      <td>NaN</td>\n",
       "      <td>0.001292</td>\n",
       "      <td>-0.069709</td>\n",
       "      <td>0.1737</td>\n",
       "    </tr>\n",
       "    <tr>\n",
       "      <th>29244</th>\n",
       "      <td>0.001486</td>\n",
       "      <td>0.000957</td>\n",
       "      <td>0.1485</td>\n",
       "      <td>2.924400e+04</td>\n",
       "      <td>0.001584</td>\n",
       "      <td>-0.069751</td>\n",
       "      <td>0.1783</td>\n",
       "    </tr>\n",
       "    <tr>\n",
       "      <th>29271</th>\n",
       "      <td>0.001300</td>\n",
       "      <td>0.001029</td>\n",
       "      <td>0.1749</td>\n",
       "      <td>2.927100e+04</td>\n",
       "      <td>NaN</td>\n",
       "      <td>NaN</td>\n",
       "      <td>NaN</td>\n",
       "    </tr>\n",
       "    <tr>\n",
       "      <th>30339</th>\n",
       "      <td>0.001583</td>\n",
       "      <td>0.001242</td>\n",
       "      <td>0.1743</td>\n",
       "      <td>3.033900e+04</td>\n",
       "      <td>0.001614</td>\n",
       "      <td>-0.069543</td>\n",
       "      <td>0.1736</td>\n",
       "    </tr>\n",
       "    <tr>\n",
       "      <th>30473</th>\n",
       "      <td>0.001365</td>\n",
       "      <td>0.001316</td>\n",
       "      <td>0.1689</td>\n",
       "      <td>3.047300e+04</td>\n",
       "      <td>0.001731</td>\n",
       "      <td>-0.069670</td>\n",
       "      <td>0.1789</td>\n",
       "    </tr>\n",
       "    <tr>\n",
       "      <th>31250</th>\n",
       "      <td>0.001348</td>\n",
       "      <td>0.001610</td>\n",
       "      <td>0.1801</td>\n",
       "      <td>3.125000e+04</td>\n",
       "      <td>0.001087</td>\n",
       "      <td>-0.069684</td>\n",
       "      <td>0.0969</td>\n",
       "    </tr>\n",
       "    <tr>\n",
       "      <th>31671</th>\n",
       "      <td>0.001377</td>\n",
       "      <td>0.001635</td>\n",
       "      <td>0.1906</td>\n",
       "      <td>3.167100e+04</td>\n",
       "      <td>0.001711</td>\n",
       "      <td>-0.069042</td>\n",
       "      <td>0.1187</td>\n",
       "    </tr>\n",
       "    <tr>\n",
       "      <th>32093</th>\n",
       "      <td>0.001211</td>\n",
       "      <td>0.001177</td>\n",
       "      <td>0.1975</td>\n",
       "      <td>3.209300e+04</td>\n",
       "      <td>0.001240</td>\n",
       "      <td>-0.069182</td>\n",
       "      <td>0.1489</td>\n",
       "    </tr>\n",
       "    <tr>\n",
       "      <th>57541</th>\n",
       "      <td>0.001653</td>\n",
       "      <td>0.001005</td>\n",
       "      <td>0.1974</td>\n",
       "      <td>5.754100e+04</td>\n",
       "      <td>0.001386</td>\n",
       "      <td>-0.069103</td>\n",
       "      <td>0.1470</td>\n",
       "    </tr>\n",
       "    <tr>\n",
       "      <th>58072</th>\n",
       "      <td>0.001744</td>\n",
       "      <td>0.000207</td>\n",
       "      <td>0.1337</td>\n",
       "      <td>5.807200e+04</td>\n",
       "      <td>0.001324</td>\n",
       "      <td>-0.069091</td>\n",
       "      <td>0.1562</td>\n",
       "    </tr>\n",
       "    <tr>\n",
       "      <th>97251</th>\n",
       "      <td>0.001632</td>\n",
       "      <td>0.000322</td>\n",
       "      <td>0.1493</td>\n",
       "      <td>9.725100e+04</td>\n",
       "      <td>0.001480</td>\n",
       "      <td>-0.069014</td>\n",
       "      <td>0.1623</td>\n",
       "    </tr>\n",
       "    <tr>\n",
       "      <th>99341</th>\n",
       "      <td>0.001256</td>\n",
       "      <td>0.000037</td>\n",
       "      <td>0.1742</td>\n",
       "      <td>9.934100e+04</td>\n",
       "      <td>0.001243</td>\n",
       "      <td>-0.069220</td>\n",
       "      <td>0.1595</td>\n",
       "    </tr>\n",
       "    <tr>\n",
       "      <th>113660</th>\n",
       "      <td>0.001363</td>\n",
       "      <td>0.000060</td>\n",
       "      <td>0.1761</td>\n",
       "      <td>1.136600e+05</td>\n",
       "      <td>0.001322</td>\n",
       "      <td>-0.069528</td>\n",
       "      <td>0.1793</td>\n",
       "    </tr>\n",
       "    <tr>\n",
       "      <th>156127</th>\n",
       "      <td>0.001374</td>\n",
       "      <td>0.000065</td>\n",
       "      <td>0.1737</td>\n",
       "      <td>1.561270e+05</td>\n",
       "      <td>0.001636</td>\n",
       "      <td>-0.069093</td>\n",
       "      <td>0.1910</td>\n",
       "    </tr>\n",
       "    <tr>\n",
       "      <th>156407</th>\n",
       "      <td>0.001665</td>\n",
       "      <td>0.000023</td>\n",
       "      <td>0.1783</td>\n",
       "      <td>1.564070e+05</td>\n",
       "      <td>0.001271</td>\n",
       "      <td>-0.069370</td>\n",
       "      <td>0.1953</td>\n",
       "    </tr>\n",
       "    <tr>\n",
       "      <th>161568</th>\n",
       "      <td>0.001694</td>\n",
       "      <td>0.000232</td>\n",
       "      <td>0.1736</td>\n",
       "      <td>1.615680e+05</td>\n",
       "      <td>0.001163</td>\n",
       "      <td>-0.068984</td>\n",
       "      <td>0.1237</td>\n",
       "    </tr>\n",
       "    <tr>\n",
       "      <th>251198</th>\n",
       "      <td>0.001169</td>\n",
       "      <td>0.000089</td>\n",
       "      <td>0.0969</td>\n",
       "      <td>2.511980e+05</td>\n",
       "      <td>0.001630</td>\n",
       "      <td>-0.068688</td>\n",
       "      <td>0.0896</td>\n",
       "    </tr>\n",
       "    <tr>\n",
       "      <th>255810</th>\n",
       "      <td>0.001321</td>\n",
       "      <td>0.000592</td>\n",
       "      <td>0.1489</td>\n",
       "      <td>2.558100e+05</td>\n",
       "      <td>0.001627</td>\n",
       "      <td>-0.068572</td>\n",
       "      <td>0.1496</td>\n",
       "    </tr>\n",
       "    <tr>\n",
       "      <th>257045</th>\n",
       "      <td>0.001466</td>\n",
       "      <td>0.000671</td>\n",
       "      <td>0.1470</td>\n",
       "      <td>2.570450e+05</td>\n",
       "      <td>0.001407</td>\n",
       "      <td>-0.068818</td>\n",
       "      <td>0.1485</td>\n",
       "    </tr>\n",
       "    <tr>\n",
       "      <th>257480</th>\n",
       "      <td>0.001405</td>\n",
       "      <td>0.000683</td>\n",
       "      <td>0.1562</td>\n",
       "      <td>2.574800e+05</td>\n",
       "      <td>NaN</td>\n",
       "      <td>NaN</td>\n",
       "      <td>NaN</td>\n",
       "    </tr>\n",
       "    <tr>\n",
       "      <th>257725</th>\n",
       "      <td>0.001560</td>\n",
       "      <td>0.000761</td>\n",
       "      <td>0.1623</td>\n",
       "      <td>2.577250e+05</td>\n",
       "      <td>0.001741</td>\n",
       "      <td>-0.068676</td>\n",
       "      <td>0.1499</td>\n",
       "    </tr>\n",
       "    <tr>\n",
       "      <th>396713</th>\n",
       "      <td>0.001323</td>\n",
       "      <td>0.000553</td>\n",
       "      <td>0.1595</td>\n",
       "      <td>3.967130e+05</td>\n",
       "      <td>0.001220</td>\n",
       "      <td>-0.068745</td>\n",
       "      <td>0.1749</td>\n",
       "    </tr>\n",
       "    <tr>\n",
       "      <th>405446</th>\n",
       "      <td>0.001403</td>\n",
       "      <td>0.000246</td>\n",
       "      <td>0.1793</td>\n",
       "      <td>4.054460e+05</td>\n",
       "      <td>0.001505</td>\n",
       "      <td>-0.068533</td>\n",
       "      <td>0.1743</td>\n",
       "    </tr>\n",
       "    <tr>\n",
       "      <th>406747</th>\n",
       "      <td>0.001715</td>\n",
       "      <td>0.000682</td>\n",
       "      <td>0.1910</td>\n",
       "      <td>4.067470e+05</td>\n",
       "      <td>0.001286</td>\n",
       "      <td>-0.068458</td>\n",
       "      <td>0.1689</td>\n",
       "    </tr>\n",
       "    <tr>\n",
       "      <th>407260</th>\n",
       "      <td>0.001352</td>\n",
       "      <td>0.000404</td>\n",
       "      <td>0.1953</td>\n",
       "      <td>4.072600e+05</td>\n",
       "      <td>NaN</td>\n",
       "      <td>NaN</td>\n",
       "      <td>NaN</td>\n",
       "    </tr>\n",
       "    <tr>\n",
       "      <th>407422</th>\n",
       "      <td>0.000087</td>\n",
       "      <td>0.001020</td>\n",
       "      <td>0.0789</td>\n",
       "      <td>4.074220e+05</td>\n",
       "      <td>NaN</td>\n",
       "      <td>NaN</td>\n",
       "      <td>NaN</td>\n",
       "    </tr>\n",
       "    <tr>\n",
       "      <th>...</th>\n",
       "      <td>...</td>\n",
       "      <td>...</td>\n",
       "      <td>...</td>\n",
       "      <td>...</td>\n",
       "      <td>...</td>\n",
       "      <td>...</td>\n",
       "      <td>...</td>\n",
       "    </tr>\n",
       "    <tr>\n",
       "      <th>400513397966</th>\n",
       "      <td>6.282224</td>\n",
       "      <td>0.000063</td>\n",
       "      <td>0.1650</td>\n",
       "      <td>4.005134e+11</td>\n",
       "      <td>6.282307</td>\n",
       "      <td>-0.069710</td>\n",
       "      <td>0.1650</td>\n",
       "    </tr>\n",
       "    <tr>\n",
       "      <th>400513398017</th>\n",
       "      <td>6.282229</td>\n",
       "      <td>0.000044</td>\n",
       "      <td>0.1645</td>\n",
       "      <td>4.005134e+11</td>\n",
       "      <td>NaN</td>\n",
       "      <td>NaN</td>\n",
       "      <td>NaN</td>\n",
       "    </tr>\n",
       "    <tr>\n",
       "      <th>400513398170</th>\n",
       "      <td>6.282477</td>\n",
       "      <td>0.001523</td>\n",
       "      <td>0.1651</td>\n",
       "      <td>4.005134e+11</td>\n",
       "      <td>6.282311</td>\n",
       "      <td>-0.069729</td>\n",
       "      <td>0.1645</td>\n",
       "    </tr>\n",
       "    <tr>\n",
       "      <th>400513439026</th>\n",
       "      <td>6.283086</td>\n",
       "      <td>0.000924</td>\n",
       "      <td>0.1632</td>\n",
       "      <td>4.005134e+11</td>\n",
       "      <td>6.282557</td>\n",
       "      <td>-0.068250</td>\n",
       "      <td>0.1651</td>\n",
       "    </tr>\n",
       "    <tr>\n",
       "      <th>400513467186</th>\n",
       "      <td>6.282845</td>\n",
       "      <td>0.000545</td>\n",
       "      <td>0.1755</td>\n",
       "      <td>4.005135e+11</td>\n",
       "      <td>6.283169</td>\n",
       "      <td>-0.068847</td>\n",
       "      <td>0.1632</td>\n",
       "    </tr>\n",
       "    <tr>\n",
       "      <th>400513553306</th>\n",
       "      <td>6.282443</td>\n",
       "      <td>0.001140</td>\n",
       "      <td>0.1762</td>\n",
       "      <td>4.005136e+11</td>\n",
       "      <td>6.282928</td>\n",
       "      <td>-0.069226</td>\n",
       "      <td>0.1755</td>\n",
       "    </tr>\n",
       "    <tr>\n",
       "      <th>400514004645</th>\n",
       "      <td>6.282627</td>\n",
       "      <td>0.000344</td>\n",
       "      <td>0.1823</td>\n",
       "      <td>4.005140e+11</td>\n",
       "      <td>6.282523</td>\n",
       "      <td>-0.068632</td>\n",
       "      <td>0.1762</td>\n",
       "    </tr>\n",
       "    <tr>\n",
       "      <th>400514010322</th>\n",
       "      <td>6.282950</td>\n",
       "      <td>0.001477</td>\n",
       "      <td>0.1826</td>\n",
       "      <td>4.005140e+11</td>\n",
       "      <td>6.282710</td>\n",
       "      <td>-0.069428</td>\n",
       "      <td>0.1823</td>\n",
       "    </tr>\n",
       "    <tr>\n",
       "      <th>400514044178</th>\n",
       "      <td>6.282998</td>\n",
       "      <td>0.000889</td>\n",
       "      <td>0.1795</td>\n",
       "      <td>4.005140e+11</td>\n",
       "      <td>6.283031</td>\n",
       "      <td>-0.068294</td>\n",
       "      <td>0.1826</td>\n",
       "    </tr>\n",
       "    <tr>\n",
       "      <th>400514045595</th>\n",
       "      <td>6.282056</td>\n",
       "      <td>0.000205</td>\n",
       "      <td>0.1882</td>\n",
       "      <td>4.005140e+11</td>\n",
       "      <td>6.283080</td>\n",
       "      <td>-0.068882</td>\n",
       "      <td>0.1795</td>\n",
       "    </tr>\n",
       "    <tr>\n",
       "      <th>400514068483</th>\n",
       "      <td>6.282115</td>\n",
       "      <td>0.000318</td>\n",
       "      <td>0.1898</td>\n",
       "      <td>4.005141e+11</td>\n",
       "      <td>6.282138</td>\n",
       "      <td>-0.069569</td>\n",
       "      <td>0.1882</td>\n",
       "    </tr>\n",
       "    <tr>\n",
       "      <th>400514207817</th>\n",
       "      <td>6.282382</td>\n",
       "      <td>0.001194</td>\n",
       "      <td>0.1846</td>\n",
       "      <td>4.005142e+11</td>\n",
       "      <td>6.282197</td>\n",
       "      <td>-0.069455</td>\n",
       "      <td>0.1898</td>\n",
       "    </tr>\n",
       "    <tr>\n",
       "      <th>400514208367</th>\n",
       "      <td>NaN</td>\n",
       "      <td>NaN</td>\n",
       "      <td>NaN</td>\n",
       "      <td>NaN</td>\n",
       "      <td>6.282462</td>\n",
       "      <td>-0.068578</td>\n",
       "      <td>0.1846</td>\n",
       "    </tr>\n",
       "    <tr>\n",
       "      <th>400514645094</th>\n",
       "      <td>6.282571</td>\n",
       "      <td>0.000964</td>\n",
       "      <td>0.1947</td>\n",
       "      <td>4.005146e+11</td>\n",
       "      <td>6.282652</td>\n",
       "      <td>-0.068808</td>\n",
       "      <td>0.1947</td>\n",
       "    </tr>\n",
       "    <tr>\n",
       "      <th>400514650444</th>\n",
       "      <td>6.282611</td>\n",
       "      <td>0.000376</td>\n",
       "      <td>0.1906</td>\n",
       "      <td>4.005147e+11</td>\n",
       "      <td>6.282694</td>\n",
       "      <td>-0.069396</td>\n",
       "      <td>0.1906</td>\n",
       "    </tr>\n",
       "    <tr>\n",
       "      <th>400514651757</th>\n",
       "      <td>6.282820</td>\n",
       "      <td>0.000906</td>\n",
       "      <td>0.1949</td>\n",
       "      <td>4.005147e+11</td>\n",
       "      <td>6.282902</td>\n",
       "      <td>-0.068866</td>\n",
       "      <td>0.1949</td>\n",
       "    </tr>\n",
       "    <tr>\n",
       "      <th>400514672142</th>\n",
       "      <td>6.282388</td>\n",
       "      <td>0.001563</td>\n",
       "      <td>0.1987</td>\n",
       "      <td>4.005147e+11</td>\n",
       "      <td>6.282468</td>\n",
       "      <td>-0.068210</td>\n",
       "      <td>0.1987</td>\n",
       "    </tr>\n",
       "    <tr>\n",
       "      <th>400514798352</th>\n",
       "      <td>6.282968</td>\n",
       "      <td>0.000220</td>\n",
       "      <td>0.1982</td>\n",
       "      <td>4.005148e+11</td>\n",
       "      <td>6.283052</td>\n",
       "      <td>-0.069552</td>\n",
       "      <td>0.1982</td>\n",
       "    </tr>\n",
       "    <tr>\n",
       "      <th>400515171711</th>\n",
       "      <td>6.282433</td>\n",
       "      <td>0.001069</td>\n",
       "      <td>0.1965</td>\n",
       "      <td>4.005152e+11</td>\n",
       "      <td>6.282514</td>\n",
       "      <td>-0.068704</td>\n",
       "      <td>0.1965</td>\n",
       "    </tr>\n",
       "    <tr>\n",
       "      <th>400515171808</th>\n",
       "      <td>6.283006</td>\n",
       "      <td>0.000749</td>\n",
       "      <td>0.1978</td>\n",
       "      <td>4.005152e+11</td>\n",
       "      <td>6.283089</td>\n",
       "      <td>-0.069022</td>\n",
       "      <td>0.1978</td>\n",
       "    </tr>\n",
       "    <tr>\n",
       "      <th>400515197135</th>\n",
       "      <td>6.282012</td>\n",
       "      <td>-0.000680</td>\n",
       "      <td>0.0756</td>\n",
       "      <td>4.005152e+11</td>\n",
       "      <td>6.282096</td>\n",
       "      <td>-0.070454</td>\n",
       "      <td>0.0756</td>\n",
       "    </tr>\n",
       "    <tr>\n",
       "      <th>400515249924</th>\n",
       "      <td>6.282009</td>\n",
       "      <td>-0.000462</td>\n",
       "      <td>0.1088</td>\n",
       "      <td>4.005152e+11</td>\n",
       "      <td>6.282092</td>\n",
       "      <td>-0.070236</td>\n",
       "      <td>0.1088</td>\n",
       "    </tr>\n",
       "    <tr>\n",
       "      <th>400515372269</th>\n",
       "      <td>6.281896</td>\n",
       "      <td>-0.000523</td>\n",
       "      <td>0.0873</td>\n",
       "      <td>4.005154e+11</td>\n",
       "      <td>6.281979</td>\n",
       "      <td>-0.070296</td>\n",
       "      <td>0.0873</td>\n",
       "    </tr>\n",
       "    <tr>\n",
       "      <th>400515735756</th>\n",
       "      <td>NaN</td>\n",
       "      <td>NaN</td>\n",
       "      <td>NaN</td>\n",
       "      <td>NaN</td>\n",
       "      <td>6.281888</td>\n",
       "      <td>-0.070370</td>\n",
       "      <td>0.0887</td>\n",
       "    </tr>\n",
       "    <tr>\n",
       "      <th>400515780440</th>\n",
       "      <td>6.281804</td>\n",
       "      <td>-0.000596</td>\n",
       "      <td>0.0887</td>\n",
       "      <td>4.005158e+11</td>\n",
       "      <td>6.281847</td>\n",
       "      <td>-0.070205</td>\n",
       "      <td>0.0876</td>\n",
       "    </tr>\n",
       "    <tr>\n",
       "      <th>400515783275</th>\n",
       "      <td>6.281764</td>\n",
       "      <td>-0.000432</td>\n",
       "      <td>0.0876</td>\n",
       "      <td>4.005158e+11</td>\n",
       "      <td>NaN</td>\n",
       "      <td>NaN</td>\n",
       "      <td>NaN</td>\n",
       "    </tr>\n",
       "    <tr>\n",
       "      <th>400515804438</th>\n",
       "      <td>6.281835</td>\n",
       "      <td>-0.000471</td>\n",
       "      <td>0.1583</td>\n",
       "      <td>4.005158e+11</td>\n",
       "      <td>6.281918</td>\n",
       "      <td>-0.070245</td>\n",
       "      <td>0.1583</td>\n",
       "    </tr>\n",
       "    <tr>\n",
       "      <th>400516278531</th>\n",
       "      <td>6.281758</td>\n",
       "      <td>-0.000738</td>\n",
       "      <td>0.1603</td>\n",
       "      <td>4.005163e+11</td>\n",
       "      <td>6.281841</td>\n",
       "      <td>-0.070512</td>\n",
       "      <td>0.1603</td>\n",
       "    </tr>\n",
       "    <tr>\n",
       "      <th>400516279816</th>\n",
       "      <td>6.281958</td>\n",
       "      <td>-0.000376</td>\n",
       "      <td>0.1911</td>\n",
       "      <td>4.005163e+11</td>\n",
       "      <td>6.282041</td>\n",
       "      <td>-0.070150</td>\n",
       "      <td>0.1911</td>\n",
       "    </tr>\n",
       "    <tr>\n",
       "      <th>400516333819</th>\n",
       "      <td>6.281760</td>\n",
       "      <td>-0.000706</td>\n",
       "      <td>0.1937</td>\n",
       "      <td>4.005163e+11</td>\n",
       "      <td>6.281844</td>\n",
       "      <td>-0.070480</td>\n",
       "      <td>0.1937</td>\n",
       "    </tr>\n",
       "  </tbody>\n",
       "</table>\n",
       "<p>392 rows × 7 columns</p>\n",
       "</div>"
      ],
      "text/plain": [
       "               raJ2000  decJ2000  redshift  galIdFromBase   raJ2000  decJ2000  \\\n",
       "Id                                                                              \n",
       "3439          0.001344  0.001715    0.0564   3.439000e+03  0.001664 -0.069568   \n",
       "9627          0.001243  0.000790    0.1237   9.627000e+03  0.001551 -0.069453   \n",
       "10445         0.001709  0.001086    0.0896   1.044500e+04  0.001174 -0.069736   \n",
       "10626         0.001705  0.001203    0.1496   1.062600e+04  0.001281 -0.069714   \n",
       "16122              NaN       NaN       NaN            NaN  0.001292 -0.069709   \n",
       "29244         0.001486  0.000957    0.1485   2.924400e+04  0.001584 -0.069751   \n",
       "29271         0.001300  0.001029    0.1749   2.927100e+04       NaN       NaN   \n",
       "30339         0.001583  0.001242    0.1743   3.033900e+04  0.001614 -0.069543   \n",
       "30473         0.001365  0.001316    0.1689   3.047300e+04  0.001731 -0.069670   \n",
       "31250         0.001348  0.001610    0.1801   3.125000e+04  0.001087 -0.069684   \n",
       "31671         0.001377  0.001635    0.1906   3.167100e+04  0.001711 -0.069042   \n",
       "32093         0.001211  0.001177    0.1975   3.209300e+04  0.001240 -0.069182   \n",
       "57541         0.001653  0.001005    0.1974   5.754100e+04  0.001386 -0.069103   \n",
       "58072         0.001744  0.000207    0.1337   5.807200e+04  0.001324 -0.069091   \n",
       "97251         0.001632  0.000322    0.1493   9.725100e+04  0.001480 -0.069014   \n",
       "99341         0.001256  0.000037    0.1742   9.934100e+04  0.001243 -0.069220   \n",
       "113660        0.001363  0.000060    0.1761   1.136600e+05  0.001322 -0.069528   \n",
       "156127        0.001374  0.000065    0.1737   1.561270e+05  0.001636 -0.069093   \n",
       "156407        0.001665  0.000023    0.1783   1.564070e+05  0.001271 -0.069370   \n",
       "161568        0.001694  0.000232    0.1736   1.615680e+05  0.001163 -0.068984   \n",
       "251198        0.001169  0.000089    0.0969   2.511980e+05  0.001630 -0.068688   \n",
       "255810        0.001321  0.000592    0.1489   2.558100e+05  0.001627 -0.068572   \n",
       "257045        0.001466  0.000671    0.1470   2.570450e+05  0.001407 -0.068818   \n",
       "257480        0.001405  0.000683    0.1562   2.574800e+05       NaN       NaN   \n",
       "257725        0.001560  0.000761    0.1623   2.577250e+05  0.001741 -0.068676   \n",
       "396713        0.001323  0.000553    0.1595   3.967130e+05  0.001220 -0.068745   \n",
       "405446        0.001403  0.000246    0.1793   4.054460e+05  0.001505 -0.068533   \n",
       "406747        0.001715  0.000682    0.1910   4.067470e+05  0.001286 -0.068458   \n",
       "407260        0.001352  0.000404    0.1953   4.072600e+05       NaN       NaN   \n",
       "407422        0.000087  0.001020    0.0789   4.074220e+05       NaN       NaN   \n",
       "...                ...       ...       ...            ...       ...       ...   \n",
       "400513397966  6.282224  0.000063    0.1650   4.005134e+11  6.282307 -0.069710   \n",
       "400513398017  6.282229  0.000044    0.1645   4.005134e+11       NaN       NaN   \n",
       "400513398170  6.282477  0.001523    0.1651   4.005134e+11  6.282311 -0.069729   \n",
       "400513439026  6.283086  0.000924    0.1632   4.005134e+11  6.282557 -0.068250   \n",
       "400513467186  6.282845  0.000545    0.1755   4.005135e+11  6.283169 -0.068847   \n",
       "400513553306  6.282443  0.001140    0.1762   4.005136e+11  6.282928 -0.069226   \n",
       "400514004645  6.282627  0.000344    0.1823   4.005140e+11  6.282523 -0.068632   \n",
       "400514010322  6.282950  0.001477    0.1826   4.005140e+11  6.282710 -0.069428   \n",
       "400514044178  6.282998  0.000889    0.1795   4.005140e+11  6.283031 -0.068294   \n",
       "400514045595  6.282056  0.000205    0.1882   4.005140e+11  6.283080 -0.068882   \n",
       "400514068483  6.282115  0.000318    0.1898   4.005141e+11  6.282138 -0.069569   \n",
       "400514207817  6.282382  0.001194    0.1846   4.005142e+11  6.282197 -0.069455   \n",
       "400514208367       NaN       NaN       NaN            NaN  6.282462 -0.068578   \n",
       "400514645094  6.282571  0.000964    0.1947   4.005146e+11  6.282652 -0.068808   \n",
       "400514650444  6.282611  0.000376    0.1906   4.005147e+11  6.282694 -0.069396   \n",
       "400514651757  6.282820  0.000906    0.1949   4.005147e+11  6.282902 -0.068866   \n",
       "400514672142  6.282388  0.001563    0.1987   4.005147e+11  6.282468 -0.068210   \n",
       "400514798352  6.282968  0.000220    0.1982   4.005148e+11  6.283052 -0.069552   \n",
       "400515171711  6.282433  0.001069    0.1965   4.005152e+11  6.282514 -0.068704   \n",
       "400515171808  6.283006  0.000749    0.1978   4.005152e+11  6.283089 -0.069022   \n",
       "400515197135  6.282012 -0.000680    0.0756   4.005152e+11  6.282096 -0.070454   \n",
       "400515249924  6.282009 -0.000462    0.1088   4.005152e+11  6.282092 -0.070236   \n",
       "400515372269  6.281896 -0.000523    0.0873   4.005154e+11  6.281979 -0.070296   \n",
       "400515735756       NaN       NaN       NaN            NaN  6.281888 -0.070370   \n",
       "400515780440  6.281804 -0.000596    0.0887   4.005158e+11  6.281847 -0.070205   \n",
       "400515783275  6.281764 -0.000432    0.0876   4.005158e+11       NaN       NaN   \n",
       "400515804438  6.281835 -0.000471    0.1583   4.005158e+11  6.281918 -0.070245   \n",
       "400516278531  6.281758 -0.000738    0.1603   4.005163e+11  6.281841 -0.070512   \n",
       "400516279816  6.281958 -0.000376    0.1911   4.005163e+11  6.282041 -0.070150   \n",
       "400516333819  6.281760 -0.000706    0.1937   4.005163e+11  6.281844 -0.070480   \n",
       "\n",
       "              redshift  \n",
       "Id                      \n",
       "3439            0.1337  \n",
       "9627            0.1493  \n",
       "10445           0.1742  \n",
       "10626           0.1761  \n",
       "16122           0.1737  \n",
       "29244           0.1783  \n",
       "29271              NaN  \n",
       "30339           0.1736  \n",
       "30473           0.1789  \n",
       "31250           0.0969  \n",
       "31671           0.1187  \n",
       "32093           0.1489  \n",
       "57541           0.1470  \n",
       "58072           0.1562  \n",
       "97251           0.1623  \n",
       "99341           0.1595  \n",
       "113660          0.1793  \n",
       "156127          0.1910  \n",
       "156407          0.1953  \n",
       "161568          0.1237  \n",
       "251198          0.0896  \n",
       "255810          0.1496  \n",
       "257045          0.1485  \n",
       "257480             NaN  \n",
       "257725          0.1499  \n",
       "396713          0.1749  \n",
       "405446          0.1743  \n",
       "406747          0.1689  \n",
       "407260             NaN  \n",
       "407422             NaN  \n",
       "...                ...  \n",
       "400513397966    0.1650  \n",
       "400513398017       NaN  \n",
       "400513398170    0.1645  \n",
       "400513439026    0.1651  \n",
       "400513467186    0.1632  \n",
       "400513553306    0.1755  \n",
       "400514004645    0.1762  \n",
       "400514010322    0.1823  \n",
       "400514044178    0.1826  \n",
       "400514045595    0.1795  \n",
       "400514068483    0.1882  \n",
       "400514207817    0.1898  \n",
       "400514208367    0.1846  \n",
       "400514645094    0.1947  \n",
       "400514650444    0.1906  \n",
       "400514651757    0.1949  \n",
       "400514672142    0.1987  \n",
       "400514798352    0.1982  \n",
       "400515171711    0.1965  \n",
       "400515171808    0.1978  \n",
       "400515197135    0.0756  \n",
       "400515249924    0.1088  \n",
       "400515372269    0.0873  \n",
       "400515735756    0.0887  \n",
       "400515780440    0.0876  \n",
       "400515783275       NaN  \n",
       "400515804438    0.1583  \n",
       "400516278531    0.1603  \n",
       "400516279816    0.1911  \n",
       "400516333819    0.1937  \n",
       "\n",
       "[392 rows x 7 columns]"
      ]
     },
     "execution_count": 402,
     "metadata": {},
     "output_type": "execute_result"
    }
   ],
   "source": [
    "merged"
   ]
  },
  {
   "cell_type": "code",
   "execution_count": 373,
   "metadata": {
    "collapsed": false
   },
   "outputs": [],
   "source": [
    "galtileIDs = galTileID(21, galIdFromBase)"
   ]
  },
  {
   "cell_type": "code",
   "execution_count": 376,
   "metadata": {
    "collapsed": true
   },
   "outputs": [],
   "source": [
    "galTileID_1 = gTile1_df.index.values\n",
    "galTileID_1.sort()"
   ]
  },
  {
   "cell_type": "code",
   "execution_count": 378,
   "metadata": {
    "collapsed": false
   },
   "outputs": [
    {
     "data": {
      "text/plain": [
       "array([2100003439, 2100009627, 2100010445, 2100010626, 2100016122,\n",
       "       2100029244, 2100030339, 2100030473, 2100031250, 2100031671])"
      ]
     },
     "execution_count": 378,
     "metadata": {},
     "output_type": "execute_result"
    }
   ],
   "source": [
    "galTileID_1[:10]"
   ]
  },
  {
   "cell_type": "code",
   "execution_count": 381,
   "metadata": {
    "collapsed": false
   },
   "outputs": [
    {
     "name": "stdout",
     "output_type": "stream",
     "text": [
      "371 372\n"
     ]
    }
   ],
   "source": [
    "print(len(galtileIDs), len(galTileID_1))"
   ]
  },
  {
   "cell_type": "code",
   "execution_count": 383,
   "metadata": {
    "collapsed": false
   },
   "outputs": [
    {
     "data": {
      "text/plain": [
       "20"
      ]
     },
     "execution_count": 383,
     "metadata": {},
     "output_type": "execute_result"
    }
   ],
   "source": [
    "len(set(galtileIDs) - set(galTileID_1))"
   ]
  },
  {
   "cell_type": "code",
   "execution_count": 385,
   "metadata": {
    "collapsed": false
   },
   "outputs": [
    {
     "data": {
      "text/plain": [
       "21"
      ]
     },
     "execution_count": 385,
     "metadata": {},
     "output_type": "execute_result"
    }
   ],
   "source": [
    "len(set(galTileID_1) - set(galtileIDs))"
   ]
  },
  {
   "cell_type": "code",
   "execution_count": 360,
   "metadata": {
    "collapsed": true
   },
   "outputs": [],
   "source": [
    "y = gBase_df.index.values\n",
    "y.sort()"
   ]
  },
  {
   "cell_type": "code",
   "execution_count": 361,
   "metadata": {
    "collapsed": false
   },
   "outputs": [
    {
     "data": {
      "text/plain": [
       "array([2200003439, 2200009627, 2200010445, 2200010626, 2200029244,\n",
       "       2200029271, 2200030339, 2200030473, 2200031250, 2200031671])"
      ]
     },
     "execution_count": 361,
     "metadata": {},
     "output_type": "execute_result"
    }
   ],
   "source": [
    "y[:10]"
   ]
  },
  {
   "cell_type": "code",
   "execution_count": 363,
   "metadata": {
    "collapsed": false
   },
   "outputs": [
    {
     "data": {
      "text/plain": [
       "array([2200000259, 2200000371, 2200000416, 2200001083, 2200001605,\n",
       "       2200001994, 2200002835, 2200002930, 2200003146, 2200003556])"
      ]
     },
     "execution_count": 363,
     "metadata": {},
     "output_type": "execute_result"
    }
   ],
   "source": [
    "galtileIDs[:10]"
   ]
  },
  {
   "cell_type": "code",
   "execution_count": null,
   "metadata": {
    "collapsed": true
   },
   "outputs": [],
   "source": []
  }
 ],
 "metadata": {
  "kernelspec": {
   "display_name": "Python 2",
   "language": "python",
   "name": "python2"
  },
  "language_info": {
   "codemirror_mode": {
    "name": "ipython",
    "version": 2
   },
   "file_extension": ".py",
   "mimetype": "text/x-python",
   "name": "python",
   "nbconvert_exporter": "python",
   "pygments_lexer": "ipython2",
   "version": "2.7.11"
  }
 },
 "nbformat": 4,
 "nbformat_minor": 0
}
