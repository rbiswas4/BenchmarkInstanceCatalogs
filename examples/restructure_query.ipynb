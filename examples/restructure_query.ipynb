{
 "cells": [
  {
   "cell_type": "markdown",
   "metadata": {},
   "source": [
    "The times taken to query the base galaxy Table using obsMetadata and instance Catalogs is much larger than the time to query the galaxy table on fatboy directly. This records timeit results for these queries"
   ]
  },
  {
   "cell_type": "markdown",
   "metadata": {},
   "source": [
    "## Setup"
   ]
  },
  {
   "cell_type": "code",
   "execution_count": 1,
   "metadata": {
    "collapsed": true
   },
   "outputs": [],
   "source": [
    "from __future__ import division, print_function, absolute_import"
   ]
  },
  {
   "cell_type": "code",
   "execution_count": 2,
   "metadata": {
    "collapsed": true
   },
   "outputs": [],
   "source": [
    "import time\n",
    "import os\n",
    "import pandas as pd\n",
    "import numpy as np"
   ]
  },
  {
   "cell_type": "code",
   "execution_count": 3,
   "metadata": {
    "collapsed": false
   },
   "outputs": [
    {
     "name": "stderr",
     "output_type": "stream",
     "text": [
      "/usr/local/manual/anaconda/lib/python2.7/site-packages/matplotlib/__init__.py:872: UserWarning: axes.color_cycle is deprecated and replaced with axes.prop_cycle; please use the latter.\n",
      "  warnings.warn(self.msg_depr % (key, alt_key))\n"
     ]
    }
   ],
   "source": [
    "%matplotlib inline\n",
    "import matplotlib.pyplot as plt\n",
    "from matplotlib.patches import Polygon\n",
    "import seaborn as sns\n",
    "sns.set()"
   ]
  },
  {
   "cell_type": "code",
   "execution_count": 4,
   "metadata": {
    "collapsed": false
   },
   "outputs": [
    {
     "name": "stderr",
     "output_type": "stream",
     "text": [
      "/Users/rbiswas/src/LSST/sims_catalogs_generation/python/lsst/sims/catalogs/generation/db/dbConnection.py:438: UserWarning: Duplicate object type id 25 specified: \n",
      "Output object ids may not be unique.\n",
      "This may not be a problem if you do not want globally unique id values\n",
      "  'want globally unique id values')\n",
      "/Users/rbiswas/src/LSST/sims_catalogs_generation/python/lsst/sims/catalogs/generation/db/dbConnection.py:438: UserWarning: Duplicate object type id 40 specified: \n",
      "Output object ids may not be unique.\n",
      "This may not be a problem if you do not want globally unique id values\n",
      "  'want globally unique id values')\n"
     ]
    }
   ],
   "source": [
    "from lsst.sims.catalogs.measures.instance import InstanceCatalog\n",
    "import lsst.sims.catUtils.baseCatalogModels as bcm\n",
    "from lsst.sims.catalogs.generation.db import CatalogDBObject, DBObject\n",
    "from lsst.sims.catUtils.baseCatalogModels.GalaxyModels import GalaxyTileObj, GalaxyObj\n",
    "from lsst.sims.utils import ObservationMetaData"
   ]
  },
  {
   "cell_type": "markdown",
   "metadata": {},
   "source": [
    "## Observation Meta Data"
   ]
  },
  {
   "cell_type": "code",
   "execution_count": 78,
   "metadata": {
    "collapsed": true
   },
   "outputs": [],
   "source": [
    "# Shifted to corner\n",
    "observerMetaData_2 = ObservationMetaData(boundType='box',\n",
    "                                  pointingRA=2.,\n",
    "                                  pointingDec=2.,\n",
    "                                  boundLength=1.)"
   ]
  },
  {
   "cell_type": "code",
   "execution_count": 79,
   "metadata": {
    "collapsed": true
   },
   "outputs": [],
   "source": [
    "# Shifted to corner\n",
    "observerMetaData_1 = ObservationMetaData(boundType='box',\n",
    "                                  pointingRA=2.,\n",
    "                                  pointingDec=2.,\n",
    "                                  boundLength=2.)"
   ]
  },
  {
   "cell_type": "code",
   "execution_count": 80,
   "metadata": {
    "collapsed": true
   },
   "outputs": [],
   "source": [
    "# Original Base\n",
    "observerMetaData = ObservationMetaData(boundType='box',\n",
    "                                  pointingRA=0.,\n",
    "                                  pointingDec=0.,\n",
    "                                  boundLength=2.)"
   ]
  },
  {
   "cell_type": "code",
   "execution_count": 106,
   "metadata": {
    "collapsed": true
   },
   "outputs": [],
   "source": [
    "# Shifted to corner\n",
    "observerMetaData_3 = ObservationMetaData(boundType='box',\n",
    "                                  pointingRA=2.,\n",
    "                                  pointingDec=2.,\n",
    "                                  boundLength=0.5)"
   ]
  },
  {
   "cell_type": "code",
   "execution_count": 107,
   "metadata": {
    "collapsed": false
   },
   "outputs": [
    {
     "data": {
      "text/plain": [
       "2.0"
      ]
     },
     "execution_count": 107,
     "metadata": {},
     "output_type": "execute_result"
    }
   ],
   "source": [
    "observerMetaData.boundLength"
   ]
  },
  {
   "cell_type": "code",
   "execution_count": 124,
   "metadata": {
    "collapsed": true
   },
   "outputs": [],
   "source": [
    "def queryObsMetaData(obsMetaData):\n",
    "    ra, dec, size = obsMetaData.pointingRA, obsMetaData.pointingDec, obsMetaData.boundLength\n",
    "    raSize , decSize = (size, size)\n",
    "    coords = np.asarray([ra - size, ra + size, dec - size, dec + size])\n",
    "    \n",
    "    coordTrans = np.remainder(coords + size, np.repeat(4., 4)) - size\n",
    "    coordWraps =  np.floor_divide(coords[[1,3]] - coords[[0,2]] , (4,4))\n",
    "    querylims = coordTrans[2], coordTrans[0], coordTrans[3], coordTrans[1]\n",
    "    \n",
    "    \n",
    "    if coordTrans[2] < coordTrans[0]:\n",
    "        print('split')\n",
    "    if coordTrans[3] < coordTrans[1]:\n",
    "        print('split')\n",
    "        \n",
    "    #bounds = [Polygon(vert, fill=False, lw=2, alpha=1., ls='dashed') for vert in verts]\n",
    "    return coords, coordTrans, coordWraps, querylims\n"
   ]
  },
  {
   "cell_type": "code",
   "execution_count": 125,
   "metadata": {
    "collapsed": false
   },
   "outputs": [
    {
     "data": {
      "text/plain": [
       "(array([-2.,  2., -2.,  2.]),\n",
       " array([-2., -2., -2., -2.]),\n",
       " array([ 1.,  1.]),\n",
       " (-2.0, -2.0, -2.0, -2.0))"
      ]
     },
     "execution_count": 125,
     "metadata": {},
     "output_type": "execute_result"
    }
   ],
   "source": [
    "queryObsMetaData(observerMetaData)"
   ]
  },
  {
   "cell_type": "code",
   "execution_count": 126,
   "metadata": {
    "collapsed": false
   },
   "outputs": [
    {
     "data": {
      "text/plain": [
       "(array([ 0.,  4.,  0.,  4.]),\n",
       " array([ 0.,  0.,  0.,  0.]),\n",
       " array([ 1.,  1.]),\n",
       " (0.0, 0.0, 0.0, 0.0))"
      ]
     },
     "execution_count": 126,
     "metadata": {},
     "output_type": "execute_result"
    }
   ],
   "source": [
    "queryObsMetaData(observerMetaData_1)"
   ]
  },
  {
   "cell_type": "code",
   "execution_count": 127,
   "metadata": {
    "collapsed": false
   },
   "outputs": [
    {
     "data": {
      "text/plain": [
       "(array([ 1.,  3.,  1.,  3.]),\n",
       " array([ 1., -1.,  1., -1.]),\n",
       " array([ 0.,  0.]),\n",
       " (1.0, 1.0, -1.0, -1.0))"
      ]
     },
     "execution_count": 127,
     "metadata": {},
     "output_type": "execute_result"
    }
   ],
   "source": [
    "queryObsMetaData(observerMetaData_2)"
   ]
  },
  {
   "cell_type": "code",
   "execution_count": 128,
   "metadata": {
    "collapsed": false
   },
   "outputs": [
    {
     "data": {
      "text/plain": [
       "(array([ 1.5,  2.5,  1.5,  2.5]),\n",
       " array([ 1.5,  2.5,  1.5,  2.5]),\n",
       " array([ 0.,  0.]),\n",
       " (1.5, 1.5, 2.5, 2.5))"
      ]
     },
     "execution_count": 128,
     "metadata": {},
     "output_type": "execute_result"
    }
   ],
   "source": [
    "queryObsMetaData(observerMetaData_3)"
   ]
  },
  {
   "cell_type": "code",
   "execution_count": 129,
   "metadata": {
    "collapsed": false
   },
   "outputs": [
    {
     "data": {
      "text/plain": [
       "(array([ 1.5,  2.5,  1.5,  2.5]),\n",
       " array([ 1.5,  2.5,  1.5,  2.5]),\n",
       " array([ 0.,  0.]),\n",
       " (1.5, 1.5, 2.5, 2.5))"
      ]
     },
     "execution_count": 129,
     "metadata": {},
     "output_type": "execute_result"
    }
   ],
   "source": [
    "queryObsMetaData(observerMetaData_3)"
   ]
  },
  {
   "cell_type": "code",
   "execution_count": 30,
   "metadata": {
    "collapsed": false
   },
   "outputs": [],
   "source": [
    "def tileObsMetaData(obsMetaData, num):\n",
    "    ra, dec, size = obsMetaData.pointingRA, obsMetaData.pointingDec, obsMetaData.boundLength\n",
    "    blen = size / num\n",
    "    pras = np.arange(ra - size, ra + size, 2.0 *blen) + blen\n",
    "    pdecs = np.arange(dec - size, dec + size, 2.0 * blen) + blen\n",
    "    \n",
    "    coords = np.dstack(np.meshgrid(pras, pdecs)).reshape(len(pras) * len(pdecs), 2)\n",
    "    obsmdata = [ObservationMetaData(boundType='box',\n",
    "                                  pointingRA=coords[i, 0],\n",
    "                                  pointingDec=coords[i, 1],\n",
    "                                  boundLength=blen) for i in range(len(coords))]\n",
    "    # return coords\n",
    "    diffvec = np.array([blen, blen])\n",
    "    transvec = np.array([1, -1])\n",
    "    verts = [[coord - diffvec, coord - transvec * diffvec, coord + diffvec, coord + diffvec *transvec] for coord in coords]  \n",
    "    bounds = [Polygon(vert, fill=False, lw=2, alpha=1., ls='dashed') for vert in verts]\n",
    "    return obsmdata, coords, bounds\n",
    "\n"
   ]
  },
  {
   "cell_type": "code",
   "execution_count": 31,
   "metadata": {
    "collapsed": false
   },
   "outputs": [
    {
     "data": {
      "text/plain": [
       "(-2.0, 2.0)"
      ]
     },
     "execution_count": 31,
     "metadata": {},
     "output_type": "execute_result"
    },
    {
     "data": {
      "image/png": "[encoded data removed]",
      "text/plain": [
       "<matplotlib.figure.Figure at 0x121160bd0>"
      ]
     },
     "metadata": {},
     "output_type": "display_data"
    }
   ],
   "source": [
    "tiledObsMD, coords, bounds = tileObsMetaData(observerMetaData, 3)\n",
    "fig, ax =plt.subplots()\n",
    "ax.scatter(coords[:,0], coords[:, 1])\n",
    "for bound in bounds:\n",
    "    ax.add_patch(bound)\n",
    "ax.set_xlim(-2., 2.)\n",
    "ax.set_ylim(-2., 2.)"
   ]
  },
  {
   "cell_type": "code",
   "execution_count": null,
   "metadata": {
    "collapsed": false
   },
   "outputs": [],
   "source": [
    "len(tiledObsMD)"
   ]
  },
  {
   "cell_type": "code",
   "execution_count": null,
   "metadata": {
    "collapsed": false
   },
   "outputs": [],
   "source": [
    "class galCopy(InstanceCatalog):\n",
    "    column_outputs = ['galtileid', 'raJ2000', 'decJ2000', 'redshift']#, 'a_d', 'b_d', 'pa_disk', 'mass_stellar', 'absmag_r_total']\n",
    "    override_formats = {'raJ2000': '%8e', 'decJ2000': '%8e', 'a_d': '%8e', 'b_d': '%8e', 'pa_disk': '%8e', \n",
    "                        'mass_stellar': '%8e', 'absmag_r_total': '%8e'}"
   ]
  },
  {
   "cell_type": "code",
   "execution_count": null,
   "metadata": {
    "collapsed": true
   },
   "outputs": [],
   "source": [
    "def writeCat(obsMD=tiledObsMD, redshiftmax=0.4, fname='gB-test', chunkSize=None):\n",
    "    constr = 'redshift < {0}'.format(redshiftmax)\n",
    "    galaxyTiled = GalaxyTileObj()\n",
    "    print(len(obsMD))\n",
    "    filenames = []\n",
    "    for i, obsMetaData in enumerate(obsMD):\n",
    "        filename = fname  + '{}'.format(i) + '.csv'\n",
    "        filenames.append(filename)\n",
    "        galaxyBase = galCopy(galaxyTiled, obs_metadata=obsMetaData, constraint=constr)\n",
    "        galaxyBase.write_catalog(filename, chunkSize)\n",
    "    return filenames"
   ]
  },
  {
   "cell_type": "code",
   "execution_count": null,
   "metadata": {
    "collapsed": true
   },
   "outputs": [],
   "source": [
    "# No need\n",
    "def writeCatBase(redshiftmax=0.4, fname='gB-test.csv', chunkSize=None):\n",
    "    constr = 'redshift < {0}'.format(redshiftmax)\n",
    "    galaxyTiled = GalaxyObj()\n",
    "    galaxyBase = galBaseCopy(galaxyTiled, obs_metadata=obsMetaData, constraint=constr)\n",
    "    galaxyBase.write_catalog(fname, chunkSize)"
   ]
  },
  {
   "cell_type": "code",
   "execution_count": null,
   "metadata": {
    "collapsed": true
   },
   "outputs": [],
   "source": [
    "tileObsMD, coords, bounds = tileObsMetaData(observerMetaData, 1)"
   ]
  },
  {
   "cell_type": "code",
   "execution_count": null,
   "metadata": {
    "collapsed": false
   },
   "outputs": [],
   "source": [
    "len(tileObsMD)"
   ]
  },
  {
   "cell_type": "code",
   "execution_count": null,
   "metadata": {
    "collapsed": false
   },
   "outputs": [],
   "source": [
    "%%timeit\n",
    "chunksize = None\n",
    "tstart = time.time()\n",
    "fnames = writeCat(obsMD=tileObsMD, chunkSize=chunksize)\n",
    "print(fnames)\n",
    "tend = time.time()\n",
    "print(tend - tstart)\n",
    "numlines = 0"
   ]
  },
  {
   "cell_type": "code",
   "execution_count": null,
   "metadata": {
    "collapsed": false
   },
   "outputs": [],
   "source": [
    "tileObsMD, coords, bounds = tileObsMetaData(observerMetaData, 2)"
   ]
  },
  {
   "cell_type": "code",
   "execution_count": null,
   "metadata": {
    "collapsed": false
   },
   "outputs": [],
   "source": [
    "%%timeit\n",
    "chunksize = None\n",
    "tstart = time.time()\n",
    "fnames = writeCat(obsMD=tileObsMD, chunkSize=chunksize)\n",
    "print(fnames)\n",
    "tend = time.time()\n",
    "print(tend - tstart)\n",
    "numlines = 0"
   ]
  },
  {
   "cell_type": "code",
   "execution_count": null,
   "metadata": {
    "collapsed": false
   },
   "outputs": [],
   "source": [
    "tileObsMD, coords, bounds = tileObsMetaData(observerMetaData, 3)"
   ]
  },
  {
   "cell_type": "code",
   "execution_count": null,
   "metadata": {
    "collapsed": false
   },
   "outputs": [],
   "source": [
    "%%timeit\n",
    "chunksize = None\n",
    "tstart = time.time()\n",
    "fnames = writeCat(obsMD=tileObsMD, chunkSize=chunksize)\n",
    "print(fnames)\n",
    "tend = time.time()\n",
    "print(tend - tstart)\n",
    "numlines = 0"
   ]
  },
  {
   "cell_type": "code",
   "execution_count": null,
   "metadata": {
    "collapsed": false
   },
   "outputs": [],
   "source": [
    "query = \"\"\"EXECUTE [LSSTCATSIM].[dbo].[GalaxySearch2015l]\n",
    "                   @ApertureStr = 'REGION RECT J2000 358.000000 -2.000000 2.000000 2.000000', @ColumnNames = 'dec as decJ2000,ra as raJ2000,redshift as redshift',\n",
    "                   @ComponentSubset = 'ALL' , @WhereClause = 'redshift < 0.4’\n",
    "        \"\"\"\n"
   ]
  },
  {
   "cell_type": "code",
   "execution_count": null,
   "metadata": {
    "collapsed": false
   },
   "outputs": [],
   "source": [
    "numLines = 1\n",
    "for i in range(9):\n",
    "    fname = \"gB-test{}.csv\".format(i)\n",
    "    with open(fname, 'r') as fp:\n",
    "        numLines += sum(1 for line in fp) - 1 "
   ]
  },
  {
   "cell_type": "code",
   "execution_count": null,
   "metadata": {
    "collapsed": false
   },
   "outputs": [],
   "source": [
    "print(numLines)"
   ]
  },
  {
   "cell_type": "code",
   "execution_count": null,
   "metadata": {
    "collapsed": false
   },
   "outputs": [],
   "source": [
    "!tail gB-test0.csv"
   ]
  },
  {
   "cell_type": "code",
   "execution_count": null,
   "metadata": {
    "collapsed": false
   },
   "outputs": [],
   "source": [
    "!wc -l *.csv"
   ]
  },
  {
   "cell_type": "code",
   "execution_count": null,
   "metadata": {
    "collapsed": true
   },
   "outputs": [],
   "source": [
    "def writeDBObjBase(redshiftmax=0.4, fname='gB-test.csv', chunkSize=None):\n",
    "    constr = 'redshift < {0}'.format(redshiftmax)\n",
    "    galaxyBase = GalaxyTileObj()\n",
    "    # galDB = dbobject = DBObject(database=config.database, driver='mssql+pymssql', host=config.host, port=config.port, connection=None)\n",
    "    #galaxyBase = galBaseCopy(galaxyTiled, obs_metadata=obsMetaData, constraint=constr)\n",
    "    query = \"\"\"SELECT galtileid, raJ2000, decJ2000, redshift FROM galaxy WHERE redshift < 0.4 AND raJ2000 < 2 and raJ2000 > -2 and decJ2000 < 2 and decJ2000 > -2\"\"\"\n",
    "    x = galaxyBase.execute_arbitrary(query)\n",
    "    print(len(x), len(x[0]))\n",
    "    #galaxyBase.write_catalog(fname, chunkSize)"
   ]
  },
  {
   "cell_type": "code",
   "execution_count": null,
   "metadata": {
    "collapsed": true
   },
   "outputs": [],
   "source": [
    "def writeDBObjBase(redshiftmax=0.4, fname='gB-test.csv', chunkSize=None):\n",
    "    constr = 'redshift < {0}'.format(redshiftmax)\n",
    "    galaxyBase = GalaxyObj()\n",
    "    # galDB = dbobject = DBObject(database=config.database, driver='mssql+pymssql', host=config.host, port=config.port, connection=None)\n",
    "    #galaxyBase = galBaseCopy(galaxyTiled, obs_metadata=obsMetaData, constraint=constr)\n",
    "    query = \"\"\"SELECT id, ra, dec, redshift WHERE redshift < 0.4 AND ra < 2 and ra > -2 and dec < 2 and dec > -2\"\"\"\n",
    "    x = galaxyBase.execute_arbitrary(query)\n",
    "    print(len(x), len(x[0]))\n",
    "    #galaxyBase.write_catalog(fname, chunkSize)"
   ]
  },
  {
   "cell_type": "code",
   "execution_count": null,
   "metadata": {
    "collapsed": false
   },
   "outputs": [],
   "source": [
    "%%timeit\n",
    "chunksize = None\n",
    "tstart = time.time()\n",
    "writeDBObjBase(chunkSize=chunksize)\n",
    "tend = time.time()\n",
    "print(tend - tstart)"
   ]
  },
  {
   "cell_type": "code",
   "execution_count": null,
   "metadata": {
    "collapsed": false
   },
   "outputs": [],
   "source": [
    "%%timeit\n",
    "chunksize = None\n",
    "tstart = time.time()\n",
    "writeCat(chunkSize=chunksize)\n",
    "tend = time.time()\n",
    "print(tend - tstart)"
   ]
  },
  {
   "cell_type": "code",
   "execution_count": null,
   "metadata": {
    "collapsed": false
   },
   "outputs": [],
   "source": [
    "%%timeit\n",
    "chunksize = 50000\n",
    "tstart = time.time()\n",
    "writeCat(chunkSize=chunksize)\n",
    "tend = time.time()\n",
    "print(tend - tstart)"
   ]
  },
  {
   "cell_type": "code",
   "execution_count": null,
   "metadata": {
    "collapsed": false
   },
   "outputs": [],
   "source": [
    "%%timeit\n",
    "chunksize = 500000\n",
    "tstart = time.time()\n",
    "writeCat(chunkSize=chunksize)\n",
    "tend = time.time()\n",
    "print(tend - tstart)"
   ]
  },
  {
   "cell_type": "code",
   "execution_count": null,
   "metadata": {
    "collapsed": false
   },
   "outputs": [],
   "source": [
    "%%timeit\n",
    "chunksize = 5000\n",
    "tstart = time.time()\n",
    "writeCat(chunkSize=chunksize)\n",
    "tend = time.time()\n",
    "print(tend - tstart)"
   ]
  },
  {
   "cell_type": "code",
   "execution_count": null,
   "metadata": {
    "collapsed": false
   },
   "outputs": [],
   "source": [
    "%%timeit\n",
    "chunksize = 50\n",
    "tstart = time.time()\n",
    "writeCat(chunkSize=chunksize)\n",
    "tend = time.time()\n",
    "print(tend - tstart)"
   ]
  },
  {
   "cell_type": "code",
   "execution_count": null,
   "metadata": {
    "collapsed": true
   },
   "outputs": [],
   "source": []
  },
  {
   "cell_type": "code",
   "execution_count": null,
   "metadata": {
    "collapsed": true
   },
   "outputs": [],
   "source": [
    "# No need\n",
    "class galBaseCopy(InstanceCatalog):\n",
    "    column_outputs = ['id', 'raJ2000', 'decJ2000', 'redshift']#, 'a_d', 'b_d', 'pa_disk', 'mass_stellar', 'absmag_r_total']\n",
    "    override_formats = {'raJ2000': '%8e', 'decJ2000': '%8e', 'a_d': '%8e', 'b_d': '%8e', 'pa_disk': '%8e', \n",
    "                        'mass_stellar': '%8e', 'absmag_r_total': '%8e'}"
   ]
  },
  {
   "cell_type": "markdown",
   "metadata": {},
   "source": [
    "## Direct query with fetch"
   ]
  },
  {
   "cell_type": "code",
   "execution_count": 7,
   "metadata": {
    "collapsed": true
   },
   "outputs": [],
   "source": [
    "from lsst.utils import getPackageDir\n",
    "from lsst.daf.persistence import DbAuth\n",
    "import lsst.pex.config as pexConfig\n",
    "import pymssql"
   ]
  },
  {
   "cell_type": "code",
   "execution_count": null,
   "metadata": {
    "collapsed": true
   },
   "outputs": [],
   "source": [
    "def build_queries(obsMetaData):\n",
    "    \n",
    "    "
   ]
  },
  {
   "cell_type": "code",
   "execution_count": 23,
   "metadata": {
    "collapsed": false
   },
   "outputs": [
    {
     "name": "stdout",
     "output_type": "stream",
     "text": [
      "7158432 4\n",
      "26.2782211304\n",
      "7158432 4\n",
      "26.472784996\n",
      "7158432 4\n",
      "27.5812399387\n",
      "7158432 4\n",
      "25.6039869785\n",
      "1 loops, best of 3: 25.6 s per loop\n"
     ]
    }
   ],
   "source": [
    "%%timeit\n",
    "tstart = time.time()\n",
    "config = bcm.BaseCatalogConfig()\n",
    "config.load(os.path.join(getPackageDir(\"sims_catUtils\"), \"config\", \"db.py\"))\n",
    "DBConnection = pymssql.connect(user=DbAuth.username(config.host, config.port),\n",
    "                               password=DbAuth.password(config.host, config.port),\n",
    "                               database=config.database, port=config.port)\n",
    "db = DBConnection.cursor()\n",
    "query = \"\"\"SELECT id, ra, dec, redshift FROM galaxy WHERE redshift < 1.4 AND ra < 2 and ra > -2 and dec < 2 and dec > -2\"\"\"\n",
    "db.execute(query)\n",
    "x = db.fetchall()\n",
    "print(len(x), len(x[0]))\n",
    "tend = time.time()\n",
    "print(tend - tstart)"
   ]
  },
  {
   "cell_type": "code",
   "execution_count": 15,
   "metadata": {
    "collapsed": false
   },
   "outputs": [
    {
     "name": "stdout",
     "output_type": "stream",
     "text": [
      "56924 4\n",
      "14.428352356\n",
      "56924 4\n",
      "12.6928939819\n",
      "56924 4\n",
      "12.1693763733\n",
      "56924 4\n",
      "13.5419692993\n",
      "1 loops, best of 3: 761 ms per loop\n"
     ]
    }
   ],
   "source": [
    "%%timeit\n",
    "tstart = time.time()\n",
    "config = bcm.BaseCatalogConfig()\n",
    "config.load(os.path.join(getPackageDir(\"sims_catUtils\"), \"config\", \"db.py\"))\n",
    "DBConnection = pymssql.connect(user=DbAuth.username(config.host, config.port),\n",
    "                               password=DbAuth.password(config.host, config.port),\n",
    "                               database=config.database, port=config.port)\n",
    "db = DBConnection.cursor()\n",
    "query = \"\"\"SELECT id, ra, dec, redshift FROM galaxy WHERE redshift < 0.4 AND ra < 1 and ra > 0 and dec < 1 and dec > 0\"\"\"\n",
    "db.execute(query)\n",
    "x = db.fetchall()\n",
    "print(len(x), len(x[0]))\n",
    "tend = time.time()\n",
    "print((tend - tstart) * 16.)"
   ]
  },
  {
   "cell_type": "code",
   "execution_count": null,
   "metadata": {
    "collapsed": true
   },
   "outputs": [],
   "source": [
    "%%timeit\n",
    "\n",
    "tstart = time.time()\n",
    "config = bcm.BaseCatalogConfig()\n",
    "config.load(os.path.join(getPackageDir(\"sims_catUtils\"), \"config\", \"db.py\"))\n",
    "DBConnection = pymssql.connect(user=DbAuth.username(config.host, config.port),\n",
    "                               password=DbAuth.password(config.host, config.port),\n",
    "                               database=config.database, port=config.port)\n",
    "db = DBConnection.cursor()\n",
    "query = \"\"\"SELECT id, ra, dec, redshift FROM galaxy WHERE redshift < 0.4 AND ra < 2 and ra > -2 and dec < 2 and dec > -2\"\"\"\n",
    "db.execute(query)\n",
    "x = db.fetchall()\n",
    "print(len(x), len(x[0]))\n",
    "tend = time.time()\n",
    "print(tend - tstart)"
   ]
  },
  {
   "cell_type": "code",
   "execution_count": 17,
   "metadata": {
    "collapsed": true
   },
   "outputs": [],
   "source": [
    "config = bcm.BaseCatalogConfig()\n",
    "config.load(os.path.join(getPackageDir(\"sims_catUtils\"), \"config\", \"db.py\"))\n",
    "DBConnection = pymssql.connect(user=DbAuth.username(config.host, config.port),\n",
    "                               password=DbAuth.password(config.host, config.port),\n",
    "                               database=config.database, port=config.port)\n",
    "\n"
   ]
  },
  {
   "cell_type": "code",
   "execution_count": 22,
   "metadata": {
    "collapsed": false
   },
   "outputs": [
    {
     "name": "stdout",
     "output_type": "stream",
     "text": [
      "453911 4\n",
      "39.7260627747\n",
      "453911 4\n",
      "46.1514549255\n",
      "453911 4\n",
      "38.8499031067\n",
      "453911 4\n",
      "38.8650894165\n",
      "1 loops, best of 3: 2.43 s per loop\n"
     ]
    }
   ],
   "source": [
    "%%timeit\n",
    "\n",
    "tstart = time.time()\n",
    "db = DBConnection.cursor()\n",
    "query = \"\"\"SELECT id, ra, dec, redshift FROM galaxy WHERE redshift < 1.4 AND ra < 1 and ra > -0 and dec < 1 and dec > -0\"\"\"\n",
    "db.execute(query)\n",
    "x = db.fetchall()\n",
    "print(len(x), len(x[0]))\n",
    "tend = time.time()\n",
    "print(16.0*(tend - tstart))"
   ]
  },
  {
   "cell_type": "code",
   "execution_count": null,
   "metadata": {
    "collapsed": false
   },
   "outputs": [],
   "source": [
    "%%timeit\n",
    "tstart = time.time()\n",
    "config = bcm.BaseCatalogConfig()\n",
    "config.load(os.path.join(getPackageDir(\"sims_catUtils\"), \"config\", \"db.py\"))\n",
    "DBConnection = pymssql.connect(user=DbAuth.username(config.host, config.port),\n",
    "                               password=DbAuth.password(config.host, config.port),\n",
    "                               database=config.database, port=config.port)\n",
    "db = DBConnection.cursor()\n",
    "query = \"\"\"SELECT id, ra, dec, redshift FROM galaxy WHERE redshift < 0.4 AND ra < 2 and ra > -2 and dec < 2 and dec > -2\"\"\"\n",
    "db.execute(query)\n",
    "x = db.fetchall()\n",
    "print(len(x), len(x[0]))\n",
    "tend = time.time()\n",
    "print(tend - tstart)"
   ]
  },
  {
   "cell_type": "code",
   "execution_count": null,
   "metadata": {
    "collapsed": false
   },
   "outputs": [],
   "source": [
    "%%timeit\n",
    "tstart = time.time()\n",
    "config = bcm.BaseCatalogConfig()\n",
    "config.load(os.path.join(getPackageDir(\"sims_catUtils\"), \"config\", \"db.py\"))\n",
    "DBConnection = pymssql.connect(user=DbAuth.username(config.host, config.port),\n",
    "                               password=DbAuth.password(config.host, config.port),\n",
    "                               database=config.database, port=config.port)\n",
    "db = DBConnection.cursor()\n",
    "query = \"\"\"EXECUTE [LSSTCATSIM].[dbo].[GalaxySearch2015]\n",
    "                   @ApertureStr = 'REGION RECT J2000 358.000000 -2.000000 2.000000 2.000000', @ColumnNames = 'dec as decJ2000,ra as raJ2000,redshift as redshift',\n",
    "                   @ComponentSubset = 'ALL' , @WhereClause = 'redshift < 0.4'\n",
    "\"\"\"\n",
    "db.execute(query)\n",
    "x = db.fetchall()\n",
    "print(len(x), len(x[0]))\n",
    "tend = time.time()\n",
    "print(tend - tstart)"
   ]
  },
  {
   "cell_type": "code",
   "execution_count": null,
   "metadata": {
    "collapsed": false
   },
   "outputs": [],
   "source": [
    "%%timeit\n",
    "tstart = time.time()\n",
    "config = bcm.BaseCatalogConfig()\n",
    "config.load(os.path.join(getPackageDir(\"sims_catUtils\"), \"config\", \"db.py\"))\n",
    "DBConnection = pymssql.connect(user=DbAuth.username(config.host, config.port),\n",
    "                               password=DbAuth.password(config.host, config.port),\n",
    "                               database=config.database, port=config.port)\n",
    "db = DBConnection.cursor()\n",
    "query = \"\"\"[LSSTCATSIM].[dbo].[GalaxySearch2015]\n",
    "                   @ApertureStr = 'REGION RECT J2000 358.000000 -2.000000 2.000000 2.000000', @ColumnNames = 'dec as decJ2000,ra as raJ2000,redshift as redshift',\n",
    "                   @ComponentSubset = 'ALL' , @WhereClause = 'redshift < 0.4'\"\"\"\n",
    "\n",
    "db.execute(query)\n",
    "x = db.fetchall()\n",
    "print(len(x), len(x[0]))\n",
    "tend = time.time()\n",
    "print(tend - tstart)"
   ]
  },
  {
   "cell_type": "code",
   "execution_count": null,
   "metadata": {
    "collapsed": false
   },
   "outputs": [],
   "source": [
    "%%timeit\n",
    "tstart = time.time()\n",
    "config = bcm.BaseCatalogConfig()\n",
    "config.load(os.path.join(getPackageDir(\"sims_catUtils\"), \"config\", \"db.py\"))\n",
    "DBConnection = pymssql.connect(user=DbAuth.username(config.host, config.port),\n",
    "                               password=DbAuth.password(config.host, config.port),\n",
    "                               database=config.database, port=config.port)\n",
    "db = DBConnection.cursor()\n",
    "query = \"\"\"SELECT id, ra, dec, redshift FROM galaxy WHERE redshift < 0.4 AND ra < 2 and ra > -2 and dec < 2 and dec > -2\"\"\"\n",
    "db.execute(query)\n",
    "num = 50000\n",
    "x = db.fetchmany(num)\n",
    "while len(x)>0:\n",
    "    x = db.fetchmany(num)\n",
    "# print(len(x), len(x[0]))\n",
    "tend = time.time()\n",
    "print(tend - tstart)"
   ]
  },
  {
   "cell_type": "code",
   "execution_count": null,
   "metadata": {
    "collapsed": false
   },
   "outputs": [],
   "source": [
    "!pwd"
   ]
  },
  {
   "cell_type": "code",
   "execution_count": null,
   "metadata": {
    "collapsed": false
   },
   "outputs": [],
   "source": [
    "%%timeit\n",
    "tstart = time.time()\n",
    "config = bcm.BaseCatalogConfig()\n",
    "config.load(os.path.join(getPackageDir(\"sims_catUtils\"), \"config\", \"db.py\"))\n",
    "DBConnection = pymssql.connect(user=DbAuth.username(config.host, config.port),\n",
    "                               password=DbAuth.password(config.host, config.port),\n",
    "                               database=config.database, port=config.port)\n",
    "db = DBConnection.cursor()\n",
    "query = \"\"\"SELECT id, ra, dec, redshift FROM galaxy WHERE redshift < 0.4 AND ra < 2 and ra > -2 and dec < 2 and dec > -2\"\"\"\n",
    "db.execute(query)\n",
    "#num = 50000\n",
    "x = db.fetchall()\n",
    "# print(len(x), len(x[0]))\n",
    "tend = time.time()\n",
    "print(tend - tstart)"
   ]
  },
  {
   "cell_type": "code",
   "execution_count": null,
   "metadata": {
    "collapsed": false
   },
   "outputs": [],
   "source": [
    "%%timeit\n",
    "tstart = time.time()\n",
    "config = bcm.BaseCatalogConfig()\n",
    "config.load(os.path.join(getPackageDir(\"sims_catUtils\"), \"config\", \"db.py\"))\n",
    "DBConnection = pymssql.connect(user=DbAuth.username(config.host, config.port),\n",
    "                               password=DbAuth.password(config.host, config.port),\n",
    "                               database=config.database, port=config.port)\n",
    "db = DBConnection.cursor()\n",
    "query = \"\"\"SELECT id, ra, dec, redshift FROM galaxy WHERE redshift < 0.4 AND ra < 2 and ra > -2 and dec < 2 and dec > -2\"\"\"\n",
    "db.execute(query)\n",
    "num = 50000\n",
    "x = db.fetchmany(num)\n",
    "while len(x) > 0:\n",
    "    x = db.fetchmany(num)\n",
    "# print(len(x), len(x[0]))\n",
    "#df = pd.DataFrame.from_records(x, columns=['id', 'ra', 'dec', 'redshift'])\n",
    "#df.to_csv('gb_pd.test.csv', index=False)\n",
    "tend = time.time()\n",
    "print(tend - tstart)"
   ]
  },
  {
   "cell_type": "code",
   "execution_count": null,
   "metadata": {
    "collapsed": false
   },
   "outputs": [],
   "source": [
    "%%timeit\n",
    "tstart = time.time()\n",
    "config = bcm.BaseCatalogConfig()\n",
    "config.load(os.path.join(getPackageDir(\"sims_catUtils\"), \"config\", \"db.py\"))\n",
    "DBConnection = pymssql.connect(user=DbAuth.username(config.host, config.port),\n",
    "                               password=DbAuth.password(config.host, config.port),\n",
    "                               database=config.database, port=config.port)\n",
    "db = DBConnection.cursor()\n",
    "query = \"\"\"SELECT id, ra, dec, redshift FROM galaxy WHERE redshift < 0.4 AND ra < 2 and ra > -2 and dec < 2 and dec > -2\"\"\"\n",
    "db.execute(query)\n",
    "#num = 50000\n",
    "x = db.fetchall()\n",
    "# print(len(x), len(x[0]))\n",
    "df = pd.DataFrame.from_records(x, columns=['id', 'ra', 'dec', 'redshift'])\n",
    "df.to_csv('gb_pd.test.csv', index=False)\n",
    "tend = time.time()\n",
    "print(tend - tstart)"
   ]
  },
  {
   "cell_type": "code",
   "execution_count": null,
   "metadata": {
    "collapsed": true
   },
   "outputs": [],
   "source": [
    "%%timeit\n",
    "tstart = time.time()\n",
    "config = bcm.BaseCatalogConfig()\n",
    "config.load(os.path.join(getPackageDir(\"sims_catUtils\"), \"config\", \"db.py\"))\n",
    "DBConnection = pymssql.connect(user=DbAuth.username(config.host, config.port),\n",
    "                               password=DbAuth.password(config.host, config.port),\n",
    "                               database=config.database, port=config.port)\n",
    "db = DBConnection.cursor()\n",
    "query = \"\"\"SELECT id, ra, dec, redshift FROM galaxy WHERE redshift < 0.4 AND ra < 2 and ra > -2 and dec < 2 and dec > -2\"\"\"\n",
    "db.execute(query)\n",
    "#num = 50000\n",
    "x = db.fetchall()\n",
    "# print(len(x), len(x[0]))\n",
    "df = pd.DataFrame.from_records(x, columns=['id', 'ra', 'dec', 'redshift'])\n",
    "df.to_csv('gb_pd.test.csv', index=False)\n",
    "tend = time.time()\n",
    "print(tend - tstart)"
   ]
  },
  {
   "cell_type": "code",
   "execution_count": null,
   "metadata": {
    "collapsed": false
   },
   "outputs": [],
   "source": [
    "%%timeit\n",
    "tstart = time.time()\n",
    "config = bcm.BaseCatalogConfig()\n",
    "config.load(os.path.join(getPackageDir(\"sims_catUtils\"), \"config\", \"db.py\"))\n",
    "DBConnection = pymssql.connect(user=DbAuth.username(config.host, config.port),\n",
    "                               password=DbAuth.password(config.host, config.port),\n",
    "                               database=config.database, port=config.port)\n",
    "db = DBConnection.cursor()\n",
    "query = \"\"\"SELECT galaxy.id AS id, ra*PI()/180. AS [raJ2000], dec*PI()/180. AS [decJ2000], galaxy.redshift AS redshift \n",
    "FROM galaxy  WITH(FORCESEEK) JOIN (SELECT htmidstart, htmidend \n",
    "FROM fHtmCoverRegion(%(fHtmCoverRegion_1)s)) AS anon_1 ON galaxy.htmid BETWEEN anon_1.htmidstart AND anon_1.htmidend \n",
    "WHERE sph.fRegionContainsXYZ(sph.fSimplifyString(%(fSimplifyString_1)s), galaxy.cx, galaxy.cy, galaxy.cz) = %(fRegionContainsXYZ_1)s\n",
    "\"\"\"\n",
    "db.execute(query)\n",
    "#num = 50000\n",
    "x = db.fetchall()\n",
    "# print(len(x), len(x[0]))\n",
    "df = pd.DataFrame.from_records(x, columns=['id', 'ra', 'dec', 'redshift'])\n",
    "df.to_csv('gb_pd.test.csv', index=False)\n",
    "tend = time.time()\n",
    "print(tend - tstart)"
   ]
  },
  {
   "cell_type": "code",
   "execution_count": null,
   "metadata": {
    "collapsed": true
   },
   "outputs": [],
   "source": [
    "config = bcm.BaseCatalogConfig()\n",
    "config.load(os.path.join(getPackageDir(\"sims_catUtils\"), \"config\", \"db.py\"))\n",
    "DBConnection = pymssql.connect(user=DbAuth.username(config.host, config.port),\n",
    "                               password=DbAuth.password(config.host, config.port),\n",
    "                               database=config.database, port=config.port)\n",
    "\n"
   ]
  },
  {
   "cell_type": "code",
   "execution_count": null,
   "metadata": {
    "collapsed": false
   },
   "outputs": [],
   "source": [
    "config"
   ]
  },
  {
   "cell_type": "code",
   "execution_count": null,
   "metadata": {
    "collapsed": false
   },
   "outputs": [],
   "source": [
    "dbobject = DBObject(database=config.database, driver='mssql+pymssql', host=config.host, port=config.port, connection=None)"
   ]
  },
  {
   "cell_type": "code",
   "execution_count": null,
   "metadata": {
    "collapsed": true
   },
   "outputs": [],
   "source": [
    "dbobject.execute_arbitrary()"
   ]
  },
  {
   "cell_type": "code",
   "execution_count": 6,
   "metadata": {
    "collapsed": false
   },
   "outputs": [],
   "source": [
    "deltaAng =  np.radians(2)"
   ]
  },
  {
   "cell_type": "code",
   "execution_count": 90,
   "metadata": {
    "collapsed": false
   },
   "outputs": [
    {
     "name": "stderr",
     "output_type": "stream",
     "text": [
      "/usr/local/manual/anaconda/lib/python2.7/site-packages/ipykernel/__main__.py:1: DeprecationWarning: using a non-integer number instead of an integer will result in an error in the future\n",
      "  if __name__ == '__main__':\n"
     ]
    }
   ],
   "source": [
    "coords = np.random.uniform((- deltaAng, -deltaAng), (deltaAng, deltaAng), size=(10e6, 2))"
   ]
  },
  {
   "cell_type": "code",
   "execution_count": 91,
   "metadata": {
    "collapsed": false
   },
   "outputs": [],
   "source": [
    "df = pd.DataFrame(coords, columns=['theta', 'phi'])"
   ]
  },
  {
   "cell_type": "code",
   "execution_count": 92,
   "metadata": {
    "collapsed": false
   },
   "outputs": [
    {
     "data": {
      "text/html": [
       "<div>\n",
       "<table border=\"1\" class=\"dataframe\">\n",
       "  <thead>\n",
       "    <tr style=\"text-align: right;\">\n",
       "      <th></th>\n",
       "      <th>theta</th>\n",
       "      <th>phi</th>\n",
       "    </tr>\n",
       "  </thead>\n",
       "  <tbody>\n",
       "    <tr>\n",
       "      <th>count</th>\n",
       "      <td>1.000000e+07</td>\n",
       "      <td>10000000.000000</td>\n",
       "    </tr>\n",
       "    <tr>\n",
       "      <th>mean</th>\n",
       "      <td>6.918292e-08</td>\n",
       "      <td>0.000005</td>\n",
       "    </tr>\n",
       "    <tr>\n",
       "      <th>std</th>\n",
       "      <td>2.015738e-02</td>\n",
       "      <td>0.020155</td>\n",
       "    </tr>\n",
       "    <tr>\n",
       "      <th>min</th>\n",
       "      <td>-3.490657e-02</td>\n",
       "      <td>-0.034907</td>\n",
       "    </tr>\n",
       "    <tr>\n",
       "      <th>25%</th>\n",
       "      <td>-1.746115e-02</td>\n",
       "      <td>-0.017448</td>\n",
       "    </tr>\n",
       "    <tr>\n",
       "      <th>50%</th>\n",
       "      <td>2.639225e-06</td>\n",
       "      <td>0.000005</td>\n",
       "    </tr>\n",
       "    <tr>\n",
       "      <th>75%</th>\n",
       "      <td>1.745630e-02</td>\n",
       "      <td>0.017466</td>\n",
       "    </tr>\n",
       "    <tr>\n",
       "      <th>max</th>\n",
       "      <td>3.490658e-02</td>\n",
       "      <td>0.034907</td>\n",
       "    </tr>\n",
       "  </tbody>\n",
       "</table>\n",
       "</div>"
      ],
      "text/plain": [
       "              theta              phi\n",
       "count  1.000000e+07  10000000.000000\n",
       "mean   6.918292e-08         0.000005\n",
       "std    2.015738e-02         0.020155\n",
       "min   -3.490657e-02        -0.034907\n",
       "25%   -1.746115e-02        -0.017448\n",
       "50%    2.639225e-06         0.000005\n",
       "75%    1.745630e-02         0.017466\n",
       "max    3.490658e-02         0.034907"
      ]
     },
     "execution_count": 92,
     "metadata": {},
     "output_type": "execute_result"
    }
   ],
   "source": [
    "df.describe()"
   ]
  },
  {
   "cell_type": "code",
   "execution_count": 137,
   "metadata": {
    "collapsed": true
   },
   "outputs": [],
   "source": [
    "def rotated(df, delta=0.):\n",
    "    cosDelta = np.cos(delta)\n",
    "    sinDelta = np.sin(delta)\n",
    "    sintheta = np.sin(df.theta)\n",
    "    costheta = np.cos(df.theta)\n",
    "    cosphi = np.cos(df.phi)\n",
    "    costhetaprime =  costheta * cosDelta - sinDelta * sintheta * cosphi\n",
    "    sinthetaprime = np.sqrt(1.0 - costhetaprime**2.) * np.sign(df.theta)\n",
    "    cosphiprime = (sintheta * cosphi * cosDelta + costheta * sinDelta ) /sinthetaprime\n",
    "    df['costhetprime']= costhetaprime\n",
    "    df['cosphiprime'] = cosphiprime\n",
    "    df['thetaprime'] = np.arcsin(sinthetaprime)\n",
    "    df['phiprime'] = np.arccos(cosphiprime) * np.sign(df.phi)"
   ]
  },
  {
   "cell_type": "code",
   "execution_count": 147,
   "metadata": {
    "collapsed": false
   },
   "outputs": [],
   "source": [
    "rotated(df, delta=deltaAng*2.*3)"
   ]
  },
  {
   "cell_type": "code",
   "execution_count": 148,
   "metadata": {
    "collapsed": false
   },
   "outputs": [
    {
     "data": {
      "text/html": [
       "<div>\n",
       "<table border=\"1\" class=\"dataframe\">\n",
       "  <thead>\n",
       "    <tr style=\"text-align: right;\">\n",
       "      <th></th>\n",
       "      <th>theta</th>\n",
       "      <th>phi</th>\n",
       "      <th>thetaprime</th>\n",
       "      <th>phiprime</th>\n",
       "      <th>costhetprime</th>\n",
       "      <th>cosphiprime</th>\n",
       "    </tr>\n",
       "  </thead>\n",
       "  <tbody>\n",
       "    <tr>\n",
       "      <th>0</th>\n",
       "      <td>0.013656</td>\n",
       "      <td>0.007796</td>\n",
       "      <td>0.223095</td>\n",
       "      <td>0.000481</td>\n",
       "      <td>0.975217</td>\n",
       "      <td>1.000000</td>\n",
       "    </tr>\n",
       "    <tr>\n",
       "      <th>1</th>\n",
       "      <td>-0.000172</td>\n",
       "      <td>-0.015834</td>\n",
       "      <td>-0.209268</td>\n",
       "      <td>-3.141580</td>\n",
       "      <td>0.978183</td>\n",
       "      <td>-1.000000</td>\n",
       "    </tr>\n",
       "    <tr>\n",
       "      <th>2</th>\n",
       "      <td>0.015505</td>\n",
       "      <td>-0.012049</td>\n",
       "      <td>0.224943</td>\n",
       "      <td>-0.000837</td>\n",
       "      <td>0.974807</td>\n",
       "      <td>1.000000</td>\n",
       "    </tr>\n",
       "    <tr>\n",
       "      <th>3</th>\n",
       "      <td>-0.005364</td>\n",
       "      <td>0.006819</td>\n",
       "      <td>-0.204075</td>\n",
       "      <td>3.141412</td>\n",
       "      <td>0.979249</td>\n",
       "      <td>-1.000000</td>\n",
       "    </tr>\n",
       "    <tr>\n",
       "      <th>4</th>\n",
       "      <td>0.023667</td>\n",
       "      <td>0.012265</td>\n",
       "      <td>0.233104</td>\n",
       "      <td>0.001256</td>\n",
       "      <td>0.972954</td>\n",
       "      <td>0.999999</td>\n",
       "    </tr>\n",
       "  </tbody>\n",
       "</table>\n",
       "</div>"
      ],
      "text/plain": [
       "      theta       phi  thetaprime  phiprime  costhetprime  cosphiprime\n",
       "0  0.013656  0.007796    0.223095  0.000481      0.975217     1.000000\n",
       "1 -0.000172 -0.015834   -0.209268 -3.141580      0.978183    -1.000000\n",
       "2  0.015505 -0.012049    0.224943 -0.000837      0.974807     1.000000\n",
       "3 -0.005364  0.006819   -0.204075  3.141412      0.979249    -1.000000\n",
       "4  0.023667  0.012265    0.233104  0.001256      0.972954     0.999999"
      ]
     },
     "execution_count": 148,
     "metadata": {},
     "output_type": "execute_result"
    }
   ],
   "source": [
    "df.head()"
   ]
  },
  {
   "cell_type": "code",
   "execution_count": 149,
   "metadata": {
    "collapsed": false
   },
   "outputs": [],
   "source": [
    "df_a = df.ix[np.random.random_integers(0, len(df), size=10000)]\n",
    "df_b = df.ix[np.random.random_integers(0, len(df), size=10000)]"
   ]
  },
  {
   "cell_type": "code",
   "execution_count": 150,
   "metadata": {
    "collapsed": false
   },
   "outputs": [
    {
     "data": {
      "text/html": [
       "<div>\n",
       "<table border=\"1\" class=\"dataframe\">\n",
       "  <thead>\n",
       "    <tr style=\"text-align: right;\">\n",
       "      <th></th>\n",
       "      <th>theta</th>\n",
       "      <th>phi</th>\n",
       "      <th>thetaprime</th>\n",
       "      <th>phiprime</th>\n",
       "      <th>costhetprime</th>\n",
       "      <th>cosphiprime</th>\n",
       "    </tr>\n",
       "  </thead>\n",
       "  <tbody>\n",
       "    <tr>\n",
       "      <th>8169303</th>\n",
       "      <td>0.011295</td>\n",
       "      <td>-0.033140</td>\n",
       "      <td>0.220728</td>\n",
       "      <td>-0.001709</td>\n",
       "      <td>0.975738</td>\n",
       "      <td>0.999999</td>\n",
       "    </tr>\n",
       "    <tr>\n",
       "      <th>4038307</th>\n",
       "      <td>-0.019061</td>\n",
       "      <td>-0.015319</td>\n",
       "      <td>-0.190381</td>\n",
       "      <td>-3.140050</td>\n",
       "      <td>0.981932</td>\n",
       "      <td>-0.999999</td>\n",
       "    </tr>\n",
       "    <tr>\n",
       "      <th>1228795</th>\n",
       "      <td>-0.030010</td>\n",
       "      <td>-0.009333</td>\n",
       "      <td>-0.179431</td>\n",
       "      <td>-3.140024</td>\n",
       "      <td>0.983945</td>\n",
       "      <td>-0.999999</td>\n",
       "    </tr>\n",
       "    <tr>\n",
       "      <th>6788177</th>\n",
       "      <td>-0.028556</td>\n",
       "      <td>-0.014002</td>\n",
       "      <td>-0.180887</td>\n",
       "      <td>-3.139370</td>\n",
       "      <td>0.983685</td>\n",
       "      <td>-0.999998</td>\n",
       "    </tr>\n",
       "    <tr>\n",
       "      <th>8668931</th>\n",
       "      <td>-0.020928</td>\n",
       "      <td>0.031974</td>\n",
       "      <td>-0.188523</td>\n",
       "      <td>3.138023</td>\n",
       "      <td>0.982282</td>\n",
       "      <td>-0.999994</td>\n",
       "    </tr>\n",
       "  </tbody>\n",
       "</table>\n",
       "</div>"
      ],
      "text/plain": [
       "            theta       phi  thetaprime  phiprime  costhetprime  cosphiprime\n",
       "8169303  0.011295 -0.033140    0.220728 -0.001709      0.975738     0.999999\n",
       "4038307 -0.019061 -0.015319   -0.190381 -3.140050      0.981932    -0.999999\n",
       "1228795 -0.030010 -0.009333   -0.179431 -3.140024      0.983945    -0.999999\n",
       "6788177 -0.028556 -0.014002   -0.180887 -3.139370      0.983685    -0.999998\n",
       "8668931 -0.020928  0.031974   -0.188523  3.138023      0.982282    -0.999994"
      ]
     },
     "execution_count": 150,
     "metadata": {},
     "output_type": "execute_result"
    }
   ],
   "source": [
    "df_a.head()"
   ]
  },
  {
   "cell_type": "code",
   "execution_count": 151,
   "metadata": {
    "collapsed": false
   },
   "outputs": [
    {
     "data": {
      "text/plain": [
       "theta          -0.000172\n",
       "phi            -0.015834\n",
       "thetaprime     -0.209268\n",
       "phiprime       -3.141580\n",
       "costhetprime    0.978183\n",
       "cosphiprime    -1.000000\n",
       "Name: 1, dtype: float64"
      ]
     },
     "execution_count": 151,
     "metadata": {},
     "output_type": "execute_result"
    }
   ],
   "source": [
    "df.ix[1]"
   ]
  },
  {
   "cell_type": "code",
   "execution_count": 152,
   "metadata": {
    "collapsed": false
   },
   "outputs": [],
   "source": [
    "def angSep( df1, df2, theta, phi):\n",
    "    th1 = df1[theta].values\n",
    "    th2 = df2[theta].values\n",
    "    ph1 = df1[phi].values\n",
    "    ph2 = df2[phi].values\n",
    "\n",
    "    cos = np.sin(th1)* np.sin(th2)* np.cos(ph1- ph2) + np.cos(th1)*np.cos(th2)\n",
    "    return cos"
   ]
  },
  {
   "cell_type": "code",
   "execution_count": 154,
   "metadata": {
    "collapsed": false
   },
   "outputs": [
    {
     "data": {
      "text/plain": [
       "[<matplotlib.lines.Line2D at 0x1477daf50>]"
      ]
     },
     "execution_count": 154,
     "metadata": {},
     "output_type": "execute_result"
    },
    {
     "data": {
      "image/png": "[encoded data removed]",
      "text/plain": [
       "<matplotlib.figure.Figure at 0x14712a710>"
      ]
     },
     "metadata": {},
     "output_type": "display_data"
    }
   ],
   "source": [
    "plt.plot(df_a['theta'] , \n",
    "         angSep(df_a, df_b, 'theta', 'phi')- angSep(df_a, df_b, 'thetaprime', 'phiprime'),'.')"
   ]
  },
  {
   "cell_type": "code",
   "execution_count": 167,
   "metadata": {
    "collapsed": false
   },
   "outputs": [],
   "source": [
    "x = angSep(df_a, df_b, 'theta', 'phi')- angSep(df_a, df_b, 'thetaprime', 'phiprime')"
   ]
  },
  {
   "cell_type": "code",
   "execution_count": 170,
   "metadata": {
    "collapsed": false
   },
   "outputs": [
    {
     "data": {
      "text/plain": [
       "array([False, False, False, ..., False, False, False], dtype=bool)"
      ]
     },
     "execution_count": 170,
     "metadata": {},
     "output_type": "execute_result"
    }
   ],
   "source": [
    "x"
   ]
  },
  {
   "cell_type": "code",
   "execution_count": 160,
   "metadata": {
    "collapsed": false
   },
   "outputs": [
    {
     "data": {
      "text/plain": [
       "nan"
      ]
     },
     "execution_count": 160,
     "metadata": {},
     "output_type": "execute_result"
    }
   ],
   "source": [
    "np.max(x)"
   ]
  },
  {
   "cell_type": "code",
   "execution_count": 164,
   "metadata": {
    "collapsed": false
   },
   "outputs": [
    {
     "data": {
      "text/plain": [
       "1"
      ]
     },
     "execution_count": 164,
     "metadata": {},
     "output_type": "execute_result"
    }
   ],
   "source": [
    "len(x[np.isnan(x)])"
   ]
  },
  {
   "cell_type": "code",
   "execution_count": 44,
   "metadata": {
    "collapsed": false
   },
   "outputs": [
    {
     "data": {
      "text/plain": [
       "<matplotlib.axes._subplots.AxesSubplot at 0x14f338b50>"
      ]
     },
     "execution_count": 44,
     "metadata": {},
     "output_type": "execute_result"
    },
    {
     "data": {
      "image/png": "[encoded data removed]",
      "text/plain": [
       "<matplotlib.figure.Figure at 0x14f582510>"
      ]
     },
     "metadata": {},
     "output_type": "display_data"
    }
   ],
   "source": [
    "(df.thetaprime - df.theta).apply(np.degrees).hist()"
   ]
  },
  {
   "cell_type": "code",
   "execution_count": 51,
   "metadata": {
    "collapsed": false
   },
   "outputs": [
    {
     "data": {
      "text/plain": [
       "count    10000000.000000\n",
       "mean            0.482313\n",
       "std             0.298839\n",
       "min            -0.034907\n",
       "25%             0.223323\n",
       "50%             0.482206\n",
       "75%             0.741157\n",
       "max             1.000000\n",
       "Name: theta, dtype: float64"
      ]
     },
     "execution_count": 51,
     "metadata": {},
     "output_type": "execute_result"
    }
   ],
   "source": [
    "df.theta.describe()"
   ]
  },
  {
   "cell_type": "code",
   "execution_count": 62,
   "metadata": {
    "collapsed": false
   },
   "outputs": [
    {
     "data": {
      "text/plain": [
       "[<matplotlib.lines.Line2D at 0x1440b7c50>]"
      ]
     },
     "execution_count": 62,
     "metadata": {},
     "output_type": "execute_result"
    },
    {
     "data": {
      "image/png": "[encoded data removed]",
      "text/plain": [
       "<matplotlib.figure.Figure at 0x143577ed0>"
      ]
     },
     "metadata": {},
     "output_type": "display_data"
    }
   ],
   "source": [
    "plt.plot(df.theta.astype(np.float).values, df.thetaprime.astype(np.float).values - df.theta.astype(np.float).values, '.')"
   ]
  },
  {
   "cell_type": "code",
   "execution_count": 61,
   "metadata": {
    "collapsed": false
   },
   "outputs": [
    {
     "name": "stdout",
     "output_type": "stream",
     "text": [
      "1 loops, best of 3: 993 ms per loop\n"
     ]
    }
   ],
   "source": [
    "%timeit rotated(df, delta=2*deltaAng)"
   ]
  },
  {
   "cell_type": "code",
   "execution_count": 37,
   "metadata": {
    "collapsed": false
   },
   "outputs": [
    {
     "data": {
      "text/plain": [
       "10.0"
      ]
     },
     "execution_count": 37,
     "metadata": {},
     "output_type": "execute_result"
    }
   ],
   "source": [
    "len(df.theta)/1.0e6"
   ]
  },
  {
   "cell_type": "code",
   "execution_count": 31,
   "metadata": {
    "collapsed": false
   },
   "outputs": [],
   "source": [
    "x = rotated(df, delta=2*deltaAng) - df.theta.values"
   ]
  },
  {
   "cell_type": "code",
   "execution_count": 32,
   "metadata": {
    "collapsed": true
   },
   "outputs": [],
   "source": [
    "%matplotlib inline\n",
    "import matplotlib.pyplot as plt"
   ]
  },
  {
   "cell_type": "code",
   "execution_count": 33,
   "metadata": {
    "collapsed": false
   },
   "outputs": [
    {
     "data": {
      "text/plain": [
       "(array([   74411.,    77435.,    80472.,    73698.,    31837.,        0.,\n",
       "               0.,   228993.,  2615518.,  6817636.]),\n",
       " array([ -3.99999365e+00,  -3.19999431e+00,  -2.39999497e+00,\n",
       "         -1.59999562e+00,  -7.99996282e-01,   3.06095169e-06,\n",
       "          8.00002403e-01,   1.60000175e+00,   2.40000109e+00,\n",
       "          3.20000043e+00,   3.99999977e+00]),\n",
       " <a list of 10 Patch objects>)"
      ]
     },
     "execution_count": 33,
     "metadata": {},
     "output_type": "execute_result"
    },
    {
     "data": {
      "image/png": "[encoded data removed]",
      "text/plain": [
       "<matplotlib.figure.Figure at 0x10f4da650>"
      ]
     },
     "metadata": {},
     "output_type": "display_data"
    }
   ],
   "source": [
    "plt.hist(np.degrees(x))"
   ]
  },
  {
   "cell_type": "code",
   "execution_count": null,
   "metadata": {
    "collapsed": true
   },
   "outputs": [],
   "source": []
  }
 ],
 "metadata": {
  "kernelspec": {
   "display_name": "Python 2",
   "language": "python",
   "name": "python2"
  },
  "language_info": {
   "codemirror_mode": {
    "name": "ipython",
    "version": 2
   },
   "file_extension": ".py",
   "mimetype": "text/x-python",
   "name": "python",
   "nbconvert_exporter": "python",
   "pygments_lexer": "ipython2",
   "version": "2.7.11"
  }
 },
 "nbformat": 4,
 "nbformat_minor": 0
}
