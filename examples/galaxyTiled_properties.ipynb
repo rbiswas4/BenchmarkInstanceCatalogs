{
 "cells": [
  {
   "cell_type": "markdown",
   "metadata": {},
   "source": [
    "## Setup"
   ]
  },
  {
   "cell_type": "code",
   "execution_count": 1,
   "metadata": {
    "collapsed": true
   },
   "outputs": [],
   "source": [
    "from __future__ import division, print_function, absolute_import"
   ]
  },
  {
   "cell_type": "code",
   "execution_count": 2,
   "metadata": {
    "collapsed": true
   },
   "outputs": [],
   "source": [
    "import numpy as np\n",
    "import pandas as pd"
   ]
  },
  {
   "cell_type": "code",
   "execution_count": 3,
   "metadata": {
    "collapsed": false
   },
   "outputs": [
    {
     "name": "stderr",
     "output_type": "stream",
     "text": [
      "/usr/local/manual/anaconda/lib/python2.7/site-packages/matplotlib/__init__.py:872: UserWarning: axes.color_cycle is deprecated and replaced with axes.prop_cycle; please use the latter.\n",
      "  warnings.warn(self.msg_depr % (key, alt_key))\n"
     ]
    }
   ],
   "source": [
    "%matplotlib inline\n",
    "import matplotlib.pyplot as plt\n",
    "from matplotlib.patches import Polygon\n",
    "import seaborn as sns\n",
    "sns.set()"
   ]
  },
  {
   "cell_type": "code",
   "execution_count": 4,
   "metadata": {
    "collapsed": false
   },
   "outputs": [
    {
     "name": "stderr",
     "output_type": "stream",
     "text": [
      "/Users/rbiswas/src/LSST/sims_catalogs_generation/python/lsst/sims/catalogs/generation/db/dbConnection.py:438: UserWarning: Duplicate object type id 25 specified: \n",
      "Output object ids may not be unique.\n",
      "This may not be a problem if you do not want globally unique id values\n",
      "  'want globally unique id values')\n",
      "/Users/rbiswas/src/LSST/sims_catalogs_generation/python/lsst/sims/catalogs/generation/db/dbConnection.py:438: UserWarning: Duplicate object type id 40 specified: \n",
      "Output object ids may not be unique.\n",
      "This may not be a problem if you do not want globally unique id values\n",
      "  'want globally unique id values')\n"
     ]
    }
   ],
   "source": [
    "from lsst.sims.catalogs.measures.instance import InstanceCatalog\n",
    "import lsst.sims.catUtils.baseCatalogModels as bcm\n",
    "from lsst.sims.catalogs.generation.db import CatalogDBObject, DBObject\n",
    "from lsst.sims.catUtils.baseCatalogModels.GalaxyModels import GalaxyTileObj, GalaxyObj\n",
    "from lsst.sims.utils import ObservationMetaData"
   ]
  },
  {
   "cell_type": "markdown",
   "metadata": {},
   "source": [
    "## Catalogs"
   ]
  },
  {
   "cell_type": "markdown",
   "metadata": {},
   "source": [
    "Usual observation MetaData, for galaxy Tile. Note that this is shifted from the galaxy Base by a simple rotation along phi of size 2 degrees. We consider two Observation Meta Data boxes one which gives the base tile and one which is 4 degrees South. "
   ]
  },
  {
   "cell_type": "code",
   "execution_count": 5,
   "metadata": {
    "collapsed": true
   },
   "outputs": [],
   "source": [
    "# This is a tile on galaxyTiled which is shifted only in RA from the base patch\n",
    "observerMetaData = ObservationMetaData(boundType='box',\n",
    "                                  pointingRA=2.,\n",
    "                                  pointingDec=0.,\n",
    "                                  boundLength=0.1)"
   ]
  },
  {
   "cell_type": "code",
   "execution_count": 6,
   "metadata": {
    "collapsed": true
   },
   "outputs": [],
   "source": [
    "# A tile on galaxyTiled shifted from the previous one by 4 degrees to the South\n",
    "observerMetaData_1 = ObservationMetaData(boundType='box',\n",
    "                                  pointingRA=2.,\n",
    "                                  pointingDec=-4.,\n",
    "                                  boundLength=0.1)"
   ]
  },
  {
   "cell_type": "code",
   "execution_count": 7,
   "metadata": {
    "collapsed": false
   },
   "outputs": [],
   "source": [
    "# Since we have to write out stuff to a csv file, we increase the angular precision to 0.16f\n",
    "class galCopy(InstanceCatalog):\n",
    "    column_outputs = ['galtileid', 'raJ2000', 'decJ2000', 'redshift', 'mass_stellar', 'absmag_r_total']#, 'a_d', 'b_d', 'pa_disk', 'mass_stellar', 'absmag_r_total']\n",
    "    override_formats = {'raJ2000': '%0.16f', 'decJ2000': '%0.16f', 'a_d': '%8e', 'b_d': '%8e', 'pa_disk': '%8e', \n",
    "                        'mass_stellar': '%8e', 'absmag_r_total': '%8e'}"
   ]
  },
  {
   "cell_type": "code",
   "execution_count": 8,
   "metadata": {
    "collapsed": true
   },
   "outputs": [],
   "source": [
    "def galIds(tileID, galTileID):\n",
    "    \"\"\"\n",
    "    Function to convert galTileID to ID using the tileID\n",
    "    \n",
    "    Parameters\n",
    "    ----------\n",
    "    tileID : int, mandatory\n",
    "        ID of the tile\n",
    "    galTileID: int, mandatory\n",
    "        galtileid of the galaxy\n",
    "    \"\"\"\n",
    "    return galTileID - 100000000* tileID"
   ]
  },
  {
   "cell_type": "code",
   "execution_count": 9,
   "metadata": {
    "collapsed": false
   },
   "outputs": [
    {
     "name": "stderr",
     "output_type": "stream",
     "text": [
      "/usr/local/manual/anaconda/lib/python2.7/site-packages/sqlalchemy/dialects/mssql/base.py:1294: SAWarning: Did not recognize type 'geography' of column 'geopoint'\n",
      "  return fn(*arg, **kw)\n"
     ]
    }
   ],
   "source": [
    "galaxyTiled = GalaxyTileObj()"
   ]
  },
  {
   "cell_type": "code",
   "execution_count": 10,
   "metadata": {
    "collapsed": true
   },
   "outputs": [],
   "source": [
    "def myarccos(cosine):\n",
    "    sinsqhalftheta= 0.5*(1.0 - cosine)\n",
    "    sinhalftheta = np.sqrt(sinsqhalftheta)\n",
    "    return 2.0 *np.arcsin(sinhalftheta)\n",
    "    #return sinsqhalftheta"
   ]
  },
  {
   "cell_type": "code",
   "execution_count": 11,
   "metadata": {
    "collapsed": false
   },
   "outputs": [],
   "source": [
    "milliarcsec = np.float64(1.0e-3/60./ 60. * np.pi/180.)"
   ]
  },
  {
   "cell_type": "code",
   "execution_count": 12,
   "metadata": {
    "collapsed": false
   },
   "outputs": [
    {
     "ename": "NameError",
     "evalue": "name 'ax' is not defined",
     "output_type": "error",
     "traceback": [
      "\u001b[0;31m---------------------------------------------------------------------------\u001b[0m",
      "\u001b[0;31mNameError\u001b[0m                                 Traceback (most recent call last)",
      "\u001b[0;32m<ipython-input-12-d1e152145079>\u001b[0m in \u001b[0;36m<module>\u001b[0;34m()\u001b[0m\n\u001b[1;32m      4\u001b[0m \u001b[0mtheta\u001b[0m \u001b[0;34m=\u001b[0m \u001b[0mmyarccos\u001b[0m\u001b[0;34m(\u001b[0m\u001b[0mcosvals\u001b[0m\u001b[0;34m)\u001b[0m\u001b[0;34m\u001b[0m\u001b[0m\n\u001b[1;32m      5\u001b[0m \u001b[0mphis\u001b[0m \u001b[0;34m=\u001b[0m \u001b[0mnp\u001b[0m\u001b[0;34m.\u001b[0m\u001b[0marccos\u001b[0m\u001b[0;34m(\u001b[0m\u001b[0mcosvals\u001b[0m\u001b[0;34m)\u001b[0m\u001b[0;34m\u001b[0m\u001b[0m\n\u001b[0;32m----> 6\u001b[0;31m \u001b[0max\u001b[0m\u001b[0;34m.\u001b[0m\u001b[0mplot\u001b[0m\u001b[0;34m(\u001b[0m\u001b[0mcosvals\u001b[0m\u001b[0;34m,\u001b[0m \u001b[0mnp\u001b[0m\u001b[0;34m.\u001b[0m\u001b[0marccos\u001b[0m\u001b[0;34m(\u001b[0m\u001b[0mcosvals\u001b[0m\u001b[0;34m)\u001b[0m\u001b[0;34m/\u001b[0m\u001b[0mrads\u001b[0m \u001b[0;34m-\u001b[0m \u001b[0;36m1.\u001b[0m\u001b[0;34m,\u001b[0m\u001b[0;34m'.'\u001b[0m\u001b[0;34m)\u001b[0m\u001b[0;34m\u001b[0m\u001b[0m\n\u001b[0m\u001b[1;32m      7\u001b[0m \u001b[0max\u001b[0m\u001b[0;34m.\u001b[0m\u001b[0mplot\u001b[0m\u001b[0;34m(\u001b[0m\u001b[0mcosvals\u001b[0m\u001b[0;34m,\u001b[0m \u001b[0mtheta\u001b[0m\u001b[0;34m/\u001b[0m\u001b[0mrads\u001b[0m \u001b[0;34m-\u001b[0m \u001b[0;36m1.\u001b[0m\u001b[0;34m,\u001b[0m\u001b[0;34m'r.'\u001b[0m\u001b[0;34m)\u001b[0m\u001b[0;34m\u001b[0m\u001b[0m\n\u001b[1;32m      8\u001b[0m \u001b[0;31m#ax.set_xscale('log')\u001b[0m\u001b[0;34m\u001b[0m\u001b[0;34m\u001b[0m\u001b[0m\n",
      "\u001b[0;31mNameError\u001b[0m: name 'ax' is not defined"
     ]
    }
   ],
   "source": [
    "#fig, ax = plt.subplots()\n",
    "rads = np.arange(0., np.pi, 0.000001)\n",
    "cosvals =  np.cos(rads)\n",
    "theta = myarccos(cosvals)\n",
    "phis = np.arccos(cosvals)\n",
    "ax.plot(cosvals, np.arccos(cosvals)/rads - 1.,'.')\n",
    "ax.plot(cosvals, theta/rads - 1.,'r.')\n",
    "#ax.set_xscale('log')"
   ]
  },
  {
   "cell_type": "code",
   "execution_count": null,
   "metadata": {
    "collapsed": true
   },
   "outputs": [],
   "source": [
    "from decimal import Decimal"
   ]
  },
  {
   "cell_type": "code",
   "execution_count": 13,
   "metadata": {
    "collapsed": true
   },
   "outputs": [],
   "source": [
    "def angSep( df1 , df2,  theta, phi):\n",
    "    th1 = df1[theta].values\n",
    "    th2 = df2[theta].values\n",
    "    ph1 = df1[phi].values\n",
    "    ph2 = df2[phi].values\n",
    "    # Take the dot product\n",
    "    cos = np.sin(th1)* np.sin(th2)* np.cos(ph1- ph2) + np.cos(th1)*np.cos(th2)\n",
    "    # Calculate arccos differently to avoid loss of precision\n",
    "    #sinhalftheta = np.sqrt(0.5*(1.0 - cos))\n",
    "    #return 2.*(np.arcsin(sinhalftheta))\n",
    "    return cos, myarccos(cos)"
   ]
  },
  {
   "cell_type": "code",
   "execution_count": 14,
   "metadata": {
    "collapsed": true
   },
   "outputs": [],
   "source": [
    "def rotation(df, delta=0):\n",
    "    \"\"\"\n",
    "    delta : int\n",
    "    \"\"\"\n",
    "    d = delta\n",
    "    delta = np.radians(delta * 4.0)\n",
    "    cosDelta = np.cos(delta)\n",
    "    sinDelta = np.sin(delta)\n",
    "    \n",
    "    # spherical polar\n",
    "    df['theta'] = - df['decJ2000'] + np.pi/2.\n",
    "    df['phi'] = df['raJ2000'] - np.radians(2.)\n",
    "    sintheta = np.sin(df.theta)\n",
    "    costheta = np.cos(df.theta)\n",
    "    cosphi = np.cos(df.phi)\n",
    "    sinphi = np.sin(df.phi)\n",
    "    \n",
    "    zprime =  costheta * cosDelta - sinDelta * sintheta * cosphi\n",
    "    xprime = sintheta * cosphi * cosDelta + costheta * sinDelta\n",
    "    yprime = sintheta * sinphi\n",
    "    \n",
    "    rlat = np.sqrt(xprime **2. + yprime **2.)\n",
    "    #rlat = np.sqrt(1.0 - zprime**2)\n",
    "    #print(min(rlat), max(rlat))\n",
    "    thetaprime = 'thetaprime_{}'.format(int(d))\n",
    "    phiprime = 'phiprime_{}'.format(d)\n",
    "    # df[phiprime] = np.arccos(xprime / rlat) - np.radians(2.)\n",
    "    df[phiprime] = np.arcsin(yprime / rlat) + np.radians(2.)\n",
    "    \n",
    "    #df['x'] = sintheta * cosphi\n",
    "    #df['y'] = sintheta * sinphi\n",
    "    #df['z'] = costheta\n",
    "    #df['xprime'] = xprime\n",
    "    #df['yprime'] = yprime\n",
    "    #df['zprime'] = zprime\n",
    "    #df[thetaprime] = np.arccos(zprime)\n",
    "    df[thetaprime] = myarccos(zprime)\n",
    "    #df[thetaprime] = np.arctan(rlat/zprime) \n",
    "    #df.thetaprime[df[thetaprime] < 0 ] += np.pi\n",
    "    #df[thetaprime] = np.arcsin(np.sqrt(xprime**2. + yprime**2))#*np.sign(zprime)\n",
    "    # df[thetaprime] = np.arcsin(rlat) * np.sign(zprime)"
   ]
  },
  {
   "cell_type": "markdown",
   "metadata": {},
   "source": [
    "#### On Base Patch"
   ]
  },
  {
   "cell_type": "code",
   "execution_count": 15,
   "metadata": {
    "collapsed": true
   },
   "outputs": [],
   "source": [
    "# Read the two tiles into pd.DataFrames"
   ]
  },
  {
   "cell_type": "code",
   "execution_count": 16,
   "metadata": {
    "collapsed": false
   },
   "outputs": [
    {
     "data": {
      "text/html": [
       "<div>\n",
       "<table border=\"1\" class=\"dataframe\">\n",
       "  <thead>\n",
       "    <tr style=\"text-align: right;\">\n",
       "      <th></th>\n",
       "      <th>raJ2000</th>\n",
       "      <th>decJ2000</th>\n",
       "      <th>redshift</th>\n",
       "      <th>mass_stellar</th>\n",
       "      <th>absmag_r_total</th>\n",
       "    </tr>\n",
       "    <tr>\n",
       "      <th>galtileid</th>\n",
       "      <th></th>\n",
       "      <th></th>\n",
       "      <th></th>\n",
       "      <th></th>\n",
       "      <th></th>\n",
       "    </tr>\n",
       "  </thead>\n",
       "  <tbody>\n",
       "    <tr>\n",
       "      <th>2209932244</th>\n",
       "      <td>0.034950</td>\n",
       "      <td>-0.000120</td>\n",
       "      <td>0.1995</td>\n",
       "      <td>0.000161</td>\n",
       "      <td>-13.24359</td>\n",
       "    </tr>\n",
       "    <tr>\n",
       "      <th>2201788073</th>\n",
       "      <td>0.034923</td>\n",
       "      <td>-0.000554</td>\n",
       "      <td>0.1964</td>\n",
       "      <td>0.002476</td>\n",
       "      <td>-15.88512</td>\n",
       "    </tr>\n",
       "    <tr>\n",
       "      <th>2201787850</th>\n",
       "      <td>0.035353</td>\n",
       "      <td>-0.000105</td>\n",
       "      <td>0.1835</td>\n",
       "      <td>0.002417</td>\n",
       "      <td>-15.63991</td>\n",
       "    </tr>\n",
       "    <tr>\n",
       "      <th>2200394567</th>\n",
       "      <td>0.035337</td>\n",
       "      <td>-0.000311</td>\n",
       "      <td>0.2112</td>\n",
       "      <td>0.069907</td>\n",
       "      <td>-18.30111</td>\n",
       "    </tr>\n",
       "    <tr>\n",
       "      <th>2211503240</th>\n",
       "      <td>0.035103</td>\n",
       "      <td>-0.000191</td>\n",
       "      <td>0.1947</td>\n",
       "      <td>0.000087</td>\n",
       "      <td>-13.10250</td>\n",
       "    </tr>\n",
       "  </tbody>\n",
       "</table>\n",
       "</div>"
      ],
      "text/plain": [
       "             raJ2000  decJ2000  redshift  mass_stellar  absmag_r_total\n",
       "galtileid                                                             \n",
       "2209932244  0.034950 -0.000120    0.1995      0.000161       -13.24359\n",
       "2201788073  0.034923 -0.000554    0.1964      0.002476       -15.88512\n",
       "2201787850  0.035353 -0.000105    0.1835      0.002417       -15.63991\n",
       "2200394567  0.035337 -0.000311    0.2112      0.069907       -18.30111\n",
       "2211503240  0.035103 -0.000191    0.1947      0.000087       -13.10250"
      ]
     },
     "execution_count": 16,
     "metadata": {},
     "output_type": "execute_result"
    }
   ],
   "source": [
    "constr='redshift < 0.4'\n",
    "gBase = galCopy(galaxyTiled, obs_metadata=observerMetaData, constraint=constr)\n",
    "gBase.write_catalog('gBase.csv')\n",
    "#, defaultfmt='%.16f')\n",
    "gBase_df  = pd.read_csv('gBase.csv', delimiter=', ', index_col='#galtileid', engine='python')\n",
    "gBase_df.index.name = 'galtileid'\n",
    "#cols = gBase_df.columns\n",
    "#aliasCols = {x:x.strip() for x in cols}\n",
    "#gBase_df.rename(columns=aliasCols, inplace=True)\n",
    "#gBase_df = pd.DataFrame(tmp)\n",
    "gBase_df.head()"
   ]
  },
  {
   "cell_type": "code",
   "execution_count": 17,
   "metadata": {
    "collapsed": false
   },
   "outputs": [
    {
     "name": "stdout",
     "output_type": "stream",
     "text": [
      "#galtileid, raJ2000, decJ2000, redshift, mass_stellar, absmag_r_total\r\n",
      "2209932244, 0.0349504887962718, -0.0001196091574396, 0.1995, 1.607000e-04, -1.324359e+01\r\n",
      "2201788073, 0.0349234676092677, -0.0005537266514773, 0.1964, 2.475600e-03, -1.588512e+01\r\n",
      "2201787850, 0.0353531414987872, -0.0001045417351543, 0.1835, 2.417100e-03, -1.563991e+01\r\n",
      "2200394567, 0.0353368715415857, -0.0003107157377323, 0.2112, 6.990660e-02, -1.830111e+01\r\n",
      "2211503240, 0.0351034145394514, -0.0001914294625674, 0.1947, 8.700000e-05, -1.310250e+01\r\n",
      "2206214440, 0.0352063034372487, -0.0000989270068022, 0.2044, 1.809700e-03, -1.433908e+01\r\n",
      "2200154803, 0.0350872720024102, -0.0002457371266044, 0.2117, 4.579330e-02, -1.908944e+01\r\n",
      "2203734515, 0.0355689130729511, -0.0008379954310797, 0.1875, 2.979500e-03, -1.484655e+01\r\n",
      "2217340254, 0.0349765325985606, -0.0010479166332991, 0.2149, 1.820000e-05, -1.189331e+01\r\n"
     ]
    }
   ],
   "source": [
    "!head gBase.csv"
   ]
  },
  {
   "cell_type": "code",
   "execution_count": 18,
   "metadata": {
    "collapsed": false
   },
   "outputs": [
    {
     "data": {
      "text/plain": [
       "numpy.float64"
      ]
     },
     "execution_count": 18,
     "metadata": {},
     "output_type": "execute_result"
    }
   ],
   "source": [
    "type(gBase_df.ix[2209932244, 'raJ2000'])"
   ]
  },
  {
   "cell_type": "code",
   "execution_count": 19,
   "metadata": {
    "collapsed": false
   },
   "outputs": [
    {
     "data": {
      "text/plain": [
       "0.03495048879627180027362953751435"
      ]
     },
     "execution_count": 19,
     "metadata": {},
     "output_type": "execute_result"
    }
   ],
   "source": [
    "%precision 32\n",
    "gBase_df.ix[2209932244, 'raJ2000']"
   ]
  },
  {
   "cell_type": "code",
   "execution_count": 20,
   "metadata": {
    "collapsed": false
   },
   "outputs": [
    {
     "data": {
      "text/html": [
       "<div>\n",
       "<table border=\"1\" class=\"dataframe\">\n",
       "  <thead>\n",
       "    <tr style=\"text-align: right;\">\n",
       "      <th></th>\n",
       "      <th>galtileid</th>\n",
       "      <th>raJ2000</th>\n",
       "      <th>decJ2000</th>\n",
       "      <th>redshift</th>\n",
       "      <th>mass_stellar</th>\n",
       "      <th>absmag_r_total</th>\n",
       "    </tr>\n",
       "    <tr>\n",
       "      <th>id</th>\n",
       "      <th></th>\n",
       "      <th></th>\n",
       "      <th></th>\n",
       "      <th></th>\n",
       "      <th></th>\n",
       "      <th></th>\n",
       "    </tr>\n",
       "  </thead>\n",
       "  <tbody>\n",
       "    <tr>\n",
       "      <th>9932244</th>\n",
       "      <td>2209932244</td>\n",
       "      <td>0.034950</td>\n",
       "      <td>-0.000120</td>\n",
       "      <td>0.1995</td>\n",
       "      <td>0.000161</td>\n",
       "      <td>-13.24359</td>\n",
       "    </tr>\n",
       "    <tr>\n",
       "      <th>1788073</th>\n",
       "      <td>2201788073</td>\n",
       "      <td>0.034923</td>\n",
       "      <td>-0.000554</td>\n",
       "      <td>0.1964</td>\n",
       "      <td>0.002476</td>\n",
       "      <td>-15.88512</td>\n",
       "    </tr>\n",
       "    <tr>\n",
       "      <th>1787850</th>\n",
       "      <td>2201787850</td>\n",
       "      <td>0.035353</td>\n",
       "      <td>-0.000105</td>\n",
       "      <td>0.1835</td>\n",
       "      <td>0.002417</td>\n",
       "      <td>-15.63991</td>\n",
       "    </tr>\n",
       "    <tr>\n",
       "      <th>394567</th>\n",
       "      <td>2200394567</td>\n",
       "      <td>0.035337</td>\n",
       "      <td>-0.000311</td>\n",
       "      <td>0.2112</td>\n",
       "      <td>0.069907</td>\n",
       "      <td>-18.30111</td>\n",
       "    </tr>\n",
       "    <tr>\n",
       "      <th>11503240</th>\n",
       "      <td>2211503240</td>\n",
       "      <td>0.035103</td>\n",
       "      <td>-0.000191</td>\n",
       "      <td>0.1947</td>\n",
       "      <td>0.000087</td>\n",
       "      <td>-13.10250</td>\n",
       "    </tr>\n",
       "  </tbody>\n",
       "</table>\n",
       "</div>"
      ],
      "text/plain": [
       "           galtileid   raJ2000  decJ2000  redshift  mass_stellar  \\\n",
       "id                                                                 \n",
       "9932244   2209932244  0.034950 -0.000120    0.1995      0.000161   \n",
       "1788073   2201788073  0.034923 -0.000554    0.1964      0.002476   \n",
       "1787850   2201787850  0.035353 -0.000105    0.1835      0.002417   \n",
       "394567    2200394567  0.035337 -0.000311    0.2112      0.069907   \n",
       "11503240  2211503240  0.035103 -0.000191    0.1947      0.000087   \n",
       "\n",
       "          absmag_r_total  \n",
       "id                        \n",
       "9932244        -13.24359  \n",
       "1788073        -15.88512  \n",
       "1787850        -15.63991  \n",
       "394567         -18.30111  \n",
       "11503240       -13.10250  "
      ]
     },
     "execution_count": 20,
     "metadata": {},
     "output_type": "execute_result"
    }
   ],
   "source": [
    "# reset the id to \n",
    "gBase_df['id'] = galIds(22, gBase_df.index.values)\n",
    "gBase_df.reset_index(inplace=True)\n",
    "gBase_df.set_index('id', inplace=True)\n",
    "gBase_df.head()"
   ]
  },
  {
   "cell_type": "markdown",
   "metadata": {},
   "source": [
    "#### On a Tile 4 degrees South"
   ]
  },
  {
   "cell_type": "code",
   "execution_count": 21,
   "metadata": {
    "collapsed": false
   },
   "outputs": [
    {
     "data": {
      "text/html": [
       "<div>\n",
       "<table border=\"1\" class=\"dataframe\">\n",
       "  <thead>\n",
       "    <tr style=\"text-align: right;\">\n",
       "      <th></th>\n",
       "      <th>raJ2000</th>\n",
       "      <th>decJ2000</th>\n",
       "      <th>redshift</th>\n",
       "      <th>mass_stellar</th>\n",
       "      <th>absmag_r_total</th>\n",
       "    </tr>\n",
       "    <tr>\n",
       "      <th>galtileid_1</th>\n",
       "      <th></th>\n",
       "      <th></th>\n",
       "      <th></th>\n",
       "      <th></th>\n",
       "      <th></th>\n",
       "    </tr>\n",
       "  </thead>\n",
       "  <tbody>\n",
       "    <tr>\n",
       "      <th>2109932244</th>\n",
       "      <td>0.034951</td>\n",
       "      <td>-0.069933</td>\n",
       "      <td>0.1995</td>\n",
       "      <td>0.000161</td>\n",
       "      <td>-13.24359</td>\n",
       "    </tr>\n",
       "    <tr>\n",
       "      <th>2101788073</th>\n",
       "      <td>0.034924</td>\n",
       "      <td>-0.070367</td>\n",
       "      <td>0.1964</td>\n",
       "      <td>0.002476</td>\n",
       "      <td>-15.88512</td>\n",
       "    </tr>\n",
       "    <tr>\n",
       "      <th>2101787850</th>\n",
       "      <td>0.035354</td>\n",
       "      <td>-0.069918</td>\n",
       "      <td>0.1835</td>\n",
       "      <td>0.002417</td>\n",
       "      <td>-15.63991</td>\n",
       "    </tr>\n",
       "    <tr>\n",
       "      <th>2100394567</th>\n",
       "      <td>0.035338</td>\n",
       "      <td>-0.070124</td>\n",
       "      <td>0.2112</td>\n",
       "      <td>0.069907</td>\n",
       "      <td>-18.30111</td>\n",
       "    </tr>\n",
       "    <tr>\n",
       "      <th>2111503240</th>\n",
       "      <td>0.035104</td>\n",
       "      <td>-0.070005</td>\n",
       "      <td>0.1947</td>\n",
       "      <td>0.000087</td>\n",
       "      <td>-13.10250</td>\n",
       "    </tr>\n",
       "  </tbody>\n",
       "</table>\n",
       "</div>"
      ],
      "text/plain": [
       "              raJ2000  decJ2000  redshift  mass_stellar  absmag_r_total\n",
       "galtileid_1                                                            \n",
       "2109932244   0.034951 -0.069933    0.1995      0.000161       -13.24359\n",
       "2101788073   0.034924 -0.070367    0.1964      0.002476       -15.88512\n",
       "2101787850   0.035354 -0.069918    0.1835      0.002417       -15.63991\n",
       "2100394567   0.035338 -0.070124    0.2112      0.069907       -18.30111\n",
       "2111503240   0.035104 -0.070005    0.1947      0.000087       -13.10250"
      ]
     },
     "execution_count": 21,
     "metadata": {},
     "output_type": "execute_result"
    }
   ],
   "source": [
    "gTile_1 = galCopy(galaxyTiled, obs_metadata=observerMetaData_1, constraint=constr)\n",
    "gTile_1.write_catalog('gTile_1.csv')\n",
    "gTile1_df  = pd.read_csv('gTile_1.csv', delimiter=', ', index_col='#galtileid', engine='python')\n",
    "gTile1_df.index.name = 'galtileid_1'\n",
    "#cols = gTile1_df.columns\n",
    "#aliasCols = {x:x.strip() for x in cols}\n",
    "#gTile_df.rename(columns=aliasCols, inplace=True)\n",
    "gTile1_df.head()"
   ]
  },
  {
   "cell_type": "code",
   "execution_count": 22,
   "metadata": {
    "collapsed": false
   },
   "outputs": [
    {
     "name": "stdout",
     "output_type": "stream",
     "text": [
      "#galtileid, raJ2000, decJ2000, redshift, mass_stellar, absmag_r_total\r\n",
      "2109932244, 0.0349505963728822, -0.0699327791698189, 0.1995, 1.607000e-04, -1.324359e+01\r\n",
      "2101788073, 0.0349235094901067, -0.0703668967212848, 0.1964, 2.475600e-03, -1.588512e+01\r\n",
      "2101787850, 0.0353542352164480, -0.0699177048427305, 0.1835, 2.417100e-03, -1.563991e+01\r\n",
      "2100394567, 0.0353379316292574, -0.0701238793440136, 0.2112, 6.990660e-02, -1.830111e+01\r\n",
      "2111503240, 0.0351038978182583, -0.0700045981877754, 0.1947, 8.700000e-05, -1.310250e+01\r\n",
      "2106214440, 0.0352070373974102, -0.0699120939457518, 0.2044, 1.809700e-03, -1.433908e+01\r\n",
      "2100154803, 0.0350877163340403, -0.0700589060648804, 0.2117, 4.579330e-02, -1.908944e+01\r\n",
      "2103734515, 0.0355705693184209, -0.0706511501722628, 0.1875, 2.979500e-03, -1.484655e+01\r\n",
      "2117340254, 0.0349767085418451, -0.0708610865419956, 0.2149, 1.820000e-05, -1.189331e+01\r\n"
     ]
    }
   ],
   "source": [
    "!head gTile_1.csv"
   ]
  },
  {
   "cell_type": "code",
   "execution_count": 23,
   "metadata": {
    "collapsed": false
   },
   "outputs": [
    {
     "data": {
      "text/plain": [
       "0.03495059637288219778206155297084"
      ]
     },
     "execution_count": 23,
     "metadata": {},
     "output_type": "execute_result"
    }
   ],
   "source": [
    "gTile1_df.ix[2109932244, 'raJ2000']"
   ]
  },
  {
   "cell_type": "code",
   "execution_count": 24,
   "metadata": {
    "collapsed": false
   },
   "outputs": [
    {
     "data": {
      "text/html": [
       "<div>\n",
       "<table border=\"1\" class=\"dataframe\">\n",
       "  <thead>\n",
       "    <tr style=\"text-align: right;\">\n",
       "      <th></th>\n",
       "      <th>galtileid_1</th>\n",
       "      <th>raJ2000_1</th>\n",
       "      <th>decJ2000_1</th>\n",
       "      <th>redshift_1</th>\n",
       "      <th>mass_stellar_1</th>\n",
       "      <th>absmag_r_total_1</th>\n",
       "    </tr>\n",
       "    <tr>\n",
       "      <th>id</th>\n",
       "      <th></th>\n",
       "      <th></th>\n",
       "      <th></th>\n",
       "      <th></th>\n",
       "      <th></th>\n",
       "      <th></th>\n",
       "    </tr>\n",
       "  </thead>\n",
       "  <tbody>\n",
       "    <tr>\n",
       "      <th>9932244</th>\n",
       "      <td>2109932244</td>\n",
       "      <td>0.034951</td>\n",
       "      <td>-0.069933</td>\n",
       "      <td>0.1995</td>\n",
       "      <td>0.000161</td>\n",
       "      <td>-13.24359</td>\n",
       "    </tr>\n",
       "    <tr>\n",
       "      <th>1788073</th>\n",
       "      <td>2101788073</td>\n",
       "      <td>0.034924</td>\n",
       "      <td>-0.070367</td>\n",
       "      <td>0.1964</td>\n",
       "      <td>0.002476</td>\n",
       "      <td>-15.88512</td>\n",
       "    </tr>\n",
       "    <tr>\n",
       "      <th>1787850</th>\n",
       "      <td>2101787850</td>\n",
       "      <td>0.035354</td>\n",
       "      <td>-0.069918</td>\n",
       "      <td>0.1835</td>\n",
       "      <td>0.002417</td>\n",
       "      <td>-15.63991</td>\n",
       "    </tr>\n",
       "    <tr>\n",
       "      <th>394567</th>\n",
       "      <td>2100394567</td>\n",
       "      <td>0.035338</td>\n",
       "      <td>-0.070124</td>\n",
       "      <td>0.2112</td>\n",
       "      <td>0.069907</td>\n",
       "      <td>-18.30111</td>\n",
       "    </tr>\n",
       "    <tr>\n",
       "      <th>11503240</th>\n",
       "      <td>2111503240</td>\n",
       "      <td>0.035104</td>\n",
       "      <td>-0.070005</td>\n",
       "      <td>0.1947</td>\n",
       "      <td>0.000087</td>\n",
       "      <td>-13.10250</td>\n",
       "    </tr>\n",
       "  </tbody>\n",
       "</table>\n",
       "</div>"
      ],
      "text/plain": [
       "          galtileid_1  raJ2000_1  decJ2000_1  redshift_1  mass_stellar_1  \\\n",
       "id                                                                         \n",
       "9932244    2109932244   0.034951   -0.069933      0.1995        0.000161   \n",
       "1788073    2101788073   0.034924   -0.070367      0.1964        0.002476   \n",
       "1787850    2101787850   0.035354   -0.069918      0.1835        0.002417   \n",
       "394567     2100394567   0.035338   -0.070124      0.2112        0.069907   \n",
       "11503240   2111503240   0.035104   -0.070005      0.1947        0.000087   \n",
       "\n",
       "          absmag_r_total_1  \n",
       "id                          \n",
       "9932244          -13.24359  \n",
       "1788073          -15.88512  \n",
       "1787850          -15.63991  \n",
       "394567           -18.30111  \n",
       "11503240         -13.10250  "
      ]
     },
     "execution_count": 24,
     "metadata": {},
     "output_type": "execute_result"
    }
   ],
   "source": [
    "gTile1_df['id'] = galIds(21, gTile1_df.index.values)\n",
    "gTile1_df.reset_index(inplace=True)\n",
    "gTile1_df.set_index('id', inplace=True)\n",
    "gTile1_df.rename(columns={'raJ2000':'raJ2000_1', 'decJ2000':'decJ2000_1', 'redshift': 'redshift_1',\n",
    "                          'mass_stellar':'mass_stellar_1', 'absmag_r_total':'absmag_r_total_1'},\n",
    "                 inplace=True)\n",
    "gTile1_df.head()"
   ]
  },
  {
   "cell_type": "markdown",
   "metadata": {},
   "source": [
    "We will merge the two dataFrames, using the ids of the galaxy calculated from the galtileID and the knowledge of the tileID. We look up the tileID for the two tiles as 22, 21 respectively."
   ]
  },
  {
   "cell_type": "code",
   "execution_count": 25,
   "metadata": {
    "collapsed": true
   },
   "outputs": [],
   "source": [
    "merged =  pd.concat([gBase_df, gTile1_df], axis=1)"
   ]
  },
  {
   "cell_type": "code",
   "execution_count": 26,
   "metadata": {
    "collapsed": false
   },
   "outputs": [
    {
     "data": {
      "text/html": [
       "<div>\n",
       "<table border=\"1\" class=\"dataframe\">\n",
       "  <thead>\n",
       "    <tr style=\"text-align: right;\">\n",
       "      <th></th>\n",
       "      <th>galtileid</th>\n",
       "      <th>raJ2000</th>\n",
       "      <th>decJ2000</th>\n",
       "      <th>redshift</th>\n",
       "      <th>mass_stellar</th>\n",
       "      <th>absmag_r_total</th>\n",
       "      <th>galtileid_1</th>\n",
       "      <th>raJ2000_1</th>\n",
       "      <th>decJ2000_1</th>\n",
       "      <th>redshift_1</th>\n",
       "      <th>mass_stellar_1</th>\n",
       "      <th>absmag_r_total_1</th>\n",
       "    </tr>\n",
       "    <tr>\n",
       "      <th>id</th>\n",
       "      <th></th>\n",
       "      <th></th>\n",
       "      <th></th>\n",
       "      <th></th>\n",
       "      <th></th>\n",
       "      <th></th>\n",
       "      <th></th>\n",
       "      <th></th>\n",
       "      <th></th>\n",
       "      <th></th>\n",
       "      <th></th>\n",
       "      <th></th>\n",
       "    </tr>\n",
       "  </thead>\n",
       "  <tbody>\n",
       "    <tr>\n",
       "      <th>259</th>\n",
       "      <td>2200000259</td>\n",
       "      <td>0.033403</td>\n",
       "      <td>0.001036</td>\n",
       "      <td>0.1728</td>\n",
       "      <td>0.009030</td>\n",
       "      <td>-15.33565</td>\n",
       "      <td>2100000259</td>\n",
       "      <td>0.033400</td>\n",
       "      <td>-0.068777</td>\n",
       "      <td>0.1728</td>\n",
       "      <td>0.009030</td>\n",
       "      <td>-15.33565</td>\n",
       "    </tr>\n",
       "    <tr>\n",
       "      <th>371</th>\n",
       "      <td>2200000371</td>\n",
       "      <td>0.036230</td>\n",
       "      <td>-0.000562</td>\n",
       "      <td>0.0421</td>\n",
       "      <td>0.416331</td>\n",
       "      <td>-19.77124</td>\n",
       "      <td>2100000371</td>\n",
       "      <td>0.036233</td>\n",
       "      <td>-0.070375</td>\n",
       "      <td>0.0421</td>\n",
       "      <td>0.416331</td>\n",
       "      <td>-19.77124</td>\n",
       "    </tr>\n",
       "    <tr>\n",
       "      <th>416</th>\n",
       "      <td>2200000416</td>\n",
       "      <td>0.034866</td>\n",
       "      <td>0.000352</td>\n",
       "      <td>0.0544</td>\n",
       "      <td>2.260572</td>\n",
       "      <td>-21.29976</td>\n",
       "      <td>2100000416</td>\n",
       "      <td>0.034866</td>\n",
       "      <td>-0.069461</td>\n",
       "      <td>0.0544</td>\n",
       "      <td>2.260572</td>\n",
       "      <td>-21.29976</td>\n",
       "    </tr>\n",
       "    <tr>\n",
       "      <th>1083</th>\n",
       "      <td>2200001083</td>\n",
       "      <td>0.034761</td>\n",
       "      <td>-0.001270</td>\n",
       "      <td>0.1438</td>\n",
       "      <td>18.788060</td>\n",
       "      <td>-23.22925</td>\n",
       "      <td>2100001083</td>\n",
       "      <td>0.034761</td>\n",
       "      <td>-0.071083</td>\n",
       "      <td>0.1438</td>\n",
       "      <td>18.788060</td>\n",
       "      <td>-23.22925</td>\n",
       "    </tr>\n",
       "    <tr>\n",
       "      <th>1605</th>\n",
       "      <td>2200001605</td>\n",
       "      <td>0.034287</td>\n",
       "      <td>-0.000954</td>\n",
       "      <td>0.0545</td>\n",
       "      <td>1.074812</td>\n",
       "      <td>-20.27710</td>\n",
       "      <td>2100001605</td>\n",
       "      <td>0.034285</td>\n",
       "      <td>-0.070767</td>\n",
       "      <td>0.0545</td>\n",
       "      <td>1.074812</td>\n",
       "      <td>-20.27710</td>\n",
       "    </tr>\n",
       "  </tbody>\n",
       "</table>\n",
       "</div>"
      ],
      "text/plain": [
       "       galtileid   raJ2000  decJ2000  redshift  mass_stellar  absmag_r_total  \\\n",
       "id                                                                             \n",
       "259   2200000259  0.033403  0.001036    0.1728      0.009030       -15.33565   \n",
       "371   2200000371  0.036230 -0.000562    0.0421      0.416331       -19.77124   \n",
       "416   2200000416  0.034866  0.000352    0.0544      2.260572       -21.29976   \n",
       "1083  2200001083  0.034761 -0.001270    0.1438     18.788060       -23.22925   \n",
       "1605  2200001605  0.034287 -0.000954    0.0545      1.074812       -20.27710   \n",
       "\n",
       "      galtileid_1  raJ2000_1  decJ2000_1  redshift_1  mass_stellar_1  \\\n",
       "id                                                                     \n",
       "259    2100000259   0.033400   -0.068777      0.1728        0.009030   \n",
       "371    2100000371   0.036233   -0.070375      0.0421        0.416331   \n",
       "416    2100000416   0.034866   -0.069461      0.0544        2.260572   \n",
       "1083   2100001083   0.034761   -0.071083      0.1438       18.788060   \n",
       "1605   2100001605   0.034285   -0.070767      0.0545        1.074812   \n",
       "\n",
       "      absmag_r_total_1  \n",
       "id                      \n",
       "259          -15.33565  \n",
       "371          -19.77124  \n",
       "416          -21.29976  \n",
       "1083         -23.22925  \n",
       "1605         -20.27710  "
      ]
     },
     "execution_count": 26,
     "metadata": {},
     "output_type": "execute_result"
    }
   ],
   "source": [
    "merged.head()"
   ]
  },
  {
   "cell_type": "markdown",
   "metadata": {},
   "source": [
    "How many galaxies in one which are not in the other? Ideally, I think this number should be zero. In the following plot, these points are labelled in blue."
   ]
  },
  {
   "cell_type": "code",
   "execution_count": 27,
   "metadata": {
    "collapsed": true
   },
   "outputs": [],
   "source": [
    "uncommon = merged[merged.isnull().any(axis=1)].copy()"
   ]
  },
  {
   "cell_type": "code",
   "execution_count": 28,
   "metadata": {
    "collapsed": false
   },
   "outputs": [
    {
     "data": {
      "text/plain": [
       "4"
      ]
     },
     "execution_count": 28,
     "metadata": {},
     "output_type": "execute_result"
    }
   ],
   "source": [
    "len(uncommon)"
   ]
  },
  {
   "cell_type": "code",
   "execution_count": 29,
   "metadata": {
    "collapsed": false
   },
   "outputs": [
    {
     "data": {
      "text/html": [
       "<div>\n",
       "<table border=\"1\" class=\"dataframe\">\n",
       "  <thead>\n",
       "    <tr style=\"text-align: right;\">\n",
       "      <th></th>\n",
       "      <th>raJ2000</th>\n",
       "      <th>decJ2000</th>\n",
       "    </tr>\n",
       "    <tr>\n",
       "      <th>id</th>\n",
       "      <th></th>\n",
       "      <th></th>\n",
       "    </tr>\n",
       "  </thead>\n",
       "  <tbody>\n",
       "    <tr>\n",
       "      <th>655425</th>\n",
       "      <td>-0.001742</td>\n",
       "      <td>-0.033653</td>\n",
       "    </tr>\n",
       "    <tr>\n",
       "      <th>3241089</th>\n",
       "      <td>0.001744</td>\n",
       "      <td>-0.034328</td>\n",
       "    </tr>\n",
       "    <tr>\n",
       "      <th>7396529</th>\n",
       "      <td>-0.001742</td>\n",
       "      <td>-0.035240</td>\n",
       "    </tr>\n",
       "    <tr>\n",
       "      <th>11624745</th>\n",
       "      <td>-0.001743</td>\n",
       "      <td>-0.035440</td>\n",
       "    </tr>\n",
       "  </tbody>\n",
       "</table>\n",
       "</div>"
      ],
      "text/plain": [
       "           raJ2000  decJ2000\n",
       "id                          \n",
       "655425   -0.001742 -0.033653\n",
       "3241089   0.001744 -0.034328\n",
       "7396529  -0.001742 -0.035240\n",
       "11624745 -0.001743 -0.035440"
      ]
     },
     "execution_count": 29,
     "metadata": {},
     "output_type": "execute_result"
    }
   ],
   "source": [
    "uncommon[['raJ2000', 'decJ2000']].apply(lambda x: x - np.radians(2.))"
   ]
  },
  {
   "cell_type": "code",
   "execution_count": 30,
   "metadata": {
    "collapsed": false
   },
   "outputs": [
    {
     "data": {
      "text/plain": [
       "2284"
      ]
     },
     "execution_count": 30,
     "metadata": {},
     "output_type": "execute_result"
    }
   ],
   "source": [
    "len(merged)"
   ]
  },
  {
   "cell_type": "code",
   "execution_count": 36,
   "metadata": {
    "collapsed": false
   },
   "outputs": [
    {
     "data": {
      "text/plain": [
       "<matplotlib.text.Text at 0x123ffeb10>"
      ]
     },
     "execution_count": 36,
     "metadata": {},
     "output_type": "execute_result"
    },
    {
     "data": {
      "image/png": "[encoded data removed]",
      "text/plain": [
       "<matplotlib.figure.Figure at 0x122add910>"
      ]
     },
     "metadata": {},
     "output_type": "display_data"
    }
   ],
   "source": [
    "fig, ax = plt.subplots(2, 1, figsize=(6, 12), sharex=True, squeeze=True)\n",
    "ax[0].plot(merged.raJ2000, merged.decJ2000, 'y.')\n",
    "ax[0].scatter(uncommon.raJ2000, uncommon.decJ2000, color='b')\n",
    "ax[1].plot(merged.raJ2000_1, merged.decJ2000_1, 'y.')\n",
    "ax[1].scatter(uncommon.raJ2000_1, uncommon.decJ2000_1, color='r')\n",
    "ax[0].set_ylabel('dec (rad)')\n",
    "ax[1].set_ylabel('dec (rad)')\n",
    "ax[1].set_xlabel('ra (rad)')\n",
    "ax[0].set_title('pointing DEC = 0')\n",
    "ax[1].set_title('pointing DEC = -4.')"
   ]
  },
  {
   "cell_type": "code",
   "execution_count": 32,
   "metadata": {
    "collapsed": false
   },
   "outputs": [
    {
     "name": "stdout",
     "output_type": "stream",
     "text": [
      "2.0 2282.0\n"
     ]
    }
   ],
   "source": [
    "print(len(uncommon)/2., (len(gBase_df) + len(gTile1_df) )/2.)"
   ]
  },
  {
   "cell_type": "code",
   "execution_count": 37,
   "metadata": {
    "collapsed": false
   },
   "outputs": [
    {
     "data": {
      "text/plain": [
       "47.20169488482378739035993930883706"
      ]
     },
     "execution_count": 37,
     "metadata": {},
     "output_type": "execute_result"
    }
   ],
   "source": [
    "np.sqrt(2228.)"
   ]
  },
  {
   "cell_type": "markdown",
   "metadata": {},
   "source": [
    "## Tests Galaxies are correctly identified"
   ]
  },
  {
   "cell_type": "code",
   "execution_count": 38,
   "metadata": {
    "collapsed": false
   },
   "outputs": [],
   "source": [
    "common = merged[~merged.isnull().any(axis=1)]"
   ]
  },
  {
   "cell_type": "code",
   "execution_count": 39,
   "metadata": {
    "collapsed": false
   },
   "outputs": [
    {
     "data": {
      "text/plain": [
       "True"
      ]
     },
     "execution_count": 39,
     "metadata": {},
     "output_type": "execute_result"
    }
   ],
   "source": [
    "np.allclose(common.redshift, common.redshift_1)"
   ]
  },
  {
   "cell_type": "code",
   "execution_count": 40,
   "metadata": {
    "collapsed": false
   },
   "outputs": [
    {
     "data": {
      "text/plain": [
       "True"
      ]
     },
     "execution_count": 40,
     "metadata": {},
     "output_type": "execute_result"
    }
   ],
   "source": [
    "np.allclose(common.mass_stellar, common.mass_stellar_1)"
   ]
  },
  {
   "cell_type": "code",
   "execution_count": 41,
   "metadata": {
    "collapsed": false
   },
   "outputs": [
    {
     "data": {
      "text/plain": [
       "True"
      ]
     },
     "execution_count": 41,
     "metadata": {},
     "output_type": "execute_result"
    }
   ],
   "source": [
    "np.allclose(common.absmag_r_total, common.absmag_r_total_1)"
   ]
  },
  {
   "cell_type": "code",
   "execution_count": 42,
   "metadata": {
    "collapsed": false
   },
   "outputs": [
    {
     "name": "stdout",
     "output_type": "stream",
     "text": [
      "2280\n"
     ]
    }
   ],
   "source": [
    "print(len(common))"
   ]
  },
  {
   "cell_type": "code",
   "execution_count": 43,
   "metadata": {
    "collapsed": false
   },
   "outputs": [
    {
     "data": {
      "text/html": [
       "<div>\n",
       "<table border=\"1\" class=\"dataframe\">\n",
       "  <thead>\n",
       "    <tr style=\"text-align: right;\">\n",
       "      <th></th>\n",
       "      <th>galtileid</th>\n",
       "      <th>raJ2000</th>\n",
       "      <th>decJ2000</th>\n",
       "      <th>redshift</th>\n",
       "      <th>mass_stellar</th>\n",
       "      <th>absmag_r_total</th>\n",
       "      <th>galtileid_1</th>\n",
       "      <th>raJ2000_1</th>\n",
       "      <th>decJ2000_1</th>\n",
       "      <th>redshift_1</th>\n",
       "      <th>mass_stellar_1</th>\n",
       "      <th>absmag_r_total_1</th>\n",
       "    </tr>\n",
       "    <tr>\n",
       "      <th>id</th>\n",
       "      <th></th>\n",
       "      <th></th>\n",
       "      <th></th>\n",
       "      <th></th>\n",
       "      <th></th>\n",
       "      <th></th>\n",
       "      <th></th>\n",
       "      <th></th>\n",
       "      <th></th>\n",
       "      <th></th>\n",
       "      <th></th>\n",
       "      <th></th>\n",
       "    </tr>\n",
       "  </thead>\n",
       "  <tbody>\n",
       "    <tr>\n",
       "      <th>259</th>\n",
       "      <td>2200000259</td>\n",
       "      <td>0.033403</td>\n",
       "      <td>0.001036</td>\n",
       "      <td>0.1728</td>\n",
       "      <td>0.009030</td>\n",
       "      <td>-15.33565</td>\n",
       "      <td>2100000259</td>\n",
       "      <td>0.033400</td>\n",
       "      <td>-0.068777</td>\n",
       "      <td>0.1728</td>\n",
       "      <td>0.009030</td>\n",
       "      <td>-15.33565</td>\n",
       "    </tr>\n",
       "    <tr>\n",
       "      <th>371</th>\n",
       "      <td>2200000371</td>\n",
       "      <td>0.036230</td>\n",
       "      <td>-0.000562</td>\n",
       "      <td>0.0421</td>\n",
       "      <td>0.416331</td>\n",
       "      <td>-19.77124</td>\n",
       "      <td>2100000371</td>\n",
       "      <td>0.036233</td>\n",
       "      <td>-0.070375</td>\n",
       "      <td>0.0421</td>\n",
       "      <td>0.416331</td>\n",
       "      <td>-19.77124</td>\n",
       "    </tr>\n",
       "    <tr>\n",
       "      <th>416</th>\n",
       "      <td>2200000416</td>\n",
       "      <td>0.034866</td>\n",
       "      <td>0.000352</td>\n",
       "      <td>0.0544</td>\n",
       "      <td>2.260572</td>\n",
       "      <td>-21.29976</td>\n",
       "      <td>2100000416</td>\n",
       "      <td>0.034866</td>\n",
       "      <td>-0.069461</td>\n",
       "      <td>0.0544</td>\n",
       "      <td>2.260572</td>\n",
       "      <td>-21.29976</td>\n",
       "    </tr>\n",
       "    <tr>\n",
       "      <th>1083</th>\n",
       "      <td>2200001083</td>\n",
       "      <td>0.034761</td>\n",
       "      <td>-0.001270</td>\n",
       "      <td>0.1438</td>\n",
       "      <td>18.788060</td>\n",
       "      <td>-23.22925</td>\n",
       "      <td>2100001083</td>\n",
       "      <td>0.034761</td>\n",
       "      <td>-0.071083</td>\n",
       "      <td>0.1438</td>\n",
       "      <td>18.788060</td>\n",
       "      <td>-23.22925</td>\n",
       "    </tr>\n",
       "    <tr>\n",
       "      <th>1605</th>\n",
       "      <td>2200001605</td>\n",
       "      <td>0.034287</td>\n",
       "      <td>-0.000954</td>\n",
       "      <td>0.0545</td>\n",
       "      <td>1.074812</td>\n",
       "      <td>-20.27710</td>\n",
       "      <td>2100001605</td>\n",
       "      <td>0.034285</td>\n",
       "      <td>-0.070767</td>\n",
       "      <td>0.0545</td>\n",
       "      <td>1.074812</td>\n",
       "      <td>-20.27710</td>\n",
       "    </tr>\n",
       "  </tbody>\n",
       "</table>\n",
       "</div>"
      ],
      "text/plain": [
       "       galtileid   raJ2000  decJ2000  redshift  mass_stellar  absmag_r_total  \\\n",
       "id                                                                             \n",
       "259   2200000259  0.033403  0.001036    0.1728      0.009030       -15.33565   \n",
       "371   2200000371  0.036230 -0.000562    0.0421      0.416331       -19.77124   \n",
       "416   2200000416  0.034866  0.000352    0.0544      2.260572       -21.29976   \n",
       "1083  2200001083  0.034761 -0.001270    0.1438     18.788060       -23.22925   \n",
       "1605  2200001605  0.034287 -0.000954    0.0545      1.074812       -20.27710   \n",
       "\n",
       "      galtileid_1  raJ2000_1  decJ2000_1  redshift_1  mass_stellar_1  \\\n",
       "id                                                                     \n",
       "259    2100000259   0.033400   -0.068777      0.1728        0.009030   \n",
       "371    2100000371   0.036233   -0.070375      0.0421        0.416331   \n",
       "416    2100000416   0.034866   -0.069461      0.0544        2.260572   \n",
       "1083   2100001083   0.034761   -0.071083      0.1438       18.788060   \n",
       "1605   2100001605   0.034285   -0.070767      0.0545        1.074812   \n",
       "\n",
       "      absmag_r_total_1  \n",
       "id                      \n",
       "259          -15.33565  \n",
       "371          -19.77124  \n",
       "416          -21.29976  \n",
       "1083         -23.22925  \n",
       "1605         -20.27710  "
      ]
     },
     "execution_count": 43,
     "metadata": {},
     "output_type": "execute_result"
    }
   ],
   "source": [
    "common.head()"
   ]
  },
  {
   "cell_type": "markdown",
   "metadata": {},
   "source": [
    "## Angular Separations"
   ]
  },
  {
   "cell_type": "code",
   "execution_count": 44,
   "metadata": {
    "collapsed": false
   },
   "outputs": [
    {
     "name": "stderr",
     "output_type": "stream",
     "text": [
      "/usr/local/manual/anaconda/lib/python2.7/site-packages/ipykernel/__main__.py:11: SettingWithCopyWarning: \n",
      "A value is trying to be set on a copy of a slice from a DataFrame.\n",
      "Try using .loc[row_indexer,col_indexer] = value instead\n",
      "\n",
      "See the caveats in the documentation: http://pandas.pydata.org/pandas-docs/stable/indexing.html#indexing-view-versus-copy\n",
      "/usr/local/manual/anaconda/lib/python2.7/site-packages/ipykernel/__main__.py:12: SettingWithCopyWarning: \n",
      "A value is trying to be set on a copy of a slice from a DataFrame.\n",
      "Try using .loc[row_indexer,col_indexer] = value instead\n",
      "\n",
      "See the caveats in the documentation: http://pandas.pydata.org/pandas-docs/stable/indexing.html#indexing-view-versus-copy\n",
      "/usr/local/manual/anaconda/lib/python2.7/site-packages/ipykernel/__main__.py:28: SettingWithCopyWarning: \n",
      "A value is trying to be set on a copy of a slice from a DataFrame.\n",
      "Try using .loc[row_indexer,col_indexer] = value instead\n",
      "\n",
      "See the caveats in the documentation: http://pandas.pydata.org/pandas-docs/stable/indexing.html#indexing-view-versus-copy\n",
      "/usr/local/manual/anaconda/lib/python2.7/site-packages/ipykernel/__main__.py:37: SettingWithCopyWarning: \n",
      "A value is trying to be set on a copy of a slice from a DataFrame.\n",
      "Try using .loc[row_indexer,col_indexer] = value instead\n",
      "\n",
      "See the caveats in the documentation: http://pandas.pydata.org/pandas-docs/stable/indexing.html#indexing-view-versus-copy\n"
     ]
    },
    {
     "name": "stdout",
     "output_type": "stream",
     "text": [
      "1 loops, best of 3: 272 ms per loop\n"
     ]
    }
   ],
   "source": [
    "%timeit rotation(common, delta=1)"
   ]
  },
  {
   "cell_type": "code",
   "execution_count": 45,
   "metadata": {
    "collapsed": false
   },
   "outputs": [
    {
     "data": {
      "text/html": [
       "<div>\n",
       "<table border=\"1\" class=\"dataframe\">\n",
       "  <thead>\n",
       "    <tr style=\"text-align: right;\">\n",
       "      <th></th>\n",
       "      <th>galtileid</th>\n",
       "      <th>raJ2000</th>\n",
       "      <th>decJ2000</th>\n",
       "      <th>redshift</th>\n",
       "      <th>mass_stellar</th>\n",
       "      <th>absmag_r_total</th>\n",
       "      <th>galtileid_1</th>\n",
       "      <th>raJ2000_1</th>\n",
       "      <th>decJ2000_1</th>\n",
       "      <th>redshift_1</th>\n",
       "      <th>mass_stellar_1</th>\n",
       "      <th>absmag_r_total_1</th>\n",
       "      <th>theta</th>\n",
       "      <th>phi</th>\n",
       "      <th>phiprime_1</th>\n",
       "      <th>thetaprime_1</th>\n",
       "    </tr>\n",
       "    <tr>\n",
       "      <th>id</th>\n",
       "      <th></th>\n",
       "      <th></th>\n",
       "      <th></th>\n",
       "      <th></th>\n",
       "      <th></th>\n",
       "      <th></th>\n",
       "      <th></th>\n",
       "      <th></th>\n",
       "      <th></th>\n",
       "      <th></th>\n",
       "      <th></th>\n",
       "      <th></th>\n",
       "      <th></th>\n",
       "      <th></th>\n",
       "      <th></th>\n",
       "      <th></th>\n",
       "    </tr>\n",
       "  </thead>\n",
       "  <tbody>\n",
       "    <tr>\n",
       "      <th>259</th>\n",
       "      <td>2200000259</td>\n",
       "      <td>0.033403</td>\n",
       "      <td>0.001036</td>\n",
       "      <td>0.1728</td>\n",
       "      <td>0.009030</td>\n",
       "      <td>-15.33565</td>\n",
       "      <td>2100000259</td>\n",
       "      <td>0.033400</td>\n",
       "      <td>-0.068777</td>\n",
       "      <td>0.1728</td>\n",
       "      <td>0.009030</td>\n",
       "      <td>-15.33565</td>\n",
       "      <td>1.569761</td>\n",
       "      <td>-0.001503</td>\n",
       "      <td>0.033400</td>\n",
       "      <td>1.639574</td>\n",
       "    </tr>\n",
       "    <tr>\n",
       "      <th>371</th>\n",
       "      <td>2200000371</td>\n",
       "      <td>0.036230</td>\n",
       "      <td>-0.000562</td>\n",
       "      <td>0.0421</td>\n",
       "      <td>0.416331</td>\n",
       "      <td>-19.77124</td>\n",
       "      <td>2100000371</td>\n",
       "      <td>0.036233</td>\n",
       "      <td>-0.070375</td>\n",
       "      <td>0.0421</td>\n",
       "      <td>0.416331</td>\n",
       "      <td>-19.77124</td>\n",
       "      <td>1.571358</td>\n",
       "      <td>0.001323</td>\n",
       "      <td>0.036233</td>\n",
       "      <td>1.641171</td>\n",
       "    </tr>\n",
       "    <tr>\n",
       "      <th>416</th>\n",
       "      <td>2200000416</td>\n",
       "      <td>0.034866</td>\n",
       "      <td>0.000352</td>\n",
       "      <td>0.0544</td>\n",
       "      <td>2.260572</td>\n",
       "      <td>-21.29976</td>\n",
       "      <td>2100000416</td>\n",
       "      <td>0.034866</td>\n",
       "      <td>-0.069461</td>\n",
       "      <td>0.0544</td>\n",
       "      <td>2.260572</td>\n",
       "      <td>-21.29976</td>\n",
       "      <td>1.570444</td>\n",
       "      <td>-0.000041</td>\n",
       "      <td>0.034866</td>\n",
       "      <td>1.640258</td>\n",
       "    </tr>\n",
       "    <tr>\n",
       "      <th>1083</th>\n",
       "      <td>2200001083</td>\n",
       "      <td>0.034761</td>\n",
       "      <td>-0.001270</td>\n",
       "      <td>0.1438</td>\n",
       "      <td>18.788060</td>\n",
       "      <td>-23.22925</td>\n",
       "      <td>2100001083</td>\n",
       "      <td>0.034761</td>\n",
       "      <td>-0.071083</td>\n",
       "      <td>0.1438</td>\n",
       "      <td>18.788060</td>\n",
       "      <td>-23.22925</td>\n",
       "      <td>1.572066</td>\n",
       "      <td>-0.000145</td>\n",
       "      <td>0.034761</td>\n",
       "      <td>1.641879</td>\n",
       "    </tr>\n",
       "    <tr>\n",
       "      <th>1605</th>\n",
       "      <td>2200001605</td>\n",
       "      <td>0.034287</td>\n",
       "      <td>-0.000954</td>\n",
       "      <td>0.0545</td>\n",
       "      <td>1.074812</td>\n",
       "      <td>-20.27710</td>\n",
       "      <td>2100001605</td>\n",
       "      <td>0.034285</td>\n",
       "      <td>-0.070767</td>\n",
       "      <td>0.0545</td>\n",
       "      <td>1.074812</td>\n",
       "      <td>-20.27710</td>\n",
       "      <td>1.571750</td>\n",
       "      <td>-0.000620</td>\n",
       "      <td>0.034285</td>\n",
       "      <td>1.641564</td>\n",
       "    </tr>\n",
       "  </tbody>\n",
       "</table>\n",
       "</div>"
      ],
      "text/plain": [
       "       galtileid   raJ2000  decJ2000  redshift  mass_stellar  absmag_r_total  \\\n",
       "id                                                                             \n",
       "259   2200000259  0.033403  0.001036    0.1728      0.009030       -15.33565   \n",
       "371   2200000371  0.036230 -0.000562    0.0421      0.416331       -19.77124   \n",
       "416   2200000416  0.034866  0.000352    0.0544      2.260572       -21.29976   \n",
       "1083  2200001083  0.034761 -0.001270    0.1438     18.788060       -23.22925   \n",
       "1605  2200001605  0.034287 -0.000954    0.0545      1.074812       -20.27710   \n",
       "\n",
       "      galtileid_1  raJ2000_1  decJ2000_1  redshift_1  mass_stellar_1  \\\n",
       "id                                                                     \n",
       "259    2100000259   0.033400   -0.068777      0.1728        0.009030   \n",
       "371    2100000371   0.036233   -0.070375      0.0421        0.416331   \n",
       "416    2100000416   0.034866   -0.069461      0.0544        2.260572   \n",
       "1083   2100001083   0.034761   -0.071083      0.1438       18.788060   \n",
       "1605   2100001605   0.034285   -0.070767      0.0545        1.074812   \n",
       "\n",
       "      absmag_r_total_1     theta       phi  phiprime_1  thetaprime_1  \n",
       "id                                                                    \n",
       "259          -15.33565  1.569761 -0.001503    0.033400      1.639574  \n",
       "371          -19.77124  1.571358  0.001323    0.036233      1.641171  \n",
       "416          -21.29976  1.570444 -0.000041    0.034866      1.640258  \n",
       "1083         -23.22925  1.572066 -0.000145    0.034761      1.641879  \n",
       "1605         -20.27710  1.571750 -0.000620    0.034285      1.641564  "
      ]
     },
     "execution_count": 45,
     "metadata": {},
     "output_type": "execute_result"
    }
   ],
   "source": [
    "common.head()"
   ]
  },
  {
   "cell_type": "code",
   "execution_count": 46,
   "metadata": {
    "collapsed": false
   },
   "outputs": [
    {
     "data": {
      "text/plain": [
       "count    2.280000e+03\n",
       "mean     2.777082e-15\n",
       "std      2.465360e-15\n",
       "min     -5.856426e-15\n",
       "25%      1.115427e-15\n",
       "50%      2.768619e-15\n",
       "75%      4.423545e-15\n",
       "max      1.092182e-14\n",
       "dtype: float64"
      ]
     },
     "execution_count": 46,
     "metadata": {},
     "output_type": "execute_result"
    }
   ],
   "source": [
    "(common.raJ2000_1 - common.phiprime_1).describe()"
   ]
  },
  {
   "cell_type": "code",
   "execution_count": 47,
   "metadata": {
    "collapsed": false
   },
   "outputs": [
    {
     "data": {
      "text/plain": [
       "<matplotlib.axes._subplots.AxesSubplot at 0x122a29b10>"
      ]
     },
     "execution_count": 47,
     "metadata": {},
     "output_type": "execute_result"
    },
    {
     "data": {
      "image/png": "[encoded data removed]",
      "text/plain": [
       "<matplotlib.figure.Figure at 0x123c9fd90>"
      ]
     },
     "metadata": {},
     "output_type": "display_data"
    }
   ],
   "source": [
    "(common.raJ2000_1 - common.phiprime_1).hist(normed=1, histtype='step', lw=2.)"
   ]
  },
  {
   "cell_type": "code",
   "execution_count": 48,
   "metadata": {
    "collapsed": false
   },
   "outputs": [
    {
     "data": {
      "text/plain": [
       "count    2.280000e+03\n",
       "mean    -8.862307e-18\n",
       "std      1.613494e-16\n",
       "min     -4.440892e-16\n",
       "25%      0.000000e+00\n",
       "50%      0.000000e+00\n",
       "75%      0.000000e+00\n",
       "max      4.440892e-16\n",
       "dtype: float64"
      ]
     },
     "execution_count": 48,
     "metadata": {},
     "output_type": "execute_result"
    }
   ],
   "source": [
    "(common.decJ2000_1 + common.thetaprime_1 - np.pi/2.).describe()"
   ]
  },
  {
   "cell_type": "code",
   "execution_count": 49,
   "metadata": {
    "collapsed": false
   },
   "outputs": [
    {
     "data": {
      "text/plain": [
       "<matplotlib.axes._subplots.AxesSubplot at 0x1243df110>"
      ]
     },
     "execution_count": 49,
     "metadata": {},
     "output_type": "execute_result"
    },
    {
     "data": {
      "image/png": "[encoded data removed]",
      "text/plain": [
       "<matplotlib.figure.Figure at 0x1244193d0>"
      ]
     },
     "metadata": {},
     "output_type": "display_data"
    }
   ],
   "source": [
    "(common.decJ2000_1 + common.thetaprime_1 - np.pi/2.).hist(normed=1, histtype='step', lw=2.)"
   ]
  },
  {
   "cell_type": "code",
   "execution_count": 50,
   "metadata": {
    "collapsed": false
   },
   "outputs": [],
   "source": [
    "NSelect = 1000\n",
    "sel = np.random.choice(common.index.values, NSelect*2, replace=False)"
   ]
  },
  {
   "cell_type": "code",
   "execution_count": 51,
   "metadata": {
    "collapsed": true
   },
   "outputs": [],
   "source": [
    "split_1 = common.ix[sel[:NSelect]]\n",
    "split_2 = common.ix[sel[NSelect:]]"
   ]
  },
  {
   "cell_type": "code",
   "execution_count": 52,
   "metadata": {
    "collapsed": false
   },
   "outputs": [
    {
     "name": "stdout",
     "output_type": "stream",
     "text": [
      "1000 1000\n"
     ]
    }
   ],
   "source": [
    "print(len(split_1), len(split_2))"
   ]
  },
  {
   "cell_type": "code",
   "execution_count": 53,
   "metadata": {
    "collapsed": false
   },
   "outputs": [
    {
     "data": {
      "text/html": [
       "<div>\n",
       "<table border=\"1\" class=\"dataframe\">\n",
       "  <thead>\n",
       "    <tr style=\"text-align: right;\">\n",
       "      <th></th>\n",
       "      <th>galtileid</th>\n",
       "      <th>raJ2000</th>\n",
       "      <th>decJ2000</th>\n",
       "      <th>redshift</th>\n",
       "      <th>mass_stellar</th>\n",
       "      <th>absmag_r_total</th>\n",
       "      <th>galtileid_1</th>\n",
       "      <th>raJ2000_1</th>\n",
       "      <th>decJ2000_1</th>\n",
       "      <th>redshift_1</th>\n",
       "      <th>mass_stellar_1</th>\n",
       "      <th>absmag_r_total_1</th>\n",
       "      <th>theta</th>\n",
       "      <th>phi</th>\n",
       "      <th>phiprime_1</th>\n",
       "      <th>thetaprime_1</th>\n",
       "    </tr>\n",
       "    <tr>\n",
       "      <th>id</th>\n",
       "      <th></th>\n",
       "      <th></th>\n",
       "      <th></th>\n",
       "      <th></th>\n",
       "      <th></th>\n",
       "      <th></th>\n",
       "      <th></th>\n",
       "      <th></th>\n",
       "      <th></th>\n",
       "      <th></th>\n",
       "      <th></th>\n",
       "      <th></th>\n",
       "      <th></th>\n",
       "      <th></th>\n",
       "      <th></th>\n",
       "      <th></th>\n",
       "    </tr>\n",
       "  </thead>\n",
       "  <tbody>\n",
       "    <tr>\n",
       "      <th>12289238</th>\n",
       "      <td>2212289238</td>\n",
       "      <td>0.035547</td>\n",
       "      <td>0.000414</td>\n",
       "      <td>0.3653</td>\n",
       "      <td>0.003186</td>\n",
       "      <td>-14.60432</td>\n",
       "      <td>2112289238</td>\n",
       "      <td>0.035549</td>\n",
       "      <td>-0.069400</td>\n",
       "      <td>0.3653</td>\n",
       "      <td>0.003186</td>\n",
       "      <td>-14.60432</td>\n",
       "      <td>1.570383</td>\n",
       "      <td>0.000641</td>\n",
       "      <td>0.035549</td>\n",
       "      <td>1.640196</td>\n",
       "    </tr>\n",
       "    <tr>\n",
       "      <th>5340380</th>\n",
       "      <td>2205340380</td>\n",
       "      <td>0.036637</td>\n",
       "      <td>0.000231</td>\n",
       "      <td>0.3654</td>\n",
       "      <td>0.010732</td>\n",
       "      <td>-16.11604</td>\n",
       "      <td>2105340380</td>\n",
       "      <td>0.036641</td>\n",
       "      <td>-0.069582</td>\n",
       "      <td>0.3654</td>\n",
       "      <td>0.010732</td>\n",
       "      <td>-16.11604</td>\n",
       "      <td>1.570565</td>\n",
       "      <td>0.001731</td>\n",
       "      <td>0.036641</td>\n",
       "      <td>1.640378</td>\n",
       "    </tr>\n",
       "    <tr>\n",
       "      <th>16723492</th>\n",
       "      <td>2216723492</td>\n",
       "      <td>0.035407</td>\n",
       "      <td>0.000038</td>\n",
       "      <td>0.3869</td>\n",
       "      <td>0.000142</td>\n",
       "      <td>-13.51893</td>\n",
       "      <td>2116723492</td>\n",
       "      <td>0.035408</td>\n",
       "      <td>-0.069775</td>\n",
       "      <td>0.3869</td>\n",
       "      <td>0.000142</td>\n",
       "      <td>-13.51893</td>\n",
       "      <td>1.570758</td>\n",
       "      <td>0.000501</td>\n",
       "      <td>0.035408</td>\n",
       "      <td>1.640571</td>\n",
       "    </tr>\n",
       "    <tr>\n",
       "      <th>112389</th>\n",
       "      <td>2200112389</td>\n",
       "      <td>0.034678</td>\n",
       "      <td>-0.001217</td>\n",
       "      <td>0.3393</td>\n",
       "      <td>0.278545</td>\n",
       "      <td>-19.99513</td>\n",
       "      <td>2100112389</td>\n",
       "      <td>0.034677</td>\n",
       "      <td>-0.071030</td>\n",
       "      <td>0.3393</td>\n",
       "      <td>0.278545</td>\n",
       "      <td>-19.99513</td>\n",
       "      <td>1.572014</td>\n",
       "      <td>-0.000229</td>\n",
       "      <td>0.034677</td>\n",
       "      <td>1.641827</td>\n",
       "    </tr>\n",
       "    <tr>\n",
       "      <th>479372</th>\n",
       "      <td>2200479372</td>\n",
       "      <td>0.033443</td>\n",
       "      <td>-0.000500</td>\n",
       "      <td>0.2332</td>\n",
       "      <td>0.068397</td>\n",
       "      <td>-18.08150</td>\n",
       "      <td>2100479372</td>\n",
       "      <td>0.033439</td>\n",
       "      <td>-0.070313</td>\n",
       "      <td>0.2332</td>\n",
       "      <td>0.068397</td>\n",
       "      <td>-18.08150</td>\n",
       "      <td>1.571296</td>\n",
       "      <td>-0.001464</td>\n",
       "      <td>0.033439</td>\n",
       "      <td>1.641109</td>\n",
       "    </tr>\n",
       "  </tbody>\n",
       "</table>\n",
       "</div>"
      ],
      "text/plain": [
       "           galtileid   raJ2000  decJ2000  redshift  mass_stellar  \\\n",
       "id                                                                 \n",
       "12289238  2212289238  0.035547  0.000414    0.3653      0.003186   \n",
       "5340380   2205340380  0.036637  0.000231    0.3654      0.010732   \n",
       "16723492  2216723492  0.035407  0.000038    0.3869      0.000142   \n",
       "112389    2200112389  0.034678 -0.001217    0.3393      0.278545   \n",
       "479372    2200479372  0.033443 -0.000500    0.2332      0.068397   \n",
       "\n",
       "          absmag_r_total  galtileid_1  raJ2000_1  decJ2000_1  redshift_1  \\\n",
       "id                                                                         \n",
       "12289238       -14.60432   2112289238   0.035549   -0.069400      0.3653   \n",
       "5340380        -16.11604   2105340380   0.036641   -0.069582      0.3654   \n",
       "16723492       -13.51893   2116723492   0.035408   -0.069775      0.3869   \n",
       "112389         -19.99513   2100112389   0.034677   -0.071030      0.3393   \n",
       "479372         -18.08150   2100479372   0.033439   -0.070313      0.2332   \n",
       "\n",
       "          mass_stellar_1  absmag_r_total_1     theta       phi  phiprime_1  \\\n",
       "id                                                                           \n",
       "12289238        0.003186         -14.60432  1.570383  0.000641    0.035549   \n",
       "5340380         0.010732         -16.11604  1.570565  0.001731    0.036641   \n",
       "16723492        0.000142         -13.51893  1.570758  0.000501    0.035408   \n",
       "112389          0.278545         -19.99513  1.572014 -0.000229    0.034677   \n",
       "479372          0.068397         -18.08150  1.571296 -0.001464    0.033439   \n",
       "\n",
       "          thetaprime_1  \n",
       "id                      \n",
       "12289238      1.640196  \n",
       "5340380       1.640378  \n",
       "16723492      1.640571  \n",
       "112389        1.641827  \n",
       "479372        1.641109  "
      ]
     },
     "execution_count": 53,
     "metadata": {},
     "output_type": "execute_result"
    }
   ],
   "source": [
    "split_1.head()"
   ]
  },
  {
   "cell_type": "code",
   "execution_count": 54,
   "metadata": {
    "collapsed": false
   },
   "outputs": [],
   "source": [
    "from lsst.sims.utils import haversine"
   ]
  },
  {
   "cell_type": "code",
   "execution_count": 55,
   "metadata": {
    "collapsed": false
   },
   "outputs": [],
   "source": [
    "df = pd.DataFrame({'ids_1': split_1.index.values,\n",
    "                   'ids_2': split_2.index.values,\n",
    "                   'raJ2000': split_1.raJ2000.values,\n",
    "                   #'shiftedRA':split_1.shiftedRA.values,\n",
    "                   'decJ2000':split_1.decJ2000.values,\n",
    "                   'raJ2000_2': split_2.raJ2000.values,\n",
    "                   #'shiftedRA_2': split_2.shiftedRA_1.values,\n",
    "                   'decJ2000_2':split_2.decJ2000.values,\n",
    "                   'angsep': haversine(split_1.decJ2000.values, split_1.raJ2000.values, split_2.decJ2000.values, \n",
    "                                       split_2.raJ2000.values),\n",
    "                  'angsep_1': haversine(split_1.decJ2000_1.values, split_1.raJ2000_1.values, split_2.decJ2000_1.values, \n",
    "                                       split_2.raJ2000_1.values),\n",
    "                  'angSep': angSep(split_1, split_2, 'theta', 'phi')[1] ,\n",
    "                  'angSep_1':angSep(split_1, split_2, 'thetaprime_1', 'phiprime_1')[1],\n",
    "                  'cosval': angSep(split_1, split_2, 'theta', 'phi')[0] ,\n",
    "                   'cosval_1': angSep(split_1, split_2, 'thetaprime_1', 'phiprime_1')[0] \n",
    "                  }\n",
    "                   #'angsep_1': haversine(split_1.decJ2000_1, split_1.raJ2000_1, split_2.decJ2000_1, split_2.raJ2000_1)}\n",
    "                  )"
   ]
  },
  {
   "cell_type": "code",
   "execution_count": 56,
   "metadata": {
    "collapsed": false
   },
   "outputs": [],
   "source": [
    "df['ratio'] = df.angsep_1/df.angsep "
   ]
  },
  {
   "cell_type": "code",
   "execution_count": 57,
   "metadata": {
    "collapsed": true
   },
   "outputs": [],
   "source": [
    "df['theta_ratio'] = df.angSep_1/df.angSep"
   ]
  },
  {
   "cell_type": "code",
   "execution_count": 58,
   "metadata": {
    "collapsed": false
   },
   "outputs": [
    {
     "data": {
      "text/plain": [
       "count    1000.000000\n",
       "mean        1.001242\n",
       "std         0.000851\n",
       "min         1.000000\n",
       "25%         1.000421\n",
       "50%         1.001264\n",
       "75%         1.002096\n",
       "max         1.002559\n",
       "Name: ratio, dtype: float64"
      ]
     },
     "execution_count": 58,
     "metadata": {},
     "output_type": "execute_result"
    }
   ],
   "source": [
    "df.ratio.describe()"
   ]
  },
  {
   "cell_type": "code",
   "execution_count": 59,
   "metadata": {
    "collapsed": false
   },
   "outputs": [
    {
     "data": {
      "text/plain": [
       "count    1.000000e+03\n",
       "mean     1.000000e+00\n",
       "std      3.529738e-09\n",
       "min      1.000000e+00\n",
       "25%      1.000000e+00\n",
       "50%      1.000000e+00\n",
       "75%      1.000000e+00\n",
       "max      1.000000e+00\n",
       "Name: theta_ratio, dtype: float64"
      ]
     },
     "execution_count": 59,
     "metadata": {},
     "output_type": "execute_result"
    }
   ],
   "source": [
    "df.theta_ratio.describe()"
   ]
  },
  {
   "cell_type": "code",
   "execution_count": null,
   "metadata": {
    "collapsed": true
   },
   "outputs": [],
   "source": []
  },
  {
   "cell_type": "code",
   "execution_count": 60,
   "metadata": {
    "collapsed": false
   },
   "outputs": [
    {
     "data": {
      "text/plain": [
       "(0.99990000000000001101341240428155, 1.00009999999999998898658759571845)"
      ]
     },
     "execution_count": 60,
     "metadata": {},
     "output_type": "execute_result"
    },
    {
     "data": {
      "image/png": "[encoded data removed]",
      "text/plain": [
       "<matplotlib.figure.Figure at 0x122891590>"
      ]
     },
     "metadata": {},
     "output_type": "display_data"
    }
   ],
   "source": [
    "_ = plt.hist(df.cosval_1/np.cos(df.angSep_1), histtype='step', alpha=1, lw=2., bins=np.arange(0.5, 1.5, 0.000001))\n",
    "plt.xlim(0.9999, 1.0001)"
   ]
  },
  {
   "cell_type": "code",
   "execution_count": 61,
   "metadata": {
    "collapsed": false
   },
   "outputs": [
    {
     "data": {
      "text/plain": [
       "[<matplotlib.lines.Line2D at 0x11ae9c6d0>]"
      ]
     },
     "execution_count": 61,
     "metadata": {},
     "output_type": "execute_result"
    },
    {
     "data": {
      "image/png": "[encoded data removed]",
      "text/plain": [
       "<matplotlib.figure.Figure at 0x1248162d0>"
      ]
     },
     "metadata": {},
     "output_type": "display_data"
    }
   ],
   "source": [
    "plt.plot(1. - df.cosval, df.angSep_1/df.angSep -1., '.')"
   ]
  },
  {
   "cell_type": "code",
   "execution_count": 62,
   "metadata": {
    "collapsed": false
   },
   "outputs": [
    {
     "data": {
      "text/plain": [
       "[<matplotlib.lines.Line2D at 0x122b13210>]"
      ]
     },
     "execution_count": 62,
     "metadata": {},
     "output_type": "execute_result"
    },
    {
     "data": {
      "image/png": "[encoded data removed]",
      "text/plain": [
       "<matplotlib.figure.Figure at 0x124124d10>"
      ]
     },
     "metadata": {},
     "output_type": "display_data"
    }
   ],
   "source": [
    "plt.plot(df.cosval_1/df.cosval, df.theta_ratio, '.')"
   ]
  },
  {
   "cell_type": "code",
   "execution_count": 63,
   "metadata": {
    "collapsed": false
   },
   "outputs": [
    {
     "data": {
      "text/plain": [
       "False"
      ]
     },
     "execution_count": 63,
     "metadata": {},
     "output_type": "execute_result"
    }
   ],
   "source": [
    "df.ratio.isnull().any()"
   ]
  },
  {
   "cell_type": "code",
   "execution_count": 64,
   "metadata": {
    "collapsed": false
   },
   "outputs": [
    {
     "data": {
      "text/plain": [
       "False"
      ]
     },
     "execution_count": 64,
     "metadata": {},
     "output_type": "execute_result"
    }
   ],
   "source": [
    "df.theta_ratio.isnull().any()"
   ]
  },
  {
   "cell_type": "code",
   "execution_count": 65,
   "metadata": {
    "collapsed": false
   },
   "outputs": [
    {
     "data": {
      "text/plain": [
       "dtype('float64')"
      ]
     },
     "execution_count": 65,
     "metadata": {},
     "output_type": "execute_result"
    }
   ],
   "source": [
    "df.theta_ratio.dtype"
   ]
  },
  {
   "cell_type": "code",
   "execution_count": 66,
   "metadata": {
    "collapsed": false
   },
   "outputs": [
    {
     "data": {
      "text/html": [
       "<div>\n",
       "<table border=\"1\" class=\"dataframe\">\n",
       "  <thead>\n",
       "    <tr style=\"text-align: right;\">\n",
       "      <th></th>\n",
       "      <th>angSep</th>\n",
       "      <th>angSep_1</th>\n",
       "      <th>angsep</th>\n",
       "      <th>angsep_1</th>\n",
       "      <th>cosval</th>\n",
       "      <th>cosval_1</th>\n",
       "      <th>decJ2000</th>\n",
       "      <th>decJ2000_2</th>\n",
       "      <th>ids_1</th>\n",
       "      <th>ids_2</th>\n",
       "      <th>raJ2000</th>\n",
       "      <th>raJ2000_2</th>\n",
       "      <th>ratio</th>\n",
       "      <th>theta_ratio</th>\n",
       "    </tr>\n",
       "  </thead>\n",
       "  <tbody>\n",
       "    <tr>\n",
       "      <th>0</th>\n",
       "      <td>0.000406</td>\n",
       "      <td>0.000406</td>\n",
       "      <td>0.000406</td>\n",
       "      <td>0.000406</td>\n",
       "      <td>1.000000</td>\n",
       "      <td>1.000000</td>\n",
       "      <td>0.000414</td>\n",
       "      <td>0.000682</td>\n",
       "      <td>12289238</td>\n",
       "      <td>1500567</td>\n",
       "      <td>0.035547</td>\n",
       "      <td>0.035243</td>\n",
       "      <td>1.001354</td>\n",
       "      <td>1</td>\n",
       "    </tr>\n",
       "    <tr>\n",
       "      <th>1</th>\n",
       "      <td>0.002365</td>\n",
       "      <td>0.002365</td>\n",
       "      <td>0.002364</td>\n",
       "      <td>0.002367</td>\n",
       "      <td>0.999997</td>\n",
       "      <td>0.999997</td>\n",
       "      <td>0.000231</td>\n",
       "      <td>-0.001337</td>\n",
       "      <td>5340380</td>\n",
       "      <td>11577615</td>\n",
       "      <td>0.036637</td>\n",
       "      <td>0.034867</td>\n",
       "      <td>1.001391</td>\n",
       "      <td>1</td>\n",
       "    </tr>\n",
       "    <tr>\n",
       "      <th>2</th>\n",
       "      <td>0.001915</td>\n",
       "      <td>0.001915</td>\n",
       "      <td>0.001915</td>\n",
       "      <td>0.001919</td>\n",
       "      <td>0.999998</td>\n",
       "      <td>0.999998</td>\n",
       "      <td>0.000038</td>\n",
       "      <td>-0.000654</td>\n",
       "      <td>16723492</td>\n",
       "      <td>4715406</td>\n",
       "      <td>0.035407</td>\n",
       "      <td>0.033621</td>\n",
       "      <td>1.002143</td>\n",
       "      <td>1</td>\n",
       "    </tr>\n",
       "    <tr>\n",
       "      <th>3</th>\n",
       "      <td>0.001790</td>\n",
       "      <td>0.001790</td>\n",
       "      <td>0.001790</td>\n",
       "      <td>0.001792</td>\n",
       "      <td>0.999998</td>\n",
       "      <td>0.999998</td>\n",
       "      <td>-0.001217</td>\n",
       "      <td>-0.000079</td>\n",
       "      <td>112389</td>\n",
       "      <td>1818869</td>\n",
       "      <td>0.034678</td>\n",
       "      <td>0.036059</td>\n",
       "      <td>1.001483</td>\n",
       "      <td>1</td>\n",
       "    </tr>\n",
       "    <tr>\n",
       "      <th>4</th>\n",
       "      <td>0.001847</td>\n",
       "      <td>0.001847</td>\n",
       "      <td>0.001847</td>\n",
       "      <td>0.001850</td>\n",
       "      <td>0.999998</td>\n",
       "      <td>0.999998</td>\n",
       "      <td>-0.000500</td>\n",
       "      <td>-0.001320</td>\n",
       "      <td>479372</td>\n",
       "      <td>1499564</td>\n",
       "      <td>0.033443</td>\n",
       "      <td>0.035098</td>\n",
       "      <td>1.002013</td>\n",
       "      <td>1</td>\n",
       "    </tr>\n",
       "  </tbody>\n",
       "</table>\n",
       "</div>"
      ],
      "text/plain": [
       "     angSep  angSep_1    angsep  angsep_1    cosval  cosval_1  decJ2000  \\\n",
       "0  0.000406  0.000406  0.000406  0.000406  1.000000  1.000000  0.000414   \n",
       "1  0.002365  0.002365  0.002364  0.002367  0.999997  0.999997  0.000231   \n",
       "2  0.001915  0.001915  0.001915  0.001919  0.999998  0.999998  0.000038   \n",
       "3  0.001790  0.001790  0.001790  0.001792  0.999998  0.999998 -0.001217   \n",
       "4  0.001847  0.001847  0.001847  0.001850  0.999998  0.999998 -0.000500   \n",
       "\n",
       "   decJ2000_2     ids_1     ids_2   raJ2000  raJ2000_2     ratio  theta_ratio  \n",
       "0    0.000682  12289238   1500567  0.035547   0.035243  1.001354            1  \n",
       "1   -0.001337   5340380  11577615  0.036637   0.034867  1.001391            1  \n",
       "2   -0.000654  16723492   4715406  0.035407   0.033621  1.002143            1  \n",
       "3   -0.000079    112389   1818869  0.034678   0.036059  1.001483            1  \n",
       "4   -0.001320    479372   1499564  0.033443   0.035098  1.002013            1  "
      ]
     },
     "execution_count": 66,
     "metadata": {},
     "output_type": "execute_result"
    }
   ],
   "source": [
    "df.head()"
   ]
  },
  {
   "cell_type": "code",
   "execution_count": 150,
   "metadata": {
    "collapsed": false
   },
   "outputs": [
    {
     "data": {
      "text/plain": [
       "<matplotlib.legend.Legend at 0x130e65510>"
      ]
     },
     "execution_count": 150,
     "metadata": {},
     "output_type": "execute_result"
    },
    {
     "data": {
      "image/png": "[encoded data removed]",
      "text/plain": [
       "<matplotlib.figure.Figure at 0x127a8cd90>"
      ]
     },
     "metadata": {},
     "output_type": "display_data"
    }
   ],
   "source": [
    "fig, ax = plt.subplots(1,3 , squeeze=True)\n",
    "\n",
    "\n",
    "_ = ax[0].hist(100.*(df.ratio.values - 1.), bins=np.arange(-0.1, 0.3, 0.01), normed=1,\n",
    "               histtype='step', alpha=1, lw=2., color='k')\n",
    "xticks = ax[0].get_xticklabels()\n",
    "_ = [xtick.set_rotation(90.) for xtick in xticks]\n",
    "\n",
    "_ = ax[0].hist(100.*(df.theta_ratio.values - 1.), bins=np.arange(-0.1, 0.3, 0.01), \n",
    "               normed=1,\n",
    "               histtype='step', alpha=1, lw=2., color='r', ls='dashed')\n",
    "\n",
    "\n",
    "\n",
    "# sns.kdeplot(df.ratio - 1., ax=ax)\n",
    "ax[0].set_xlabel('percentage difference')\n",
    "ax[0].set_ylabel('PDF')\n",
    "_ = ax[1].hist((df.ratio.values - 1.)*df.angsep,normed=1, bins=np.arange(-0.00001, 0.00001, 10.* milliarcsec),\n",
    "        histtype='step', alpha=1, lw=2., color='k')\n",
    "_ = ax[1].hist((df.theta_ratio.values - 1.)*df.angSep,normed=1, bins=np.arange(-0.00001, 0.00001, 10.* milliarcsec),\n",
    "        histtype='step', alpha=1, lw=2., color='r', ls='dashed')\n",
    "#ax[1].axvline(np.radians(1.0/60./60.), ls='dashed')\n",
    "ax[1].axvline(10* milliarcsec, ls='dashed')\n",
    "ax[1].set_ylim(ymax=1500000)\n",
    "xticks = ax[1].get_xticklabels()\n",
    "_ = [xtick.set_rotation(90.) for xtick in xticks]\n",
    "# sns.kdeplot(df.ratio - 1., ax=ax)\n",
    "ax[1].set_xlabel('Actual difference')\n",
    "ax[1].set_ylabel('PDF')\n",
    "_ = ax[2].hist((df.ratio.values - 1.)*df.angsep,normed=1, bins=np.arange(-20.*milliarcsec, 20.*milliarcsec,  \n",
    "                                                                         milliarcsec/100.),\n",
    "        histtype='step', alpha=1, lw=2., color='k')\n",
    "\n",
    "\n",
    "_ = ax[2].hist((df.theta_ratio.values - 1.)*df.angSep,normed=1, bins=np.arange(-20.*milliarcsec, 20.*milliarcsec, \n",
    "                                                                               milliarcsec/100),\n",
    "        histtype='step', alpha=1, lw=2., color='r', ls='dashed')\n",
    "ax[2].axvline(milliarcsec/10)\n",
    "ax[2].axvline(-milliarcsec/10)\n",
    "ax[2].set_xlim(-milliarcsec, milliarcsec)\n",
    "_ = ax[2].set_yscale('log')\n",
    "plt.legend(loc='best')"
   ]
  },
  {
   "cell_type": "markdown",
   "metadata": {},
   "source": [
    "# Scratch"
   ]
  },
  {
   "cell_type": "code",
   "execution_count": null,
   "metadata": {
    "collapsed": false
   },
   "outputs": [],
   "source": [
    "fig, ax = plt.subplots(1,2)\n",
    "_ = ax[0].hist(common.decJ2000_1 + common.thetaprime_1 - np.pi/2., histtype='step', alpha=1., lw=2.)\n",
    "_ = ax[1].hist(common.raJ2000_1 + common.phiprime_1, histtype='step', alpha=1., lw=2.)\n",
    "xticks = ax[1].get_xticklabels()\n",
    "_ = [xtick.set_rotation(90.) for xtick in xticks]\n",
    "\n",
    "\n"
   ]
  },
  {
   "cell_type": "code",
   "execution_count": null,
   "metadata": {
    "collapsed": true
   },
   "outputs": [],
   "source": [
    "def angSep( df1 , df2,  theta, phi):\n",
    "    th1 = df1[theta].values\n",
    "    th2 = df2[theta].values\n",
    "    ph1 = df1[phi].values\n",
    "    ph2 = df2[phi].values\n",
    "\n",
    "    cos = np.sin(th1)* np.sin(th2)* np.cos(ph1- ph2) + np.cos(th1)*np.cos(th2)\n",
    "    return cos"
   ]
  },
  {
   "cell_type": "code",
   "execution_count": null,
   "metadata": {
    "collapsed": true
   },
   "outputs": [],
   "source": [
    "theta_df= pd.DataFrame({'ids_1': split_1.index.values,\n",
    "                   'ids_2': split_2.index.values,\n",
    "                   'raJ2000': split_1.raJ2000.values,\n",
    "                   #'shiftedRA':split_1.shiftedRA.values,\n",
    "                   'decJ2000':split_1.decJ2000.values,\n",
    "                   'raJ2000_2': split_2.raJ2000.values,\n",
    "                   #'shiftedRA_2': split_2.shiftedRA_1.values,\n",
    "                   'decJ2000_2':split_2.decJ2000.values,\n",
    "                   'angSep': angSep(split_1, split_2, 'theta', 'phi') ,\n",
    "                   'angSep_1':angSep(split_1, split_2, 'thetaprime_1', 'phiprime_1')})"
   ]
  },
  {
   "cell_type": "code",
   "execution_count": null,
   "metadata": {
    "collapsed": false
   },
   "outputs": [],
   "source": [
    "# Use if not using base tile\n",
    "fig, ax = plt.subplots(2, 3, sharey=True, squeeze=False)\n",
    "ax[0,0].plot(df.angsep, df.ratio-1, '.')\n",
    "xticks = ax[0, 0].get_xticklabels()\n",
    "_ = [xtick.set_rotation(90.) for xtick in xticks]\n",
    "ax[0, 0].set_xlabel('orig ang sep')\n",
    "ax[0, 0].xaxis.set_label_position('top') \n",
    "ax[0, 1].plot(df.decJ2000 - df.decJ2000_2, df.ratio - 1, '.')\n",
    "ax[0, 1].set_xlabel('diff in dec for 2 pts')\n",
    "ax[0, 1].xaxis.set_label_position('top') \n",
    "xticks = ax[0, 1].get_xticklabels()\n",
    "_ = [xtick.set_rotation(90.) for xtick in xticks]\n",
    "ax[0, 2].plot(df.raJ2000 - df.raJ2000_2, df.ratio - 1, '.r')\n",
    "xticks = ax[0, 2].get_xticklabels()\n",
    "_ = [xtick.set_rotation(90.) for xtick in xticks]\n",
    "ax[0, 2].set_xlabel('diff in ra for 2 pts')\n",
    "ax[0, 2].xaxis.set_label_position('top') \n",
    "\n",
    "\n",
    "ax[1, 1].plot(df.decJ2000, df.ratio - 1, '.')\n",
    "xticks = ax[1, 1].get_xticklabels()\n",
    "_ = [xtick.set_rotation(90.) for xtick in xticks]\n",
    "ax[1, 1].set_xlabel('dec in Base')\n",
    "ax[1, 2].plot(df.raJ2000, df.ratio - 1, '.')\n",
    "xticks = ax[1, 2].get_xticklabels()\n",
    "_ = [xtick.set_rotation(90.) for xtick in xticks]\n",
    "ax[1, 2].set_xlabel('ra in Base')\n",
    "\n",
    "\n",
    "#ax[1,0].plot(df.angsep, (df.ratio -1)* df.angsep, '.')"
   ]
  },
  {
   "cell_type": "markdown",
   "metadata": {},
   "source": [
    "## Rotations"
   ]
  },
  {
   "cell_type": "code",
   "execution_count": null,
   "metadata": {
    "collapsed": false
   },
   "outputs": [],
   "source": [
    "common['theta'] = - common['decJ2000'] + np.pi/2.\n",
    "common['phi'] = common['raJ2000'] - np.radians(2.)"
   ]
  },
  {
   "cell_type": "code",
   "execution_count": null,
   "metadata": {
    "collapsed": false
   },
   "outputs": [],
   "source": [
    "common.head()"
   ]
  },
  {
   "cell_type": "code",
   "execution_count": null,
   "metadata": {
    "collapsed": true
   },
   "outputs": [],
   "source": [
    "def rotation(df, delta=0):\n",
    "    \"\"\"\n",
    "    delta : int\n",
    "    \"\"\"\n",
    "    d = delta\n",
    "    delta = np.radians(delta * 4.0)\n",
    "    cosDelta = np.cos(delta)\n",
    "    sinDelta = np.sin(delta)\n",
    "    \n",
    "    df['theta'] = - df['decJ2000'] + np.pi/2.\n",
    "    df['phi'] = df['raJ2000'] - np.radians(2.)\n",
    "    sintheta = np.sin(df.theta)\n",
    "    costheta = np.cos(df.theta)\n",
    "    cosphi = np.cos(df.phi)\n",
    "    # sinphi = np.sin(df.phi)\n",
    "    \n",
    "    zprime =  costheta * cosDelta - sinDelta * sintheta * cosphi\n",
    "    xprime = sintheta * cosphi * cosDelta + costheta * sinDelta\n",
    "    # yprime = sintheta * sinphi\n",
    "    \n",
    "    #rlat = np.sqrt(xprime **2. + yprime **2.)\n",
    "    rlat = np.sqrt(1.0 - zprime**2)\n",
    "    #print(min(rlat), max(rlat))\n",
    "    thetaprime = 'thetaprime_{}'.format(int(d))\n",
    "    phiprime = 'phiprime_{}'.format(d)\n",
    "    df[phiprime] = np.arccos(xprime / rlat) + np.radians(2.)\n",
    "    #df['x'] = sintheta * cosphi\n",
    "    #df['y'] = sintheta * sinphi\n",
    "    #df['z'] = costheta\n",
    "    #df['xprime'] = xprime\n",
    "    #df['yprime'] = yprime\n",
    "    #df['zprime'] = zprime\n",
    "    df[thetaprime] = np.arccos(zprime)\n",
    "    #df[thetaprime] = np.arctan(rlat/zprime) \n",
    "    #df.thetaprime[df[thetaprime] < 0 ] += np.pi\n",
    "    #df[thetaprime] = np.arcsin(np.sqrt(xprime**2. + yprime**2))#*np.sign(zprime)\n",
    "    # df[thetaprime] = np.arcsin(rlat) * np.sign(zprime)"
   ]
  },
  {
   "cell_type": "code",
   "execution_count": null,
   "metadata": {
    "collapsed": false
   },
   "outputs": [],
   "source": [
    "rotation(common, delta=1)"
   ]
  },
  {
   "cell_type": "code",
   "execution_count": null,
   "metadata": {
    "collapsed": false
   },
   "outputs": [],
   "source": [
    "common.head()"
   ]
  },
  {
   "cell_type": "code",
   "execution_count": null,
   "metadata": {
    "collapsed": false
   },
   "outputs": [],
   "source": [
    "np.radians(2.)"
   ]
  },
  {
   "cell_type": "code",
   "execution_count": null,
   "metadata": {
    "collapsed": false
   },
   "outputs": [],
   "source": [
    "#common['deltaDec'] = common.decJ2000_1 + common.thetaprime_1 - np.pi/2."
   ]
  },
  {
   "cell_type": "code",
   "execution_count": null,
   "metadata": {
    "collapsed": false
   },
   "outputs": [],
   "source": [
    "#common['deltaRA'] = common.raJ2000_1 - common.phiprime_1 - np.radians(2.)"
   ]
  },
  {
   "cell_type": "code",
   "execution_count": null,
   "metadata": {
    "collapsed": false
   },
   "outputs": [],
   "source": [
    "_ = plt.hist(common.raJ2000_1 - common.phiprime_1, bins=np.arange(-0.004, 0.001, 0.0001), histtype='step', lw=2., alpha=1.,\n",
    "            normed=1)"
   ]
  },
  {
   "cell_type": "code",
   "execution_count": null,
   "metadata": {
    "collapsed": true
   },
   "outputs": [],
   "source": [
    "def angSep( df1 , df2,  theta, phi):\n",
    "    th1 = df1[theta].values\n",
    "    th2 = df2[theta].values\n",
    "    ph1 = df1[phi].values\n",
    "    ph2 = df2[phi].values\n",
    "\n",
    "    cos = np.sin(th1)* np.sin(th2)* np.cos(ph1- ph2) + np.cos(th1)*np.cos(th2)\n",
    "    return cos"
   ]
  },
  {
   "cell_type": "code",
   "execution_count": null,
   "metadata": {
    "collapsed": false
   },
   "outputs": [],
   "source": [
    "split_1.columns"
   ]
  },
  {
   "cell_type": "code",
   "execution_count": null,
   "metadata": {
    "collapsed": false
   },
   "outputs": [],
   "source": [
    "angSep(split_1, split_2, 'thetaprime_1', 'phiprime_1') - angSep(split_1, split_2, 'theta', 'phi')"
   ]
  },
  {
   "cell_type": "code",
   "execution_count": null,
   "metadata": {
    "collapsed": false
   },
   "outputs": [],
   "source": [
    "theta_df= pd.DataFrame({'ids_1': split_1.index.values,\n",
    "                   'ids_2': split_2.index.values,\n",
    "                   'raJ2000': split_1.raJ2000.values,\n",
    "                   #'shiftedRA':split_1.shiftedRA.values,\n",
    "                   'decJ2000':split_1.decJ2000.values,\n",
    "                   'raJ2000_2': split_2.raJ2000.values,\n",
    "                   #'shiftedRA_2': split_2.shiftedRA_1.values,\n",
    "                   'decJ2000_2':split_2.decJ2000.values,\n",
    "                   'angSep': angSep(split_1, split_2, 'theta', 'phi') ,\n",
    "                   'angSep_1':angSep(split_1, split_2, 'thetaprime_1', 'phiprime_1')})"
   ]
  },
  {
   "cell_type": "code",
   "execution_count": null,
   "metadata": {
    "collapsed": true
   },
   "outputs": [],
   "source": [
    "theta_df['ratio'] = theta_df.angSep_1 / theta_df.angSep"
   ]
  },
  {
   "cell_type": "code",
   "execution_count": null,
   "metadata": {
    "collapsed": false
   },
   "outputs": [],
   "source": [
    "_ = ax[0].hist(100.*(theta_df.ratio - 1), bins=np.arange(-0.1, 0.3, 0.01), normed=1, histtype='step', lw=2., alpha=1., color='r')\n",
    "_ = ax[1].hist((theta_df.ratio.values - 1.)*theta_df.angSep,normed=1, bins=np.arange(-0.00001, 0.00001, 0.000001),\n",
    "        histtype='step', alpha=1, lw=2., color='r')"
   ]
  },
  {
   "cell_type": "code",
   "execution_count": null,
   "metadata": {
    "collapsed": false
   },
   "outputs": [],
   "source": [
    "fig_hist"
   ]
  },
  {
   "cell_type": "code",
   "execution_count": null,
   "metadata": {
    "collapsed": false
   },
   "outputs": [],
   "source": [
    "common.head()"
   ]
  },
  {
   "cell_type": "code",
   "execution_count": null,
   "metadata": {
    "collapsed": false
   },
   "outputs": [],
   "source": [
    "# Use shifts to take care of periodicity of ra newar ra=0.\n",
    "fig, ax = plt.subplots(2, 3, sharey=True, squeeze=False)\n",
    "ax[0,0].plot(df.angsep, df.ratio-1, '.')\n",
    "xticks = ax[0, 0].get_xticklabels()\n",
    "_ = [xtick.set_rotation(90.) for xtick in xticks]\n",
    "ax[0, 0].set_xlabel('orig ang sep')\n",
    "ax[0, 0].xaxis.set_label_position('top') \n",
    "ax[0, 1].plot(df.decJ2000 - df.decJ2000_2, df.ratio - 1, '.')\n",
    "ax[0, 1].set_xlabel('diff in dec for 2 pts')\n",
    "ax[0, 1].xaxis.set_label_position('top') \n",
    "xticks = ax[0, 1].get_xticklabels()\n",
    "_ = [xtick.set_rotation(90.) for xtick in xticks]\n",
    "ax[0, 2].plot(df.shiftedRA - df.shiftedRA_2, df.ratio - 1, '.r')\n",
    "xticks = ax[0, 2].get_xticklabels()\n",
    "_ = [xtick.set_rotation(90.) for xtick in xticks]\n",
    "ax[0, 2].set_xlabel('diff in ra for 2 pts')\n",
    "ax[0, 2].xaxis.set_label_position('top') \n",
    "\n",
    "\n",
    "ax[1, 1].plot(df.decJ2000, df.ratio - 1, '.')\n",
    "xticks = ax[1, 1].get_xticklabels()\n",
    "_ = [xtick.set_rotation(90.) for xtick in xticks]\n",
    "ax[1, 1].set_xlabel('dec in Base')\n",
    "ax[1, 2].plot(df.shiftedRA, df.ratio - 1, '.')\n",
    "xticks = ax[1, 2].get_xticklabels()\n",
    "_ = [xtick.set_rotation(90.) for xtick in xticks]\n",
    "ax[1, 2].set_xlabel('ra in Base')\n",
    "\n",
    "\n",
    "#ax[1,0].plot(df.angsep, (df.ratio -1)* df.angsep, '.')"
   ]
  },
  {
   "cell_type": "code",
   "execution_count": null,
   "metadata": {
    "collapsed": false
   },
   "outputs": [],
   "source": [
    "print(len(df))a\n"
   ]
  },
  {
   "cell_type": "code",
   "execution_count": null,
   "metadata": {
    "collapsed": false
   },
   "outputs": [],
   "source": [
    "print(len(merged))"
   ]
  },
  {
   "cell_type": "markdown",
   "metadata": {},
   "source": [
    "## Scratch"
   ]
  },
  {
   "cell_type": "code",
   "execution_count": null,
   "metadata": {
    "collapsed": false
   },
   "outputs": [],
   "source": [
    "df.raJ2000.max()"
   ]
  },
  {
   "cell_type": "code",
   "execution_count": null,
   "metadata": {
    "collapsed": false
   },
   "outputs": [],
   "source": [
    "df.raJ2000.min()"
   ]
  },
  {
   "cell_type": "code",
   "execution_count": null,
   "metadata": {
    "collapsed": false
   },
   "outputs": [],
   "source": [
    "gTile1_df.raJ2000_1.min()"
   ]
  },
  {
   "cell_type": "code",
   "execution_count": null,
   "metadata": {
    "collapsed": false
   },
   "outputs": [],
   "source": [
    "gTile1_df.raJ2000_1.max()"
   ]
  },
  {
   "cell_type": "code",
   "execution_count": null,
   "metadata": {
    "collapsed": false
   },
   "outputs": [],
   "source": [
    "gBase_df.raJ2000.min()"
   ]
  },
  {
   "cell_type": "code",
   "execution_count": null,
   "metadata": {
    "collapsed": false
   },
   "outputs": [],
   "source": [
    "np.degrees(gBase_df.raJ2000.max())"
   ]
  },
  {
   "cell_type": "code",
   "execution_count": null,
   "metadata": {
    "collapsed": true
   },
   "outputs": [],
   "source": []
  }
 ],
 "metadata": {
  "kernelspec": {
   "display_name": "Python 2",
   "language": "python",
   "name": "python2"
  },
  "language_info": {
   "codemirror_mode": {
    "name": "ipython",
    "version": 2
   },
   "file_extension": ".py",
   "mimetype": "text/x-python",
   "name": "python",
   "nbconvert_exporter": "python",
   "pygments_lexer": "ipython2",
   "version": "2.7.11"
  }
 },
 "nbformat": 4,
 "nbformat_minor": 0
}
