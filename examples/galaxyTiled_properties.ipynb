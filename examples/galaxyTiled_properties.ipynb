{
 "cells": [
  {
   "cell_type": "markdown",
   "metadata": {},
   "source": [
    "## Setup"
   ]
  },
  {
   "cell_type": "code",
   "execution_count": 1,
   "metadata": {
    "collapsed": true
   },
   "outputs": [],
   "source": [
    "from __future__ import division, print_function, absolute_import"
   ]
  },
  {
   "cell_type": "code",
   "execution_count": 2,
   "metadata": {
    "collapsed": true
   },
   "outputs": [],
   "source": [
    "import numpy as np\n",
    "import pandas as pd"
   ]
  },
  {
   "cell_type": "code",
   "execution_count": 3,
   "metadata": {
    "collapsed": false
   },
   "outputs": [
    {
     "name": "stderr",
     "output_type": "stream",
     "text": [
      "/usr/local/manual/anaconda/lib/python2.7/site-packages/matplotlib/__init__.py:872: UserWarning: axes.color_cycle is deprecated and replaced with axes.prop_cycle; please use the latter.\n",
      "  warnings.warn(self.msg_depr % (key, alt_key))\n"
     ]
    }
   ],
   "source": [
    "%matplotlib inline\n",
    "import matplotlib.pyplot as plt\n",
    "from matplotlib.patches import Polygon\n",
    "import seaborn as sns\n",
    "sns.set()"
   ]
  },
  {
   "cell_type": "code",
   "execution_count": 4,
   "metadata": {
    "collapsed": false
   },
   "outputs": [
    {
     "name": "stderr",
     "output_type": "stream",
     "text": [
      "/Users/rbiswas/src/LSST/sims_catalogs_generation/python/lsst/sims/catalogs/generation/db/dbConnection.py:438: UserWarning: Duplicate object type id 25 specified: \n",
      "Output object ids may not be unique.\n",
      "This may not be a problem if you do not want globally unique id values\n",
      "  'want globally unique id values')\n",
      "/Users/rbiswas/src/LSST/sims_catalogs_generation/python/lsst/sims/catalogs/generation/db/dbConnection.py:438: UserWarning: Duplicate object type id 40 specified: \n",
      "Output object ids may not be unique.\n",
      "This may not be a problem if you do not want globally unique id values\n",
      "  'want globally unique id values')\n"
     ]
    }
   ],
   "source": [
    "from lsst.sims.catalogs.measures.instance import InstanceCatalog\n",
    "import lsst.sims.catUtils.baseCatalogModels as bcm\n",
    "from lsst.sims.catalogs.generation.db import CatalogDBObject, DBObject\n",
    "from lsst.sims.catUtils.baseCatalogModels.GalaxyModels import GalaxyTileObj, GalaxyObj\n",
    "from lsst.sims.utils import ObservationMetaData"
   ]
  },
  {
   "cell_type": "markdown",
   "metadata": {},
   "source": [
    "## Catalogs"
   ]
  },
  {
   "cell_type": "code",
   "execution_count": 5,
   "metadata": {
    "collapsed": true
   },
   "outputs": [],
   "source": [
    "observerMetaData = ObservationMetaData(boundType='box',\n",
    "                                  pointingRA=0.,\n",
    "                                  pointingDec=0.,\n",
    "                                  boundLength=0.1)"
   ]
  },
  {
   "cell_type": "code",
   "execution_count": 6,
   "metadata": {
    "collapsed": true
   },
   "outputs": [],
   "source": [
    "observerMetaData_1 = ObservationMetaData(boundType='box',\n",
    "                                  pointingRA=0.,\n",
    "                                  pointingDec=-4.,\n",
    "                                  boundLength=0.1)"
   ]
  },
  {
   "cell_type": "code",
   "execution_count": 7,
   "metadata": {
    "collapsed": true
   },
   "outputs": [],
   "source": [
    "class galCopy(InstanceCatalog):\n",
    "    column_outputs = ['galtileid', 'raJ2000', 'decJ2000', 'redshift', 'mass_stellar', 'absmag_r_total']#, 'a_d', 'b_d', 'pa_disk', 'mass_stellar', 'absmag_r_total']\n",
    "    override_formats = {'raJ2000': '%8e', 'decJ2000': '%8e', 'a_d': '%8e', 'b_d': '%8e', 'pa_disk': '%8e', \n",
    "                        'mass_stellar': '%8e', 'absmag_r_total': '%8e'}"
   ]
  },
  {
   "cell_type": "code",
   "execution_count": 8,
   "metadata": {
    "collapsed": true
   },
   "outputs": [],
   "source": [
    "def galIds(tileID, galTileID):\n",
    "    return galTileID - 100000000* tileID"
   ]
  },
  {
   "cell_type": "code",
   "execution_count": 9,
   "metadata": {
    "collapsed": false
   },
   "outputs": [
    {
     "name": "stderr",
     "output_type": "stream",
     "text": [
      "/usr/local/manual/anaconda/lib/python2.7/site-packages/sqlalchemy/dialects/mssql/base.py:1294: SAWarning: Did not recognize type 'geography' of column 'geopoint'\n",
      "  return fn(*arg, **kw)\n"
     ]
    }
   ],
   "source": [
    "galaxyTiled = GalaxyTileObj()"
   ]
  },
  {
   "cell_type": "markdown",
   "metadata": {},
   "source": [
    "#### On Base Patch"
   ]
  },
  {
   "cell_type": "code",
   "execution_count": 10,
   "metadata": {
    "collapsed": false
   },
   "outputs": [
    {
     "name": "stderr",
     "output_type": "stream",
     "text": [
      "/usr/local/manual/anaconda/lib/python2.7/site-packages/ipykernel/__main__.py:4: ParserWarning: Falling back to the 'python' engine because the 'c' engine does not support regex separators; you can avoid this warning by specifying engine='python'.\n"
     ]
    },
    {
     "data": {
      "text/html": [
       "<div>\n",
       "<table border=\"1\" class=\"dataframe\">\n",
       "  <thead>\n",
       "    <tr style=\"text-align: right;\">\n",
       "      <th></th>\n",
       "      <th>raJ2000</th>\n",
       "      <th>decJ2000</th>\n",
       "      <th>redshift</th>\n",
       "      <th>mass_stellar</th>\n",
       "      <th>absmag_r_total</th>\n",
       "    </tr>\n",
       "    <tr>\n",
       "      <th>galtileid</th>\n",
       "      <th></th>\n",
       "      <th></th>\n",
       "      <th></th>\n",
       "      <th></th>\n",
       "      <th></th>\n",
       "    </tr>\n",
       "  </thead>\n",
       "  <tbody>\n",
       "    <tr>\n",
       "      <th>2203181224</th>\n",
       "      <td>0.000904</td>\n",
       "      <td>-0.001546</td>\n",
       "      <td>0.3832</td>\n",
       "      <td>0.024688</td>\n",
       "      <td>-16.87819</td>\n",
       "    </tr>\n",
       "    <tr>\n",
       "      <th>2206310941</th>\n",
       "      <td>0.000480</td>\n",
       "      <td>-0.001620</td>\n",
       "      <td>0.3887</td>\n",
       "      <td>0.012872</td>\n",
       "      <td>-16.08552</td>\n",
       "    </tr>\n",
       "    <tr>\n",
       "      <th>2206312900</th>\n",
       "      <td>0.000063</td>\n",
       "      <td>-0.001695</td>\n",
       "      <td>0.3907</td>\n",
       "      <td>0.001019</td>\n",
       "      <td>-15.68864</td>\n",
       "    </tr>\n",
       "    <tr>\n",
       "      <th>2201802989</th>\n",
       "      <td>0.000070</td>\n",
       "      <td>-0.001658</td>\n",
       "      <td>0.3863</td>\n",
       "      <td>0.058014</td>\n",
       "      <td>-17.75549</td>\n",
       "    </tr>\n",
       "    <tr>\n",
       "      <th>2206316339</th>\n",
       "      <td>0.001023</td>\n",
       "      <td>-0.000042</td>\n",
       "      <td>0.3882</td>\n",
       "      <td>0.004687</td>\n",
       "      <td>-15.93066</td>\n",
       "    </tr>\n",
       "  </tbody>\n",
       "</table>\n",
       "</div>"
      ],
      "text/plain": [
       "             raJ2000  decJ2000  redshift  mass_stellar  absmag_r_total\n",
       "galtileid                                                             \n",
       "2203181224  0.000904 -0.001546    0.3832      0.024688       -16.87819\n",
       "2206310941  0.000480 -0.001620    0.3887      0.012872       -16.08552\n",
       "2206312900  0.000063 -0.001695    0.3907      0.001019       -15.68864\n",
       "2201802989  0.000070 -0.001658    0.3863      0.058014       -17.75549\n",
       "2206316339  0.001023 -0.000042    0.3882      0.004687       -15.93066"
      ]
     },
     "execution_count": 10,
     "metadata": {},
     "output_type": "execute_result"
    }
   ],
   "source": [
    "constr='redshift < 0.4'\n",
    "gBase = galCopy(galaxyTiled, obs_metadata=observerMetaData, constraint=constr)\n",
    "gBase.write_catalog('gBase.csv')\n",
    "gBase_df  = pd.read_csv('gBase.csv', delimiter=', ',index_col='#galtileid')\n",
    "gBase_df.index.name = 'galtileid'\n",
    "gBase_df.head()"
   ]
  },
  {
   "cell_type": "code",
   "execution_count": 11,
   "metadata": {
    "collapsed": false
   },
   "outputs": [
    {
     "data": {
      "text/html": [
       "<div>\n",
       "<table border=\"1\" class=\"dataframe\">\n",
       "  <thead>\n",
       "    <tr style=\"text-align: right;\">\n",
       "      <th></th>\n",
       "      <th>raJ2000</th>\n",
       "      <th>decJ2000</th>\n",
       "      <th>redshift</th>\n",
       "      <th>mass_stellar</th>\n",
       "      <th>absmag_r_total</th>\n",
       "    </tr>\n",
       "    <tr>\n",
       "      <th>id</th>\n",
       "      <th></th>\n",
       "      <th></th>\n",
       "      <th></th>\n",
       "      <th></th>\n",
       "      <th></th>\n",
       "    </tr>\n",
       "  </thead>\n",
       "  <tbody>\n",
       "    <tr>\n",
       "      <th>3181224</th>\n",
       "      <td>0.000904</td>\n",
       "      <td>-0.001546</td>\n",
       "      <td>0.3832</td>\n",
       "      <td>0.024688</td>\n",
       "      <td>-16.87819</td>\n",
       "    </tr>\n",
       "    <tr>\n",
       "      <th>6310941</th>\n",
       "      <td>0.000480</td>\n",
       "      <td>-0.001620</td>\n",
       "      <td>0.3887</td>\n",
       "      <td>0.012872</td>\n",
       "      <td>-16.08552</td>\n",
       "    </tr>\n",
       "    <tr>\n",
       "      <th>6312900</th>\n",
       "      <td>0.000063</td>\n",
       "      <td>-0.001695</td>\n",
       "      <td>0.3907</td>\n",
       "      <td>0.001019</td>\n",
       "      <td>-15.68864</td>\n",
       "    </tr>\n",
       "    <tr>\n",
       "      <th>1802989</th>\n",
       "      <td>0.000070</td>\n",
       "      <td>-0.001658</td>\n",
       "      <td>0.3863</td>\n",
       "      <td>0.058014</td>\n",
       "      <td>-17.75549</td>\n",
       "    </tr>\n",
       "    <tr>\n",
       "      <th>6316339</th>\n",
       "      <td>0.001023</td>\n",
       "      <td>-0.000042</td>\n",
       "      <td>0.3882</td>\n",
       "      <td>0.004687</td>\n",
       "      <td>-15.93066</td>\n",
       "    </tr>\n",
       "  </tbody>\n",
       "</table>\n",
       "</div>"
      ],
      "text/plain": [
       "          raJ2000  decJ2000  redshift  mass_stellar  absmag_r_total\n",
       "id                                                                 \n",
       "3181224  0.000904 -0.001546    0.3832      0.024688       -16.87819\n",
       "6310941  0.000480 -0.001620    0.3887      0.012872       -16.08552\n",
       "6312900  0.000063 -0.001695    0.3907      0.001019       -15.68864\n",
       "1802989  0.000070 -0.001658    0.3863      0.058014       -17.75549\n",
       "6316339  0.001023 -0.000042    0.3882      0.004687       -15.93066"
      ]
     },
     "execution_count": 11,
     "metadata": {},
     "output_type": "execute_result"
    }
   ],
   "source": [
    "gBase_df['id'] = galIds(22, gBase_df.index.values)\n",
    "gBase_df.set_index('id', inplace=True)\n",
    "gBase_df.head()"
   ]
  },
  {
   "cell_type": "markdown",
   "metadata": {},
   "source": [
    "#### On a Tile 4 degrees South"
   ]
  },
  {
   "cell_type": "code",
   "execution_count": 12,
   "metadata": {
    "collapsed": false
   },
   "outputs": [
    {
     "name": "stderr",
     "output_type": "stream",
     "text": [
      "/usr/local/manual/anaconda/lib/python2.7/site-packages/ipykernel/__main__.py:3: ParserWarning: Falling back to the 'python' engine because the 'c' engine does not support regex separators; you can avoid this warning by specifying engine='python'.\n",
      "  app.launch_new_instance()\n"
     ]
    },
    {
     "data": {
      "text/html": [
       "<div>\n",
       "<table border=\"1\" class=\"dataframe\">\n",
       "  <thead>\n",
       "    <tr style=\"text-align: right;\">\n",
       "      <th></th>\n",
       "      <th>raJ2000</th>\n",
       "      <th>decJ2000</th>\n",
       "      <th>redshift</th>\n",
       "      <th>mass_stellar</th>\n",
       "      <th>absmag_r_total</th>\n",
       "    </tr>\n",
       "    <tr>\n",
       "      <th>galtileid</th>\n",
       "      <th></th>\n",
       "      <th></th>\n",
       "      <th></th>\n",
       "      <th></th>\n",
       "      <th></th>\n",
       "    </tr>\n",
       "  </thead>\n",
       "  <tbody>\n",
       "    <tr>\n",
       "      <th>2107216053</th>\n",
       "      <td>0.000913</td>\n",
       "      <td>-0.069790</td>\n",
       "      <td>0.1629</td>\n",
       "      <td>0.001165</td>\n",
       "      <td>-13.50552</td>\n",
       "    </tr>\n",
       "    <tr>\n",
       "      <th>2101206072</th>\n",
       "      <td>0.000950</td>\n",
       "      <td>-0.069858</td>\n",
       "      <td>0.1744</td>\n",
       "      <td>0.012105</td>\n",
       "      <td>-16.07193</td>\n",
       "    </tr>\n",
       "    <tr>\n",
       "      <th>2102602504</th>\n",
       "      <td>0.001046</td>\n",
       "      <td>-0.070165</td>\n",
       "      <td>0.1785</td>\n",
       "      <td>0.002180</td>\n",
       "      <td>-15.11702</td>\n",
       "    </tr>\n",
       "    <tr>\n",
       "      <th>2100058072</th>\n",
       "      <td>0.000786</td>\n",
       "      <td>-0.070240</td>\n",
       "      <td>0.1739</td>\n",
       "      <td>0.219280</td>\n",
       "      <td>-19.33775</td>\n",
       "    </tr>\n",
       "    <tr>\n",
       "      <th>2105259279</th>\n",
       "      <td>0.000818</td>\n",
       "      <td>-0.070145</td>\n",
       "      <td>0.1744</td>\n",
       "      <td>0.002616</td>\n",
       "      <td>-14.03058</td>\n",
       "    </tr>\n",
       "  </tbody>\n",
       "</table>\n",
       "</div>"
      ],
      "text/plain": [
       "             raJ2000  decJ2000  redshift  mass_stellar  absmag_r_total\n",
       "galtileid                                                             \n",
       "2107216053  0.000913 -0.069790    0.1629      0.001165       -13.50552\n",
       "2101206072  0.000950 -0.069858    0.1744      0.012105       -16.07193\n",
       "2102602504  0.001046 -0.070165    0.1785      0.002180       -15.11702\n",
       "2100058072  0.000786 -0.070240    0.1739      0.219280       -19.33775\n",
       "2105259279  0.000818 -0.070145    0.1744      0.002616       -14.03058"
      ]
     },
     "execution_count": 12,
     "metadata": {},
     "output_type": "execute_result"
    }
   ],
   "source": [
    "gTile_1 = galCopy(galaxyTiled, obs_metadata=observerMetaData_1, constraint=constr)\n",
    "gTile_1.write_catalog('gTile_1.csv')\n",
    "gTile1_df  = pd.read_csv('gTile_1.csv', delimiter=', ', index_col='#galtileid')\n",
    "gTile1_df.index.name = 'galtileid'\n",
    "gTile1_df.head()"
   ]
  },
  {
   "cell_type": "code",
   "execution_count": 13,
   "metadata": {
    "collapsed": false
   },
   "outputs": [
    {
     "data": {
      "text/html": [
       "<div>\n",
       "<table border=\"1\" class=\"dataframe\">\n",
       "  <thead>\n",
       "    <tr style=\"text-align: right;\">\n",
       "      <th></th>\n",
       "      <th>raJ2000_1</th>\n",
       "      <th>decJ2000_1</th>\n",
       "      <th>redshift_1</th>\n",
       "      <th>mass_stellar_1</th>\n",
       "      <th>absmag_r_total_1</th>\n",
       "    </tr>\n",
       "    <tr>\n",
       "      <th>id</th>\n",
       "      <th></th>\n",
       "      <th></th>\n",
       "      <th></th>\n",
       "      <th></th>\n",
       "      <th></th>\n",
       "    </tr>\n",
       "  </thead>\n",
       "  <tbody>\n",
       "    <tr>\n",
       "      <th>7216053</th>\n",
       "      <td>0.000913</td>\n",
       "      <td>-0.069790</td>\n",
       "      <td>0.1629</td>\n",
       "      <td>0.001165</td>\n",
       "      <td>-13.50552</td>\n",
       "    </tr>\n",
       "    <tr>\n",
       "      <th>1206072</th>\n",
       "      <td>0.000950</td>\n",
       "      <td>-0.069858</td>\n",
       "      <td>0.1744</td>\n",
       "      <td>0.012105</td>\n",
       "      <td>-16.07193</td>\n",
       "    </tr>\n",
       "    <tr>\n",
       "      <th>2602504</th>\n",
       "      <td>0.001046</td>\n",
       "      <td>-0.070165</td>\n",
       "      <td>0.1785</td>\n",
       "      <td>0.002180</td>\n",
       "      <td>-15.11702</td>\n",
       "    </tr>\n",
       "    <tr>\n",
       "      <th>58072</th>\n",
       "      <td>0.000786</td>\n",
       "      <td>-0.070240</td>\n",
       "      <td>0.1739</td>\n",
       "      <td>0.219280</td>\n",
       "      <td>-19.33775</td>\n",
       "    </tr>\n",
       "    <tr>\n",
       "      <th>5259279</th>\n",
       "      <td>0.000818</td>\n",
       "      <td>-0.070145</td>\n",
       "      <td>0.1744</td>\n",
       "      <td>0.002616</td>\n",
       "      <td>-14.03058</td>\n",
       "    </tr>\n",
       "  </tbody>\n",
       "</table>\n",
       "</div>"
      ],
      "text/plain": [
       "         raJ2000_1  decJ2000_1  redshift_1  mass_stellar_1  absmag_r_total_1\n",
       "id                                                                          \n",
       "7216053   0.000913   -0.069790      0.1629        0.001165         -13.50552\n",
       "1206072   0.000950   -0.069858      0.1744        0.012105         -16.07193\n",
       "2602504   0.001046   -0.070165      0.1785        0.002180         -15.11702\n",
       "58072     0.000786   -0.070240      0.1739        0.219280         -19.33775\n",
       "5259279   0.000818   -0.070145      0.1744        0.002616         -14.03058"
      ]
     },
     "execution_count": 13,
     "metadata": {},
     "output_type": "execute_result"
    }
   ],
   "source": [
    "gTile1_df['id'] = galIds(21, gTile1_df.index.values)\n",
    "gTile1_df.set_index('id', inplace=True)\n",
    "gTile1_df.rename(columns={'raJ2000':'raJ2000_1', 'decJ2000':'decJ2000_1', 'redshift': 'redshift_1',\n",
    "                          'mass_stellar':'mass_stellar_1', 'absmag_r_total':'absmag_r_total_1'},\n",
    "                 inplace=True)\n",
    "gTile1_df.head()"
   ]
  },
  {
   "cell_type": "code",
   "execution_count": 14,
   "metadata": {
    "collapsed": true
   },
   "outputs": [],
   "source": [
    "merged =  pd.concat([gBase_df, gTile1_df], axis=1)"
   ]
  },
  {
   "cell_type": "code",
   "execution_count": 15,
   "metadata": {
    "collapsed": false
   },
   "outputs": [],
   "source": [
    "# Translate the ra values to around 0 for plotting ease\n",
    "merged['shiftedRA']  = np.where(merged.raJ2000 < 3., merged.raJ2000, merged.raJ2000 - 2.0*np.pi)\n",
    "merged['shiftedRA_1']  = np.where(merged.raJ2000_1 < 3., merged.raJ2000_1, merged.raJ2000_1 - 2.0*np.pi)"
   ]
  },
  {
   "cell_type": "code",
   "execution_count": 16,
   "metadata": {
    "collapsed": false
   },
   "outputs": [
    {
     "data": {
      "text/html": [
       "<div>\n",
       "<table border=\"1\" class=\"dataframe\">\n",
       "  <thead>\n",
       "    <tr style=\"text-align: right;\">\n",
       "      <th></th>\n",
       "      <th>raJ2000</th>\n",
       "      <th>decJ2000</th>\n",
       "      <th>redshift</th>\n",
       "      <th>mass_stellar</th>\n",
       "      <th>absmag_r_total</th>\n",
       "      <th>raJ2000_1</th>\n",
       "      <th>decJ2000_1</th>\n",
       "      <th>redshift_1</th>\n",
       "      <th>mass_stellar_1</th>\n",
       "      <th>absmag_r_total_1</th>\n",
       "      <th>shiftedRA</th>\n",
       "      <th>shiftedRA_1</th>\n",
       "    </tr>\n",
       "    <tr>\n",
       "      <th>id</th>\n",
       "      <th></th>\n",
       "      <th></th>\n",
       "      <th></th>\n",
       "      <th></th>\n",
       "      <th></th>\n",
       "      <th></th>\n",
       "      <th></th>\n",
       "      <th></th>\n",
       "      <th></th>\n",
       "      <th></th>\n",
       "      <th></th>\n",
       "      <th></th>\n",
       "    </tr>\n",
       "  </thead>\n",
       "  <tbody>\n",
       "    <tr>\n",
       "      <th>157</th>\n",
       "      <td>0.000261</td>\n",
       "      <td>0.000750</td>\n",
       "      <td>0.2212</td>\n",
       "      <td>0.009765</td>\n",
       "      <td>-16.19086</td>\n",
       "      <td>0.000179</td>\n",
       "      <td>-0.069021</td>\n",
       "      <td>0.2212</td>\n",
       "      <td>0.009765</td>\n",
       "      <td>-16.19086</td>\n",
       "      <td>0.000261</td>\n",
       "      <td>0.000179</td>\n",
       "    </tr>\n",
       "    <tr>\n",
       "      <th>3439</th>\n",
       "      <td>0.000843</td>\n",
       "      <td>0.000985</td>\n",
       "      <td>0.1980</td>\n",
       "      <td>5.389866</td>\n",
       "      <td>-22.81107</td>\n",
       "      <td>0.000762</td>\n",
       "      <td>-0.068788</td>\n",
       "      <td>0.1980</td>\n",
       "      <td>5.389866</td>\n",
       "      <td>-22.81107</td>\n",
       "      <td>0.000843</td>\n",
       "      <td>0.000762</td>\n",
       "    </tr>\n",
       "    <tr>\n",
       "      <th>5199</th>\n",
       "      <td>0.000280</td>\n",
       "      <td>0.001694</td>\n",
       "      <td>0.3295</td>\n",
       "      <td>9.559460</td>\n",
       "      <td>-22.63002</td>\n",
       "      <td>0.000200</td>\n",
       "      <td>-0.068077</td>\n",
       "      <td>0.3295</td>\n",
       "      <td>9.559460</td>\n",
       "      <td>-22.63002</td>\n",
       "      <td>0.000280</td>\n",
       "      <td>0.000200</td>\n",
       "    </tr>\n",
       "    <tr>\n",
       "      <th>6482</th>\n",
       "      <td>0.000062</td>\n",
       "      <td>0.001331</td>\n",
       "      <td>0.2883</td>\n",
       "      <td>6.708042</td>\n",
       "      <td>-22.35137</td>\n",
       "      <td>NaN</td>\n",
       "      <td>NaN</td>\n",
       "      <td>NaN</td>\n",
       "      <td>NaN</td>\n",
       "      <td>NaN</td>\n",
       "      <td>0.000062</td>\n",
       "      <td>NaN</td>\n",
       "    </tr>\n",
       "    <tr>\n",
       "      <th>7260</th>\n",
       "      <td>0.000818</td>\n",
       "      <td>-0.000958</td>\n",
       "      <td>0.2405</td>\n",
       "      <td>2.654986</td>\n",
       "      <td>-22.37807</td>\n",
       "      <td>0.000733</td>\n",
       "      <td>-0.070730</td>\n",
       "      <td>0.2405</td>\n",
       "      <td>2.654986</td>\n",
       "      <td>-22.37807</td>\n",
       "      <td>0.000818</td>\n",
       "      <td>0.000733</td>\n",
       "    </tr>\n",
       "  </tbody>\n",
       "</table>\n",
       "</div>"
      ],
      "text/plain": [
       "       raJ2000  decJ2000  redshift  mass_stellar  absmag_r_total  raJ2000_1  \\\n",
       "id                                                                            \n",
       "157   0.000261  0.000750    0.2212      0.009765       -16.19086   0.000179   \n",
       "3439  0.000843  0.000985    0.1980      5.389866       -22.81107   0.000762   \n",
       "5199  0.000280  0.001694    0.3295      9.559460       -22.63002   0.000200   \n",
       "6482  0.000062  0.001331    0.2883      6.708042       -22.35137        NaN   \n",
       "7260  0.000818 -0.000958    0.2405      2.654986       -22.37807   0.000733   \n",
       "\n",
       "      decJ2000_1  redshift_1  mass_stellar_1  absmag_r_total_1  shiftedRA  \\\n",
       "id                                                                          \n",
       "157    -0.069021      0.2212        0.009765         -16.19086   0.000261   \n",
       "3439   -0.068788      0.1980        5.389866         -22.81107   0.000843   \n",
       "5199   -0.068077      0.3295        9.559460         -22.63002   0.000280   \n",
       "6482         NaN         NaN             NaN               NaN   0.000062   \n",
       "7260   -0.070730      0.2405        2.654986         -22.37807   0.000818   \n",
       "\n",
       "      shiftedRA_1  \n",
       "id                 \n",
       "157      0.000179  \n",
       "3439     0.000762  \n",
       "5199     0.000200  \n",
       "6482          NaN  \n",
       "7260     0.000733  "
      ]
     },
     "execution_count": 16,
     "metadata": {},
     "output_type": "execute_result"
    }
   ],
   "source": [
    "merged.head()"
   ]
  },
  {
   "cell_type": "code",
   "execution_count": 17,
   "metadata": {
    "collapsed": true
   },
   "outputs": [],
   "source": [
    "uncommon = merged[merged.isnull().any(axis=1)].copy()"
   ]
  },
  {
   "cell_type": "code",
   "execution_count": 18,
   "metadata": {
    "collapsed": false
   },
   "outputs": [
    {
     "data": {
      "text/plain": [
       "<matplotlib.collections.PathCollection at 0x1166d8ad0>"
      ]
     },
     "execution_count": 18,
     "metadata": {},
     "output_type": "execute_result"
    },
    {
     "data": {
      "image/png": "[encoded data removed]",
      "text/plain": [
       "<matplotlib.figure.Figure at 0x116440bd0>"
      ]
     },
     "metadata": {},
     "output_type": "display_data"
    }
   ],
   "source": [
    "fig, ax = plt.subplots(2, 1, figsize=(6, 12), sharex=True)\n",
    "ax[0].plot(merged.raJ2000, merged.decJ2000, 'y.')\n",
    "ax[0].scatter(uncommon.raJ2000, uncommon.decJ2000, color='b')\n",
    "\n",
    "ax[1].plot(merged.raJ2000_1, merged.decJ2000_1, 'y.')\n",
    "ax[1].scatter(uncommon.raJ2000_1, uncommon.decJ2000_1, color='r')\n",
    "\n",
    "\n"
   ]
  },
  {
   "cell_type": "code",
   "execution_count": 19,
   "metadata": {
    "collapsed": false
   },
   "outputs": [
    {
     "data": {
      "text/plain": [
       "<matplotlib.collections.PathCollection at 0x119ce9c90>"
      ]
     },
     "execution_count": 19,
     "metadata": {},
     "output_type": "execute_result"
    },
    {
     "data": {
      "image/png": "[encoded data removed]",
      "text/plain": [
       "<matplotlib.figure.Figure at 0x116784650>"
      ]
     },
     "metadata": {},
     "output_type": "display_data"
    }
   ],
   "source": [
    "fig, ax = plt.subplots(2, 1, figsize=(6, 12), sharex=True)\n",
    "ax[0].plot(merged.shiftedRA, merged.decJ2000, 'y.')\n",
    "ax[0].scatter(uncommon.shiftedRA, uncommon.decJ2000, color='b')\n",
    "\n",
    "ax[1].plot(merged.shiftedRA_1, merged.decJ2000_1, 'y.')\n",
    "ax[1].scatter(uncommon.shiftedRA_1, uncommon.decJ2000_1, color='r')\n",
    "\n"
   ]
  },
  {
   "cell_type": "code",
   "execution_count": 20,
   "metadata": {
    "collapsed": false
   },
   "outputs": [
    {
     "name": "stdout",
     "output_type": "stream",
     "text": [
      "143.0 2228.0\n"
     ]
    }
   ],
   "source": [
    "print(len(uncommon)/2., (len(gBase_df) + len(gTile1_df) )/2.)"
   ]
  },
  {
   "cell_type": "code",
   "execution_count": 21,
   "metadata": {
    "collapsed": false
   },
   "outputs": [
    {
     "data": {
      "text/plain": [
       "47.201694884823787"
      ]
     },
     "execution_count": 21,
     "metadata": {},
     "output_type": "execute_result"
    }
   ],
   "source": [
    "np.sqrt(2228.)"
   ]
  },
  {
   "cell_type": "code",
   "execution_count": 22,
   "metadata": {
    "collapsed": false
   },
   "outputs": [
    {
     "data": {
      "text/plain": [
       "134"
      ]
     },
     "execution_count": 22,
     "metadata": {},
     "output_type": "execute_result"
    }
   ],
   "source": [
    "len(merged[merged.shiftedRA_1.isnull()])"
   ]
  },
  {
   "cell_type": "code",
   "execution_count": 23,
   "metadata": {
    "collapsed": false
   },
   "outputs": [
    {
     "data": {
      "text/plain": [
       "152"
      ]
     },
     "execution_count": 23,
     "metadata": {},
     "output_type": "execute_result"
    }
   ],
   "source": [
    "len(merged[merged.shiftedRA.isnull()])"
   ]
  },
  {
   "cell_type": "code",
   "execution_count": 24,
   "metadata": {
    "collapsed": false
   },
   "outputs": [
    {
     "data": {
      "text/plain": [
       "2371"
      ]
     },
     "execution_count": 24,
     "metadata": {},
     "output_type": "execute_result"
    }
   ],
   "source": [
    "len(merged)"
   ]
  },
  {
   "cell_type": "markdown",
   "metadata": {},
   "source": [
    "## Tests Galaxies are correctly identified"
   ]
  },
  {
   "cell_type": "code",
   "execution_count": 25,
   "metadata": {
    "collapsed": false
   },
   "outputs": [],
   "source": [
    "common = merged[~merged.isnull().any(axis=1)]"
   ]
  },
  {
   "cell_type": "code",
   "execution_count": 26,
   "metadata": {
    "collapsed": false
   },
   "outputs": [
    {
     "data": {
      "text/plain": [
       "True"
      ]
     },
     "execution_count": 26,
     "metadata": {},
     "output_type": "execute_result"
    }
   ],
   "source": [
    "np.allclose(common.redshift, common.redshift_1)"
   ]
  },
  {
   "cell_type": "code",
   "execution_count": 27,
   "metadata": {
    "collapsed": false
   },
   "outputs": [
    {
     "data": {
      "text/plain": [
       "True"
      ]
     },
     "execution_count": 27,
     "metadata": {},
     "output_type": "execute_result"
    }
   ],
   "source": [
    "np.allclose(common.mass_stellar, common.mass_stellar_1)"
   ]
  },
  {
   "cell_type": "code",
   "execution_count": 28,
   "metadata": {
    "collapsed": false
   },
   "outputs": [
    {
     "data": {
      "text/plain": [
       "True"
      ]
     },
     "execution_count": 28,
     "metadata": {},
     "output_type": "execute_result"
    }
   ],
   "source": [
    "np.allclose(common.absmag_r_total, common.absmag_r_total_1)"
   ]
  },
  {
   "cell_type": "code",
   "execution_count": 29,
   "metadata": {
    "collapsed": false
   },
   "outputs": [
    {
     "name": "stdout",
     "output_type": "stream",
     "text": [
      "2085\n"
     ]
    }
   ],
   "source": [
    "print(len(common))"
   ]
  },
  {
   "cell_type": "markdown",
   "metadata": {},
   "source": [
    "## Angular Separations"
   ]
  },
  {
   "cell_type": "code",
   "execution_count": 30,
   "metadata": {
    "collapsed": false
   },
   "outputs": [
    {
     "data": {
      "text/html": [
       "<div>\n",
       "<table border=\"1\" class=\"dataframe\">\n",
       "  <thead>\n",
       "    <tr style=\"text-align: right;\">\n",
       "      <th></th>\n",
       "      <th>raJ2000</th>\n",
       "      <th>decJ2000</th>\n",
       "      <th>redshift</th>\n",
       "      <th>mass_stellar</th>\n",
       "      <th>absmag_r_total</th>\n",
       "      <th>raJ2000_1</th>\n",
       "      <th>decJ2000_1</th>\n",
       "      <th>redshift_1</th>\n",
       "      <th>mass_stellar_1</th>\n",
       "      <th>absmag_r_total_1</th>\n",
       "      <th>shiftedRA</th>\n",
       "      <th>shiftedRA_1</th>\n",
       "    </tr>\n",
       "    <tr>\n",
       "      <th>id</th>\n",
       "      <th></th>\n",
       "      <th></th>\n",
       "      <th></th>\n",
       "      <th></th>\n",
       "      <th></th>\n",
       "      <th></th>\n",
       "      <th></th>\n",
       "      <th></th>\n",
       "      <th></th>\n",
       "      <th></th>\n",
       "      <th></th>\n",
       "      <th></th>\n",
       "    </tr>\n",
       "  </thead>\n",
       "  <tbody>\n",
       "    <tr>\n",
       "      <th>157</th>\n",
       "      <td>0.000261</td>\n",
       "      <td>0.000750</td>\n",
       "      <td>0.2212</td>\n",
       "      <td>0.009765</td>\n",
       "      <td>-16.19086</td>\n",
       "      <td>0.000179</td>\n",
       "      <td>-0.069021</td>\n",
       "      <td>0.2212</td>\n",
       "      <td>0.009765</td>\n",
       "      <td>-16.19086</td>\n",
       "      <td>0.000261</td>\n",
       "      <td>0.000179</td>\n",
       "    </tr>\n",
       "    <tr>\n",
       "      <th>3439</th>\n",
       "      <td>0.000843</td>\n",
       "      <td>0.000985</td>\n",
       "      <td>0.1980</td>\n",
       "      <td>5.389866</td>\n",
       "      <td>-22.81107</td>\n",
       "      <td>0.000762</td>\n",
       "      <td>-0.068788</td>\n",
       "      <td>0.1980</td>\n",
       "      <td>5.389866</td>\n",
       "      <td>-22.81107</td>\n",
       "      <td>0.000843</td>\n",
       "      <td>0.000762</td>\n",
       "    </tr>\n",
       "    <tr>\n",
       "      <th>5199</th>\n",
       "      <td>0.000280</td>\n",
       "      <td>0.001694</td>\n",
       "      <td>0.3295</td>\n",
       "      <td>9.559460</td>\n",
       "      <td>-22.63002</td>\n",
       "      <td>0.000200</td>\n",
       "      <td>-0.068077</td>\n",
       "      <td>0.3295</td>\n",
       "      <td>9.559460</td>\n",
       "      <td>-22.63002</td>\n",
       "      <td>0.000280</td>\n",
       "      <td>0.000200</td>\n",
       "    </tr>\n",
       "    <tr>\n",
       "      <th>7260</th>\n",
       "      <td>0.000818</td>\n",
       "      <td>-0.000958</td>\n",
       "      <td>0.2405</td>\n",
       "      <td>2.654986</td>\n",
       "      <td>-22.37807</td>\n",
       "      <td>0.000733</td>\n",
       "      <td>-0.070730</td>\n",
       "      <td>0.2405</td>\n",
       "      <td>2.654986</td>\n",
       "      <td>-22.37807</td>\n",
       "      <td>0.000818</td>\n",
       "      <td>0.000733</td>\n",
       "    </tr>\n",
       "    <tr>\n",
       "      <th>7552</th>\n",
       "      <td>0.001381</td>\n",
       "      <td>-0.000987</td>\n",
       "      <td>0.2408</td>\n",
       "      <td>3.249657</td>\n",
       "      <td>-21.89512</td>\n",
       "      <td>0.001297</td>\n",
       "      <td>-0.070761</td>\n",
       "      <td>0.2408</td>\n",
       "      <td>3.249657</td>\n",
       "      <td>-21.89512</td>\n",
       "      <td>0.001381</td>\n",
       "      <td>0.001297</td>\n",
       "    </tr>\n",
       "  </tbody>\n",
       "</table>\n",
       "</div>"
      ],
      "text/plain": [
       "       raJ2000  decJ2000  redshift  mass_stellar  absmag_r_total  raJ2000_1  \\\n",
       "id                                                                            \n",
       "157   0.000261  0.000750    0.2212      0.009765       -16.19086   0.000179   \n",
       "3439  0.000843  0.000985    0.1980      5.389866       -22.81107   0.000762   \n",
       "5199  0.000280  0.001694    0.3295      9.559460       -22.63002   0.000200   \n",
       "7260  0.000818 -0.000958    0.2405      2.654986       -22.37807   0.000733   \n",
       "7552  0.001381 -0.000987    0.2408      3.249657       -21.89512   0.001297   \n",
       "\n",
       "      decJ2000_1  redshift_1  mass_stellar_1  absmag_r_total_1  shiftedRA  \\\n",
       "id                                                                          \n",
       "157    -0.069021      0.2212        0.009765         -16.19086   0.000261   \n",
       "3439   -0.068788      0.1980        5.389866         -22.81107   0.000843   \n",
       "5199   -0.068077      0.3295        9.559460         -22.63002   0.000280   \n",
       "7260   -0.070730      0.2405        2.654986         -22.37807   0.000818   \n",
       "7552   -0.070761      0.2408        3.249657         -21.89512   0.001381   \n",
       "\n",
       "      shiftedRA_1  \n",
       "id                 \n",
       "157      0.000179  \n",
       "3439     0.000762  \n",
       "5199     0.000200  \n",
       "7260     0.000733  \n",
       "7552     0.001297  "
      ]
     },
     "execution_count": 30,
     "metadata": {},
     "output_type": "execute_result"
    }
   ],
   "source": [
    "common.head()"
   ]
  },
  {
   "cell_type": "code",
   "execution_count": 31,
   "metadata": {
    "collapsed": false
   },
   "outputs": [],
   "source": [
    "NSelect = 1000\n",
    "sel = np.random.choice(common.index.values, NSelect*2, replace=False)"
   ]
  },
  {
   "cell_type": "code",
   "execution_count": 32,
   "metadata": {
    "collapsed": true
   },
   "outputs": [],
   "source": [
    "split_1 = common.ix[sel[:NSelect]]\n",
    "split_2 = common.ix[sel[NSelect:]]"
   ]
  },
  {
   "cell_type": "code",
   "execution_count": 33,
   "metadata": {
    "collapsed": false
   },
   "outputs": [
    {
     "name": "stdout",
     "output_type": "stream",
     "text": [
      "1000 1000\n"
     ]
    }
   ],
   "source": [
    "print(len(split_1), len(split_2))"
   ]
  },
  {
   "cell_type": "code",
   "execution_count": 34,
   "metadata": {
    "collapsed": false
   },
   "outputs": [
    {
     "data": {
      "text/html": [
       "<div>\n",
       "<table border=\"1\" class=\"dataframe\">\n",
       "  <thead>\n",
       "    <tr style=\"text-align: right;\">\n",
       "      <th></th>\n",
       "      <th>raJ2000</th>\n",
       "      <th>decJ2000</th>\n",
       "      <th>redshift</th>\n",
       "      <th>mass_stellar</th>\n",
       "      <th>absmag_r_total</th>\n",
       "      <th>raJ2000_1</th>\n",
       "      <th>decJ2000_1</th>\n",
       "      <th>redshift_1</th>\n",
       "      <th>mass_stellar_1</th>\n",
       "      <th>absmag_r_total_1</th>\n",
       "      <th>shiftedRA</th>\n",
       "      <th>shiftedRA_1</th>\n",
       "    </tr>\n",
       "    <tr>\n",
       "      <th>id</th>\n",
       "      <th></th>\n",
       "      <th></th>\n",
       "      <th></th>\n",
       "      <th></th>\n",
       "      <th></th>\n",
       "      <th></th>\n",
       "      <th></th>\n",
       "      <th></th>\n",
       "      <th></th>\n",
       "      <th></th>\n",
       "      <th></th>\n",
       "      <th></th>\n",
       "    </tr>\n",
       "  </thead>\n",
       "  <tbody>\n",
       "    <tr>\n",
       "      <th>400512835707</th>\n",
       "      <td>6.282947</td>\n",
       "      <td>-0.000898</td>\n",
       "      <td>0.1790</td>\n",
       "      <td>0.000455</td>\n",
       "      <td>-12.63770</td>\n",
       "      <td>6.283034</td>\n",
       "      <td>-0.070669</td>\n",
       "      <td>0.1790</td>\n",
       "      <td>0.000455</td>\n",
       "      <td>-12.63770</td>\n",
       "      <td>-0.000238</td>\n",
       "      <td>-0.000151</td>\n",
       "    </tr>\n",
       "    <tr>\n",
       "      <th>400506299579</th>\n",
       "      <td>6.282140</td>\n",
       "      <td>0.001157</td>\n",
       "      <td>0.3594</td>\n",
       "      <td>0.003746</td>\n",
       "      <td>-15.61224</td>\n",
       "      <td>6.282219</td>\n",
       "      <td>-0.068616</td>\n",
       "      <td>0.3594</td>\n",
       "      <td>0.003746</td>\n",
       "      <td>-15.61224</td>\n",
       "      <td>-0.001045</td>\n",
       "      <td>-0.000966</td>\n",
       "    </tr>\n",
       "    <tr>\n",
       "      <th>8824459</th>\n",
       "      <td>0.001501</td>\n",
       "      <td>-0.001141</td>\n",
       "      <td>0.3291</td>\n",
       "      <td>0.006535</td>\n",
       "      <td>-14.93010</td>\n",
       "      <td>0.001417</td>\n",
       "      <td>-0.070915</td>\n",
       "      <td>0.3291</td>\n",
       "      <td>0.006535</td>\n",
       "      <td>-14.93010</td>\n",
       "      <td>0.001501</td>\n",
       "      <td>0.001417</td>\n",
       "    </tr>\n",
       "    <tr>\n",
       "      <th>865832</th>\n",
       "      <td>0.001318</td>\n",
       "      <td>0.000185</td>\n",
       "      <td>0.2332</td>\n",
       "      <td>0.032716</td>\n",
       "      <td>-17.07724</td>\n",
       "      <td>0.001237</td>\n",
       "      <td>-0.069589</td>\n",
       "      <td>0.2332</td>\n",
       "      <td>0.032716</td>\n",
       "      <td>-17.07724</td>\n",
       "      <td>0.001318</td>\n",
       "      <td>0.001237</td>\n",
       "    </tr>\n",
       "    <tr>\n",
       "      <th>400501229233</th>\n",
       "      <td>6.282431</td>\n",
       "      <td>-0.001557</td>\n",
       "      <td>0.3592</td>\n",
       "      <td>0.008838</td>\n",
       "      <td>-17.64829</td>\n",
       "      <td>6.282518</td>\n",
       "      <td>-0.071330</td>\n",
       "      <td>0.3592</td>\n",
       "      <td>0.008838</td>\n",
       "      <td>-17.64829</td>\n",
       "      <td>-0.000754</td>\n",
       "      <td>-0.000667</td>\n",
       "    </tr>\n",
       "    <tr>\n",
       "      <th>610138</th>\n",
       "      <td>0.000435</td>\n",
       "      <td>-0.000160</td>\n",
       "      <td>0.2182</td>\n",
       "      <td>0.064077</td>\n",
       "      <td>-17.51929</td>\n",
       "      <td>0.000351</td>\n",
       "      <td>-0.069932</td>\n",
       "      <td>0.2182</td>\n",
       "      <td>0.064077</td>\n",
       "      <td>-17.51929</td>\n",
       "      <td>0.000435</td>\n",
       "      <td>0.000351</td>\n",
       "    </tr>\n",
       "    <tr>\n",
       "      <th>400501786182</th>\n",
       "      <td>6.282115</td>\n",
       "      <td>0.000318</td>\n",
       "      <td>0.1898</td>\n",
       "      <td>0.001309</td>\n",
       "      <td>-15.72784</td>\n",
       "      <td>6.282197</td>\n",
       "      <td>-0.069455</td>\n",
       "      <td>0.1898</td>\n",
       "      <td>0.001309</td>\n",
       "      <td>-15.72784</td>\n",
       "      <td>-0.001070</td>\n",
       "      <td>-0.000988</td>\n",
       "    </tr>\n",
       "    <tr>\n",
       "      <th>400505526955</th>\n",
       "      <td>6.282235</td>\n",
       "      <td>-0.001650</td>\n",
       "      <td>0.2930</td>\n",
       "      <td>0.006457</td>\n",
       "      <td>-15.30489</td>\n",
       "      <td>6.282322</td>\n",
       "      <td>-0.071423</td>\n",
       "      <td>0.2930</td>\n",
       "      <td>0.006457</td>\n",
       "      <td>-15.30489</td>\n",
       "      <td>-0.000950</td>\n",
       "      <td>-0.000863</td>\n",
       "    </tr>\n",
       "    <tr>\n",
       "      <th>1260758</th>\n",
       "      <td>0.000404</td>\n",
       "      <td>0.000086</td>\n",
       "      <td>0.3173</td>\n",
       "      <td>0.022277</td>\n",
       "      <td>-17.24217</td>\n",
       "      <td>0.000320</td>\n",
       "      <td>-0.069686</td>\n",
       "      <td>0.3173</td>\n",
       "      <td>0.022277</td>\n",
       "      <td>-17.24217</td>\n",
       "      <td>0.000404</td>\n",
       "      <td>0.000320</td>\n",
       "    </tr>\n",
       "    <tr>\n",
       "      <th>400503071756</th>\n",
       "      <td>6.281650</td>\n",
       "      <td>0.001145</td>\n",
       "      <td>0.1924</td>\n",
       "      <td>0.004052</td>\n",
       "      <td>-15.15436</td>\n",
       "      <td>6.281729</td>\n",
       "      <td>-0.068629</td>\n",
       "      <td>0.1924</td>\n",
       "      <td>0.004052</td>\n",
       "      <td>-15.15436</td>\n",
       "      <td>-0.001535</td>\n",
       "      <td>-0.001456</td>\n",
       "    </tr>\n",
       "    <tr>\n",
       "      <th>400506313170</th>\n",
       "      <td>6.282361</td>\n",
       "      <td>-0.000362</td>\n",
       "      <td>0.3804</td>\n",
       "      <td>0.005892</td>\n",
       "      <td>-15.88517</td>\n",
       "      <td>6.282445</td>\n",
       "      <td>-0.070134</td>\n",
       "      <td>0.3804</td>\n",
       "      <td>0.005892</td>\n",
       "      <td>-15.88517</td>\n",
       "      <td>-0.000824</td>\n",
       "      <td>-0.000740</td>\n",
       "    </tr>\n",
       "    <tr>\n",
       "      <th>16788763</th>\n",
       "      <td>0.001183</td>\n",
       "      <td>0.000468</td>\n",
       "      <td>0.2904</td>\n",
       "      <td>0.000165</td>\n",
       "      <td>-12.87496</td>\n",
       "      <td>0.001102</td>\n",
       "      <td>-0.069306</td>\n",
       "      <td>0.2904</td>\n",
       "      <td>0.000165</td>\n",
       "      <td>-12.87496</td>\n",
       "      <td>0.001183</td>\n",
       "      <td>0.001102</td>\n",
       "    </tr>\n",
       "    <tr>\n",
       "      <th>11735285</th>\n",
       "      <td>0.001567</td>\n",
       "      <td>0.000334</td>\n",
       "      <td>0.3247</td>\n",
       "      <td>0.000706</td>\n",
       "      <td>-14.06926</td>\n",
       "      <td>0.001486</td>\n",
       "      <td>-0.069440</td>\n",
       "      <td>0.3247</td>\n",
       "      <td>0.000706</td>\n",
       "      <td>-14.06926</td>\n",
       "      <td>0.001567</td>\n",
       "      <td>0.001486</td>\n",
       "    </tr>\n",
       "    <tr>\n",
       "      <th>8675080</th>\n",
       "      <td>0.000579</td>\n",
       "      <td>-0.001744</td>\n",
       "      <td>0.3444</td>\n",
       "      <td>0.001800</td>\n",
       "      <td>-14.97699</td>\n",
       "      <td>0.000491</td>\n",
       "      <td>-0.071516</td>\n",
       "      <td>0.3444</td>\n",
       "      <td>0.001800</td>\n",
       "      <td>-14.97699</td>\n",
       "      <td>0.000579</td>\n",
       "      <td>0.000491</td>\n",
       "    </tr>\n",
       "    <tr>\n",
       "      <th>13510749</th>\n",
       "      <td>0.001542</td>\n",
       "      <td>0.001463</td>\n",
       "      <td>0.3715</td>\n",
       "      <td>0.002337</td>\n",
       "      <td>-14.43824</td>\n",
       "      <td>0.001464</td>\n",
       "      <td>-0.068311</td>\n",
       "      <td>0.3715</td>\n",
       "      <td>0.002337</td>\n",
       "      <td>-14.43824</td>\n",
       "      <td>0.001542</td>\n",
       "      <td>0.001464</td>\n",
       "    </tr>\n",
       "    <tr>\n",
       "      <th>400502133087</th>\n",
       "      <td>6.281831</td>\n",
       "      <td>0.000503</td>\n",
       "      <td>0.1502</td>\n",
       "      <td>0.005596</td>\n",
       "      <td>-14.99138</td>\n",
       "      <td>6.281912</td>\n",
       "      <td>-0.069271</td>\n",
       "      <td>0.1502</td>\n",
       "      <td>0.005596</td>\n",
       "      <td>-14.99138</td>\n",
       "      <td>-0.001354</td>\n",
       "      <td>-0.001273</td>\n",
       "    </tr>\n",
       "    <tr>\n",
       "      <th>400505451233</th>\n",
       "      <td>6.282826</td>\n",
       "      <td>0.000906</td>\n",
       "      <td>0.3395</td>\n",
       "      <td>0.013187</td>\n",
       "      <td>-15.76128</td>\n",
       "      <td>6.282908</td>\n",
       "      <td>-0.068866</td>\n",
       "      <td>0.3395</td>\n",
       "      <td>0.013187</td>\n",
       "      <td>-15.76128</td>\n",
       "      <td>-0.000359</td>\n",
       "      <td>-0.000277</td>\n",
       "    </tr>\n",
       "    <tr>\n",
       "      <th>400501870919</th>\n",
       "      <td>6.281662</td>\n",
       "      <td>0.001287</td>\n",
       "      <td>0.3200</td>\n",
       "      <td>0.005165</td>\n",
       "      <td>-16.75262</td>\n",
       "      <td>6.281740</td>\n",
       "      <td>-0.068487</td>\n",
       "      <td>0.3200</td>\n",
       "      <td>0.005165</td>\n",
       "      <td>-16.75262</td>\n",
       "      <td>-0.001523</td>\n",
       "      <td>-0.001445</td>\n",
       "    </tr>\n",
       "    <tr>\n",
       "      <th>10388559</th>\n",
       "      <td>0.001146</td>\n",
       "      <td>-0.001285</td>\n",
       "      <td>0.3014</td>\n",
       "      <td>0.001958</td>\n",
       "      <td>-14.29225</td>\n",
       "      <td>0.001061</td>\n",
       "      <td>-0.071059</td>\n",
       "      <td>0.3014</td>\n",
       "      <td>0.001958</td>\n",
       "      <td>-14.29225</td>\n",
       "      <td>0.001146</td>\n",
       "      <td>0.001061</td>\n",
       "    </tr>\n",
       "    <tr>\n",
       "      <th>400503318986</th>\n",
       "      <td>6.282899</td>\n",
       "      <td>-0.001134</td>\n",
       "      <td>0.2685</td>\n",
       "      <td>0.001567</td>\n",
       "      <td>-15.62523</td>\n",
       "      <td>6.282986</td>\n",
       "      <td>-0.070905</td>\n",
       "      <td>0.2685</td>\n",
       "      <td>0.001567</td>\n",
       "      <td>-15.62523</td>\n",
       "      <td>-0.000286</td>\n",
       "      <td>-0.000199</td>\n",
       "    </tr>\n",
       "    <tr>\n",
       "      <th>31250</th>\n",
       "      <td>0.000553</td>\n",
       "      <td>-0.000588</td>\n",
       "      <td>0.1743</td>\n",
       "      <td>0.597177</td>\n",
       "      <td>-20.01698</td>\n",
       "      <td>0.000468</td>\n",
       "      <td>-0.070360</td>\n",
       "      <td>0.1743</td>\n",
       "      <td>0.597177</td>\n",
       "      <td>-20.01698</td>\n",
       "      <td>0.000553</td>\n",
       "      <td>0.000468</td>\n",
       "    </tr>\n",
       "    <tr>\n",
       "      <th>400502206322</th>\n",
       "      <td>6.282162</td>\n",
       "      <td>0.000470</td>\n",
       "      <td>0.3699</td>\n",
       "      <td>0.017390</td>\n",
       "      <td>-17.25311</td>\n",
       "      <td>6.282244</td>\n",
       "      <td>-0.069303</td>\n",
       "      <td>0.3699</td>\n",
       "      <td>0.017390</td>\n",
       "      <td>-17.25311</td>\n",
       "      <td>-0.001023</td>\n",
       "      <td>-0.000941</td>\n",
       "    </tr>\n",
       "    <tr>\n",
       "      <th>400500425029</th>\n",
       "      <td>6.281882</td>\n",
       "      <td>0.000029</td>\n",
       "      <td>0.3722</td>\n",
       "      <td>0.287235</td>\n",
       "      <td>-19.58652</td>\n",
       "      <td>6.281963</td>\n",
       "      <td>-0.069745</td>\n",
       "      <td>0.3722</td>\n",
       "      <td>0.287235</td>\n",
       "      <td>-19.58652</td>\n",
       "      <td>-0.001303</td>\n",
       "      <td>-0.001222</td>\n",
       "    </tr>\n",
       "    <tr>\n",
       "      <th>400502717139</th>\n",
       "      <td>6.281843</td>\n",
       "      <td>-0.000615</td>\n",
       "      <td>0.3322</td>\n",
       "      <td>0.012282</td>\n",
       "      <td>-16.56232</td>\n",
       "      <td>6.281926</td>\n",
       "      <td>-0.070389</td>\n",
       "      <td>0.3322</td>\n",
       "      <td>0.012282</td>\n",
       "      <td>-16.56232</td>\n",
       "      <td>-0.001342</td>\n",
       "      <td>-0.001259</td>\n",
       "    </tr>\n",
       "    <tr>\n",
       "      <th>400500627092</th>\n",
       "      <td>6.282573</td>\n",
       "      <td>-0.001368</td>\n",
       "      <td>0.1990</td>\n",
       "      <td>0.066593</td>\n",
       "      <td>-17.31743</td>\n",
       "      <td>6.282660</td>\n",
       "      <td>-0.071140</td>\n",
       "      <td>0.1990</td>\n",
       "      <td>0.066593</td>\n",
       "      <td>-17.31743</td>\n",
       "      <td>-0.000612</td>\n",
       "      <td>-0.000525</td>\n",
       "    </tr>\n",
       "    <tr>\n",
       "      <th>400508986577</th>\n",
       "      <td>6.283002</td>\n",
       "      <td>0.001317</td>\n",
       "      <td>0.2767</td>\n",
       "      <td>0.001167</td>\n",
       "      <td>-14.30534</td>\n",
       "      <td>6.283083</td>\n",
       "      <td>-0.068454</td>\n",
       "      <td>0.2767</td>\n",
       "      <td>0.001167</td>\n",
       "      <td>-14.30534</td>\n",
       "      <td>-0.000183</td>\n",
       "      <td>-0.000102</td>\n",
       "    </tr>\n",
       "    <tr>\n",
       "      <th>400500652087</th>\n",
       "      <td>6.282372</td>\n",
       "      <td>-0.001346</td>\n",
       "      <td>0.3589</td>\n",
       "      <td>0.168926</td>\n",
       "      <td>-18.83679</td>\n",
       "      <td>6.282459</td>\n",
       "      <td>-0.071119</td>\n",
       "      <td>0.3589</td>\n",
       "      <td>0.168926</td>\n",
       "      <td>-18.83679</td>\n",
       "      <td>-0.000813</td>\n",
       "      <td>-0.000726</td>\n",
       "    </tr>\n",
       "    <tr>\n",
       "      <th>400502275969</th>\n",
       "      <td>6.282046</td>\n",
       "      <td>-0.000493</td>\n",
       "      <td>0.2281</td>\n",
       "      <td>0.014659</td>\n",
       "      <td>-15.86929</td>\n",
       "      <td>6.282130</td>\n",
       "      <td>-0.070267</td>\n",
       "      <td>0.2281</td>\n",
       "      <td>0.014659</td>\n",
       "      <td>-15.86929</td>\n",
       "      <td>-0.001139</td>\n",
       "      <td>-0.001055</td>\n",
       "    </tr>\n",
       "    <tr>\n",
       "      <th>2315762</th>\n",
       "      <td>0.001527</td>\n",
       "      <td>-0.001355</td>\n",
       "      <td>0.2642</td>\n",
       "      <td>0.011502</td>\n",
       "      <td>-16.06952</td>\n",
       "      <td>0.001442</td>\n",
       "      <td>-0.071129</td>\n",
       "      <td>0.2642</td>\n",
       "      <td>0.011502</td>\n",
       "      <td>-16.06952</td>\n",
       "      <td>0.001527</td>\n",
       "      <td>0.001442</td>\n",
       "    </tr>\n",
       "    <tr>\n",
       "      <th>400500268068</th>\n",
       "      <td>6.281563</td>\n",
       "      <td>-0.001249</td>\n",
       "      <td>0.3593</td>\n",
       "      <td>0.533305</td>\n",
       "      <td>-20.21099</td>\n",
       "      <td>6.281648</td>\n",
       "      <td>-0.071023</td>\n",
       "      <td>0.3593</td>\n",
       "      <td>0.533305</td>\n",
       "      <td>-20.21099</td>\n",
       "      <td>-0.001622</td>\n",
       "      <td>-0.001537</td>\n",
       "    </tr>\n",
       "    <tr>\n",
       "      <th>...</th>\n",
       "      <td>...</td>\n",
       "      <td>...</td>\n",
       "      <td>...</td>\n",
       "      <td>...</td>\n",
       "      <td>...</td>\n",
       "      <td>...</td>\n",
       "      <td>...</td>\n",
       "      <td>...</td>\n",
       "      <td>...</td>\n",
       "      <td>...</td>\n",
       "      <td>...</td>\n",
       "      <td>...</td>\n",
       "    </tr>\n",
       "    <tr>\n",
       "      <th>9017007</th>\n",
       "      <td>0.000498</td>\n",
       "      <td>-0.000113</td>\n",
       "      <td>0.2386</td>\n",
       "      <td>0.001608</td>\n",
       "      <td>-13.90786</td>\n",
       "      <td>0.000414</td>\n",
       "      <td>-0.069885</td>\n",
       "      <td>0.2386</td>\n",
       "      <td>0.001608</td>\n",
       "      <td>-13.90786</td>\n",
       "      <td>0.000498</td>\n",
       "      <td>0.000414</td>\n",
       "    </tr>\n",
       "    <tr>\n",
       "      <th>400502708290</th>\n",
       "      <td>6.282500</td>\n",
       "      <td>-0.001204</td>\n",
       "      <td>0.3193</td>\n",
       "      <td>0.033688</td>\n",
       "      <td>-16.57692</td>\n",
       "      <td>6.282587</td>\n",
       "      <td>-0.070976</td>\n",
       "      <td>0.3193</td>\n",
       "      <td>0.033688</td>\n",
       "      <td>-16.57692</td>\n",
       "      <td>-0.000685</td>\n",
       "      <td>-0.000598</td>\n",
       "    </tr>\n",
       "    <tr>\n",
       "      <th>400505564062</th>\n",
       "      <td>6.281553</td>\n",
       "      <td>0.000626</td>\n",
       "      <td>0.2528</td>\n",
       "      <td>0.005114</td>\n",
       "      <td>-14.81628</td>\n",
       "      <td>6.281633</td>\n",
       "      <td>-0.069148</td>\n",
       "      <td>0.2528</td>\n",
       "      <td>0.005114</td>\n",
       "      <td>-14.81628</td>\n",
       "      <td>-0.001632</td>\n",
       "      <td>-0.001552</td>\n",
       "    </tr>\n",
       "    <tr>\n",
       "      <th>400515297109</th>\n",
       "      <td>6.282014</td>\n",
       "      <td>-0.001007</td>\n",
       "      <td>0.3435</td>\n",
       "      <td>0.000097</td>\n",
       "      <td>-13.52930</td>\n",
       "      <td>6.282099</td>\n",
       "      <td>-0.070781</td>\n",
       "      <td>0.3435</td>\n",
       "      <td>0.000097</td>\n",
       "      <td>-13.52930</td>\n",
       "      <td>-0.001171</td>\n",
       "      <td>-0.001086</td>\n",
       "    </tr>\n",
       "    <tr>\n",
       "      <th>400516355376</th>\n",
       "      <td>6.282712</td>\n",
       "      <td>-0.001569</td>\n",
       "      <td>0.3084</td>\n",
       "      <td>0.000216</td>\n",
       "      <td>-13.12523</td>\n",
       "      <td>6.282800</td>\n",
       "      <td>-0.071341</td>\n",
       "      <td>0.3084</td>\n",
       "      <td>0.000216</td>\n",
       "      <td>-13.12523</td>\n",
       "      <td>-0.000473</td>\n",
       "      <td>-0.000385</td>\n",
       "    </tr>\n",
       "    <tr>\n",
       "      <th>7460316</th>\n",
       "      <td>0.001003</td>\n",
       "      <td>-0.000989</td>\n",
       "      <td>0.0382</td>\n",
       "      <td>0.000017</td>\n",
       "      <td>-10.05258</td>\n",
       "      <td>0.000917</td>\n",
       "      <td>-0.070762</td>\n",
       "      <td>0.0382</td>\n",
       "      <td>0.000017</td>\n",
       "      <td>-10.05258</td>\n",
       "      <td>0.001003</td>\n",
       "      <td>0.000917</td>\n",
       "    </tr>\n",
       "    <tr>\n",
       "      <th>400502659770</th>\n",
       "      <td>6.281440</td>\n",
       "      <td>-0.000501</td>\n",
       "      <td>0.3953</td>\n",
       "      <td>0.007921</td>\n",
       "      <td>-17.02435</td>\n",
       "      <td>6.281522</td>\n",
       "      <td>-0.070276</td>\n",
       "      <td>0.3953</td>\n",
       "      <td>0.007921</td>\n",
       "      <td>-17.02435</td>\n",
       "      <td>-0.001745</td>\n",
       "      <td>-0.001663</td>\n",
       "    </tr>\n",
       "    <tr>\n",
       "      <th>1052593</th>\n",
       "      <td>0.001587</td>\n",
       "      <td>0.001046</td>\n",
       "      <td>0.2881</td>\n",
       "      <td>0.090000</td>\n",
       "      <td>-17.69734</td>\n",
       "      <td>0.001508</td>\n",
       "      <td>-0.068728</td>\n",
       "      <td>0.2881</td>\n",
       "      <td>0.090000</td>\n",
       "      <td>-17.69734</td>\n",
       "      <td>0.001587</td>\n",
       "      <td>0.001508</td>\n",
       "    </tr>\n",
       "    <tr>\n",
       "      <th>400514086853</th>\n",
       "      <td>6.281727</td>\n",
       "      <td>-0.000757</td>\n",
       "      <td>0.3927</td>\n",
       "      <td>0.002660</td>\n",
       "      <td>-14.49032</td>\n",
       "      <td>6.281810</td>\n",
       "      <td>-0.070531</td>\n",
       "      <td>0.3927</td>\n",
       "      <td>0.002660</td>\n",
       "      <td>-14.49032</td>\n",
       "      <td>-0.001458</td>\n",
       "      <td>-0.001375</td>\n",
       "    </tr>\n",
       "    <tr>\n",
       "      <th>659471</th>\n",
       "      <td>0.000281</td>\n",
       "      <td>0.000050</td>\n",
       "      <td>0.3832</td>\n",
       "      <td>0.252457</td>\n",
       "      <td>-19.23289</td>\n",
       "      <td>0.000197</td>\n",
       "      <td>-0.069721</td>\n",
       "      <td>0.3832</td>\n",
       "      <td>0.252457</td>\n",
       "      <td>-19.23289</td>\n",
       "      <td>0.000281</td>\n",
       "      <td>0.000197</td>\n",
       "    </tr>\n",
       "    <tr>\n",
       "      <th>12408865</th>\n",
       "      <td>0.000288</td>\n",
       "      <td>-0.001018</td>\n",
       "      <td>0.2894</td>\n",
       "      <td>0.001445</td>\n",
       "      <td>-13.89962</td>\n",
       "      <td>0.000201</td>\n",
       "      <td>-0.070790</td>\n",
       "      <td>0.2894</td>\n",
       "      <td>0.001445</td>\n",
       "      <td>-13.89962</td>\n",
       "      <td>0.000288</td>\n",
       "      <td>0.000201</td>\n",
       "    </tr>\n",
       "    <tr>\n",
       "      <th>16735870</th>\n",
       "      <td>0.001429</td>\n",
       "      <td>-0.001319</td>\n",
       "      <td>0.3516</td>\n",
       "      <td>0.000168</td>\n",
       "      <td>-13.31736</td>\n",
       "      <td>0.001344</td>\n",
       "      <td>-0.071093</td>\n",
       "      <td>0.3516</td>\n",
       "      <td>0.000168</td>\n",
       "      <td>-13.31736</td>\n",
       "      <td>0.001429</td>\n",
       "      <td>0.001344</td>\n",
       "    </tr>\n",
       "    <tr>\n",
       "      <th>14724426</th>\n",
       "      <td>0.001298</td>\n",
       "      <td>-0.000934</td>\n",
       "      <td>0.3494</td>\n",
       "      <td>0.002655</td>\n",
       "      <td>-14.15910</td>\n",
       "      <td>0.001214</td>\n",
       "      <td>-0.070707</td>\n",
       "      <td>0.3494</td>\n",
       "      <td>0.002655</td>\n",
       "      <td>-14.15910</td>\n",
       "      <td>0.001298</td>\n",
       "      <td>0.001214</td>\n",
       "    </tr>\n",
       "    <tr>\n",
       "      <th>400506310221</th>\n",
       "      <td>6.281541</td>\n",
       "      <td>-0.001675</td>\n",
       "      <td>0.3876</td>\n",
       "      <td>0.019218</td>\n",
       "      <td>-16.07094</td>\n",
       "      <td>6.281626</td>\n",
       "      <td>-0.071449</td>\n",
       "      <td>0.3876</td>\n",
       "      <td>0.019218</td>\n",
       "      <td>-16.07094</td>\n",
       "      <td>-0.001644</td>\n",
       "      <td>-0.001559</td>\n",
       "    </tr>\n",
       "    <tr>\n",
       "      <th>400502457253</th>\n",
       "      <td>6.282359</td>\n",
       "      <td>-0.000964</td>\n",
       "      <td>0.3964</td>\n",
       "      <td>0.057779</td>\n",
       "      <td>-17.47256</td>\n",
       "      <td>6.282444</td>\n",
       "      <td>-0.070737</td>\n",
       "      <td>0.3964</td>\n",
       "      <td>0.057779</td>\n",
       "      <td>-17.47256</td>\n",
       "      <td>-0.000826</td>\n",
       "      <td>-0.000741</td>\n",
       "    </tr>\n",
       "    <tr>\n",
       "      <th>400505297189</th>\n",
       "      <td>6.282965</td>\n",
       "      <td>-0.000046</td>\n",
       "      <td>0.3857</td>\n",
       "      <td>0.002631</td>\n",
       "      <td>-15.88267</td>\n",
       "      <td>6.283050</td>\n",
       "      <td>-0.069817</td>\n",
       "      <td>0.3857</td>\n",
       "      <td>0.002631</td>\n",
       "      <td>-15.88267</td>\n",
       "      <td>-0.000220</td>\n",
       "      <td>-0.000135</td>\n",
       "    </tr>\n",
       "    <tr>\n",
       "      <th>400503180320</th>\n",
       "      <td>6.282957</td>\n",
       "      <td>-0.000781</td>\n",
       "      <td>0.3418</td>\n",
       "      <td>0.019225</td>\n",
       "      <td>-16.62001</td>\n",
       "      <td>6.283043</td>\n",
       "      <td>-0.070552</td>\n",
       "      <td>0.3418</td>\n",
       "      <td>0.019225</td>\n",
       "      <td>-16.62001</td>\n",
       "      <td>-0.000228</td>\n",
       "      <td>-0.000142</td>\n",
       "    </tr>\n",
       "    <tr>\n",
       "      <th>1578263</th>\n",
       "      <td>0.000422</td>\n",
       "      <td>-0.000932</td>\n",
       "      <td>0.2405</td>\n",
       "      <td>0.008603</td>\n",
       "      <td>-16.40657</td>\n",
       "      <td>0.000335</td>\n",
       "      <td>-0.070704</td>\n",
       "      <td>0.2405</td>\n",
       "      <td>0.008603</td>\n",
       "      <td>-16.40657</td>\n",
       "      <td>0.000422</td>\n",
       "      <td>0.000335</td>\n",
       "    </tr>\n",
       "    <tr>\n",
       "      <th>400513584814</th>\n",
       "      <td>6.281906</td>\n",
       "      <td>0.000083</td>\n",
       "      <td>0.3268</td>\n",
       "      <td>0.002227</td>\n",
       "      <td>-14.04447</td>\n",
       "      <td>6.281987</td>\n",
       "      <td>-0.069690</td>\n",
       "      <td>0.3268</td>\n",
       "      <td>0.002227</td>\n",
       "      <td>-14.04447</td>\n",
       "      <td>-0.001279</td>\n",
       "      <td>-0.001198</td>\n",
       "    </tr>\n",
       "    <tr>\n",
       "      <th>400502650712</th>\n",
       "      <td>6.282737</td>\n",
       "      <td>-0.000950</td>\n",
       "      <td>0.3585</td>\n",
       "      <td>0.039602</td>\n",
       "      <td>-17.01198</td>\n",
       "      <td>6.282824</td>\n",
       "      <td>-0.070722</td>\n",
       "      <td>0.3585</td>\n",
       "      <td>0.039602</td>\n",
       "      <td>-17.01198</td>\n",
       "      <td>-0.000448</td>\n",
       "      <td>-0.000361</td>\n",
       "    </tr>\n",
       "    <tr>\n",
       "      <th>400500678333</th>\n",
       "      <td>6.282423</td>\n",
       "      <td>0.000008</td>\n",
       "      <td>0.3182</td>\n",
       "      <td>0.071012</td>\n",
       "      <td>-18.10718</td>\n",
       "      <td>6.282506</td>\n",
       "      <td>-0.069764</td>\n",
       "      <td>0.3182</td>\n",
       "      <td>0.071012</td>\n",
       "      <td>-18.10718</td>\n",
       "      <td>-0.000762</td>\n",
       "      <td>-0.000679</td>\n",
       "    </tr>\n",
       "    <tr>\n",
       "      <th>14174743</th>\n",
       "      <td>0.000385</td>\n",
       "      <td>0.000438</td>\n",
       "      <td>0.3310</td>\n",
       "      <td>0.002511</td>\n",
       "      <td>-13.95281</td>\n",
       "      <td>0.000302</td>\n",
       "      <td>-0.069334</td>\n",
       "      <td>0.3310</td>\n",
       "      <td>0.002511</td>\n",
       "      <td>-13.95281</td>\n",
       "      <td>0.000385</td>\n",
       "      <td>0.000302</td>\n",
       "    </tr>\n",
       "    <tr>\n",
       "      <th>400500420735</th>\n",
       "      <td>6.282272</td>\n",
       "      <td>-0.001056</td>\n",
       "      <td>0.3551</td>\n",
       "      <td>0.295758</td>\n",
       "      <td>-19.64240</td>\n",
       "      <td>6.282357</td>\n",
       "      <td>-0.070828</td>\n",
       "      <td>0.3551</td>\n",
       "      <td>0.295758</td>\n",
       "      <td>-19.64240</td>\n",
       "      <td>-0.000913</td>\n",
       "      <td>-0.000828</td>\n",
       "    </tr>\n",
       "    <tr>\n",
       "      <th>400510223227</th>\n",
       "      <td>6.282218</td>\n",
       "      <td>-0.000483</td>\n",
       "      <td>0.3113</td>\n",
       "      <td>0.001685</td>\n",
       "      <td>-14.26168</td>\n",
       "      <td>6.282302</td>\n",
       "      <td>-0.070256</td>\n",
       "      <td>0.3113</td>\n",
       "      <td>0.001685</td>\n",
       "      <td>-14.26168</td>\n",
       "      <td>-0.000967</td>\n",
       "      <td>-0.000883</td>\n",
       "    </tr>\n",
       "    <tr>\n",
       "      <th>400500061410</th>\n",
       "      <td>6.282102</td>\n",
       "      <td>0.000140</td>\n",
       "      <td>0.3472</td>\n",
       "      <td>2.789960</td>\n",
       "      <td>-21.54286</td>\n",
       "      <td>6.282185</td>\n",
       "      <td>-0.069633</td>\n",
       "      <td>0.3472</td>\n",
       "      <td>2.789960</td>\n",
       "      <td>-21.54286</td>\n",
       "      <td>-0.001083</td>\n",
       "      <td>-0.001000</td>\n",
       "    </tr>\n",
       "    <tr>\n",
       "      <th>400500654520</th>\n",
       "      <td>6.281690</td>\n",
       "      <td>0.000259</td>\n",
       "      <td>0.3581</td>\n",
       "      <td>0.148748</td>\n",
       "      <td>-18.84227</td>\n",
       "      <td>6.281771</td>\n",
       "      <td>-0.069515</td>\n",
       "      <td>0.3581</td>\n",
       "      <td>0.148748</td>\n",
       "      <td>-18.84227</td>\n",
       "      <td>-0.001495</td>\n",
       "      <td>-0.001414</td>\n",
       "    </tr>\n",
       "    <tr>\n",
       "      <th>2136606</th>\n",
       "      <td>0.001610</td>\n",
       "      <td>-0.000182</td>\n",
       "      <td>0.1627</td>\n",
       "      <td>0.003824</td>\n",
       "      <td>-15.21511</td>\n",
       "      <td>0.001528</td>\n",
       "      <td>-0.069956</td>\n",
       "      <td>0.1627</td>\n",
       "      <td>0.003824</td>\n",
       "      <td>-15.21511</td>\n",
       "      <td>0.001610</td>\n",
       "      <td>0.001528</td>\n",
       "    </tr>\n",
       "    <tr>\n",
       "      <th>10456440</th>\n",
       "      <td>0.001715</td>\n",
       "      <td>0.000249</td>\n",
       "      <td>0.2511</td>\n",
       "      <td>0.000561</td>\n",
       "      <td>-13.71083</td>\n",
       "      <td>0.001634</td>\n",
       "      <td>-0.069526</td>\n",
       "      <td>0.2511</td>\n",
       "      <td>0.000561</td>\n",
       "      <td>-13.71083</td>\n",
       "      <td>0.001715</td>\n",
       "      <td>0.001634</td>\n",
       "    </tr>\n",
       "    <tr>\n",
       "      <th>7297419</th>\n",
       "      <td>0.001032</td>\n",
       "      <td>-0.000384</td>\n",
       "      <td>0.1856</td>\n",
       "      <td>0.000279</td>\n",
       "      <td>-13.74361</td>\n",
       "      <td>0.000948</td>\n",
       "      <td>-0.070157</td>\n",
       "      <td>0.1856</td>\n",
       "      <td>0.000279</td>\n",
       "      <td>-13.74361</td>\n",
       "      <td>0.001032</td>\n",
       "      <td>0.000948</td>\n",
       "    </tr>\n",
       "    <tr>\n",
       "      <th>400514068483</th>\n",
       "      <td>6.282816</td>\n",
       "      <td>-0.000721</td>\n",
       "      <td>0.1248</td>\n",
       "      <td>0.000106</td>\n",
       "      <td>-11.60086</td>\n",
       "      <td>6.282902</td>\n",
       "      <td>-0.070493</td>\n",
       "      <td>0.1248</td>\n",
       "      <td>0.000106</td>\n",
       "      <td>-11.60086</td>\n",
       "      <td>-0.000369</td>\n",
       "      <td>-0.000283</td>\n",
       "    </tr>\n",
       "  </tbody>\n",
       "</table>\n",
       "<p>1000 rows × 12 columns</p>\n",
       "</div>"
      ],
      "text/plain": [
       "               raJ2000  decJ2000  redshift  mass_stellar  absmag_r_total  \\\n",
       "id                                                                         \n",
       "400512835707  6.282947 -0.000898    0.1790      0.000455       -12.63770   \n",
       "400506299579  6.282140  0.001157    0.3594      0.003746       -15.61224   \n",
       "8824459       0.001501 -0.001141    0.3291      0.006535       -14.93010   \n",
       "865832        0.001318  0.000185    0.2332      0.032716       -17.07724   \n",
       "400501229233  6.282431 -0.001557    0.3592      0.008838       -17.64829   \n",
       "610138        0.000435 -0.000160    0.2182      0.064077       -17.51929   \n",
       "400501786182  6.282115  0.000318    0.1898      0.001309       -15.72784   \n",
       "400505526955  6.282235 -0.001650    0.2930      0.006457       -15.30489   \n",
       "1260758       0.000404  0.000086    0.3173      0.022277       -17.24217   \n",
       "400503071756  6.281650  0.001145    0.1924      0.004052       -15.15436   \n",
       "400506313170  6.282361 -0.000362    0.3804      0.005892       -15.88517   \n",
       "16788763      0.001183  0.000468    0.2904      0.000165       -12.87496   \n",
       "11735285      0.001567  0.000334    0.3247      0.000706       -14.06926   \n",
       "8675080       0.000579 -0.001744    0.3444      0.001800       -14.97699   \n",
       "13510749      0.001542  0.001463    0.3715      0.002337       -14.43824   \n",
       "400502133087  6.281831  0.000503    0.1502      0.005596       -14.99138   \n",
       "400505451233  6.282826  0.000906    0.3395      0.013187       -15.76128   \n",
       "400501870919  6.281662  0.001287    0.3200      0.005165       -16.75262   \n",
       "10388559      0.001146 -0.001285    0.3014      0.001958       -14.29225   \n",
       "400503318986  6.282899 -0.001134    0.2685      0.001567       -15.62523   \n",
       "31250         0.000553 -0.000588    0.1743      0.597177       -20.01698   \n",
       "400502206322  6.282162  0.000470    0.3699      0.017390       -17.25311   \n",
       "400500425029  6.281882  0.000029    0.3722      0.287235       -19.58652   \n",
       "400502717139  6.281843 -0.000615    0.3322      0.012282       -16.56232   \n",
       "400500627092  6.282573 -0.001368    0.1990      0.066593       -17.31743   \n",
       "400508986577  6.283002  0.001317    0.2767      0.001167       -14.30534   \n",
       "400500652087  6.282372 -0.001346    0.3589      0.168926       -18.83679   \n",
       "400502275969  6.282046 -0.000493    0.2281      0.014659       -15.86929   \n",
       "2315762       0.001527 -0.001355    0.2642      0.011502       -16.06952   \n",
       "400500268068  6.281563 -0.001249    0.3593      0.533305       -20.21099   \n",
       "...                ...       ...       ...           ...             ...   \n",
       "9017007       0.000498 -0.000113    0.2386      0.001608       -13.90786   \n",
       "400502708290  6.282500 -0.001204    0.3193      0.033688       -16.57692   \n",
       "400505564062  6.281553  0.000626    0.2528      0.005114       -14.81628   \n",
       "400515297109  6.282014 -0.001007    0.3435      0.000097       -13.52930   \n",
       "400516355376  6.282712 -0.001569    0.3084      0.000216       -13.12523   \n",
       "7460316       0.001003 -0.000989    0.0382      0.000017       -10.05258   \n",
       "400502659770  6.281440 -0.000501    0.3953      0.007921       -17.02435   \n",
       "1052593       0.001587  0.001046    0.2881      0.090000       -17.69734   \n",
       "400514086853  6.281727 -0.000757    0.3927      0.002660       -14.49032   \n",
       "659471        0.000281  0.000050    0.3832      0.252457       -19.23289   \n",
       "12408865      0.000288 -0.001018    0.2894      0.001445       -13.89962   \n",
       "16735870      0.001429 -0.001319    0.3516      0.000168       -13.31736   \n",
       "14724426      0.001298 -0.000934    0.3494      0.002655       -14.15910   \n",
       "400506310221  6.281541 -0.001675    0.3876      0.019218       -16.07094   \n",
       "400502457253  6.282359 -0.000964    0.3964      0.057779       -17.47256   \n",
       "400505297189  6.282965 -0.000046    0.3857      0.002631       -15.88267   \n",
       "400503180320  6.282957 -0.000781    0.3418      0.019225       -16.62001   \n",
       "1578263       0.000422 -0.000932    0.2405      0.008603       -16.40657   \n",
       "400513584814  6.281906  0.000083    0.3268      0.002227       -14.04447   \n",
       "400502650712  6.282737 -0.000950    0.3585      0.039602       -17.01198   \n",
       "400500678333  6.282423  0.000008    0.3182      0.071012       -18.10718   \n",
       "14174743      0.000385  0.000438    0.3310      0.002511       -13.95281   \n",
       "400500420735  6.282272 -0.001056    0.3551      0.295758       -19.64240   \n",
       "400510223227  6.282218 -0.000483    0.3113      0.001685       -14.26168   \n",
       "400500061410  6.282102  0.000140    0.3472      2.789960       -21.54286   \n",
       "400500654520  6.281690  0.000259    0.3581      0.148748       -18.84227   \n",
       "2136606       0.001610 -0.000182    0.1627      0.003824       -15.21511   \n",
       "10456440      0.001715  0.000249    0.2511      0.000561       -13.71083   \n",
       "7297419       0.001032 -0.000384    0.1856      0.000279       -13.74361   \n",
       "400514068483  6.282816 -0.000721    0.1248      0.000106       -11.60086   \n",
       "\n",
       "              raJ2000_1  decJ2000_1  redshift_1  mass_stellar_1  \\\n",
       "id                                                                \n",
       "400512835707   6.283034   -0.070669      0.1790        0.000455   \n",
       "400506299579   6.282219   -0.068616      0.3594        0.003746   \n",
       "8824459        0.001417   -0.070915      0.3291        0.006535   \n",
       "865832         0.001237   -0.069589      0.2332        0.032716   \n",
       "400501229233   6.282518   -0.071330      0.3592        0.008838   \n",
       "610138         0.000351   -0.069932      0.2182        0.064077   \n",
       "400501786182   6.282197   -0.069455      0.1898        0.001309   \n",
       "400505526955   6.282322   -0.071423      0.2930        0.006457   \n",
       "1260758        0.000320   -0.069686      0.3173        0.022277   \n",
       "400503071756   6.281729   -0.068629      0.1924        0.004052   \n",
       "400506313170   6.282445   -0.070134      0.3804        0.005892   \n",
       "16788763       0.001102   -0.069306      0.2904        0.000165   \n",
       "11735285       0.001486   -0.069440      0.3247        0.000706   \n",
       "8675080        0.000491   -0.071516      0.3444        0.001800   \n",
       "13510749       0.001464   -0.068311      0.3715        0.002337   \n",
       "400502133087   6.281912   -0.069271      0.1502        0.005596   \n",
       "400505451233   6.282908   -0.068866      0.3395        0.013187   \n",
       "400501870919   6.281740   -0.068487      0.3200        0.005165   \n",
       "10388559       0.001061   -0.071059      0.3014        0.001958   \n",
       "400503318986   6.282986   -0.070905      0.2685        0.001567   \n",
       "31250          0.000468   -0.070360      0.1743        0.597177   \n",
       "400502206322   6.282244   -0.069303      0.3699        0.017390   \n",
       "400500425029   6.281963   -0.069745      0.3722        0.287235   \n",
       "400502717139   6.281926   -0.070389      0.3322        0.012282   \n",
       "400500627092   6.282660   -0.071140      0.1990        0.066593   \n",
       "400508986577   6.283083   -0.068454      0.2767        0.001167   \n",
       "400500652087   6.282459   -0.071119      0.3589        0.168926   \n",
       "400502275969   6.282130   -0.070267      0.2281        0.014659   \n",
       "2315762        0.001442   -0.071129      0.2642        0.011502   \n",
       "400500268068   6.281648   -0.071023      0.3593        0.533305   \n",
       "...                 ...         ...         ...             ...   \n",
       "9017007        0.000414   -0.069885      0.2386        0.001608   \n",
       "400502708290   6.282587   -0.070976      0.3193        0.033688   \n",
       "400505564062   6.281633   -0.069148      0.2528        0.005114   \n",
       "400515297109   6.282099   -0.070781      0.3435        0.000097   \n",
       "400516355376   6.282800   -0.071341      0.3084        0.000216   \n",
       "7460316        0.000917   -0.070762      0.0382        0.000017   \n",
       "400502659770   6.281522   -0.070276      0.3953        0.007921   \n",
       "1052593        0.001508   -0.068728      0.2881        0.090000   \n",
       "400514086853   6.281810   -0.070531      0.3927        0.002660   \n",
       "659471         0.000197   -0.069721      0.3832        0.252457   \n",
       "12408865       0.000201   -0.070790      0.2894        0.001445   \n",
       "16735870       0.001344   -0.071093      0.3516        0.000168   \n",
       "14724426       0.001214   -0.070707      0.3494        0.002655   \n",
       "400506310221   6.281626   -0.071449      0.3876        0.019218   \n",
       "400502457253   6.282444   -0.070737      0.3964        0.057779   \n",
       "400505297189   6.283050   -0.069817      0.3857        0.002631   \n",
       "400503180320   6.283043   -0.070552      0.3418        0.019225   \n",
       "1578263        0.000335   -0.070704      0.2405        0.008603   \n",
       "400513584814   6.281987   -0.069690      0.3268        0.002227   \n",
       "400502650712   6.282824   -0.070722      0.3585        0.039602   \n",
       "400500678333   6.282506   -0.069764      0.3182        0.071012   \n",
       "14174743       0.000302   -0.069334      0.3310        0.002511   \n",
       "400500420735   6.282357   -0.070828      0.3551        0.295758   \n",
       "400510223227   6.282302   -0.070256      0.3113        0.001685   \n",
       "400500061410   6.282185   -0.069633      0.3472        2.789960   \n",
       "400500654520   6.281771   -0.069515      0.3581        0.148748   \n",
       "2136606        0.001528   -0.069956      0.1627        0.003824   \n",
       "10456440       0.001634   -0.069526      0.2511        0.000561   \n",
       "7297419        0.000948   -0.070157      0.1856        0.000279   \n",
       "400514068483   6.282902   -0.070493      0.1248        0.000106   \n",
       "\n",
       "              absmag_r_total_1  shiftedRA  shiftedRA_1  \n",
       "id                                                      \n",
       "400512835707         -12.63770  -0.000238    -0.000151  \n",
       "400506299579         -15.61224  -0.001045    -0.000966  \n",
       "8824459              -14.93010   0.001501     0.001417  \n",
       "865832               -17.07724   0.001318     0.001237  \n",
       "400501229233         -17.64829  -0.000754    -0.000667  \n",
       "610138               -17.51929   0.000435     0.000351  \n",
       "400501786182         -15.72784  -0.001070    -0.000988  \n",
       "400505526955         -15.30489  -0.000950    -0.000863  \n",
       "1260758              -17.24217   0.000404     0.000320  \n",
       "400503071756         -15.15436  -0.001535    -0.001456  \n",
       "400506313170         -15.88517  -0.000824    -0.000740  \n",
       "16788763             -12.87496   0.001183     0.001102  \n",
       "11735285             -14.06926   0.001567     0.001486  \n",
       "8675080              -14.97699   0.000579     0.000491  \n",
       "13510749             -14.43824   0.001542     0.001464  \n",
       "400502133087         -14.99138  -0.001354    -0.001273  \n",
       "400505451233         -15.76128  -0.000359    -0.000277  \n",
       "400501870919         -16.75262  -0.001523    -0.001445  \n",
       "10388559             -14.29225   0.001146     0.001061  \n",
       "400503318986         -15.62523  -0.000286    -0.000199  \n",
       "31250                -20.01698   0.000553     0.000468  \n",
       "400502206322         -17.25311  -0.001023    -0.000941  \n",
       "400500425029         -19.58652  -0.001303    -0.001222  \n",
       "400502717139         -16.56232  -0.001342    -0.001259  \n",
       "400500627092         -17.31743  -0.000612    -0.000525  \n",
       "400508986577         -14.30534  -0.000183    -0.000102  \n",
       "400500652087         -18.83679  -0.000813    -0.000726  \n",
       "400502275969         -15.86929  -0.001139    -0.001055  \n",
       "2315762              -16.06952   0.001527     0.001442  \n",
       "400500268068         -20.21099  -0.001622    -0.001537  \n",
       "...                        ...        ...          ...  \n",
       "9017007              -13.90786   0.000498     0.000414  \n",
       "400502708290         -16.57692  -0.000685    -0.000598  \n",
       "400505564062         -14.81628  -0.001632    -0.001552  \n",
       "400515297109         -13.52930  -0.001171    -0.001086  \n",
       "400516355376         -13.12523  -0.000473    -0.000385  \n",
       "7460316              -10.05258   0.001003     0.000917  \n",
       "400502659770         -17.02435  -0.001745    -0.001663  \n",
       "1052593              -17.69734   0.001587     0.001508  \n",
       "400514086853         -14.49032  -0.001458    -0.001375  \n",
       "659471               -19.23289   0.000281     0.000197  \n",
       "12408865             -13.89962   0.000288     0.000201  \n",
       "16735870             -13.31736   0.001429     0.001344  \n",
       "14724426             -14.15910   0.001298     0.001214  \n",
       "400506310221         -16.07094  -0.001644    -0.001559  \n",
       "400502457253         -17.47256  -0.000826    -0.000741  \n",
       "400505297189         -15.88267  -0.000220    -0.000135  \n",
       "400503180320         -16.62001  -0.000228    -0.000142  \n",
       "1578263              -16.40657   0.000422     0.000335  \n",
       "400513584814         -14.04447  -0.001279    -0.001198  \n",
       "400502650712         -17.01198  -0.000448    -0.000361  \n",
       "400500678333         -18.10718  -0.000762    -0.000679  \n",
       "14174743             -13.95281   0.000385     0.000302  \n",
       "400500420735         -19.64240  -0.000913    -0.000828  \n",
       "400510223227         -14.26168  -0.000967    -0.000883  \n",
       "400500061410         -21.54286  -0.001083    -0.001000  \n",
       "400500654520         -18.84227  -0.001495    -0.001414  \n",
       "2136606              -15.21511   0.001610     0.001528  \n",
       "10456440             -13.71083   0.001715     0.001634  \n",
       "7297419              -13.74361   0.001032     0.000948  \n",
       "400514068483         -11.60086  -0.000369    -0.000283  \n",
       "\n",
       "[1000 rows x 12 columns]"
      ]
     },
     "execution_count": 34,
     "metadata": {},
     "output_type": "execute_result"
    }
   ],
   "source": [
    "split_1"
   ]
  },
  {
   "cell_type": "code",
   "execution_count": 35,
   "metadata": {
    "collapsed": false
   },
   "outputs": [],
   "source": [
    "from lsst.sims.utils import haversine"
   ]
  },
  {
   "cell_type": "code",
   "execution_count": 36,
   "metadata": {
    "collapsed": false
   },
   "outputs": [],
   "source": [
    "df = pd.DataFrame({'ids_1': split_1.index.values,\n",
    "                   'ids_2': split_2.index.values,\n",
    "                   'raJ2000': split_1.raJ2000.values,\n",
    "                   'shiftedRA':split_1.shiftedRA.values,\n",
    "                   'decJ2000':split_1.decJ2000.values,\n",
    "                   'raJ2000_2': split_2.raJ2000.values,\n",
    "                   'shiftedRA_2': split_2.shiftedRA_1.values,\n",
    "                   'decJ2000_2':split_2.decJ2000.values,\n",
    "                   'angsep': haversine(split_1.decJ2000.values, split_1.raJ2000.values, split_2.decJ2000.values, \n",
    "                                       split_2.raJ2000.values),\n",
    "                  'angsep_1': haversine(split_1.decJ2000_1.values, split_1.raJ2000_1.values, split_2.decJ2000_1.values, \n",
    "                                       split_2.raJ2000_1.values)}\n",
    "                   #'angsep_1': haversine(split_1.decJ2000_1, split_1.raJ2000_1, split_2.decJ2000_1, split_2.raJ2000_1)}\n",
    "                  )"
   ]
  },
  {
   "cell_type": "code",
   "execution_count": 37,
   "metadata": {
    "collapsed": false
   },
   "outputs": [],
   "source": [
    "df['ratio'] = df.angsep_1/df.angsep "
   ]
  },
  {
   "cell_type": "code",
   "execution_count": 38,
   "metadata": {
    "collapsed": false
   },
   "outputs": [
    {
     "data": {
      "text/plain": [
       "count    1000.000000\n",
       "mean        0.967984\n",
       "std         0.041734\n",
       "min         0.725755\n",
       "25%         0.942582\n",
       "50%         0.999408\n",
       "75%         1.000442\n",
       "max         1.010106\n",
       "Name: ratio, dtype: float64"
      ]
     },
     "execution_count": 38,
     "metadata": {},
     "output_type": "execute_result"
    }
   ],
   "source": [
    "df.ratio.describe()"
   ]
  },
  {
   "cell_type": "code",
   "execution_count": 39,
   "metadata": {
    "collapsed": false
   },
   "outputs": [
    {
     "data": {
      "text/plain": [
       "False"
      ]
     },
     "execution_count": 39,
     "metadata": {},
     "output_type": "execute_result"
    }
   ],
   "source": [
    "df.ratio.isnull().any()"
   ]
  },
  {
   "cell_type": "code",
   "execution_count": 40,
   "metadata": {
    "collapsed": false
   },
   "outputs": [
    {
     "data": {
      "text/plain": [
       "<matplotlib.text.Text at 0x119fdde90>"
      ]
     },
     "execution_count": 40,
     "metadata": {},
     "output_type": "execute_result"
    },
    {
     "data": {
      "image/png": "[encoded data removed]",
      "text/plain": [
       "<matplotlib.figure.Figure at 0x119f4b3d0>"
      ]
     },
     "metadata": {},
     "output_type": "display_data"
    }
   ],
   "source": [
    "fig, ax = plt.subplots(1, 2)\n",
    "_ = ax[0].hist(df.ratio.values - 1., bins=np.arange(-0.25, 0.25, 0.005),normed=1,\n",
    "        histtype='step', alpha=1, lw=2., color='k')\n",
    "# sns.kdeplot(df.ratio - 1., ax=ax)\n",
    "ax[0].set_xlabel('fractional difference')\n",
    "ax[0].set_ylabel('PDF')\n",
    "_ = ax[1].hist((df.ratio.values - 1.)*df.angsep,normed=1, bins=np.arange(-0.0003, 0.0001, 0.00002),\n",
    "        histtype='step', alpha=1, lw=2., color='k')\n",
    "xticks = ax[1].get_xticklabels()\n",
    "_ = [xtick.set_rotation(90.) for xtick in xticks]\n",
    "\n",
    "\n",
    "# sns.kdeplot(df.ratio - 1., ax=ax)\n",
    "ax[1].set_xlabel('Actual difference')\n",
    "ax[1].set_ylabel('PDF')"
   ]
  },
  {
   "cell_type": "code",
   "execution_count": 41,
   "metadata": {
    "collapsed": false
   },
   "outputs": [
    {
     "data": {
      "text/plain": [
       "<matplotlib.text.Text at 0x11a9ab1d0>"
      ]
     },
     "execution_count": 41,
     "metadata": {},
     "output_type": "execute_result"
    },
    {
     "data": {
      "image/png": "[encoded data removed]",
      "text/plain": [
       "<matplotlib.figure.Figure at 0x10dce3390>"
      ]
     },
     "metadata": {},
     "output_type": "display_data"
    }
   ],
   "source": [
    "# Use if not using base tile\n",
    "fig, ax = plt.subplots(2, 3, sharey=True, squeeze=False)\n",
    "ax[0,0].plot(df.angsep, df.ratio-1, '.')\n",
    "xticks = ax[0, 0].get_xticklabels()\n",
    "_ = [xtick.set_rotation(90.) for xtick in xticks]\n",
    "ax[0, 0].set_xlabel('orig ang sep')\n",
    "ax[0, 0].xaxis.set_label_position('top') \n",
    "ax[0, 1].plot(df.decJ2000 - df.decJ2000_2, df.ratio - 1, '.')\n",
    "ax[0, 1].set_xlabel('diff in dec for 2 pts')\n",
    "ax[0, 1].xaxis.set_label_position('top') \n",
    "xticks = ax[0, 1].get_xticklabels()\n",
    "_ = [xtick.set_rotation(90.) for xtick in xticks]\n",
    "ax[0, 2].plot(df.raJ2000 - df.raJ2000_2, df.ratio - 1, '.r')\n",
    "xticks = ax[0, 2].get_xticklabels()\n",
    "_ = [xtick.set_rotation(90.) for xtick in xticks]\n",
    "ax[0, 2].set_xlabel('diff in ra for 2 pts')\n",
    "ax[0, 2].xaxis.set_label_position('top') \n",
    "\n",
    "\n",
    "ax[1, 1].plot(df.decJ2000, df.ratio - 1, '.')\n",
    "xticks = ax[1, 1].get_xticklabels()\n",
    "_ = [xtick.set_rotation(90.) for xtick in xticks]\n",
    "ax[1, 1].set_xlabel('dec in Base')\n",
    "ax[1, 2].plot(df.raJ2000, df.ratio - 1, '.')\n",
    "xticks = ax[1, 2].get_xticklabels()\n",
    "_ = [xtick.set_rotation(90.) for xtick in xticks]\n",
    "ax[1, 2].set_xlabel('ra in Base')\n",
    "\n",
    "\n",
    "#ax[1,0].plot(df.angsep, (df.ratio -1)* df.angsep, '.')"
   ]
  },
  {
   "cell_type": "code",
   "execution_count": 42,
   "metadata": {
    "collapsed": false
   },
   "outputs": [
    {
     "data": {
      "text/plain": [
       "<matplotlib.text.Text at 0x11b8a8210>"
      ]
     },
     "execution_count": 42,
     "metadata": {},
     "output_type": "execute_result"
    },
    {
     "data": {
      "image/png": "[encoded data removed]",
      "text/plain": [
       "<matplotlib.figure.Figure at 0x11aa5d0d0>"
      ]
     },
     "metadata": {},
     "output_type": "display_data"
    }
   ],
   "source": [
    "# Use shifts to take care of periodicity of ra newar ra=0.\n",
    "fig, ax = plt.subplots(2, 3, sharey=True, squeeze=False)\n",
    "ax[0,0].plot(df.angsep, df.ratio-1, '.')\n",
    "xticks = ax[0, 0].get_xticklabels()\n",
    "_ = [xtick.set_rotation(90.) for xtick in xticks]\n",
    "ax[0, 0].set_xlabel('orig ang sep')\n",
    "ax[0, 0].xaxis.set_label_position('top') \n",
    "ax[0, 1].plot(df.decJ2000 - df.decJ2000_2, df.ratio - 1, '.')\n",
    "ax[0, 1].set_xlabel('diff in dec for 2 pts')\n",
    "ax[0, 1].xaxis.set_label_position('top') \n",
    "xticks = ax[0, 1].get_xticklabels()\n",
    "_ = [xtick.set_rotation(90.) for xtick in xticks]\n",
    "ax[0, 2].plot(df.shiftedRA - df.shiftedRA_2, df.ratio - 1, '.r')\n",
    "xticks = ax[0, 2].get_xticklabels()\n",
    "_ = [xtick.set_rotation(90.) for xtick in xticks]\n",
    "ax[0, 2].set_xlabel('diff in ra for 2 pts')\n",
    "ax[0, 2].xaxis.set_label_position('top') \n",
    "\n",
    "\n",
    "ax[1, 1].plot(df.decJ2000, df.ratio - 1, '.')\n",
    "xticks = ax[1, 1].get_xticklabels()\n",
    "_ = [xtick.set_rotation(90.) for xtick in xticks]\n",
    "ax[1, 1].set_xlabel('dec in Base')\n",
    "ax[1, 2].plot(df.shiftedRA, df.ratio - 1, '.')\n",
    "xticks = ax[1, 2].get_xticklabels()\n",
    "_ = [xtick.set_rotation(90.) for xtick in xticks]\n",
    "ax[1, 2].set_xlabel('ra in Base')\n",
    "\n",
    "\n",
    "#ax[1,0].plot(df.angsep, (df.ratio -1)* df.angsep, '.')"
   ]
  },
  {
   "cell_type": "code",
   "execution_count": 43,
   "metadata": {
    "collapsed": false
   },
   "outputs": [
    {
     "name": "stdout",
     "output_type": "stream",
     "text": [
      "1000\n"
     ]
    }
   ],
   "source": [
    "print(len(df))"
   ]
  },
  {
   "cell_type": "code",
   "execution_count": 44,
   "metadata": {
    "collapsed": false
   },
   "outputs": [
    {
     "name": "stdout",
     "output_type": "stream",
     "text": [
      "2371\n"
     ]
    }
   ],
   "source": [
    "print(len(merged))"
   ]
  },
  {
   "cell_type": "markdown",
   "metadata": {},
   "source": [
    "## Scratch"
   ]
  },
  {
   "cell_type": "code",
   "execution_count": 45,
   "metadata": {
    "collapsed": false
   },
   "outputs": [
    {
     "data": {
      "text/plain": [
       "6.2831010000000003"
      ]
     },
     "execution_count": 45,
     "metadata": {},
     "output_type": "execute_result"
    }
   ],
   "source": [
    "df.raJ2000.max()"
   ]
  },
  {
   "cell_type": "code",
   "execution_count": 46,
   "metadata": {
    "collapsed": false
   },
   "outputs": [
    {
     "data": {
      "text/plain": [
       "8.7372489999999997e-05"
      ]
     },
     "execution_count": 46,
     "metadata": {},
     "output_type": "execute_result"
    }
   ],
   "source": [
    "df.raJ2000.min()"
   ]
  },
  {
   "cell_type": "code",
   "execution_count": 47,
   "metadata": {
    "collapsed": false
   },
   "outputs": [
    {
     "data": {
      "text/plain": [
       "4.9064210000000001e-06"
      ]
     },
     "execution_count": 47,
     "metadata": {},
     "output_type": "execute_result"
    }
   ],
   "source": [
    "gTile1_df.raJ2000_1.min()"
   ]
  },
  {
   "cell_type": "code",
   "execution_count": 48,
   "metadata": {
    "collapsed": false
   },
   "outputs": [
    {
     "data": {
      "text/plain": [
       "6.2831849999999996"
      ]
     },
     "execution_count": 48,
     "metadata": {},
     "output_type": "execute_result"
    }
   ],
   "source": [
    "gTile1_df.raJ2000_1.max()"
   ]
  },
  {
   "cell_type": "code",
   "execution_count": 49,
   "metadata": {
    "collapsed": false
   },
   "outputs": [
    {
     "data": {
      "text/plain": [
       "2.492506e-06"
      ]
     },
     "execution_count": 49,
     "metadata": {},
     "output_type": "execute_result"
    }
   ],
   "source": [
    "gBase_df.raJ2000.min()"
   ]
  },
  {
   "cell_type": "code",
   "execution_count": 50,
   "metadata": {
    "collapsed": false
   },
   "outputs": [
    {
     "data": {
      "text/plain": [
       "359.99992510412659"
      ]
     },
     "execution_count": 50,
     "metadata": {},
     "output_type": "execute_result"
    }
   ],
   "source": [
    "np.degrees(gBase_df.raJ2000.max())"
   ]
  },
  {
   "cell_type": "code",
   "execution_count": null,
   "metadata": {
    "collapsed": true
   },
   "outputs": [],
   "source": []
  }
 ],
 "metadata": {
  "kernelspec": {
   "display_name": "Python 2",
   "language": "python",
   "name": "python2"
  },
  "language_info": {
   "codemirror_mode": {
    "name": "ipython",
    "version": 2
   },
   "file_extension": ".py",
   "mimetype": "text/x-python",
   "name": "python",
   "nbconvert_exporter": "python",
   "pygments_lexer": "ipython2",
   "version": "2.7.11"
  }
 },
 "nbformat": 4,
 "nbformat_minor": 0
}
