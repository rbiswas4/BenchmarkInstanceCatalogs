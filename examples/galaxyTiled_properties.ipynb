{
 "cells": [
  {
   "cell_type": "markdown",
   "metadata": {},
   "source": [
    "## Setup"
   ]
  },
  {
   "cell_type": "code",
   "execution_count": 1,
   "metadata": {
    "collapsed": true
   },
   "outputs": [],
   "source": [
    "from __future__ import division, print_function, absolute_import"
   ]
  },
  {
   "cell_type": "code",
   "execution_count": 2,
   "metadata": {
    "collapsed": true
   },
   "outputs": [],
   "source": [
    "import numpy as np\n",
    "import pandas as pd"
   ]
  },
  {
   "cell_type": "code",
   "execution_count": 3,
   "metadata": {
    "collapsed": false
   },
   "outputs": [
    {
     "name": "stderr",
     "output_type": "stream",
     "text": [
      "/usr/local/manual/anaconda/lib/python2.7/site-packages/matplotlib/__init__.py:872: UserWarning: axes.color_cycle is deprecated and replaced with axes.prop_cycle; please use the latter.\n",
      "  warnings.warn(self.msg_depr % (key, alt_key))\n"
     ]
    }
   ],
   "source": [
    "%matplotlib inline\n",
    "import matplotlib.pyplot as plt\n",
    "from matplotlib.patches import Polygon\n",
    "import seaborn as sns\n",
    "sns.set()"
   ]
  },
  {
   "cell_type": "code",
   "execution_count": 4,
   "metadata": {
    "collapsed": false
   },
   "outputs": [
    {
     "name": "stderr",
     "output_type": "stream",
     "text": [
      "/Users/rbiswas/src/LSST/sims_catalogs_generation/python/lsst/sims/catalogs/generation/db/dbConnection.py:438: UserWarning: Duplicate object type id 25 specified: \n",
      "Output object ids may not be unique.\n",
      "This may not be a problem if you do not want globally unique id values\n",
      "  'want globally unique id values')\n",
      "/Users/rbiswas/src/LSST/sims_catalogs_generation/python/lsst/sims/catalogs/generation/db/dbConnection.py:438: UserWarning: Duplicate object type id 40 specified: \n",
      "Output object ids may not be unique.\n",
      "This may not be a problem if you do not want globally unique id values\n",
      "  'want globally unique id values')\n"
     ]
    }
   ],
   "source": [
    "from lsst.sims.catalogs.measures.instance import InstanceCatalog\n",
    "import lsst.sims.catUtils.baseCatalogModels as bcm\n",
    "from lsst.sims.catalogs.generation.db import CatalogDBObject, DBObject\n",
    "from lsst.sims.catUtils.baseCatalogModels.GalaxyModels import GalaxyTileObj, GalaxyObj\n",
    "from lsst.sims.utils import ObservationMetaData"
   ]
  },
  {
   "cell_type": "markdown",
   "metadata": {},
   "source": [
    "## Catalogs"
   ]
  },
  {
   "cell_type": "code",
   "execution_count": 5,
   "metadata": {
    "collapsed": true
   },
   "outputs": [],
   "source": [
    "observerMetaData = ObservationMetaData(boundType='box',\n",
    "                                  pointingRA=0.,\n",
    "                                  pointingDec=0.,\n",
    "                                  boundLength=0.1)"
   ]
  },
  {
   "cell_type": "code",
   "execution_count": 6,
   "metadata": {
    "collapsed": true
   },
   "outputs": [],
   "source": [
    "observerMetaData_1 = ObservationMetaData(boundType='box',\n",
    "                                  pointingRA=0.,\n",
    "                                  pointingDec=-4.,\n",
    "                                  boundLength=0.1)"
   ]
  },
  {
   "cell_type": "code",
   "execution_count": 7,
   "metadata": {
    "collapsed": true
   },
   "outputs": [],
   "source": [
    "class galCopy(InstanceCatalog):\n",
    "    column_outputs = ['galtileid', 'raJ2000', 'decJ2000', 'redshift']#, 'a_d', 'b_d', 'pa_disk', 'mass_stellar', 'absmag_r_total']\n",
    "    override_formats = {'raJ2000': '%8e', 'decJ2000': '%8e', 'a_d': '%8e', 'b_d': '%8e', 'pa_disk': '%8e', \n",
    "                        'mass_stellar': '%8e', 'absmag_r_total': '%8e'}"
   ]
  },
  {
   "cell_type": "code",
   "execution_count": 8,
   "metadata": {
    "collapsed": true
   },
   "outputs": [],
   "source": [
    "def galIds(tileID, galTileID):\n",
    "    return galTileID - 100000000* tileID"
   ]
  },
  {
   "cell_type": "code",
   "execution_count": 9,
   "metadata": {
    "collapsed": false
   },
   "outputs": [
    {
     "name": "stderr",
     "output_type": "stream",
     "text": [
      "/usr/local/manual/anaconda/lib/python2.7/site-packages/sqlalchemy/dialects/mssql/base.py:1294: SAWarning: Did not recognize type 'geography' of column 'geopoint'\n",
      "  return fn(*arg, **kw)\n"
     ]
    }
   ],
   "source": [
    "galaxyTiled = GalaxyTileObj()"
   ]
  },
  {
   "cell_type": "markdown",
   "metadata": {},
   "source": [
    "#### On Base Patch"
   ]
  },
  {
   "cell_type": "code",
   "execution_count": 10,
   "metadata": {
    "collapsed": false
   },
   "outputs": [
    {
     "name": "stderr",
     "output_type": "stream",
     "text": [
      "/usr/local/manual/anaconda/lib/python2.7/site-packages/ipykernel/__main__.py:4: ParserWarning: Falling back to the 'python' engine because the 'c' engine does not support regex separators; you can avoid this warning by specifying engine='python'.\n"
     ]
    },
    {
     "data": {
      "text/html": [
       "<div>\n",
       "<table border=\"1\" class=\"dataframe\">\n",
       "  <thead>\n",
       "    <tr style=\"text-align: right;\">\n",
       "      <th></th>\n",
       "      <th>raJ2000</th>\n",
       "      <th>decJ2000</th>\n",
       "      <th>redshift</th>\n",
       "    </tr>\n",
       "    <tr>\n",
       "      <th>galtileid</th>\n",
       "      <th></th>\n",
       "      <th></th>\n",
       "      <th></th>\n",
       "    </tr>\n",
       "  </thead>\n",
       "  <tbody>\n",
       "    <tr>\n",
       "      <th>2205265201</th>\n",
       "      <td>0.000979</td>\n",
       "      <td>-0.001562</td>\n",
       "      <td>0.1903</td>\n",
       "    </tr>\n",
       "    <tr>\n",
       "      <th>2207290310</th>\n",
       "      <td>0.000859</td>\n",
       "      <td>-0.001621</td>\n",
       "      <td>0.1844</td>\n",
       "    </tr>\n",
       "    <tr>\n",
       "      <th>2208421301</th>\n",
       "      <td>0.000202</td>\n",
       "      <td>-0.001585</td>\n",
       "      <td>0.1896</td>\n",
       "    </tr>\n",
       "    <tr>\n",
       "      <th>2203122801</th>\n",
       "      <td>0.001097</td>\n",
       "      <td>-0.000317</td>\n",
       "      <td>0.1996</td>\n",
       "    </tr>\n",
       "    <tr>\n",
       "      <th>2211329554</th>\n",
       "      <td>0.000725</td>\n",
       "      <td>-0.000021</td>\n",
       "      <td>0.1906</td>\n",
       "    </tr>\n",
       "  </tbody>\n",
       "</table>\n",
       "</div>"
      ],
      "text/plain": [
       "             raJ2000  decJ2000  redshift\n",
       "galtileid                               \n",
       "2205265201  0.000979 -0.001562    0.1903\n",
       "2207290310  0.000859 -0.001621    0.1844\n",
       "2208421301  0.000202 -0.001585    0.1896\n",
       "2203122801  0.001097 -0.000317    0.1996\n",
       "2211329554  0.000725 -0.000021    0.1906"
      ]
     },
     "execution_count": 10,
     "metadata": {},
     "output_type": "execute_result"
    }
   ],
   "source": [
    "constr='redshift < 0.4'\n",
    "gBase = galCopy(galaxyTiled, obs_metadata=observerMetaData, constraint=constr)\n",
    "gBase.write_catalog('gBase.csv')\n",
    "gBase_df  = pd.read_csv('gBase.csv', delimiter=', ',index_col='#galtileid')\n",
    "gBase_df.index.name = 'galtileid'\n",
    "gBase_df.head()"
   ]
  },
  {
   "cell_type": "code",
   "execution_count": 11,
   "metadata": {
    "collapsed": false
   },
   "outputs": [
    {
     "data": {
      "text/html": [
       "<div>\n",
       "<table border=\"1\" class=\"dataframe\">\n",
       "  <thead>\n",
       "    <tr style=\"text-align: right;\">\n",
       "      <th></th>\n",
       "      <th>raJ2000</th>\n",
       "      <th>decJ2000</th>\n",
       "      <th>redshift</th>\n",
       "    </tr>\n",
       "    <tr>\n",
       "      <th>id</th>\n",
       "      <th></th>\n",
       "      <th></th>\n",
       "      <th></th>\n",
       "    </tr>\n",
       "  </thead>\n",
       "  <tbody>\n",
       "    <tr>\n",
       "      <th>5265201</th>\n",
       "      <td>0.000979</td>\n",
       "      <td>-0.001562</td>\n",
       "      <td>0.1903</td>\n",
       "    </tr>\n",
       "    <tr>\n",
       "      <th>7290310</th>\n",
       "      <td>0.000859</td>\n",
       "      <td>-0.001621</td>\n",
       "      <td>0.1844</td>\n",
       "    </tr>\n",
       "    <tr>\n",
       "      <th>8421301</th>\n",
       "      <td>0.000202</td>\n",
       "      <td>-0.001585</td>\n",
       "      <td>0.1896</td>\n",
       "    </tr>\n",
       "    <tr>\n",
       "      <th>3122801</th>\n",
       "      <td>0.001097</td>\n",
       "      <td>-0.000317</td>\n",
       "      <td>0.1996</td>\n",
       "    </tr>\n",
       "    <tr>\n",
       "      <th>11329554</th>\n",
       "      <td>0.000725</td>\n",
       "      <td>-0.000021</td>\n",
       "      <td>0.1906</td>\n",
       "    </tr>\n",
       "  </tbody>\n",
       "</table>\n",
       "</div>"
      ],
      "text/plain": [
       "           raJ2000  decJ2000  redshift\n",
       "id                                    \n",
       "5265201   0.000979 -0.001562    0.1903\n",
       "7290310   0.000859 -0.001621    0.1844\n",
       "8421301   0.000202 -0.001585    0.1896\n",
       "3122801   0.001097 -0.000317    0.1996\n",
       "11329554  0.000725 -0.000021    0.1906"
      ]
     },
     "execution_count": 11,
     "metadata": {},
     "output_type": "execute_result"
    }
   ],
   "source": [
    "gBase_df['id'] = galIds(22, gBase_df.index.values)\n",
    "gBase_df.set_index('id', inplace=True)\n",
    "gBase_df.head()"
   ]
  },
  {
   "cell_type": "markdown",
   "metadata": {},
   "source": [
    "#### On a Tile 4 degrees South"
   ]
  },
  {
   "cell_type": "code",
   "execution_count": 12,
   "metadata": {
    "collapsed": false
   },
   "outputs": [
    {
     "name": "stderr",
     "output_type": "stream",
     "text": [
      "/usr/local/manual/anaconda/lib/python2.7/site-packages/ipykernel/__main__.py:3: ParserWarning: Falling back to the 'python' engine because the 'c' engine does not support regex separators; you can avoid this warning by specifying engine='python'.\n",
      "  app.launch_new_instance()\n"
     ]
    },
    {
     "data": {
      "text/html": [
       "<div>\n",
       "<table border=\"1\" class=\"dataframe\">\n",
       "  <thead>\n",
       "    <tr style=\"text-align: right;\">\n",
       "      <th></th>\n",
       "      <th>raJ2000</th>\n",
       "      <th>decJ2000</th>\n",
       "      <th>redshift</th>\n",
       "    </tr>\n",
       "    <tr>\n",
       "      <th>galtileid</th>\n",
       "      <th></th>\n",
       "      <th></th>\n",
       "      <th></th>\n",
       "    </tr>\n",
       "  </thead>\n",
       "  <tbody>\n",
       "    <tr>\n",
       "      <th>2112219713</th>\n",
       "      <td>0.000923</td>\n",
       "      <td>-0.071535</td>\n",
       "      <td>0.1912</td>\n",
       "    </tr>\n",
       "    <tr>\n",
       "      <th>2105265201</th>\n",
       "      <td>0.000892</td>\n",
       "      <td>-0.071335</td>\n",
       "      <td>0.1903</td>\n",
       "    </tr>\n",
       "    <tr>\n",
       "      <th>2107290310</th>\n",
       "      <td>0.000772</td>\n",
       "      <td>-0.071394</td>\n",
       "      <td>0.1844</td>\n",
       "    </tr>\n",
       "    <tr>\n",
       "      <th>2108421301</th>\n",
       "      <td>0.000113</td>\n",
       "      <td>-0.071357</td>\n",
       "      <td>0.1896</td>\n",
       "    </tr>\n",
       "    <tr>\n",
       "      <th>2103122801</th>\n",
       "      <td>0.001014</td>\n",
       "      <td>-0.070091</td>\n",
       "      <td>0.1996</td>\n",
       "    </tr>\n",
       "  </tbody>\n",
       "</table>\n",
       "</div>"
      ],
      "text/plain": [
       "             raJ2000  decJ2000  redshift\n",
       "galtileid                               \n",
       "2112219713  0.000923 -0.071535    0.1912\n",
       "2105265201  0.000892 -0.071335    0.1903\n",
       "2107290310  0.000772 -0.071394    0.1844\n",
       "2108421301  0.000113 -0.071357    0.1896\n",
       "2103122801  0.001014 -0.070091    0.1996"
      ]
     },
     "execution_count": 12,
     "metadata": {},
     "output_type": "execute_result"
    }
   ],
   "source": [
    "gTile_1 = galCopy(galaxyTiled, obs_metadata=observerMetaData_1, constraint=constr)\n",
    "gTile_1.write_catalog('gTile_1.csv')\n",
    "gTile1_df  = pd.read_csv('gTile_1.csv', delimiter=', ', index_col='#galtileid')\n",
    "gTile1_df.index.name = 'galtileid'\n",
    "gTile1_df.head()"
   ]
  },
  {
   "cell_type": "code",
   "execution_count": 13,
   "metadata": {
    "collapsed": false
   },
   "outputs": [
    {
     "data": {
      "text/html": [
       "<div>\n",
       "<table border=\"1\" class=\"dataframe\">\n",
       "  <thead>\n",
       "    <tr style=\"text-align: right;\">\n",
       "      <th></th>\n",
       "      <th>raJ2000_1</th>\n",
       "      <th>decJ2000_1</th>\n",
       "      <th>redshift_1</th>\n",
       "    </tr>\n",
       "    <tr>\n",
       "      <th>id</th>\n",
       "      <th></th>\n",
       "      <th></th>\n",
       "      <th></th>\n",
       "    </tr>\n",
       "  </thead>\n",
       "  <tbody>\n",
       "    <tr>\n",
       "      <th>12219713</th>\n",
       "      <td>0.000923</td>\n",
       "      <td>-0.071535</td>\n",
       "      <td>0.1912</td>\n",
       "    </tr>\n",
       "    <tr>\n",
       "      <th>5265201</th>\n",
       "      <td>0.000892</td>\n",
       "      <td>-0.071335</td>\n",
       "      <td>0.1903</td>\n",
       "    </tr>\n",
       "    <tr>\n",
       "      <th>7290310</th>\n",
       "      <td>0.000772</td>\n",
       "      <td>-0.071394</td>\n",
       "      <td>0.1844</td>\n",
       "    </tr>\n",
       "    <tr>\n",
       "      <th>8421301</th>\n",
       "      <td>0.000113</td>\n",
       "      <td>-0.071357</td>\n",
       "      <td>0.1896</td>\n",
       "    </tr>\n",
       "    <tr>\n",
       "      <th>3122801</th>\n",
       "      <td>0.001014</td>\n",
       "      <td>-0.070091</td>\n",
       "      <td>0.1996</td>\n",
       "    </tr>\n",
       "  </tbody>\n",
       "</table>\n",
       "</div>"
      ],
      "text/plain": [
       "          raJ2000_1  decJ2000_1  redshift_1\n",
       "id                                         \n",
       "12219713   0.000923   -0.071535      0.1912\n",
       "5265201    0.000892   -0.071335      0.1903\n",
       "7290310    0.000772   -0.071394      0.1844\n",
       "8421301    0.000113   -0.071357      0.1896\n",
       "3122801    0.001014   -0.070091      0.1996"
      ]
     },
     "execution_count": 13,
     "metadata": {},
     "output_type": "execute_result"
    }
   ],
   "source": [
    "gTile1_df['id'] = galIds(21, gTile1_df.index.values)\n",
    "gTile1_df.set_index('id', inplace=True)\n",
    "gTile1_df.rename(columns={'raJ2000':'raJ2000_1', 'decJ2000':'decJ2000_1', 'redshift': 'redshift_1'},\n",
    "                 inplace=True)\n",
    "gTile1_df.head()"
   ]
  },
  {
   "cell_type": "code",
   "execution_count": 14,
   "metadata": {
    "collapsed": true
   },
   "outputs": [],
   "source": [
    "merged =  pd.concat([gBase_df, gTile1_df], axis=1)"
   ]
  },
  {
   "cell_type": "code",
   "execution_count": 15,
   "metadata": {
    "collapsed": false
   },
   "outputs": [],
   "source": [
    "# Translate the ra values to around 0 for plotting ease\n",
    "merged['shiftedRA']  = np.where(merged.raJ2000 < 3., merged.raJ2000, merged.raJ2000 - 2.0*np.pi)\n",
    "merged['shiftedRA_1']  = np.where(merged.raJ2000_1 < 3., merged.raJ2000_1, merged.raJ2000_1 - 2.0*np.pi)"
   ]
  },
  {
   "cell_type": "code",
   "execution_count": 16,
   "metadata": {
    "collapsed": false
   },
   "outputs": [
    {
     "data": {
      "text/html": [
       "<div>\n",
       "<table border=\"1\" class=\"dataframe\">\n",
       "  <thead>\n",
       "    <tr style=\"text-align: right;\">\n",
       "      <th></th>\n",
       "      <th>raJ2000</th>\n",
       "      <th>decJ2000</th>\n",
       "      <th>redshift</th>\n",
       "      <th>raJ2000_1</th>\n",
       "      <th>decJ2000_1</th>\n",
       "      <th>redshift_1</th>\n",
       "      <th>shiftedRA</th>\n",
       "      <th>shiftedRA_1</th>\n",
       "    </tr>\n",
       "    <tr>\n",
       "      <th>id</th>\n",
       "      <th></th>\n",
       "      <th></th>\n",
       "      <th></th>\n",
       "      <th></th>\n",
       "      <th></th>\n",
       "      <th></th>\n",
       "      <th></th>\n",
       "      <th></th>\n",
       "    </tr>\n",
       "  </thead>\n",
       "  <tbody>\n",
       "    <tr>\n",
       "      <th>157</th>\n",
       "      <td>0.000261</td>\n",
       "      <td>0.000750</td>\n",
       "      <td>0.2212</td>\n",
       "      <td>0.000179</td>\n",
       "      <td>-0.069021</td>\n",
       "      <td>0.2212</td>\n",
       "      <td>0.000261</td>\n",
       "      <td>0.000179</td>\n",
       "    </tr>\n",
       "    <tr>\n",
       "      <th>3439</th>\n",
       "      <td>0.000843</td>\n",
       "      <td>0.000985</td>\n",
       "      <td>0.1980</td>\n",
       "      <td>0.000762</td>\n",
       "      <td>-0.068788</td>\n",
       "      <td>0.1980</td>\n",
       "      <td>0.000843</td>\n",
       "      <td>0.000762</td>\n",
       "    </tr>\n",
       "    <tr>\n",
       "      <th>5199</th>\n",
       "      <td>0.000280</td>\n",
       "      <td>0.001694</td>\n",
       "      <td>0.3295</td>\n",
       "      <td>0.000200</td>\n",
       "      <td>-0.068077</td>\n",
       "      <td>0.3295</td>\n",
       "      <td>0.000280</td>\n",
       "      <td>0.000200</td>\n",
       "    </tr>\n",
       "    <tr>\n",
       "      <th>6482</th>\n",
       "      <td>0.000062</td>\n",
       "      <td>0.001331</td>\n",
       "      <td>0.2883</td>\n",
       "      <td>NaN</td>\n",
       "      <td>NaN</td>\n",
       "      <td>NaN</td>\n",
       "      <td>0.000062</td>\n",
       "      <td>NaN</td>\n",
       "    </tr>\n",
       "    <tr>\n",
       "      <th>7260</th>\n",
       "      <td>0.000818</td>\n",
       "      <td>-0.000958</td>\n",
       "      <td>0.2405</td>\n",
       "      <td>0.000733</td>\n",
       "      <td>-0.070730</td>\n",
       "      <td>0.2405</td>\n",
       "      <td>0.000818</td>\n",
       "      <td>0.000733</td>\n",
       "    </tr>\n",
       "  </tbody>\n",
       "</table>\n",
       "</div>"
      ],
      "text/plain": [
       "       raJ2000  decJ2000  redshift  raJ2000_1  decJ2000_1  redshift_1  \\\n",
       "id                                                                      \n",
       "157   0.000261  0.000750    0.2212   0.000179   -0.069021      0.2212   \n",
       "3439  0.000843  0.000985    0.1980   0.000762   -0.068788      0.1980   \n",
       "5199  0.000280  0.001694    0.3295   0.000200   -0.068077      0.3295   \n",
       "6482  0.000062  0.001331    0.2883        NaN         NaN         NaN   \n",
       "7260  0.000818 -0.000958    0.2405   0.000733   -0.070730      0.2405   \n",
       "\n",
       "      shiftedRA  shiftedRA_1  \n",
       "id                            \n",
       "157    0.000261     0.000179  \n",
       "3439   0.000843     0.000762  \n",
       "5199   0.000280     0.000200  \n",
       "6482   0.000062          NaN  \n",
       "7260   0.000818     0.000733  "
      ]
     },
     "execution_count": 16,
     "metadata": {},
     "output_type": "execute_result"
    }
   ],
   "source": [
    "merged.head()"
   ]
  },
  {
   "cell_type": "code",
   "execution_count": 17,
   "metadata": {
    "collapsed": true
   },
   "outputs": [],
   "source": [
    "uncommon = merged[merged.isnull().any(axis=1)].copy()"
   ]
  },
  {
   "cell_type": "code",
   "execution_count": 18,
   "metadata": {
    "collapsed": false
   },
   "outputs": [
    {
     "data": {
      "text/plain": [
       "<matplotlib.collections.PathCollection at 0x10ad46850>"
      ]
     },
     "execution_count": 18,
     "metadata": {},
     "output_type": "execute_result"
    },
    {
     "data": {
      "image/png": "[encoded data removed]",
      "text/plain": [
       "<matplotlib.figure.Figure at 0x116662690>"
      ]
     },
     "metadata": {},
     "output_type": "display_data"
    }
   ],
   "source": [
    "fig, ax = plt.subplots(2, 1, figsize=(6, 12), sharex=True)\n",
    "ax[0].plot(merged.shiftedRA, merged.decJ2000, 'y.')\n",
    "ax[0].scatter(uncommon.shiftedRA, uncommon.decJ2000, color='b')\n",
    "\n",
    "ax[1].plot(merged.shiftedRA_1, merged.decJ2000_1, 'y.')\n",
    "ax[1].scatter(uncommon.shiftedRA_1, uncommon.decJ2000_1, color='r')\n",
    "\n"
   ]
  },
  {
   "cell_type": "code",
   "execution_count": 19,
   "metadata": {
    "collapsed": false
   },
   "outputs": [
    {
     "name": "stdout",
     "output_type": "stream",
     "text": [
      "143.0 2228.0\n"
     ]
    }
   ],
   "source": [
    "print(len(uncommon)/2., (len(gBase_df) + len(gTile1_df) )/2.)"
   ]
  },
  {
   "cell_type": "code",
   "execution_count": 20,
   "metadata": {
    "collapsed": false
   },
   "outputs": [
    {
     "data": {
      "text/plain": [
       "47.201694884823787"
      ]
     },
     "execution_count": 20,
     "metadata": {},
     "output_type": "execute_result"
    }
   ],
   "source": [
    "np.sqrt(2228.)"
   ]
  },
  {
   "cell_type": "code",
   "execution_count": 21,
   "metadata": {
    "collapsed": false
   },
   "outputs": [
    {
     "data": {
      "text/plain": [
       "134"
      ]
     },
     "execution_count": 21,
     "metadata": {},
     "output_type": "execute_result"
    }
   ],
   "source": [
    "len(merged[merged.shiftedRA_1.isnull()])"
   ]
  },
  {
   "cell_type": "code",
   "execution_count": 22,
   "metadata": {
    "collapsed": false
   },
   "outputs": [
    {
     "data": {
      "text/plain": [
       "152"
      ]
     },
     "execution_count": 22,
     "metadata": {},
     "output_type": "execute_result"
    }
   ],
   "source": [
    "len(merged[merged.shiftedRA.isnull()])"
   ]
  },
  {
   "cell_type": "code",
   "execution_count": 23,
   "metadata": {
    "collapsed": false
   },
   "outputs": [
    {
     "data": {
      "text/plain": [
       "2371"
      ]
     },
     "execution_count": 23,
     "metadata": {},
     "output_type": "execute_result"
    }
   ],
   "source": [
    "len(merged)"
   ]
  },
  {
   "cell_type": "markdown",
   "metadata": {},
   "source": [
    "## Angular Separations"
   ]
  },
  {
   "cell_type": "code",
   "execution_count": 24,
   "metadata": {
    "collapsed": false
   },
   "outputs": [],
   "source": [
    "common = merged[~merged.isnull().any(axis=1)]"
   ]
  },
  {
   "cell_type": "code",
   "execution_count": 25,
   "metadata": {
    "collapsed": false
   },
   "outputs": [],
   "source": [
    "NSelect = 100\n",
    "sel = np.random.choice(common.index.values, NSelect*2, replace=False)"
   ]
  },
  {
   "cell_type": "code",
   "execution_count": 26,
   "metadata": {
    "collapsed": true
   },
   "outputs": [],
   "source": [
    "split_1 = common.ix[sel[:NSelect]]\n",
    "split_2 = common.ix[sel[NSelect:]]"
   ]
  },
  {
   "cell_type": "code",
   "execution_count": 27,
   "metadata": {
    "collapsed": false
   },
   "outputs": [
    {
     "name": "stdout",
     "output_type": "stream",
     "text": [
      "100 100\n"
     ]
    }
   ],
   "source": [
    "print(len(split_1), len(split_2))"
   ]
  },
  {
   "cell_type": "code",
   "execution_count": 28,
   "metadata": {
    "collapsed": false
   },
   "outputs": [
    {
     "data": {
      "text/html": [
       "<div>\n",
       "<table border=\"1\" class=\"dataframe\">\n",
       "  <thead>\n",
       "    <tr style=\"text-align: right;\">\n",
       "      <th></th>\n",
       "      <th>raJ2000</th>\n",
       "      <th>decJ2000</th>\n",
       "      <th>redshift</th>\n",
       "      <th>raJ2000_1</th>\n",
       "      <th>decJ2000_1</th>\n",
       "      <th>redshift_1</th>\n",
       "      <th>shiftedRA</th>\n",
       "      <th>shiftedRA_1</th>\n",
       "    </tr>\n",
       "    <tr>\n",
       "      <th>id</th>\n",
       "      <th></th>\n",
       "      <th></th>\n",
       "      <th></th>\n",
       "      <th></th>\n",
       "      <th></th>\n",
       "      <th></th>\n",
       "      <th></th>\n",
       "      <th></th>\n",
       "    </tr>\n",
       "  </thead>\n",
       "  <tbody>\n",
       "    <tr>\n",
       "      <th>400502732326</th>\n",
       "      <td>6.282782</td>\n",
       "      <td>-0.000168</td>\n",
       "      <td>0.0887</td>\n",
       "      <td>6.282866</td>\n",
       "      <td>-0.069939</td>\n",
       "      <td>0.0887</td>\n",
       "      <td>-0.000403</td>\n",
       "      <td>-0.000319</td>\n",
       "    </tr>\n",
       "    <tr>\n",
       "      <th>400501827140</th>\n",
       "      <td>6.282579</td>\n",
       "      <td>-0.000357</td>\n",
       "      <td>0.3695</td>\n",
       "      <td>6.282663</td>\n",
       "      <td>-0.070129</td>\n",
       "      <td>0.3695</td>\n",
       "      <td>-0.000606</td>\n",
       "      <td>-0.000522</td>\n",
       "    </tr>\n",
       "    <tr>\n",
       "      <th>400502760052</th>\n",
       "      <td>6.281785</td>\n",
       "      <td>-0.000054</td>\n",
       "      <td>0.2881</td>\n",
       "      <td>6.281867</td>\n",
       "      <td>-0.069828</td>\n",
       "      <td>0.2881</td>\n",
       "      <td>-0.001400</td>\n",
       "      <td>-0.001318</td>\n",
       "    </tr>\n",
       "    <tr>\n",
       "      <th>400506307884</th>\n",
       "      <td>6.281658</td>\n",
       "      <td>-0.001212</td>\n",
       "      <td>0.3502</td>\n",
       "      <td>6.281742</td>\n",
       "      <td>-0.070986</td>\n",
       "      <td>0.3502</td>\n",
       "      <td>-0.001527</td>\n",
       "      <td>-0.001443</td>\n",
       "    </tr>\n",
       "    <tr>\n",
       "      <th>400503968617</th>\n",
       "      <td>6.281785</td>\n",
       "      <td>-0.000893</td>\n",
       "      <td>0.2539</td>\n",
       "      <td>6.281869</td>\n",
       "      <td>-0.070666</td>\n",
       "      <td>0.2539</td>\n",
       "      <td>-0.001400</td>\n",
       "      <td>-0.001316</td>\n",
       "    </tr>\n",
       "    <tr>\n",
       "      <th>14177870</th>\n",
       "      <td>0.001154</td>\n",
       "      <td>0.001297</td>\n",
       "      <td>0.3122</td>\n",
       "      <td>0.001075</td>\n",
       "      <td>-0.068476</td>\n",
       "      <td>0.3122</td>\n",
       "      <td>0.001154</td>\n",
       "      <td>0.001075</td>\n",
       "    </tr>\n",
       "    <tr>\n",
       "      <th>3245632</th>\n",
       "      <td>0.000919</td>\n",
       "      <td>-0.000257</td>\n",
       "      <td>0.3330</td>\n",
       "      <td>0.000836</td>\n",
       "      <td>-0.070030</td>\n",
       "      <td>0.3330</td>\n",
       "      <td>0.000919</td>\n",
       "      <td>0.000836</td>\n",
       "    </tr>\n",
       "    <tr>\n",
       "      <th>400503318986</th>\n",
       "      <td>6.282899</td>\n",
       "      <td>-0.001134</td>\n",
       "      <td>0.2685</td>\n",
       "      <td>6.282986</td>\n",
       "      <td>-0.070905</td>\n",
       "      <td>0.2685</td>\n",
       "      <td>-0.000286</td>\n",
       "      <td>-0.000199</td>\n",
       "    </tr>\n",
       "    <tr>\n",
       "      <th>400501790506</th>\n",
       "      <td>6.282968</td>\n",
       "      <td>0.000220</td>\n",
       "      <td>0.1982</td>\n",
       "      <td>6.283052</td>\n",
       "      <td>-0.069552</td>\n",
       "      <td>0.1982</td>\n",
       "      <td>-0.000217</td>\n",
       "      <td>-0.000133</td>\n",
       "    </tr>\n",
       "    <tr>\n",
       "      <th>1273120</th>\n",
       "      <td>0.001089</td>\n",
       "      <td>-0.000633</td>\n",
       "      <td>0.0814</td>\n",
       "      <td>0.001005</td>\n",
       "      <td>-0.070406</td>\n",
       "      <td>0.0814</td>\n",
       "      <td>0.001089</td>\n",
       "      <td>0.001005</td>\n",
       "    </tr>\n",
       "    <tr>\n",
       "      <th>400500817391</th>\n",
       "      <td>6.283003</td>\n",
       "      <td>0.001564</td>\n",
       "      <td>0.3919</td>\n",
       "      <td>6.283084</td>\n",
       "      <td>-0.068207</td>\n",
       "      <td>0.3919</td>\n",
       "      <td>-0.000182</td>\n",
       "      <td>-0.000101</td>\n",
       "    </tr>\n",
       "    <tr>\n",
       "      <th>400507403780</th>\n",
       "      <td>6.282104</td>\n",
       "      <td>-0.000966</td>\n",
       "      <td>0.3588</td>\n",
       "      <td>6.282189</td>\n",
       "      <td>-0.070739</td>\n",
       "      <td>0.3588</td>\n",
       "      <td>-0.001081</td>\n",
       "      <td>-0.000996</td>\n",
       "    </tr>\n",
       "    <tr>\n",
       "      <th>400500180336</th>\n",
       "      <td>6.282768</td>\n",
       "      <td>-0.001014</td>\n",
       "      <td>0.3252</td>\n",
       "      <td>6.282855</td>\n",
       "      <td>-0.070785</td>\n",
       "      <td>0.3252</td>\n",
       "      <td>-0.000417</td>\n",
       "      <td>-0.000330</td>\n",
       "    </tr>\n",
       "    <tr>\n",
       "      <th>400510470993</th>\n",
       "      <td>6.282607</td>\n",
       "      <td>-0.001011</td>\n",
       "      <td>0.2491</td>\n",
       "      <td>6.282693</td>\n",
       "      <td>-0.070783</td>\n",
       "      <td>0.2491</td>\n",
       "      <td>-0.000578</td>\n",
       "      <td>-0.000492</td>\n",
       "    </tr>\n",
       "    <tr>\n",
       "      <th>400502199629</th>\n",
       "      <td>6.281931</td>\n",
       "      <td>0.001318</td>\n",
       "      <td>0.3488</td>\n",
       "      <td>6.282010</td>\n",
       "      <td>-0.068456</td>\n",
       "      <td>0.3488</td>\n",
       "      <td>-0.001254</td>\n",
       "      <td>-0.001175</td>\n",
       "    </tr>\n",
       "    <tr>\n",
       "      <th>400517317183</th>\n",
       "      <td>6.282990</td>\n",
       "      <td>0.000125</td>\n",
       "      <td>0.2684</td>\n",
       "      <td>6.283074</td>\n",
       "      <td>-0.069646</td>\n",
       "      <td>0.2684</td>\n",
       "      <td>-0.000195</td>\n",
       "      <td>-0.000111</td>\n",
       "    </tr>\n",
       "    <tr>\n",
       "      <th>400507295903</th>\n",
       "      <td>6.282093</td>\n",
       "      <td>-0.001637</td>\n",
       "      <td>0.1845</td>\n",
       "      <td>6.282180</td>\n",
       "      <td>-0.071410</td>\n",
       "      <td>0.1845</td>\n",
       "      <td>-0.001092</td>\n",
       "      <td>-0.001005</td>\n",
       "    </tr>\n",
       "    <tr>\n",
       "      <th>400500817943</th>\n",
       "      <td>6.281636</td>\n",
       "      <td>0.001646</td>\n",
       "      <td>0.3776</td>\n",
       "      <td>6.281713</td>\n",
       "      <td>-0.068129</td>\n",
       "      <td>0.3776</td>\n",
       "      <td>-0.001549</td>\n",
       "      <td>-0.001472</td>\n",
       "    </tr>\n",
       "    <tr>\n",
       "      <th>400503305031</th>\n",
       "      <td>6.282069</td>\n",
       "      <td>0.001380</td>\n",
       "      <td>0.2881</td>\n",
       "      <td>6.282148</td>\n",
       "      <td>-0.068393</td>\n",
       "      <td>0.2881</td>\n",
       "      <td>-0.001116</td>\n",
       "      <td>-0.001037</td>\n",
       "    </tr>\n",
       "    <tr>\n",
       "      <th>400514683518</th>\n",
       "      <td>6.282482</td>\n",
       "      <td>-0.001271</td>\n",
       "      <td>0.3887</td>\n",
       "      <td>6.282569</td>\n",
       "      <td>-0.071043</td>\n",
       "      <td>0.3887</td>\n",
       "      <td>-0.000703</td>\n",
       "      <td>-0.000616</td>\n",
       "    </tr>\n",
       "    <tr>\n",
       "      <th>12367504</th>\n",
       "      <td>0.001339</td>\n",
       "      <td>-0.001535</td>\n",
       "      <td>0.3092</td>\n",
       "      <td>0.001253</td>\n",
       "      <td>-0.071309</td>\n",
       "      <td>0.3092</td>\n",
       "      <td>0.001339</td>\n",
       "      <td>0.001253</td>\n",
       "    </tr>\n",
       "    <tr>\n",
       "      <th>400517025761</th>\n",
       "      <td>6.282643</td>\n",
       "      <td>-0.000193</td>\n",
       "      <td>0.2183</td>\n",
       "      <td>6.282728</td>\n",
       "      <td>-0.069965</td>\n",
       "      <td>0.2183</td>\n",
       "      <td>-0.000542</td>\n",
       "      <td>-0.000457</td>\n",
       "    </tr>\n",
       "    <tr>\n",
       "      <th>400514177773</th>\n",
       "      <td>6.283006</td>\n",
       "      <td>-0.001114</td>\n",
       "      <td>0.3239</td>\n",
       "      <td>6.283094</td>\n",
       "      <td>-0.070885</td>\n",
       "      <td>0.3239</td>\n",
       "      <td>-0.000179</td>\n",
       "      <td>-0.000091</td>\n",
       "    </tr>\n",
       "    <tr>\n",
       "      <th>805093</th>\n",
       "      <td>0.001081</td>\n",
       "      <td>-0.001300</td>\n",
       "      <td>0.1353</td>\n",
       "      <td>0.000995</td>\n",
       "      <td>-0.071073</td>\n",
       "      <td>0.1353</td>\n",
       "      <td>0.001081</td>\n",
       "      <td>0.000995</td>\n",
       "    </tr>\n",
       "    <tr>\n",
       "      <th>400501826414</th>\n",
       "      <td>6.281444</td>\n",
       "      <td>0.001434</td>\n",
       "      <td>0.3942</td>\n",
       "      <td>6.281521</td>\n",
       "      <td>-0.068341</td>\n",
       "      <td>0.3942</td>\n",
       "      <td>-0.001741</td>\n",
       "      <td>-0.001664</td>\n",
       "    </tr>\n",
       "    <tr>\n",
       "      <th>7294091</th>\n",
       "      <td>0.001049</td>\n",
       "      <td>-0.000639</td>\n",
       "      <td>0.1973</td>\n",
       "      <td>0.000965</td>\n",
       "      <td>-0.070412</td>\n",
       "      <td>0.1973</td>\n",
       "      <td>0.001049</td>\n",
       "      <td>0.000965</td>\n",
       "    </tr>\n",
       "    <tr>\n",
       "      <th>1470013</th>\n",
       "      <td>0.001694</td>\n",
       "      <td>0.000232</td>\n",
       "      <td>0.1736</td>\n",
       "      <td>0.001614</td>\n",
       "      <td>-0.069543</td>\n",
       "      <td>0.1736</td>\n",
       "      <td>0.001694</td>\n",
       "      <td>0.001614</td>\n",
       "    </tr>\n",
       "    <tr>\n",
       "      <th>13677051</th>\n",
       "      <td>0.000192</td>\n",
       "      <td>0.000814</td>\n",
       "      <td>0.2456</td>\n",
       "      <td>0.000110</td>\n",
       "      <td>-0.068957</td>\n",
       "      <td>0.2456</td>\n",
       "      <td>0.000192</td>\n",
       "      <td>0.000110</td>\n",
       "    </tr>\n",
       "    <tr>\n",
       "      <th>17205231</th>\n",
       "      <td>0.001118</td>\n",
       "      <td>0.001606</td>\n",
       "      <td>0.2993</td>\n",
       "      <td>0.001040</td>\n",
       "      <td>-0.068167</td>\n",
       "      <td>0.2993</td>\n",
       "      <td>0.001118</td>\n",
       "      <td>0.001040</td>\n",
       "    </tr>\n",
       "    <tr>\n",
       "      <th>1291150</th>\n",
       "      <td>0.000244</td>\n",
       "      <td>-0.000490</td>\n",
       "      <td>0.2632</td>\n",
       "      <td>0.000158</td>\n",
       "      <td>-0.070262</td>\n",
       "      <td>0.2632</td>\n",
       "      <td>0.000244</td>\n",
       "      <td>0.000158</td>\n",
       "    </tr>\n",
       "    <tr>\n",
       "      <th>...</th>\n",
       "      <td>...</td>\n",
       "      <td>...</td>\n",
       "      <td>...</td>\n",
       "      <td>...</td>\n",
       "      <td>...</td>\n",
       "      <td>...</td>\n",
       "      <td>...</td>\n",
       "      <td>...</td>\n",
       "    </tr>\n",
       "    <tr>\n",
       "      <th>4669426</th>\n",
       "      <td>0.000750</td>\n",
       "      <td>-0.000343</td>\n",
       "      <td>0.2927</td>\n",
       "      <td>0.000665</td>\n",
       "      <td>-0.070116</td>\n",
       "      <td>0.2927</td>\n",
       "      <td>0.000750</td>\n",
       "      <td>0.000665</td>\n",
       "    </tr>\n",
       "    <tr>\n",
       "      <th>400510253947</th>\n",
       "      <td>6.281697</td>\n",
       "      <td>0.000015</td>\n",
       "      <td>0.3345</td>\n",
       "      <td>6.281778</td>\n",
       "      <td>-0.069759</td>\n",
       "      <td>0.3345</td>\n",
       "      <td>-0.001488</td>\n",
       "      <td>-0.001407</td>\n",
       "    </tr>\n",
       "    <tr>\n",
       "      <th>400512283543</th>\n",
       "      <td>6.281448</td>\n",
       "      <td>-0.001147</td>\n",
       "      <td>0.3707</td>\n",
       "      <td>6.281531</td>\n",
       "      <td>-0.070922</td>\n",
       "      <td>0.3707</td>\n",
       "      <td>-0.001737</td>\n",
       "      <td>-0.001654</td>\n",
       "    </tr>\n",
       "    <tr>\n",
       "      <th>6306443</th>\n",
       "      <td>0.001457</td>\n",
       "      <td>-0.001632</td>\n",
       "      <td>0.3741</td>\n",
       "      <td>0.001372</td>\n",
       "      <td>-0.071406</td>\n",
       "      <td>0.3741</td>\n",
       "      <td>0.001457</td>\n",
       "      <td>0.001372</td>\n",
       "    </tr>\n",
       "    <tr>\n",
       "      <th>8982474</th>\n",
       "      <td>0.000940</td>\n",
       "      <td>0.001601</td>\n",
       "      <td>0.2816</td>\n",
       "      <td>0.000861</td>\n",
       "      <td>-0.068172</td>\n",
       "      <td>0.2816</td>\n",
       "      <td>0.000940</td>\n",
       "      <td>0.000861</td>\n",
       "    </tr>\n",
       "    <tr>\n",
       "      <th>400500650767</th>\n",
       "      <td>6.281853</td>\n",
       "      <td>-0.000680</td>\n",
       "      <td>0.3586</td>\n",
       "      <td>6.281937</td>\n",
       "      <td>-0.070454</td>\n",
       "      <td>0.3586</td>\n",
       "      <td>-0.001332</td>\n",
       "      <td>-0.001248</td>\n",
       "    </tr>\n",
       "    <tr>\n",
       "      <th>400511642998</th>\n",
       "      <td>6.282189</td>\n",
       "      <td>0.001380</td>\n",
       "      <td>0.3428</td>\n",
       "      <td>6.282269</td>\n",
       "      <td>-0.068393</td>\n",
       "      <td>0.3428</td>\n",
       "      <td>-0.000996</td>\n",
       "      <td>-0.000916</td>\n",
       "    </tr>\n",
       "    <tr>\n",
       "      <th>400500655286</th>\n",
       "      <td>6.282116</td>\n",
       "      <td>-0.000624</td>\n",
       "      <td>0.3586</td>\n",
       "      <td>6.282200</td>\n",
       "      <td>-0.070397</td>\n",
       "      <td>0.3586</td>\n",
       "      <td>-0.001069</td>\n",
       "      <td>-0.000985</td>\n",
       "    </tr>\n",
       "    <tr>\n",
       "      <th>400503794108</th>\n",
       "      <td>6.281998</td>\n",
       "      <td>-0.000763</td>\n",
       "      <td>0.3581</td>\n",
       "      <td>6.282082</td>\n",
       "      <td>-0.070537</td>\n",
       "      <td>0.3581</td>\n",
       "      <td>-0.001187</td>\n",
       "      <td>-0.001103</td>\n",
       "    </tr>\n",
       "    <tr>\n",
       "      <th>1034467</th>\n",
       "      <td>0.000982</td>\n",
       "      <td>0.000702</td>\n",
       "      <td>0.3490</td>\n",
       "      <td>0.000901</td>\n",
       "      <td>-0.069071</td>\n",
       "      <td>0.3490</td>\n",
       "      <td>0.000982</td>\n",
       "      <td>0.000901</td>\n",
       "    </tr>\n",
       "    <tr>\n",
       "      <th>400505534523</th>\n",
       "      <td>6.281441</td>\n",
       "      <td>0.000427</td>\n",
       "      <td>0.2933</td>\n",
       "      <td>6.281521</td>\n",
       "      <td>-0.069347</td>\n",
       "      <td>0.2933</td>\n",
       "      <td>-0.001744</td>\n",
       "      <td>-0.001664</td>\n",
       "    </tr>\n",
       "    <tr>\n",
       "      <th>788652</th>\n",
       "      <td>0.001673</td>\n",
       "      <td>-0.001667</td>\n",
       "      <td>0.1628</td>\n",
       "      <td>0.001588</td>\n",
       "      <td>-0.071441</td>\n",
       "      <td>0.1628</td>\n",
       "      <td>0.001673</td>\n",
       "      <td>0.001588</td>\n",
       "    </tr>\n",
       "    <tr>\n",
       "      <th>467858</th>\n",
       "      <td>0.000188</td>\n",
       "      <td>0.001400</td>\n",
       "      <td>0.2883</td>\n",
       "      <td>0.000107</td>\n",
       "      <td>-0.068371</td>\n",
       "      <td>0.2883</td>\n",
       "      <td>0.000188</td>\n",
       "      <td>0.000107</td>\n",
       "    </tr>\n",
       "    <tr>\n",
       "      <th>8693010</th>\n",
       "      <td>0.000577</td>\n",
       "      <td>-0.000650</td>\n",
       "      <td>0.3052</td>\n",
       "      <td>0.000491</td>\n",
       "      <td>-0.070422</td>\n",
       "      <td>0.3052</td>\n",
       "      <td>0.000577</td>\n",
       "      <td>0.000491</td>\n",
       "    </tr>\n",
       "    <tr>\n",
       "      <th>8681313</th>\n",
       "      <td>0.001678</td>\n",
       "      <td>0.001096</td>\n",
       "      <td>0.3720</td>\n",
       "      <td>0.001600</td>\n",
       "      <td>-0.068679</td>\n",
       "      <td>0.3720</td>\n",
       "      <td>0.001678</td>\n",
       "      <td>0.001600</td>\n",
       "    </tr>\n",
       "    <tr>\n",
       "      <th>400500986198</th>\n",
       "      <td>6.282165</td>\n",
       "      <td>-0.000778</td>\n",
       "      <td>0.1989</td>\n",
       "      <td>6.282249</td>\n",
       "      <td>-0.070551</td>\n",
       "      <td>0.1989</td>\n",
       "      <td>-0.001020</td>\n",
       "      <td>-0.000936</td>\n",
       "    </tr>\n",
       "    <tr>\n",
       "      <th>400500288669</th>\n",
       "      <td>6.282138</td>\n",
       "      <td>-0.000594</td>\n",
       "      <td>0.3334</td>\n",
       "      <td>6.282222</td>\n",
       "      <td>-0.070367</td>\n",
       "      <td>0.3334</td>\n",
       "      <td>-0.001047</td>\n",
       "      <td>-0.000963</td>\n",
       "    </tr>\n",
       "    <tr>\n",
       "      <th>3763715</th>\n",
       "      <td>0.000934</td>\n",
       "      <td>-0.000825</td>\n",
       "      <td>0.3843</td>\n",
       "      <td>0.000849</td>\n",
       "      <td>-0.070598</td>\n",
       "      <td>0.3843</td>\n",
       "      <td>0.000934</td>\n",
       "      <td>0.000849</td>\n",
       "    </tr>\n",
       "    <tr>\n",
       "      <th>400502255916</th>\n",
       "      <td>6.281573</td>\n",
       "      <td>-0.000969</td>\n",
       "      <td>0.3258</td>\n",
       "      <td>6.281656</td>\n",
       "      <td>-0.070744</td>\n",
       "      <td>0.3258</td>\n",
       "      <td>-0.001612</td>\n",
       "      <td>-0.001529</td>\n",
       "    </tr>\n",
       "    <tr>\n",
       "      <th>400507293659</th>\n",
       "      <td>6.281980</td>\n",
       "      <td>0.001548</td>\n",
       "      <td>0.1946</td>\n",
       "      <td>6.282058</td>\n",
       "      <td>-0.068225</td>\n",
       "      <td>0.1946</td>\n",
       "      <td>-0.001205</td>\n",
       "      <td>-0.001127</td>\n",
       "    </tr>\n",
       "    <tr>\n",
       "      <th>400516355376</th>\n",
       "      <td>6.282712</td>\n",
       "      <td>-0.001569</td>\n",
       "      <td>0.3084</td>\n",
       "      <td>6.282800</td>\n",
       "      <td>-0.071341</td>\n",
       "      <td>0.3084</td>\n",
       "      <td>-0.000473</td>\n",
       "      <td>-0.000385</td>\n",
       "    </tr>\n",
       "    <tr>\n",
       "      <th>400503172257</th>\n",
       "      <td>6.282111</td>\n",
       "      <td>-0.001579</td>\n",
       "      <td>0.3544</td>\n",
       "      <td>6.282197</td>\n",
       "      <td>-0.071352</td>\n",
       "      <td>0.3544</td>\n",
       "      <td>-0.001074</td>\n",
       "      <td>-0.000988</td>\n",
       "    </tr>\n",
       "    <tr>\n",
       "      <th>400515350770</th>\n",
       "      <td>6.282301</td>\n",
       "      <td>0.000527</td>\n",
       "      <td>0.3213</td>\n",
       "      <td>6.282382</td>\n",
       "      <td>-0.069246</td>\n",
       "      <td>0.3213</td>\n",
       "      <td>-0.000884</td>\n",
       "      <td>-0.000803</td>\n",
       "    </tr>\n",
       "    <tr>\n",
       "      <th>9002171</th>\n",
       "      <td>0.000477</td>\n",
       "      <td>-0.001512</td>\n",
       "      <td>0.2396</td>\n",
       "      <td>0.000389</td>\n",
       "      <td>-0.071283</td>\n",
       "      <td>0.2396</td>\n",
       "      <td>0.000477</td>\n",
       "      <td>0.000389</td>\n",
       "    </tr>\n",
       "    <tr>\n",
       "      <th>400505532446</th>\n",
       "      <td>6.282026</td>\n",
       "      <td>0.001232</td>\n",
       "      <td>0.2934</td>\n",
       "      <td>6.282105</td>\n",
       "      <td>-0.068541</td>\n",
       "      <td>0.2934</td>\n",
       "      <td>-0.001159</td>\n",
       "      <td>-0.001080</td>\n",
       "    </tr>\n",
       "    <tr>\n",
       "      <th>400502645853</th>\n",
       "      <td>6.281504</td>\n",
       "      <td>-0.001049</td>\n",
       "      <td>0.3586</td>\n",
       "      <td>6.281587</td>\n",
       "      <td>-0.070823</td>\n",
       "      <td>0.3586</td>\n",
       "      <td>-0.001681</td>\n",
       "      <td>-0.001598</td>\n",
       "    </tr>\n",
       "    <tr>\n",
       "      <th>400500424182</th>\n",
       "      <td>6.281541</td>\n",
       "      <td>0.000689</td>\n",
       "      <td>0.3689</td>\n",
       "      <td>6.281620</td>\n",
       "      <td>-0.069086</td>\n",
       "      <td>0.3689</td>\n",
       "      <td>-0.001644</td>\n",
       "      <td>-0.001565</td>\n",
       "    </tr>\n",
       "    <tr>\n",
       "      <th>400507561607</th>\n",
       "      <td>6.282514</td>\n",
       "      <td>-0.001454</td>\n",
       "      <td>0.3073</td>\n",
       "      <td>6.282601</td>\n",
       "      <td>-0.071226</td>\n",
       "      <td>0.3073</td>\n",
       "      <td>-0.000671</td>\n",
       "      <td>-0.000584</td>\n",
       "    </tr>\n",
       "    <tr>\n",
       "      <th>400502657672</th>\n",
       "      <td>6.281681</td>\n",
       "      <td>0.001116</td>\n",
       "      <td>0.3732</td>\n",
       "      <td>6.281759</td>\n",
       "      <td>-0.068658</td>\n",
       "      <td>0.3732</td>\n",
       "      <td>-0.001504</td>\n",
       "      <td>-0.001426</td>\n",
       "    </tr>\n",
       "    <tr>\n",
       "      <th>7224035</th>\n",
       "      <td>0.001486</td>\n",
       "      <td>0.000957</td>\n",
       "      <td>0.1485</td>\n",
       "      <td>0.001407</td>\n",
       "      <td>-0.068818</td>\n",
       "      <td>0.1485</td>\n",
       "      <td>0.001486</td>\n",
       "      <td>0.001407</td>\n",
       "    </tr>\n",
       "  </tbody>\n",
       "</table>\n",
       "<p>100 rows × 8 columns</p>\n",
       "</div>"
      ],
      "text/plain": [
       "               raJ2000  decJ2000  redshift  raJ2000_1  decJ2000_1  redshift_1  \\\n",
       "id                                                                              \n",
       "400502732326  6.282782 -0.000168    0.0887   6.282866   -0.069939      0.0887   \n",
       "400501827140  6.282579 -0.000357    0.3695   6.282663   -0.070129      0.3695   \n",
       "400502760052  6.281785 -0.000054    0.2881   6.281867   -0.069828      0.2881   \n",
       "400506307884  6.281658 -0.001212    0.3502   6.281742   -0.070986      0.3502   \n",
       "400503968617  6.281785 -0.000893    0.2539   6.281869   -0.070666      0.2539   \n",
       "14177870      0.001154  0.001297    0.3122   0.001075   -0.068476      0.3122   \n",
       "3245632       0.000919 -0.000257    0.3330   0.000836   -0.070030      0.3330   \n",
       "400503318986  6.282899 -0.001134    0.2685   6.282986   -0.070905      0.2685   \n",
       "400501790506  6.282968  0.000220    0.1982   6.283052   -0.069552      0.1982   \n",
       "1273120       0.001089 -0.000633    0.0814   0.001005   -0.070406      0.0814   \n",
       "400500817391  6.283003  0.001564    0.3919   6.283084   -0.068207      0.3919   \n",
       "400507403780  6.282104 -0.000966    0.3588   6.282189   -0.070739      0.3588   \n",
       "400500180336  6.282768 -0.001014    0.3252   6.282855   -0.070785      0.3252   \n",
       "400510470993  6.282607 -0.001011    0.2491   6.282693   -0.070783      0.2491   \n",
       "400502199629  6.281931  0.001318    0.3488   6.282010   -0.068456      0.3488   \n",
       "400517317183  6.282990  0.000125    0.2684   6.283074   -0.069646      0.2684   \n",
       "400507295903  6.282093 -0.001637    0.1845   6.282180   -0.071410      0.1845   \n",
       "400500817943  6.281636  0.001646    0.3776   6.281713   -0.068129      0.3776   \n",
       "400503305031  6.282069  0.001380    0.2881   6.282148   -0.068393      0.2881   \n",
       "400514683518  6.282482 -0.001271    0.3887   6.282569   -0.071043      0.3887   \n",
       "12367504      0.001339 -0.001535    0.3092   0.001253   -0.071309      0.3092   \n",
       "400517025761  6.282643 -0.000193    0.2183   6.282728   -0.069965      0.2183   \n",
       "400514177773  6.283006 -0.001114    0.3239   6.283094   -0.070885      0.3239   \n",
       "805093        0.001081 -0.001300    0.1353   0.000995   -0.071073      0.1353   \n",
       "400501826414  6.281444  0.001434    0.3942   6.281521   -0.068341      0.3942   \n",
       "7294091       0.001049 -0.000639    0.1973   0.000965   -0.070412      0.1973   \n",
       "1470013       0.001694  0.000232    0.1736   0.001614   -0.069543      0.1736   \n",
       "13677051      0.000192  0.000814    0.2456   0.000110   -0.068957      0.2456   \n",
       "17205231      0.001118  0.001606    0.2993   0.001040   -0.068167      0.2993   \n",
       "1291150       0.000244 -0.000490    0.2632   0.000158   -0.070262      0.2632   \n",
       "...                ...       ...       ...        ...         ...         ...   \n",
       "4669426       0.000750 -0.000343    0.2927   0.000665   -0.070116      0.2927   \n",
       "400510253947  6.281697  0.000015    0.3345   6.281778   -0.069759      0.3345   \n",
       "400512283543  6.281448 -0.001147    0.3707   6.281531   -0.070922      0.3707   \n",
       "6306443       0.001457 -0.001632    0.3741   0.001372   -0.071406      0.3741   \n",
       "8982474       0.000940  0.001601    0.2816   0.000861   -0.068172      0.2816   \n",
       "400500650767  6.281853 -0.000680    0.3586   6.281937   -0.070454      0.3586   \n",
       "400511642998  6.282189  0.001380    0.3428   6.282269   -0.068393      0.3428   \n",
       "400500655286  6.282116 -0.000624    0.3586   6.282200   -0.070397      0.3586   \n",
       "400503794108  6.281998 -0.000763    0.3581   6.282082   -0.070537      0.3581   \n",
       "1034467       0.000982  0.000702    0.3490   0.000901   -0.069071      0.3490   \n",
       "400505534523  6.281441  0.000427    0.2933   6.281521   -0.069347      0.2933   \n",
       "788652        0.001673 -0.001667    0.1628   0.001588   -0.071441      0.1628   \n",
       "467858        0.000188  0.001400    0.2883   0.000107   -0.068371      0.2883   \n",
       "8693010       0.000577 -0.000650    0.3052   0.000491   -0.070422      0.3052   \n",
       "8681313       0.001678  0.001096    0.3720   0.001600   -0.068679      0.3720   \n",
       "400500986198  6.282165 -0.000778    0.1989   6.282249   -0.070551      0.1989   \n",
       "400500288669  6.282138 -0.000594    0.3334   6.282222   -0.070367      0.3334   \n",
       "3763715       0.000934 -0.000825    0.3843   0.000849   -0.070598      0.3843   \n",
       "400502255916  6.281573 -0.000969    0.3258   6.281656   -0.070744      0.3258   \n",
       "400507293659  6.281980  0.001548    0.1946   6.282058   -0.068225      0.1946   \n",
       "400516355376  6.282712 -0.001569    0.3084   6.282800   -0.071341      0.3084   \n",
       "400503172257  6.282111 -0.001579    0.3544   6.282197   -0.071352      0.3544   \n",
       "400515350770  6.282301  0.000527    0.3213   6.282382   -0.069246      0.3213   \n",
       "9002171       0.000477 -0.001512    0.2396   0.000389   -0.071283      0.2396   \n",
       "400505532446  6.282026  0.001232    0.2934   6.282105   -0.068541      0.2934   \n",
       "400502645853  6.281504 -0.001049    0.3586   6.281587   -0.070823      0.3586   \n",
       "400500424182  6.281541  0.000689    0.3689   6.281620   -0.069086      0.3689   \n",
       "400507561607  6.282514 -0.001454    0.3073   6.282601   -0.071226      0.3073   \n",
       "400502657672  6.281681  0.001116    0.3732   6.281759   -0.068658      0.3732   \n",
       "7224035       0.001486  0.000957    0.1485   0.001407   -0.068818      0.1485   \n",
       "\n",
       "              shiftedRA  shiftedRA_1  \n",
       "id                                    \n",
       "400502732326  -0.000403    -0.000319  \n",
       "400501827140  -0.000606    -0.000522  \n",
       "400502760052  -0.001400    -0.001318  \n",
       "400506307884  -0.001527    -0.001443  \n",
       "400503968617  -0.001400    -0.001316  \n",
       "14177870       0.001154     0.001075  \n",
       "3245632        0.000919     0.000836  \n",
       "400503318986  -0.000286    -0.000199  \n",
       "400501790506  -0.000217    -0.000133  \n",
       "1273120        0.001089     0.001005  \n",
       "400500817391  -0.000182    -0.000101  \n",
       "400507403780  -0.001081    -0.000996  \n",
       "400500180336  -0.000417    -0.000330  \n",
       "400510470993  -0.000578    -0.000492  \n",
       "400502199629  -0.001254    -0.001175  \n",
       "400517317183  -0.000195    -0.000111  \n",
       "400507295903  -0.001092    -0.001005  \n",
       "400500817943  -0.001549    -0.001472  \n",
       "400503305031  -0.001116    -0.001037  \n",
       "400514683518  -0.000703    -0.000616  \n",
       "12367504       0.001339     0.001253  \n",
       "400517025761  -0.000542    -0.000457  \n",
       "400514177773  -0.000179    -0.000091  \n",
       "805093         0.001081     0.000995  \n",
       "400501826414  -0.001741    -0.001664  \n",
       "7294091        0.001049     0.000965  \n",
       "1470013        0.001694     0.001614  \n",
       "13677051       0.000192     0.000110  \n",
       "17205231       0.001118     0.001040  \n",
       "1291150        0.000244     0.000158  \n",
       "...                 ...          ...  \n",
       "4669426        0.000750     0.000665  \n",
       "400510253947  -0.001488    -0.001407  \n",
       "400512283543  -0.001737    -0.001654  \n",
       "6306443        0.001457     0.001372  \n",
       "8982474        0.000940     0.000861  \n",
       "400500650767  -0.001332    -0.001248  \n",
       "400511642998  -0.000996    -0.000916  \n",
       "400500655286  -0.001069    -0.000985  \n",
       "400503794108  -0.001187    -0.001103  \n",
       "1034467        0.000982     0.000901  \n",
       "400505534523  -0.001744    -0.001664  \n",
       "788652         0.001673     0.001588  \n",
       "467858         0.000188     0.000107  \n",
       "8693010        0.000577     0.000491  \n",
       "8681313        0.001678     0.001600  \n",
       "400500986198  -0.001020    -0.000936  \n",
       "400500288669  -0.001047    -0.000963  \n",
       "3763715        0.000934     0.000849  \n",
       "400502255916  -0.001612    -0.001529  \n",
       "400507293659  -0.001205    -0.001127  \n",
       "400516355376  -0.000473    -0.000385  \n",
       "400503172257  -0.001074    -0.000988  \n",
       "400515350770  -0.000884    -0.000803  \n",
       "9002171        0.000477     0.000389  \n",
       "400505532446  -0.001159    -0.001080  \n",
       "400502645853  -0.001681    -0.001598  \n",
       "400500424182  -0.001644    -0.001565  \n",
       "400507561607  -0.000671    -0.000584  \n",
       "400502657672  -0.001504    -0.001426  \n",
       "7224035        0.001486     0.001407  \n",
       "\n",
       "[100 rows x 8 columns]"
      ]
     },
     "execution_count": 28,
     "metadata": {},
     "output_type": "execute_result"
    }
   ],
   "source": [
    "split_1"
   ]
  },
  {
   "cell_type": "code",
   "execution_count": 29,
   "metadata": {
    "collapsed": false
   },
   "outputs": [],
   "source": [
    "from lsst.sims.utils import haversine"
   ]
  },
  {
   "cell_type": "code",
   "execution_count": 30,
   "metadata": {
    "collapsed": false
   },
   "outputs": [],
   "source": [
    "df = pd.DataFrame({'ids_1': split_1.index.values,\n",
    "                   'ids_2': split_2.index.values,\n",
    "                   'raJ2000': split_1.raJ2000.values,\n",
    "                   'decJ2000':split_1.decJ2000.values,\n",
    "                   'raJ2000_2': split_2.raJ2000.values,\n",
    "                   'decJ2000_2':split_2.decJ2000.values,\n",
    "                   'angsep': haversine(split_1.decJ2000.values, split_1.raJ2000.values, split_2.decJ2000.values, \n",
    "                                       split_2.raJ2000.values),\n",
    "                  'angsep_1': haversine(split_1.decJ2000_1.values, split_1.raJ2000_1.values, split_2.decJ2000_1.values, \n",
    "                                       split_2.raJ2000_1.values)}\n",
    "                   #'angsep_1': haversine(split_1.decJ2000_1, split_1.raJ2000_1, split_2.decJ2000_1, split_2.raJ2000_1)}\n",
    "                  )"
   ]
  },
  {
   "cell_type": "code",
   "execution_count": 31,
   "metadata": {
    "collapsed": false
   },
   "outputs": [],
   "source": [
    "df['ratio'] = df.angsep_1/df.angsep "
   ]
  },
  {
   "cell_type": "code",
   "execution_count": 32,
   "metadata": {
    "collapsed": false
   },
   "outputs": [
    {
     "data": {
      "text/plain": [
       "count    100.000000\n",
       "mean       0.970262\n",
       "std        0.037197\n",
       "min        0.846058\n",
       "25%        0.946301\n",
       "50%        0.996094\n",
       "75%        1.000305\n",
       "max        1.004705\n",
       "Name: ratio, dtype: float64"
      ]
     },
     "execution_count": 32,
     "metadata": {},
     "output_type": "execute_result"
    }
   ],
   "source": [
    "df.ratio.describe()"
   ]
  },
  {
   "cell_type": "code",
   "execution_count": 33,
   "metadata": {
    "collapsed": false
   },
   "outputs": [
    {
     "data": {
      "text/plain": [
       "False"
      ]
     },
     "execution_count": 33,
     "metadata": {},
     "output_type": "execute_result"
    }
   ],
   "source": [
    "df.ratio.isnull().any()"
   ]
  },
  {
   "cell_type": "code",
   "execution_count": 34,
   "metadata": {
    "collapsed": false
   },
   "outputs": [
    {
     "data": {
      "text/plain": [
       "<matplotlib.text.Text at 0x119c4b0d0>"
      ]
     },
     "execution_count": 34,
     "metadata": {},
     "output_type": "execute_result"
    },
    {
     "data": {
      "image/png": "[encoded data removed]",
      "text/plain": [
       "<matplotlib.figure.Figure at 0x1164baf10>"
      ]
     },
     "metadata": {},
     "output_type": "display_data"
    }
   ],
   "source": [
    "fig, ax = plt.subplots()\n",
    "_ = ax.hist(df.ratio.values - 1., bins=np.arange(-0.25, 0.25, 0.005),normed=1,\n",
    "        histtype='step', alpha=1, lw=2., color='k')\n",
    "# sns.kdeplot(df.ratio - 1., ax=ax)\n",
    "ax.set_xlabel('fractional difference')\n",
    "ax.set_ylabel('PDF')"
   ]
  },
  {
   "cell_type": "code",
   "execution_count": 49,
   "metadata": {
    "collapsed": false
   },
   "outputs": [
    {
     "data": {
      "text/plain": [
       "[<matplotlib.lines.Line2D at 0x11c78eed0>]"
      ]
     },
     "execution_count": 49,
     "metadata": {},
     "output_type": "execute_result"
    },
    {
     "data": {
      "image/png": "[encoded data removed]",
      "text/plain": [
       "<matplotlib.figure.Figure at 0x11c507250>"
      ]
     },
     "metadata": {},
     "output_type": "display_data"
    }
   ],
   "source": [
    "fig, ax = plt.subplots(1, 3, sharey=True)\n",
    "ax[0].plot(df.angsep, df.ratio-1, '.')\n",
    "xticks = ax[0].get_xticklabels()\n",
    "_ = [xtick.set_rotation(90.) for xtick in xticks]\n",
    "ax[1].plot(df.decJ2000 - df.decJ2000_2, df.ratio - 1, '.')\n",
    "xticks = ax[1].get_xticklabels()\n",
    "_ = [xtick.set_rotation(90.) for xtick in xticks]\n",
    "ax[2].plot(df.raJ2000 - df.raJ2000_2, df.ratio - 1, '.r')"
   ]
  },
  {
   "cell_type": "markdown",
   "metadata": {},
   "source": [
    "## Scratch"
   ]
  },
  {
   "cell_type": "code",
   "execution_count": 50,
   "metadata": {
    "collapsed": false
   },
   "outputs": [
    {
     "data": {
      "text/plain": [
       "6.2830949999999994"
      ]
     },
     "execution_count": 50,
     "metadata": {},
     "output_type": "execute_result"
    }
   ],
   "source": [
    "df.raJ2000.max()"
   ]
  },
  {
   "cell_type": "code",
   "execution_count": 51,
   "metadata": {
    "collapsed": false
   },
   "outputs": [
    {
     "data": {
      "text/plain": [
       "0.0001649683"
      ]
     },
     "execution_count": 51,
     "metadata": {},
     "output_type": "execute_result"
    }
   ],
   "source": [
    "df.raJ2000.min()"
   ]
  },
  {
   "cell_type": "code",
   "execution_count": 52,
   "metadata": {
    "collapsed": false
   },
   "outputs": [
    {
     "data": {
      "text/plain": [
       "4.9064210000000001e-06"
      ]
     },
     "execution_count": 52,
     "metadata": {},
     "output_type": "execute_result"
    }
   ],
   "source": [
    "gTile1_df.raJ2000_1.min()"
   ]
  },
  {
   "cell_type": "code",
   "execution_count": 53,
   "metadata": {
    "collapsed": false
   },
   "outputs": [
    {
     "data": {
      "text/plain": [
       "6.2831849999999996"
      ]
     },
     "execution_count": 53,
     "metadata": {},
     "output_type": "execute_result"
    }
   ],
   "source": [
    "gTile1_df.raJ2000_1.max()"
   ]
  },
  {
   "cell_type": "code",
   "execution_count": 54,
   "metadata": {
    "collapsed": false
   },
   "outputs": [
    {
     "data": {
      "text/plain": [
       "2.492506e-06"
      ]
     },
     "execution_count": 54,
     "metadata": {},
     "output_type": "execute_result"
    }
   ],
   "source": [
    "gBase_df.raJ2000.min()"
   ]
  },
  {
   "cell_type": "code",
   "execution_count": 56,
   "metadata": {
    "collapsed": false
   },
   "outputs": [
    {
     "data": {
      "text/plain": [
       "359.99992510412659"
      ]
     },
     "execution_count": 56,
     "metadata": {},
     "output_type": "execute_result"
    }
   ],
   "source": [
    "np.degrees(gBase_df.raJ2000.max())"
   ]
  },
  {
   "cell_type": "code",
   "execution_count": null,
   "metadata": {
    "collapsed": true
   },
   "outputs": [],
   "source": []
  }
 ],
 "metadata": {
  "kernelspec": {
   "display_name": "Python 2",
   "language": "python",
   "name": "python2"
  },
  "language_info": {
   "codemirror_mode": {
    "name": "ipython",
    "version": 2
   },
   "file_extension": ".py",
   "mimetype": "text/x-python",
   "name": "python",
   "nbconvert_exporter": "python",
   "pygments_lexer": "ipython2",
   "version": "2.7.11"
  }
 },
 "nbformat": 4,
 "nbformat_minor": 0
}
