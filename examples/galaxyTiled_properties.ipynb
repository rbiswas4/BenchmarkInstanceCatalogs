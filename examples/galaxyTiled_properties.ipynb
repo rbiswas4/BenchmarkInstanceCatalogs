{
 "cells": [
  {
   "cell_type": "markdown",
   "metadata": {},
   "source": [
    "## Setup"
   ]
  },
  {
   "cell_type": "code",
   "execution_count": 1,
   "metadata": {
    "collapsed": true
   },
   "outputs": [],
   "source": [
    "from __future__ import division, print_function, absolute_import"
   ]
  },
  {
   "cell_type": "code",
   "execution_count": 2,
   "metadata": {
    "collapsed": true
   },
   "outputs": [],
   "source": [
    "import numpy as np\n",
    "import pandas as pd"
   ]
  },
  {
   "cell_type": "code",
   "execution_count": 3,
   "metadata": {
    "collapsed": false
   },
   "outputs": [
    {
     "name": "stderr",
     "output_type": "stream",
     "text": [
      "/usr/local/manual/anaconda/lib/python2.7/site-packages/matplotlib/__init__.py:872: UserWarning: axes.color_cycle is deprecated and replaced with axes.prop_cycle; please use the latter.\n",
      "  warnings.warn(self.msg_depr % (key, alt_key))\n"
     ]
    }
   ],
   "source": [
    "%matplotlib inline\n",
    "import matplotlib.pyplot as plt\n",
    "from matplotlib.patches import Polygon\n",
    "import seaborn as sns\n",
    "sns.set()"
   ]
  },
  {
   "cell_type": "code",
   "execution_count": 4,
   "metadata": {
    "collapsed": false
   },
   "outputs": [
    {
     "name": "stderr",
     "output_type": "stream",
     "text": [
      "/Users/rbiswas/src/LSST/sims_catalogs_generation/python/lsst/sims/catalogs/generation/db/dbConnection.py:438: UserWarning: Duplicate object type id 25 specified: \n",
      "Output object ids may not be unique.\n",
      "This may not be a problem if you do not want globally unique id values\n",
      "  'want globally unique id values')\n",
      "/Users/rbiswas/src/LSST/sims_catalogs_generation/python/lsst/sims/catalogs/generation/db/dbConnection.py:438: UserWarning: Duplicate object type id 40 specified: \n",
      "Output object ids may not be unique.\n",
      "This may not be a problem if you do not want globally unique id values\n",
      "  'want globally unique id values')\n"
     ]
    }
   ],
   "source": [
    "from lsst.sims.catalogs.measures.instance import InstanceCatalog\n",
    "import lsst.sims.catUtils.baseCatalogModels as bcm\n",
    "from lsst.sims.catalogs.generation.db import CatalogDBObject, DBObject\n",
    "from lsst.sims.catUtils.baseCatalogModels.GalaxyModels import GalaxyTileObj, GalaxyObj\n",
    "from lsst.sims.utils import ObservationMetaData"
   ]
  },
  {
   "cell_type": "markdown",
   "metadata": {},
   "source": [
    "## Catalogs"
   ]
  },
  {
   "cell_type": "code",
   "execution_count": 5,
   "metadata": {
    "collapsed": true
   },
   "outputs": [],
   "source": [
    "observerMetaData = ObservationMetaData(boundType='box',\n",
    "                                  pointingRA=4.,\n",
    "                                  pointingDec=0.,\n",
    "                                  boundLength=0.1)"
   ]
  },
  {
   "cell_type": "code",
   "execution_count": 6,
   "metadata": {
    "collapsed": true
   },
   "outputs": [],
   "source": [
    "observerMetaData_1 = ObservationMetaData(boundType='box',\n",
    "                                  pointingRA=4.,\n",
    "                                  pointingDec=-4.,\n",
    "                                  boundLength=0.1)"
   ]
  },
  {
   "cell_type": "code",
   "execution_count": 7,
   "metadata": {
    "collapsed": true
   },
   "outputs": [],
   "source": [
    "class galCopy(InstanceCatalog):\n",
    "    column_outputs = ['galtileid', 'raJ2000', 'decJ2000', 'redshift', 'mass_stellar', 'absmag_r_total']#, 'a_d', 'b_d', 'pa_disk', 'mass_stellar', 'absmag_r_total']\n",
    "    override_formats = {'raJ2000': '%8e', 'decJ2000': '%8e', 'a_d': '%8e', 'b_d': '%8e', 'pa_disk': '%8e', \n",
    "                        'mass_stellar': '%8e', 'absmag_r_total': '%8e'}"
   ]
  },
  {
   "cell_type": "code",
   "execution_count": 8,
   "metadata": {
    "collapsed": true
   },
   "outputs": [],
   "source": [
    "def galIds(tileID, galTileID):\n",
    "    return galTileID - 100000000* tileID"
   ]
  },
  {
   "cell_type": "code",
   "execution_count": 9,
   "metadata": {
    "collapsed": false
   },
   "outputs": [
    {
     "name": "stderr",
     "output_type": "stream",
     "text": [
      "/usr/local/manual/anaconda/lib/python2.7/site-packages/sqlalchemy/dialects/mssql/base.py:1294: SAWarning: Did not recognize type 'geography' of column 'geopoint'\n",
      "  return fn(*arg, **kw)\n"
     ]
    }
   ],
   "source": [
    "galaxyTiled = GalaxyTileObj()"
   ]
  },
  {
   "cell_type": "markdown",
   "metadata": {},
   "source": [
    "#### On Base Patch"
   ]
  },
  {
   "cell_type": "code",
   "execution_count": 10,
   "metadata": {
    "collapsed": false
   },
   "outputs": [
    {
     "name": "stderr",
     "output_type": "stream",
     "text": [
      "/usr/local/manual/anaconda/lib/python2.7/site-packages/ipykernel/__main__.py:4: ParserWarning: Falling back to the 'python' engine because the 'c' engine does not support regex separators; you can avoid this warning by specifying engine='python'.\n"
     ]
    },
    {
     "data": {
      "text/html": [
       "<div>\n",
       "<table border=\"1\" class=\"dataframe\">\n",
       "  <thead>\n",
       "    <tr style=\"text-align: right;\">\n",
       "      <th></th>\n",
       "      <th>raJ2000</th>\n",
       "      <th>decJ2000</th>\n",
       "      <th>redshift</th>\n",
       "      <th>mass_stellar</th>\n",
       "      <th>absmag_r_total</th>\n",
       "    </tr>\n",
       "    <tr>\n",
       "      <th>galtileid</th>\n",
       "      <th></th>\n",
       "      <th></th>\n",
       "      <th></th>\n",
       "      <th></th>\n",
       "      <th></th>\n",
       "    </tr>\n",
       "  </thead>\n",
       "  <tbody>\n",
       "    <tr>\n",
       "      <th>2213505178</th>\n",
       "      <td>0.068678</td>\n",
       "      <td>-0.000148</td>\n",
       "      <td>0.3579</td>\n",
       "      <td>0.001553</td>\n",
       "      <td>-14.28651</td>\n",
       "    </tr>\n",
       "    <tr>\n",
       "      <th>2204505754</th>\n",
       "      <td>0.068774</td>\n",
       "      <td>-0.000026</td>\n",
       "      <td>0.3579</td>\n",
       "      <td>0.013143</td>\n",
       "      <td>-16.26211</td>\n",
       "    </tr>\n",
       "    <tr>\n",
       "      <th>2200035427</th>\n",
       "      <td>0.068710</td>\n",
       "      <td>-0.000695</td>\n",
       "      <td>0.3586</td>\n",
       "      <td>6.872705</td>\n",
       "      <td>-22.26235</td>\n",
       "    </tr>\n",
       "    <tr>\n",
       "      <th>2200424225</th>\n",
       "      <td>0.068674</td>\n",
       "      <td>-0.000686</td>\n",
       "      <td>0.3585</td>\n",
       "      <td>0.630557</td>\n",
       "      <td>-19.69914</td>\n",
       "    </tr>\n",
       "    <tr>\n",
       "      <th>2201228260</th>\n",
       "      <td>0.068698</td>\n",
       "      <td>-0.000694</td>\n",
       "      <td>0.3584</td>\n",
       "      <td>0.076684</td>\n",
       "      <td>-18.09178</td>\n",
       "    </tr>\n",
       "  </tbody>\n",
       "</table>\n",
       "</div>"
      ],
      "text/plain": [
       "             raJ2000  decJ2000  redshift  mass_stellar  absmag_r_total\n",
       "galtileid                                                             \n",
       "2213505178  0.068678 -0.000148    0.3579      0.001553       -14.28651\n",
       "2204505754  0.068774 -0.000026    0.3579      0.013143       -16.26211\n",
       "2200035427  0.068710 -0.000695    0.3586      6.872705       -22.26235\n",
       "2200424225  0.068674 -0.000686    0.3585      0.630557       -19.69914\n",
       "2201228260  0.068698 -0.000694    0.3584      0.076684       -18.09178"
      ]
     },
     "execution_count": 10,
     "metadata": {},
     "output_type": "execute_result"
    }
   ],
   "source": [
    "constr='redshift < 0.4'\n",
    "gBase = galCopy(galaxyTiled, obs_metadata=observerMetaData, constraint=constr)\n",
    "gBase.write_catalog('gBase.csv')\n",
    "gBase_df  = pd.read_csv('gBase.csv', delimiter=', ',index_col='#galtileid')\n",
    "gBase_df.index.name = 'galtileid'\n",
    "gBase_df.head()"
   ]
  },
  {
   "cell_type": "code",
   "execution_count": 11,
   "metadata": {
    "collapsed": false
   },
   "outputs": [
    {
     "data": {
      "text/html": [
       "<div>\n",
       "<table border=\"1\" class=\"dataframe\">\n",
       "  <thead>\n",
       "    <tr style=\"text-align: right;\">\n",
       "      <th></th>\n",
       "      <th>raJ2000</th>\n",
       "      <th>decJ2000</th>\n",
       "      <th>redshift</th>\n",
       "      <th>mass_stellar</th>\n",
       "      <th>absmag_r_total</th>\n",
       "    </tr>\n",
       "    <tr>\n",
       "      <th>id</th>\n",
       "      <th></th>\n",
       "      <th></th>\n",
       "      <th></th>\n",
       "      <th></th>\n",
       "      <th></th>\n",
       "    </tr>\n",
       "  </thead>\n",
       "  <tbody>\n",
       "    <tr>\n",
       "      <th>13505178</th>\n",
       "      <td>0.068678</td>\n",
       "      <td>-0.000148</td>\n",
       "      <td>0.3579</td>\n",
       "      <td>0.001553</td>\n",
       "      <td>-14.28651</td>\n",
       "    </tr>\n",
       "    <tr>\n",
       "      <th>4505754</th>\n",
       "      <td>0.068774</td>\n",
       "      <td>-0.000026</td>\n",
       "      <td>0.3579</td>\n",
       "      <td>0.013143</td>\n",
       "      <td>-16.26211</td>\n",
       "    </tr>\n",
       "    <tr>\n",
       "      <th>35427</th>\n",
       "      <td>0.068710</td>\n",
       "      <td>-0.000695</td>\n",
       "      <td>0.3586</td>\n",
       "      <td>6.872705</td>\n",
       "      <td>-22.26235</td>\n",
       "    </tr>\n",
       "    <tr>\n",
       "      <th>424225</th>\n",
       "      <td>0.068674</td>\n",
       "      <td>-0.000686</td>\n",
       "      <td>0.3585</td>\n",
       "      <td>0.630557</td>\n",
       "      <td>-19.69914</td>\n",
       "    </tr>\n",
       "    <tr>\n",
       "      <th>1228260</th>\n",
       "      <td>0.068698</td>\n",
       "      <td>-0.000694</td>\n",
       "      <td>0.3584</td>\n",
       "      <td>0.076684</td>\n",
       "      <td>-18.09178</td>\n",
       "    </tr>\n",
       "  </tbody>\n",
       "</table>\n",
       "</div>"
      ],
      "text/plain": [
       "           raJ2000  decJ2000  redshift  mass_stellar  absmag_r_total\n",
       "id                                                                  \n",
       "13505178  0.068678 -0.000148    0.3579      0.001553       -14.28651\n",
       "4505754   0.068774 -0.000026    0.3579      0.013143       -16.26211\n",
       "35427     0.068710 -0.000695    0.3586      6.872705       -22.26235\n",
       "424225    0.068674 -0.000686    0.3585      0.630557       -19.69914\n",
       "1228260   0.068698 -0.000694    0.3584      0.076684       -18.09178"
      ]
     },
     "execution_count": 11,
     "metadata": {},
     "output_type": "execute_result"
    }
   ],
   "source": [
    "gBase_df['id'] = galIds(22, gBase_df.index.values)\n",
    "gBase_df.set_index('id', inplace=True)\n",
    "gBase_df.head()"
   ]
  },
  {
   "cell_type": "markdown",
   "metadata": {},
   "source": [
    "#### On a Tile 4 degrees South"
   ]
  },
  {
   "cell_type": "code",
   "execution_count": 12,
   "metadata": {
    "collapsed": false
   },
   "outputs": [
    {
     "name": "stderr",
     "output_type": "stream",
     "text": [
      "/usr/local/manual/anaconda/lib/python2.7/site-packages/ipykernel/__main__.py:3: ParserWarning: Falling back to the 'python' engine because the 'c' engine does not support regex separators; you can avoid this warning by specifying engine='python'.\n",
      "  app.launch_new_instance()\n"
     ]
    },
    {
     "data": {
      "text/html": [
       "<div>\n",
       "<table border=\"1\" class=\"dataframe\">\n",
       "  <thead>\n",
       "    <tr style=\"text-align: right;\">\n",
       "      <th></th>\n",
       "      <th>raJ2000</th>\n",
       "      <th>decJ2000</th>\n",
       "      <th>redshift</th>\n",
       "      <th>mass_stellar</th>\n",
       "      <th>absmag_r_total</th>\n",
       "    </tr>\n",
       "    <tr>\n",
       "      <th>galtileid</th>\n",
       "      <th></th>\n",
       "      <th></th>\n",
       "      <th></th>\n",
       "      <th></th>\n",
       "      <th></th>\n",
       "    </tr>\n",
       "  </thead>\n",
       "  <tbody>\n",
       "    <tr>\n",
       "      <th>2113505178</th>\n",
       "      <td>0.068761</td>\n",
       "      <td>-0.069922</td>\n",
       "      <td>0.3579</td>\n",
       "      <td>0.001553</td>\n",
       "      <td>-14.28651</td>\n",
       "    </tr>\n",
       "    <tr>\n",
       "      <th>2104505754</th>\n",
       "      <td>0.068857</td>\n",
       "      <td>-0.069799</td>\n",
       "      <td>0.3579</td>\n",
       "      <td>0.013143</td>\n",
       "      <td>-16.26211</td>\n",
       "    </tr>\n",
       "    <tr>\n",
       "      <th>2100035427</th>\n",
       "      <td>0.068795</td>\n",
       "      <td>-0.070468</td>\n",
       "      <td>0.3586</td>\n",
       "      <td>6.872705</td>\n",
       "      <td>-22.26235</td>\n",
       "    </tr>\n",
       "    <tr>\n",
       "      <th>2100424225</th>\n",
       "      <td>0.068758</td>\n",
       "      <td>-0.070459</td>\n",
       "      <td>0.3585</td>\n",
       "      <td>0.630557</td>\n",
       "      <td>-19.69914</td>\n",
       "    </tr>\n",
       "    <tr>\n",
       "      <th>2101228260</th>\n",
       "      <td>0.068782</td>\n",
       "      <td>-0.070467</td>\n",
       "      <td>0.3584</td>\n",
       "      <td>0.076684</td>\n",
       "      <td>-18.09178</td>\n",
       "    </tr>\n",
       "  </tbody>\n",
       "</table>\n",
       "</div>"
      ],
      "text/plain": [
       "             raJ2000  decJ2000  redshift  mass_stellar  absmag_r_total\n",
       "galtileid                                                             \n",
       "2113505178  0.068761 -0.069922    0.3579      0.001553       -14.28651\n",
       "2104505754  0.068857 -0.069799    0.3579      0.013143       -16.26211\n",
       "2100035427  0.068795 -0.070468    0.3586      6.872705       -22.26235\n",
       "2100424225  0.068758 -0.070459    0.3585      0.630557       -19.69914\n",
       "2101228260  0.068782 -0.070467    0.3584      0.076684       -18.09178"
      ]
     },
     "execution_count": 12,
     "metadata": {},
     "output_type": "execute_result"
    }
   ],
   "source": [
    "gTile_1 = galCopy(galaxyTiled, obs_metadata=observerMetaData_1, constraint=constr)\n",
    "gTile_1.write_catalog('gTile_1.csv')\n",
    "gTile1_df  = pd.read_csv('gTile_1.csv', delimiter=', ', index_col='#galtileid')\n",
    "gTile1_df.index.name = 'galtileid'\n",
    "gTile1_df.head()"
   ]
  },
  {
   "cell_type": "code",
   "execution_count": 13,
   "metadata": {
    "collapsed": false
   },
   "outputs": [
    {
     "data": {
      "text/html": [
       "<div>\n",
       "<table border=\"1\" class=\"dataframe\">\n",
       "  <thead>\n",
       "    <tr style=\"text-align: right;\">\n",
       "      <th></th>\n",
       "      <th>raJ2000_1</th>\n",
       "      <th>decJ2000_1</th>\n",
       "      <th>redshift_1</th>\n",
       "      <th>mass_stellar_1</th>\n",
       "      <th>absmag_r_total_1</th>\n",
       "    </tr>\n",
       "    <tr>\n",
       "      <th>id</th>\n",
       "      <th></th>\n",
       "      <th></th>\n",
       "      <th></th>\n",
       "      <th></th>\n",
       "      <th></th>\n",
       "    </tr>\n",
       "  </thead>\n",
       "  <tbody>\n",
       "    <tr>\n",
       "      <th>13505178</th>\n",
       "      <td>0.068761</td>\n",
       "      <td>-0.069922</td>\n",
       "      <td>0.3579</td>\n",
       "      <td>0.001553</td>\n",
       "      <td>-14.28651</td>\n",
       "    </tr>\n",
       "    <tr>\n",
       "      <th>4505754</th>\n",
       "      <td>0.068857</td>\n",
       "      <td>-0.069799</td>\n",
       "      <td>0.3579</td>\n",
       "      <td>0.013143</td>\n",
       "      <td>-16.26211</td>\n",
       "    </tr>\n",
       "    <tr>\n",
       "      <th>35427</th>\n",
       "      <td>0.068795</td>\n",
       "      <td>-0.070468</td>\n",
       "      <td>0.3586</td>\n",
       "      <td>6.872705</td>\n",
       "      <td>-22.26235</td>\n",
       "    </tr>\n",
       "    <tr>\n",
       "      <th>424225</th>\n",
       "      <td>0.068758</td>\n",
       "      <td>-0.070459</td>\n",
       "      <td>0.3585</td>\n",
       "      <td>0.630557</td>\n",
       "      <td>-19.69914</td>\n",
       "    </tr>\n",
       "    <tr>\n",
       "      <th>1228260</th>\n",
       "      <td>0.068782</td>\n",
       "      <td>-0.070467</td>\n",
       "      <td>0.3584</td>\n",
       "      <td>0.076684</td>\n",
       "      <td>-18.09178</td>\n",
       "    </tr>\n",
       "  </tbody>\n",
       "</table>\n",
       "</div>"
      ],
      "text/plain": [
       "          raJ2000_1  decJ2000_1  redshift_1  mass_stellar_1  absmag_r_total_1\n",
       "id                                                                           \n",
       "13505178   0.068761   -0.069922      0.3579        0.001553         -14.28651\n",
       "4505754    0.068857   -0.069799      0.3579        0.013143         -16.26211\n",
       "35427      0.068795   -0.070468      0.3586        6.872705         -22.26235\n",
       "424225     0.068758   -0.070459      0.3585        0.630557         -19.69914\n",
       "1228260    0.068782   -0.070467      0.3584        0.076684         -18.09178"
      ]
     },
     "execution_count": 13,
     "metadata": {},
     "output_type": "execute_result"
    }
   ],
   "source": [
    "gTile1_df['id'] = galIds(21, gTile1_df.index.values)\n",
    "gTile1_df.set_index('id', inplace=True)\n",
    "gTile1_df.rename(columns={'raJ2000':'raJ2000_1', 'decJ2000':'decJ2000_1', 'redshift': 'redshift_1',\n",
    "                          'mass_stellar':'mass_stellar_1', 'absmag_r_total':'absmag_r_total_1'},\n",
    "                 inplace=True)\n",
    "gTile1_df.head()"
   ]
  },
  {
   "cell_type": "code",
   "execution_count": 14,
   "metadata": {
    "collapsed": true
   },
   "outputs": [],
   "source": [
    "merged =  pd.concat([gBase_df, gTile1_df], axis=1)"
   ]
  },
  {
   "cell_type": "code",
   "execution_count": 15,
   "metadata": {
    "collapsed": false
   },
   "outputs": [],
   "source": [
    "# Translate the ra values to around 0 for plotting ease\n",
    "merged['shiftedRA']  = np.where(merged.raJ2000 < 3., merged.raJ2000, merged.raJ2000 - 2.0*np.pi)\n",
    "merged['shiftedRA_1']  = np.where(merged.raJ2000_1 < 3., merged.raJ2000_1, merged.raJ2000_1 - 2.0*np.pi)"
   ]
  },
  {
   "cell_type": "code",
   "execution_count": 16,
   "metadata": {
    "collapsed": false
   },
   "outputs": [
    {
     "data": {
      "text/html": [
       "<div>\n",
       "<table border=\"1\" class=\"dataframe\">\n",
       "  <thead>\n",
       "    <tr style=\"text-align: right;\">\n",
       "      <th></th>\n",
       "      <th>raJ2000</th>\n",
       "      <th>decJ2000</th>\n",
       "      <th>redshift</th>\n",
       "      <th>mass_stellar</th>\n",
       "      <th>absmag_r_total</th>\n",
       "      <th>raJ2000_1</th>\n",
       "      <th>decJ2000_1</th>\n",
       "      <th>redshift_1</th>\n",
       "      <th>mass_stellar_1</th>\n",
       "      <th>absmag_r_total_1</th>\n",
       "      <th>shiftedRA</th>\n",
       "      <th>shiftedRA_1</th>\n",
       "    </tr>\n",
       "    <tr>\n",
       "      <th>id</th>\n",
       "      <th></th>\n",
       "      <th></th>\n",
       "      <th></th>\n",
       "      <th></th>\n",
       "      <th></th>\n",
       "      <th></th>\n",
       "      <th></th>\n",
       "      <th></th>\n",
       "      <th></th>\n",
       "      <th></th>\n",
       "      <th></th>\n",
       "      <th></th>\n",
       "    </tr>\n",
       "  </thead>\n",
       "  <tbody>\n",
       "    <tr>\n",
       "      <th>109</th>\n",
       "      <td>0.068192</td>\n",
       "      <td>0.001182</td>\n",
       "      <td>0.0453</td>\n",
       "      <td>1.502339</td>\n",
       "      <td>-20.97224</td>\n",
       "      <td>0.068270</td>\n",
       "      <td>-0.068593</td>\n",
       "      <td>0.0453</td>\n",
       "      <td>1.502339</td>\n",
       "      <td>-20.97224</td>\n",
       "      <td>0.068192</td>\n",
       "      <td>0.068270</td>\n",
       "    </tr>\n",
       "    <tr>\n",
       "      <th>3872</th>\n",
       "      <td>0.068216</td>\n",
       "      <td>0.000852</td>\n",
       "      <td>0.1426</td>\n",
       "      <td>5.148306</td>\n",
       "      <td>-21.93346</td>\n",
       "      <td>0.068295</td>\n",
       "      <td>-0.068922</td>\n",
       "      <td>0.1426</td>\n",
       "      <td>5.148306</td>\n",
       "      <td>-21.93346</td>\n",
       "      <td>0.068216</td>\n",
       "      <td>0.068295</td>\n",
       "    </tr>\n",
       "    <tr>\n",
       "      <th>4730</th>\n",
       "      <td>0.069507</td>\n",
       "      <td>-0.001674</td>\n",
       "      <td>0.3248</td>\n",
       "      <td>7.430973</td>\n",
       "      <td>-22.84957</td>\n",
       "      <td>0.069595</td>\n",
       "      <td>-0.071446</td>\n",
       "      <td>0.3248</td>\n",
       "      <td>7.430973</td>\n",
       "      <td>-22.84957</td>\n",
       "      <td>0.069507</td>\n",
       "      <td>0.069595</td>\n",
       "    </tr>\n",
       "    <tr>\n",
       "      <th>4967</th>\n",
       "      <td>0.069044</td>\n",
       "      <td>-0.001132</td>\n",
       "      <td>0.3247</td>\n",
       "      <td>2.978661</td>\n",
       "      <td>-22.57799</td>\n",
       "      <td>0.069130</td>\n",
       "      <td>-0.070904</td>\n",
       "      <td>0.3247</td>\n",
       "      <td>2.978661</td>\n",
       "      <td>-22.57799</td>\n",
       "      <td>0.069044</td>\n",
       "      <td>0.069130</td>\n",
       "    </tr>\n",
       "    <tr>\n",
       "      <th>5141</th>\n",
       "      <td>0.068321</td>\n",
       "      <td>-0.000491</td>\n",
       "      <td>0.3334</td>\n",
       "      <td>2.842540</td>\n",
       "      <td>-22.87033</td>\n",
       "      <td>0.068403</td>\n",
       "      <td>-0.070266</td>\n",
       "      <td>0.3334</td>\n",
       "      <td>2.842540</td>\n",
       "      <td>-22.87033</td>\n",
       "      <td>0.068321</td>\n",
       "      <td>0.068403</td>\n",
       "    </tr>\n",
       "  </tbody>\n",
       "</table>\n",
       "</div>"
      ],
      "text/plain": [
       "       raJ2000  decJ2000  redshift  mass_stellar  absmag_r_total  raJ2000_1  \\\n",
       "id                                                                            \n",
       "109   0.068192  0.001182    0.0453      1.502339       -20.97224   0.068270   \n",
       "3872  0.068216  0.000852    0.1426      5.148306       -21.93346   0.068295   \n",
       "4730  0.069507 -0.001674    0.3248      7.430973       -22.84957   0.069595   \n",
       "4967  0.069044 -0.001132    0.3247      2.978661       -22.57799   0.069130   \n",
       "5141  0.068321 -0.000491    0.3334      2.842540       -22.87033   0.068403   \n",
       "\n",
       "      decJ2000_1  redshift_1  mass_stellar_1  absmag_r_total_1  shiftedRA  \\\n",
       "id                                                                          \n",
       "109    -0.068593      0.0453        1.502339         -20.97224   0.068192   \n",
       "3872   -0.068922      0.1426        5.148306         -21.93346   0.068216   \n",
       "4730   -0.071446      0.3248        7.430973         -22.84957   0.069507   \n",
       "4967   -0.070904      0.3247        2.978661         -22.57799   0.069044   \n",
       "5141   -0.070266      0.3334        2.842540         -22.87033   0.068321   \n",
       "\n",
       "      shiftedRA_1  \n",
       "id                 \n",
       "109      0.068270  \n",
       "3872     0.068295  \n",
       "4730     0.069595  \n",
       "4967     0.069130  \n",
       "5141     0.068403  "
      ]
     },
     "execution_count": 16,
     "metadata": {},
     "output_type": "execute_result"
    }
   ],
   "source": [
    "merged.head()"
   ]
  },
  {
   "cell_type": "code",
   "execution_count": 17,
   "metadata": {
    "collapsed": true
   },
   "outputs": [],
   "source": [
    "uncommon = merged[merged.isnull().any(axis=1)].copy()"
   ]
  },
  {
   "cell_type": "code",
   "execution_count": 18,
   "metadata": {
    "collapsed": false
   },
   "outputs": [
    {
     "data": {
      "text/plain": [
       "<matplotlib.collections.PathCollection at 0x1164a0ad0>"
      ]
     },
     "execution_count": 18,
     "metadata": {},
     "output_type": "execute_result"
    },
    {
     "data": {
      "image/png": "[encoded data removed]",
      "text/plain": [
       "<matplotlib.figure.Figure at 0x11633fc10>"
      ]
     },
     "metadata": {},
     "output_type": "display_data"
    }
   ],
   "source": [
    "fig, ax = plt.subplots(2, 1, figsize=(6, 12), sharex=True)\n",
    "ax[0].plot(merged.raJ2000, merged.decJ2000, 'y.')\n",
    "ax[0].scatter(uncommon.raJ2000, uncommon.decJ2000, color='b')\n",
    "\n",
    "ax[1].plot(merged.raJ2000_1, merged.decJ2000_1, 'y.')\n",
    "ax[1].scatter(uncommon.raJ2000_1, uncommon.decJ2000_1, color='r')\n",
    "\n",
    "\n"
   ]
  },
  {
   "cell_type": "code",
   "execution_count": 19,
   "metadata": {
    "collapsed": false
   },
   "outputs": [
    {
     "data": {
      "text/plain": [
       "<matplotlib.collections.PathCollection at 0x1029d13d0>"
      ]
     },
     "execution_count": 19,
     "metadata": {},
     "output_type": "execute_result"
    },
    {
     "data": {
      "image/png": "[encoded data removed]",
      "text/plain": [
       "<matplotlib.figure.Figure at 0x10a3aec90>"
      ]
     },
     "metadata": {},
     "output_type": "display_data"
    }
   ],
   "source": [
    "fig, ax = plt.subplots(2, 1, figsize=(6, 12), sharex=True)\n",
    "ax[0].plot(merged.shiftedRA, merged.decJ2000, 'y.')\n",
    "ax[0].scatter(uncommon.shiftedRA, uncommon.decJ2000, color='b')\n",
    "\n",
    "ax[1].plot(merged.shiftedRA_1, merged.decJ2000_1, 'y.')\n",
    "ax[1].scatter(uncommon.shiftedRA_1, uncommon.decJ2000_1, color='r')\n",
    "\n"
   ]
  },
  {
   "cell_type": "code",
   "execution_count": 20,
   "metadata": {
    "collapsed": false
   },
   "outputs": [
    {
     "name": "stdout",
     "output_type": "stream",
     "text": [
      "143.0 2228.0\n"
     ]
    }
   ],
   "source": [
    "print(len(uncommon)/2., (len(gBase_df) + len(gTile1_df) )/2.)"
   ]
  },
  {
   "cell_type": "code",
   "execution_count": 21,
   "metadata": {
    "collapsed": false
   },
   "outputs": [
    {
     "data": {
      "text/plain": [
       "47.201694884823787"
      ]
     },
     "execution_count": 21,
     "metadata": {},
     "output_type": "execute_result"
    }
   ],
   "source": [
    "np.sqrt(2228.)"
   ]
  },
  {
   "cell_type": "code",
   "execution_count": 22,
   "metadata": {
    "collapsed": false
   },
   "outputs": [
    {
     "data": {
      "text/plain": [
       "134"
      ]
     },
     "execution_count": 22,
     "metadata": {},
     "output_type": "execute_result"
    }
   ],
   "source": [
    "len(merged[merged.shiftedRA_1.isnull()])"
   ]
  },
  {
   "cell_type": "code",
   "execution_count": 23,
   "metadata": {
    "collapsed": false
   },
   "outputs": [
    {
     "data": {
      "text/plain": [
       "152"
      ]
     },
     "execution_count": 23,
     "metadata": {},
     "output_type": "execute_result"
    }
   ],
   "source": [
    "len(merged[merged.shiftedRA.isnull()])"
   ]
  },
  {
   "cell_type": "code",
   "execution_count": 24,
   "metadata": {
    "collapsed": false
   },
   "outputs": [
    {
     "data": {
      "text/plain": [
       "2371"
      ]
     },
     "execution_count": 24,
     "metadata": {},
     "output_type": "execute_result"
    }
   ],
   "source": [
    "len(merged)"
   ]
  },
  {
   "cell_type": "markdown",
   "metadata": {},
   "source": [
    "## Tests Galaxies are correctly identified"
   ]
  },
  {
   "cell_type": "code",
   "execution_count": 25,
   "metadata": {
    "collapsed": false
   },
   "outputs": [],
   "source": [
    "common = merged[~merged.isnull().any(axis=1)]"
   ]
  },
  {
   "cell_type": "code",
   "execution_count": 26,
   "metadata": {
    "collapsed": false
   },
   "outputs": [
    {
     "data": {
      "text/plain": [
       "True"
      ]
     },
     "execution_count": 26,
     "metadata": {},
     "output_type": "execute_result"
    }
   ],
   "source": [
    "np.allclose(common.redshift, common.redshift_1)"
   ]
  },
  {
   "cell_type": "code",
   "execution_count": 27,
   "metadata": {
    "collapsed": false
   },
   "outputs": [
    {
     "data": {
      "text/plain": [
       "True"
      ]
     },
     "execution_count": 27,
     "metadata": {},
     "output_type": "execute_result"
    }
   ],
   "source": [
    "np.allclose(common.mass_stellar, common.mass_stellar_1)"
   ]
  },
  {
   "cell_type": "code",
   "execution_count": 28,
   "metadata": {
    "collapsed": false
   },
   "outputs": [
    {
     "data": {
      "text/plain": [
       "True"
      ]
     },
     "execution_count": 28,
     "metadata": {},
     "output_type": "execute_result"
    }
   ],
   "source": [
    "np.allclose(common.absmag_r_total, common.absmag_r_total_1)"
   ]
  },
  {
   "cell_type": "code",
   "execution_count": 29,
   "metadata": {
    "collapsed": false
   },
   "outputs": [
    {
     "name": "stdout",
     "output_type": "stream",
     "text": [
      "2085\n"
     ]
    }
   ],
   "source": [
    "print(len(common))"
   ]
  },
  {
   "cell_type": "markdown",
   "metadata": {},
   "source": [
    "## Angular Separations"
   ]
  },
  {
   "cell_type": "code",
   "execution_count": 30,
   "metadata": {
    "collapsed": false
   },
   "outputs": [
    {
     "data": {
      "text/html": [
       "<div>\n",
       "<table border=\"1\" class=\"dataframe\">\n",
       "  <thead>\n",
       "    <tr style=\"text-align: right;\">\n",
       "      <th></th>\n",
       "      <th>raJ2000</th>\n",
       "      <th>decJ2000</th>\n",
       "      <th>redshift</th>\n",
       "      <th>mass_stellar</th>\n",
       "      <th>absmag_r_total</th>\n",
       "      <th>raJ2000_1</th>\n",
       "      <th>decJ2000_1</th>\n",
       "      <th>redshift_1</th>\n",
       "      <th>mass_stellar_1</th>\n",
       "      <th>absmag_r_total_1</th>\n",
       "      <th>shiftedRA</th>\n",
       "      <th>shiftedRA_1</th>\n",
       "    </tr>\n",
       "    <tr>\n",
       "      <th>id</th>\n",
       "      <th></th>\n",
       "      <th></th>\n",
       "      <th></th>\n",
       "      <th></th>\n",
       "      <th></th>\n",
       "      <th></th>\n",
       "      <th></th>\n",
       "      <th></th>\n",
       "      <th></th>\n",
       "      <th></th>\n",
       "      <th></th>\n",
       "      <th></th>\n",
       "    </tr>\n",
       "  </thead>\n",
       "  <tbody>\n",
       "    <tr>\n",
       "      <th>109</th>\n",
       "      <td>0.068192</td>\n",
       "      <td>0.001182</td>\n",
       "      <td>0.0453</td>\n",
       "      <td>1.502339</td>\n",
       "      <td>-20.97224</td>\n",
       "      <td>0.068270</td>\n",
       "      <td>-0.068593</td>\n",
       "      <td>0.0453</td>\n",
       "      <td>1.502339</td>\n",
       "      <td>-20.97224</td>\n",
       "      <td>0.068192</td>\n",
       "      <td>0.068270</td>\n",
       "    </tr>\n",
       "    <tr>\n",
       "      <th>3872</th>\n",
       "      <td>0.068216</td>\n",
       "      <td>0.000852</td>\n",
       "      <td>0.1426</td>\n",
       "      <td>5.148306</td>\n",
       "      <td>-21.93346</td>\n",
       "      <td>0.068295</td>\n",
       "      <td>-0.068922</td>\n",
       "      <td>0.1426</td>\n",
       "      <td>5.148306</td>\n",
       "      <td>-21.93346</td>\n",
       "      <td>0.068216</td>\n",
       "      <td>0.068295</td>\n",
       "    </tr>\n",
       "    <tr>\n",
       "      <th>4730</th>\n",
       "      <td>0.069507</td>\n",
       "      <td>-0.001674</td>\n",
       "      <td>0.3248</td>\n",
       "      <td>7.430973</td>\n",
       "      <td>-22.84957</td>\n",
       "      <td>0.069595</td>\n",
       "      <td>-0.071446</td>\n",
       "      <td>0.3248</td>\n",
       "      <td>7.430973</td>\n",
       "      <td>-22.84957</td>\n",
       "      <td>0.069507</td>\n",
       "      <td>0.069595</td>\n",
       "    </tr>\n",
       "    <tr>\n",
       "      <th>4967</th>\n",
       "      <td>0.069044</td>\n",
       "      <td>-0.001132</td>\n",
       "      <td>0.3247</td>\n",
       "      <td>2.978661</td>\n",
       "      <td>-22.57799</td>\n",
       "      <td>0.069130</td>\n",
       "      <td>-0.070904</td>\n",
       "      <td>0.3247</td>\n",
       "      <td>2.978661</td>\n",
       "      <td>-22.57799</td>\n",
       "      <td>0.069044</td>\n",
       "      <td>0.069130</td>\n",
       "    </tr>\n",
       "    <tr>\n",
       "      <th>5141</th>\n",
       "      <td>0.068321</td>\n",
       "      <td>-0.000491</td>\n",
       "      <td>0.3334</td>\n",
       "      <td>2.842540</td>\n",
       "      <td>-22.87033</td>\n",
       "      <td>0.068403</td>\n",
       "      <td>-0.070266</td>\n",
       "      <td>0.3334</td>\n",
       "      <td>2.842540</td>\n",
       "      <td>-22.87033</td>\n",
       "      <td>0.068321</td>\n",
       "      <td>0.068403</td>\n",
       "    </tr>\n",
       "  </tbody>\n",
       "</table>\n",
       "</div>"
      ],
      "text/plain": [
       "       raJ2000  decJ2000  redshift  mass_stellar  absmag_r_total  raJ2000_1  \\\n",
       "id                                                                            \n",
       "109   0.068192  0.001182    0.0453      1.502339       -20.97224   0.068270   \n",
       "3872  0.068216  0.000852    0.1426      5.148306       -21.93346   0.068295   \n",
       "4730  0.069507 -0.001674    0.3248      7.430973       -22.84957   0.069595   \n",
       "4967  0.069044 -0.001132    0.3247      2.978661       -22.57799   0.069130   \n",
       "5141  0.068321 -0.000491    0.3334      2.842540       -22.87033   0.068403   \n",
       "\n",
       "      decJ2000_1  redshift_1  mass_stellar_1  absmag_r_total_1  shiftedRA  \\\n",
       "id                                                                          \n",
       "109    -0.068593      0.0453        1.502339         -20.97224   0.068192   \n",
       "3872   -0.068922      0.1426        5.148306         -21.93346   0.068216   \n",
       "4730   -0.071446      0.3248        7.430973         -22.84957   0.069507   \n",
       "4967   -0.070904      0.3247        2.978661         -22.57799   0.069044   \n",
       "5141   -0.070266      0.3334        2.842540         -22.87033   0.068321   \n",
       "\n",
       "      shiftedRA_1  \n",
       "id                 \n",
       "109      0.068270  \n",
       "3872     0.068295  \n",
       "4730     0.069595  \n",
       "4967     0.069130  \n",
       "5141     0.068403  "
      ]
     },
     "execution_count": 30,
     "metadata": {},
     "output_type": "execute_result"
    }
   ],
   "source": [
    "common.head()"
   ]
  },
  {
   "cell_type": "code",
   "execution_count": 31,
   "metadata": {
    "collapsed": false
   },
   "outputs": [],
   "source": [
    "NSelect = 1000\n",
    "sel = np.random.choice(common.index.values, NSelect*2, replace=False)"
   ]
  },
  {
   "cell_type": "code",
   "execution_count": 32,
   "metadata": {
    "collapsed": true
   },
   "outputs": [],
   "source": [
    "split_1 = common.ix[sel[:NSelect]]\n",
    "split_2 = common.ix[sel[NSelect:]]"
   ]
  },
  {
   "cell_type": "code",
   "execution_count": 33,
   "metadata": {
    "collapsed": false
   },
   "outputs": [
    {
     "name": "stdout",
     "output_type": "stream",
     "text": [
      "1000 1000\n"
     ]
    }
   ],
   "source": [
    "print(len(split_1), len(split_2))"
   ]
  },
  {
   "cell_type": "code",
   "execution_count": 34,
   "metadata": {
    "collapsed": false
   },
   "outputs": [
    {
     "data": {
      "text/html": [
       "<div>\n",
       "<table border=\"1\" class=\"dataframe\">\n",
       "  <thead>\n",
       "    <tr style=\"text-align: right;\">\n",
       "      <th></th>\n",
       "      <th>raJ2000</th>\n",
       "      <th>decJ2000</th>\n",
       "      <th>redshift</th>\n",
       "      <th>mass_stellar</th>\n",
       "      <th>absmag_r_total</th>\n",
       "      <th>raJ2000_1</th>\n",
       "      <th>decJ2000_1</th>\n",
       "      <th>redshift_1</th>\n",
       "      <th>mass_stellar_1</th>\n",
       "      <th>absmag_r_total_1</th>\n",
       "      <th>shiftedRA</th>\n",
       "      <th>shiftedRA_1</th>\n",
       "    </tr>\n",
       "    <tr>\n",
       "      <th>id</th>\n",
       "      <th></th>\n",
       "      <th></th>\n",
       "      <th></th>\n",
       "      <th></th>\n",
       "      <th></th>\n",
       "      <th></th>\n",
       "      <th></th>\n",
       "      <th></th>\n",
       "      <th></th>\n",
       "      <th></th>\n",
       "      <th></th>\n",
       "      <th></th>\n",
       "    </tr>\n",
       "  </thead>\n",
       "  <tbody>\n",
       "    <tr>\n",
       "      <th>17091820</th>\n",
       "      <td>0.069190</td>\n",
       "      <td>-0.000982</td>\n",
       "      <td>0.2672</td>\n",
       "      <td>0.000115</td>\n",
       "      <td>-12.60134</td>\n",
       "      <td>0.069276</td>\n",
       "      <td>-0.070754</td>\n",
       "      <td>0.2672</td>\n",
       "      <td>0.000115</td>\n",
       "      <td>-12.60134</td>\n",
       "      <td>0.069190</td>\n",
       "      <td>0.069276</td>\n",
       "    </tr>\n",
       "    <tr>\n",
       "      <th>4500972776</th>\n",
       "      <td>0.071364</td>\n",
       "      <td>-0.000739</td>\n",
       "      <td>0.1554</td>\n",
       "      <td>0.011406</td>\n",
       "      <td>-16.05485</td>\n",
       "      <td>0.071281</td>\n",
       "      <td>-0.070514</td>\n",
       "      <td>0.1554</td>\n",
       "      <td>0.011406</td>\n",
       "      <td>-16.05485</td>\n",
       "      <td>0.071364</td>\n",
       "      <td>0.071281</td>\n",
       "    </tr>\n",
       "    <tr>\n",
       "      <th>4503936790</th>\n",
       "      <td>0.070202</td>\n",
       "      <td>-0.001564</td>\n",
       "      <td>0.2826</td>\n",
       "      <td>0.012869</td>\n",
       "      <td>-15.71839</td>\n",
       "      <td>0.070114</td>\n",
       "      <td>-0.071335</td>\n",
       "      <td>0.2826</td>\n",
       "      <td>0.012869</td>\n",
       "      <td>-15.71839</td>\n",
       "      <td>0.070202</td>\n",
       "      <td>0.070114</td>\n",
       "    </tr>\n",
       "    <tr>\n",
       "      <th>659098</th>\n",
       "      <td>0.068192</td>\n",
       "      <td>0.000178</td>\n",
       "      <td>0.3746</td>\n",
       "      <td>0.133107</td>\n",
       "      <td>-19.13546</td>\n",
       "      <td>0.068273</td>\n",
       "      <td>-0.069596</td>\n",
       "      <td>0.3746</td>\n",
       "      <td>0.133107</td>\n",
       "      <td>-19.13546</td>\n",
       "      <td>0.068192</td>\n",
       "      <td>0.068273</td>\n",
       "    </tr>\n",
       "    <tr>\n",
       "      <th>4515947541</th>\n",
       "      <td>0.070130</td>\n",
       "      <td>-0.001655</td>\n",
       "      <td>0.2687</td>\n",
       "      <td>0.000170</td>\n",
       "      <td>-12.91985</td>\n",
       "      <td>0.070042</td>\n",
       "      <td>-0.071427</td>\n",
       "      <td>0.2687</td>\n",
       "      <td>0.000170</td>\n",
       "      <td>-12.91985</td>\n",
       "      <td>0.070130</td>\n",
       "      <td>0.070042</td>\n",
       "    </tr>\n",
       "    <tr>\n",
       "      <th>11796575</th>\n",
       "      <td>0.068579</td>\n",
       "      <td>0.000019</td>\n",
       "      <td>0.2874</td>\n",
       "      <td>0.001148</td>\n",
       "      <td>-13.97896</td>\n",
       "      <td>0.068661</td>\n",
       "      <td>-0.069755</td>\n",
       "      <td>0.2874</td>\n",
       "      <td>0.001148</td>\n",
       "      <td>-13.97896</td>\n",
       "      <td>0.068579</td>\n",
       "      <td>0.068661</td>\n",
       "    </tr>\n",
       "    <tr>\n",
       "      <th>4503806488</th>\n",
       "      <td>0.070414</td>\n",
       "      <td>-0.001235</td>\n",
       "      <td>0.3927</td>\n",
       "      <td>0.003363</td>\n",
       "      <td>-16.62415</td>\n",
       "      <td>0.070327</td>\n",
       "      <td>-0.071007</td>\n",
       "      <td>0.3927</td>\n",
       "      <td>0.003363</td>\n",
       "      <td>-16.62415</td>\n",
       "      <td>0.070414</td>\n",
       "      <td>0.070327</td>\n",
       "    </tr>\n",
       "    <tr>\n",
       "      <th>2646469</th>\n",
       "      <td>0.069716</td>\n",
       "      <td>-0.001616</td>\n",
       "      <td>0.3569</td>\n",
       "      <td>0.004056</td>\n",
       "      <td>-16.70559</td>\n",
       "      <td>0.069805</td>\n",
       "      <td>-0.071387</td>\n",
       "      <td>0.3569</td>\n",
       "      <td>0.004056</td>\n",
       "      <td>-16.70559</td>\n",
       "      <td>0.069716</td>\n",
       "      <td>0.069805</td>\n",
       "    </tr>\n",
       "    <tr>\n",
       "      <th>4500007552</th>\n",
       "      <td>0.071194</td>\n",
       "      <td>-0.000987</td>\n",
       "      <td>0.2408</td>\n",
       "      <td>3.249657</td>\n",
       "      <td>-21.89512</td>\n",
       "      <td>0.071110</td>\n",
       "      <td>-0.070761</td>\n",
       "      <td>0.2408</td>\n",
       "      <td>3.249657</td>\n",
       "      <td>-21.89512</td>\n",
       "      <td>0.071194</td>\n",
       "      <td>0.071110</td>\n",
       "    </tr>\n",
       "    <tr>\n",
       "      <th>1002390</th>\n",
       "      <td>0.068606</td>\n",
       "      <td>-0.000103</td>\n",
       "      <td>0.3549</td>\n",
       "      <td>0.032351</td>\n",
       "      <td>-18.05523</td>\n",
       "      <td>0.068688</td>\n",
       "      <td>-0.069877</td>\n",
       "      <td>0.3549</td>\n",
       "      <td>0.032351</td>\n",
       "      <td>-18.05523</td>\n",
       "      <td>0.068606</td>\n",
       "      <td>0.068688</td>\n",
       "    </tr>\n",
       "    <tr>\n",
       "      <th>4503145449</th>\n",
       "      <td>0.070203</td>\n",
       "      <td>0.001081</td>\n",
       "      <td>0.1276</td>\n",
       "      <td>0.001756</td>\n",
       "      <td>-14.19619</td>\n",
       "      <td>0.070122</td>\n",
       "      <td>-0.068691</td>\n",
       "      <td>0.1276</td>\n",
       "      <td>0.001756</td>\n",
       "      <td>-14.19619</td>\n",
       "      <td>0.070203</td>\n",
       "      <td>0.070122</td>\n",
       "    </tr>\n",
       "    <tr>\n",
       "      <th>4508664946</th>\n",
       "      <td>0.070426</td>\n",
       "      <td>-0.000366</td>\n",
       "      <td>0.3750</td>\n",
       "      <td>0.005881</td>\n",
       "      <td>-15.45323</td>\n",
       "      <td>0.070341</td>\n",
       "      <td>-0.070138</td>\n",
       "      <td>0.3750</td>\n",
       "      <td>0.005881</td>\n",
       "      <td>-15.45323</td>\n",
       "      <td>0.070426</td>\n",
       "      <td>0.070341</td>\n",
       "    </tr>\n",
       "    <tr>\n",
       "      <th>1860389</th>\n",
       "      <td>0.068212</td>\n",
       "      <td>0.000280</td>\n",
       "      <td>0.3193</td>\n",
       "      <td>0.023921</td>\n",
       "      <td>-17.01403</td>\n",
       "      <td>0.068293</td>\n",
       "      <td>-0.069494</td>\n",
       "      <td>0.3193</td>\n",
       "      <td>0.023921</td>\n",
       "      <td>-17.01403</td>\n",
       "      <td>0.068212</td>\n",
       "      <td>0.068293</td>\n",
       "    </tr>\n",
       "    <tr>\n",
       "      <th>8940585</th>\n",
       "      <td>0.069243</td>\n",
       "      <td>0.000981</td>\n",
       "      <td>0.2795</td>\n",
       "      <td>0.003066</td>\n",
       "      <td>-14.32899</td>\n",
       "      <td>0.069324</td>\n",
       "      <td>-0.068791</td>\n",
       "      <td>0.2795</td>\n",
       "      <td>0.003066</td>\n",
       "      <td>-14.32899</td>\n",
       "      <td>0.069243</td>\n",
       "      <td>0.069324</td>\n",
       "    </tr>\n",
       "    <tr>\n",
       "      <th>4510115842</th>\n",
       "      <td>0.070555</td>\n",
       "      <td>0.001688</td>\n",
       "      <td>0.3072</td>\n",
       "      <td>0.000324</td>\n",
       "      <td>-14.24117</td>\n",
       "      <td>0.070476</td>\n",
       "      <td>-0.068084</td>\n",
       "      <td>0.3072</td>\n",
       "      <td>0.000324</td>\n",
       "      <td>-14.24117</td>\n",
       "      <td>0.070555</td>\n",
       "      <td>0.070476</td>\n",
       "    </tr>\n",
       "    <tr>\n",
       "      <th>4512432192</th>\n",
       "      <td>0.070077</td>\n",
       "      <td>-0.000106</td>\n",
       "      <td>0.2703</td>\n",
       "      <td>0.001462</td>\n",
       "      <td>-13.72306</td>\n",
       "      <td>0.069992</td>\n",
       "      <td>-0.069877</td>\n",
       "      <td>0.2703</td>\n",
       "      <td>0.001462</td>\n",
       "      <td>-13.72306</td>\n",
       "      <td>0.070077</td>\n",
       "      <td>0.069992</td>\n",
       "    </tr>\n",
       "    <tr>\n",
       "      <th>1184740</th>\n",
       "      <td>0.068543</td>\n",
       "      <td>-0.001386</td>\n",
       "      <td>0.2091</td>\n",
       "      <td>0.005222</td>\n",
       "      <td>-16.61719</td>\n",
       "      <td>0.068628</td>\n",
       "      <td>-0.071159</td>\n",
       "      <td>0.2091</td>\n",
       "      <td>0.005222</td>\n",
       "      <td>-16.61719</td>\n",
       "      <td>0.068543</td>\n",
       "      <td>0.068628</td>\n",
       "    </tr>\n",
       "    <tr>\n",
       "      <th>11481703</th>\n",
       "      <td>0.069673</td>\n",
       "      <td>-0.000105</td>\n",
       "      <td>0.1964</td>\n",
       "      <td>0.000614</td>\n",
       "      <td>-13.16950</td>\n",
       "      <td>0.069758</td>\n",
       "      <td>-0.069875</td>\n",
       "      <td>0.1964</td>\n",
       "      <td>0.000614</td>\n",
       "      <td>-13.16950</td>\n",
       "      <td>0.069673</td>\n",
       "      <td>0.069758</td>\n",
       "    </tr>\n",
       "    <tr>\n",
       "      <th>6299579</th>\n",
       "      <td>0.068767</td>\n",
       "      <td>0.001157</td>\n",
       "      <td>0.3594</td>\n",
       "      <td>0.003746</td>\n",
       "      <td>-15.61224</td>\n",
       "      <td>0.068847</td>\n",
       "      <td>-0.068616</td>\n",
       "      <td>0.3594</td>\n",
       "      <td>0.003746</td>\n",
       "      <td>-15.61224</td>\n",
       "      <td>0.068767</td>\n",
       "      <td>0.068847</td>\n",
       "    </tr>\n",
       "    <tr>\n",
       "      <th>4502757676</th>\n",
       "      <td>0.071448</td>\n",
       "      <td>-0.001209</td>\n",
       "      <td>0.2875</td>\n",
       "      <td>0.017713</td>\n",
       "      <td>-16.26012</td>\n",
       "      <td>0.071364</td>\n",
       "      <td>-0.070984</td>\n",
       "      <td>0.2875</td>\n",
       "      <td>0.017713</td>\n",
       "      <td>-16.26012</td>\n",
       "      <td>0.071448</td>\n",
       "      <td>0.071364</td>\n",
       "    </tr>\n",
       "    <tr>\n",
       "      <th>8981650</th>\n",
       "      <td>0.068791</td>\n",
       "      <td>0.001054</td>\n",
       "      <td>0.2674</td>\n",
       "      <td>0.002586</td>\n",
       "      <td>-14.08577</td>\n",
       "      <td>0.068872</td>\n",
       "      <td>-0.068719</td>\n",
       "      <td>0.2674</td>\n",
       "      <td>0.002586</td>\n",
       "      <td>-14.08577</td>\n",
       "      <td>0.068791</td>\n",
       "      <td>0.068872</td>\n",
       "    </tr>\n",
       "    <tr>\n",
       "      <th>3187584</th>\n",
       "      <td>0.068746</td>\n",
       "      <td>0.000299</td>\n",
       "      <td>0.3869</td>\n",
       "      <td>0.012202</td>\n",
       "      <td>-16.85559</td>\n",
       "      <td>0.068828</td>\n",
       "      <td>-0.069474</td>\n",
       "      <td>0.3869</td>\n",
       "      <td>0.012202</td>\n",
       "      <td>-16.85559</td>\n",
       "      <td>0.068746</td>\n",
       "      <td>0.068828</td>\n",
       "    </tr>\n",
       "    <tr>\n",
       "      <th>4698464</th>\n",
       "      <td>0.068598</td>\n",
       "      <td>-0.000448</td>\n",
       "      <td>0.2617</td>\n",
       "      <td>0.001988</td>\n",
       "      <td>-15.07181</td>\n",
       "      <td>0.068681</td>\n",
       "      <td>-0.070221</td>\n",
       "      <td>0.2617</td>\n",
       "      <td>0.001988</td>\n",
       "      <td>-15.07181</td>\n",
       "      <td>0.068598</td>\n",
       "      <td>0.068681</td>\n",
       "    </tr>\n",
       "    <tr>\n",
       "      <th>4507216053</th>\n",
       "      <td>0.070809</td>\n",
       "      <td>-0.000017</td>\n",
       "      <td>0.1629</td>\n",
       "      <td>0.001165</td>\n",
       "      <td>-13.50552</td>\n",
       "      <td>0.070726</td>\n",
       "      <td>-0.069790</td>\n",
       "      <td>0.1629</td>\n",
       "      <td>0.001165</td>\n",
       "      <td>-13.50552</td>\n",
       "      <td>0.070809</td>\n",
       "      <td>0.070726</td>\n",
       "    </tr>\n",
       "    <tr>\n",
       "      <th>4513657590</th>\n",
       "      <td>0.070430</td>\n",
       "      <td>-0.001438</td>\n",
       "      <td>0.2777</td>\n",
       "      <td>0.000674</td>\n",
       "      <td>-13.49708</td>\n",
       "      <td>0.070343</td>\n",
       "      <td>-0.071210</td>\n",
       "      <td>0.2777</td>\n",
       "      <td>0.000674</td>\n",
       "      <td>-13.49708</td>\n",
       "      <td>0.070430</td>\n",
       "      <td>0.070343</td>\n",
       "    </tr>\n",
       "    <tr>\n",
       "      <th>3070170</th>\n",
       "      <td>0.069646</td>\n",
       "      <td>-0.001710</td>\n",
       "      <td>0.2033</td>\n",
       "      <td>0.008570</td>\n",
       "      <td>-15.16818</td>\n",
       "      <td>0.069735</td>\n",
       "      <td>-0.071481</td>\n",
       "      <td>0.2033</td>\n",
       "      <td>0.008570</td>\n",
       "      <td>-15.16818</td>\n",
       "      <td>0.069646</td>\n",
       "      <td>0.069735</td>\n",
       "    </tr>\n",
       "    <tr>\n",
       "      <th>4508805952</th>\n",
       "      <td>0.070590</td>\n",
       "      <td>-0.000197</td>\n",
       "      <td>0.3330</td>\n",
       "      <td>0.005381</td>\n",
       "      <td>-14.83232</td>\n",
       "      <td>0.070506</td>\n",
       "      <td>-0.069969</td>\n",
       "      <td>0.3330</td>\n",
       "      <td>0.005381</td>\n",
       "      <td>-14.83232</td>\n",
       "      <td>0.070590</td>\n",
       "      <td>0.070506</td>\n",
       "    </tr>\n",
       "    <tr>\n",
       "      <th>5451233</th>\n",
       "      <td>0.069454</td>\n",
       "      <td>0.000906</td>\n",
       "      <td>0.3395</td>\n",
       "      <td>0.013187</td>\n",
       "      <td>-15.76128</td>\n",
       "      <td>0.069536</td>\n",
       "      <td>-0.068866</td>\n",
       "      <td>0.3395</td>\n",
       "      <td>0.013187</td>\n",
       "      <td>-15.76128</td>\n",
       "      <td>0.069454</td>\n",
       "      <td>0.069536</td>\n",
       "    </tr>\n",
       "    <tr>\n",
       "      <th>5342759</th>\n",
       "      <td>0.068537</td>\n",
       "      <td>0.000885</td>\n",
       "      <td>0.3403</td>\n",
       "      <td>0.017547</td>\n",
       "      <td>-16.18191</td>\n",
       "      <td>0.068617</td>\n",
       "      <td>-0.068888</td>\n",
       "      <td>0.3403</td>\n",
       "      <td>0.017547</td>\n",
       "      <td>-16.18191</td>\n",
       "      <td>0.068537</td>\n",
       "      <td>0.068617</td>\n",
       "    </tr>\n",
       "    <tr>\n",
       "      <th>7553232</th>\n",
       "      <td>0.068277</td>\n",
       "      <td>-0.000538</td>\n",
       "      <td>0.3175</td>\n",
       "      <td>0.003957</td>\n",
       "      <td>-15.03806</td>\n",
       "      <td>0.068360</td>\n",
       "      <td>-0.070312</td>\n",
       "      <td>0.3175</td>\n",
       "      <td>0.003957</td>\n",
       "      <td>-15.03806</td>\n",
       "      <td>0.068277</td>\n",
       "      <td>0.068360</td>\n",
       "    </tr>\n",
       "    <tr>\n",
       "      <th>...</th>\n",
       "      <td>...</td>\n",
       "      <td>...</td>\n",
       "      <td>...</td>\n",
       "      <td>...</td>\n",
       "      <td>...</td>\n",
       "      <td>...</td>\n",
       "      <td>...</td>\n",
       "      <td>...</td>\n",
       "      <td>...</td>\n",
       "      <td>...</td>\n",
       "      <td>...</td>\n",
       "      <td>...</td>\n",
       "    </tr>\n",
       "    <tr>\n",
       "      <th>2199859</th>\n",
       "      <td>0.068545</td>\n",
       "      <td>-0.000990</td>\n",
       "      <td>0.3588</td>\n",
       "      <td>0.057156</td>\n",
       "      <td>-17.42475</td>\n",
       "      <td>0.068629</td>\n",
       "      <td>-0.070764</td>\n",
       "      <td>0.3588</td>\n",
       "      <td>0.057156</td>\n",
       "      <td>-17.42475</td>\n",
       "      <td>0.068545</td>\n",
       "      <td>0.068629</td>\n",
       "    </tr>\n",
       "    <tr>\n",
       "      <th>4500255810</th>\n",
       "      <td>0.070795</td>\n",
       "      <td>0.001174</td>\n",
       "      <td>0.1979</td>\n",
       "      <td>0.121809</td>\n",
       "      <td>-18.45788</td>\n",
       "      <td>0.070715</td>\n",
       "      <td>-0.068599</td>\n",
       "      <td>0.1979</td>\n",
       "      <td>0.121809</td>\n",
       "      <td>-18.45788</td>\n",
       "      <td>0.070795</td>\n",
       "      <td>0.070715</td>\n",
       "    </tr>\n",
       "    <tr>\n",
       "      <th>12290254</th>\n",
       "      <td>0.068843</td>\n",
       "      <td>0.001127</td>\n",
       "      <td>0.3817</td>\n",
       "      <td>0.004481</td>\n",
       "      <td>-14.77925</td>\n",
       "      <td>0.068924</td>\n",
       "      <td>-0.068646</td>\n",
       "      <td>0.3817</td>\n",
       "      <td>0.004481</td>\n",
       "      <td>-14.77925</td>\n",
       "      <td>0.068843</td>\n",
       "      <td>0.068924</td>\n",
       "    </tr>\n",
       "    <tr>\n",
       "      <th>267950</th>\n",
       "      <td>0.068144</td>\n",
       "      <td>-0.000057</td>\n",
       "      <td>0.3584</td>\n",
       "      <td>0.808729</td>\n",
       "      <td>-20.32652</td>\n",
       "      <td>0.068225</td>\n",
       "      <td>-0.069832</td>\n",
       "      <td>0.3584</td>\n",
       "      <td>0.808729</td>\n",
       "      <td>-20.32652</td>\n",
       "      <td>0.068144</td>\n",
       "      <td>0.068225</td>\n",
       "    </tr>\n",
       "    <tr>\n",
       "      <th>4503932890</th>\n",
       "      <td>0.070363</td>\n",
       "      <td>-0.000928</td>\n",
       "      <td>0.2917</td>\n",
       "      <td>0.010776</td>\n",
       "      <td>-15.66301</td>\n",
       "      <td>0.070277</td>\n",
       "      <td>-0.070700</td>\n",
       "      <td>0.2917</td>\n",
       "      <td>0.010776</td>\n",
       "      <td>-15.66301</td>\n",
       "      <td>0.070363</td>\n",
       "      <td>0.070277</td>\n",
       "    </tr>\n",
       "    <tr>\n",
       "      <th>169107</th>\n",
       "      <td>0.069659</td>\n",
       "      <td>-0.000030</td>\n",
       "      <td>0.3945</td>\n",
       "      <td>0.482869</td>\n",
       "      <td>-20.43145</td>\n",
       "      <td>0.069744</td>\n",
       "      <td>-0.069801</td>\n",
       "      <td>0.3945</td>\n",
       "      <td>0.482869</td>\n",
       "      <td>-20.43145</td>\n",
       "      <td>0.069659</td>\n",
       "      <td>0.069744</td>\n",
       "    </tr>\n",
       "    <tr>\n",
       "      <th>9004598</th>\n",
       "      <td>0.069155</td>\n",
       "      <td>-0.000051</td>\n",
       "      <td>0.2521</td>\n",
       "      <td>0.000472</td>\n",
       "      <td>-13.91650</td>\n",
       "      <td>0.069238</td>\n",
       "      <td>-0.069823</td>\n",
       "      <td>0.2521</td>\n",
       "      <td>0.000472</td>\n",
       "      <td>-13.91650</td>\n",
       "      <td>0.069155</td>\n",
       "      <td>0.069238</td>\n",
       "    </tr>\n",
       "    <tr>\n",
       "      <th>4515409649</th>\n",
       "      <td>0.071241</td>\n",
       "      <td>-0.000145</td>\n",
       "      <td>0.2984</td>\n",
       "      <td>0.000273</td>\n",
       "      <td>-13.26430</td>\n",
       "      <td>0.071159</td>\n",
       "      <td>-0.069919</td>\n",
       "      <td>0.2984</td>\n",
       "      <td>0.000273</td>\n",
       "      <td>-13.26430</td>\n",
       "      <td>0.071241</td>\n",
       "      <td>0.071159</td>\n",
       "    </tr>\n",
       "    <tr>\n",
       "      <th>4503771121</th>\n",
       "      <td>0.071462</td>\n",
       "      <td>-0.001461</td>\n",
       "      <td>0.3949</td>\n",
       "      <td>0.021350</td>\n",
       "      <td>-16.88898</td>\n",
       "      <td>0.071378</td>\n",
       "      <td>-0.071235</td>\n",
       "      <td>0.3949</td>\n",
       "      <td>0.021350</td>\n",
       "      <td>-16.88898</td>\n",
       "      <td>0.071462</td>\n",
       "      <td>0.071378</td>\n",
       "    </tr>\n",
       "    <tr>\n",
       "      <th>4513441862</th>\n",
       "      <td>0.070578</td>\n",
       "      <td>0.000072</td>\n",
       "      <td>0.1861</td>\n",
       "      <td>0.000546</td>\n",
       "      <td>-12.68566</td>\n",
       "      <td>0.070495</td>\n",
       "      <td>-0.069700</td>\n",
       "      <td>0.1861</td>\n",
       "      <td>0.000546</td>\n",
       "      <td>-12.68566</td>\n",
       "      <td>0.070578</td>\n",
       "      <td>0.070495</td>\n",
       "    </tr>\n",
       "    <tr>\n",
       "      <th>4510390918</th>\n",
       "      <td>0.071271</td>\n",
       "      <td>0.000886</td>\n",
       "      <td>0.2933</td>\n",
       "      <td>0.002554</td>\n",
       "      <td>-14.25885</td>\n",
       "      <td>0.071191</td>\n",
       "      <td>-0.068888</td>\n",
       "      <td>0.2933</td>\n",
       "      <td>0.002554</td>\n",
       "      <td>-14.25885</td>\n",
       "      <td>0.071271</td>\n",
       "      <td>0.071191</td>\n",
       "    </tr>\n",
       "    <tr>\n",
       "      <th>41947</th>\n",
       "      <td>0.068092</td>\n",
       "      <td>-0.000569</td>\n",
       "      <td>0.2883</td>\n",
       "      <td>1.850931</td>\n",
       "      <td>-21.33238</td>\n",
       "      <td>0.068174</td>\n",
       "      <td>-0.070344</td>\n",
       "      <td>0.2883</td>\n",
       "      <td>1.850931</td>\n",
       "      <td>-21.33238</td>\n",
       "      <td>0.068092</td>\n",
       "      <td>0.068174</td>\n",
       "    </tr>\n",
       "    <tr>\n",
       "      <th>1238907</th>\n",
       "      <td>0.069678</td>\n",
       "      <td>0.000944</td>\n",
       "      <td>0.3133</td>\n",
       "      <td>0.049273</td>\n",
       "      <td>-17.66092</td>\n",
       "      <td>0.069760</td>\n",
       "      <td>-0.068827</td>\n",
       "      <td>0.3133</td>\n",
       "      <td>0.049273</td>\n",
       "      <td>-17.66092</td>\n",
       "      <td>0.069678</td>\n",
       "      <td>0.069760</td>\n",
       "    </tr>\n",
       "    <tr>\n",
       "      <th>4500866239</th>\n",
       "      <td>0.071373</td>\n",
       "      <td>-0.000276</td>\n",
       "      <td>0.2416</td>\n",
       "      <td>0.032301</td>\n",
       "      <td>-17.17819</td>\n",
       "      <td>0.071291</td>\n",
       "      <td>-0.070050</td>\n",
       "      <td>0.2416</td>\n",
       "      <td>0.032301</td>\n",
       "      <td>-17.17819</td>\n",
       "      <td>0.071373</td>\n",
       "      <td>0.071291</td>\n",
       "    </tr>\n",
       "    <tr>\n",
       "      <th>423735</th>\n",
       "      <td>0.069240</td>\n",
       "      <td>-0.000882</td>\n",
       "      <td>0.3583</td>\n",
       "      <td>0.612250</td>\n",
       "      <td>-20.17847</td>\n",
       "      <td>0.069326</td>\n",
       "      <td>-0.070654</td>\n",
       "      <td>0.3583</td>\n",
       "      <td>0.612250</td>\n",
       "      <td>-20.17847</td>\n",
       "      <td>0.069240</td>\n",
       "      <td>0.069326</td>\n",
       "    </tr>\n",
       "    <tr>\n",
       "      <th>8675329</th>\n",
       "      <td>0.068600</td>\n",
       "      <td>0.001077</td>\n",
       "      <td>0.3783</td>\n",
       "      <td>0.003947</td>\n",
       "      <td>-15.42586</td>\n",
       "      <td>0.068679</td>\n",
       "      <td>-0.068697</td>\n",
       "      <td>0.3783</td>\n",
       "      <td>0.003947</td>\n",
       "      <td>-15.42586</td>\n",
       "      <td>0.068600</td>\n",
       "      <td>0.068679</td>\n",
       "    </tr>\n",
       "    <tr>\n",
       "      <th>12442214</th>\n",
       "      <td>0.069076</td>\n",
       "      <td>0.001666</td>\n",
       "      <td>0.2468</td>\n",
       "      <td>0.000772</td>\n",
       "      <td>-13.46242</td>\n",
       "      <td>0.069155</td>\n",
       "      <td>-0.068107</td>\n",
       "      <td>0.2468</td>\n",
       "      <td>0.000772</td>\n",
       "      <td>-13.46242</td>\n",
       "      <td>0.069076</td>\n",
       "      <td>0.069155</td>\n",
       "    </tr>\n",
       "    <tr>\n",
       "      <th>655286</th>\n",
       "      <td>0.068743</td>\n",
       "      <td>-0.000624</td>\n",
       "      <td>0.3586</td>\n",
       "      <td>0.306431</td>\n",
       "      <td>-19.23857</td>\n",
       "      <td>0.068827</td>\n",
       "      <td>-0.070397</td>\n",
       "      <td>0.3586</td>\n",
       "      <td>0.306431</td>\n",
       "      <td>-19.23857</td>\n",
       "      <td>0.068743</td>\n",
       "      <td>0.068827</td>\n",
       "    </tr>\n",
       "    <tr>\n",
       "      <th>1050584</th>\n",
       "      <td>0.069060</td>\n",
       "      <td>0.000914</td>\n",
       "      <td>0.3002</td>\n",
       "      <td>0.018066</td>\n",
       "      <td>-17.43113</td>\n",
       "      <td>0.069142</td>\n",
       "      <td>-0.068858</td>\n",
       "      <td>0.3002</td>\n",
       "      <td>0.018066</td>\n",
       "      <td>-17.43113</td>\n",
       "      <td>0.069060</td>\n",
       "      <td>0.069142</td>\n",
       "    </tr>\n",
       "    <tr>\n",
       "      <th>14876185</th>\n",
       "      <td>0.069623</td>\n",
       "      <td>-0.000372</td>\n",
       "      <td>0.2460</td>\n",
       "      <td>0.001086</td>\n",
       "      <td>-13.11607</td>\n",
       "      <td>0.069709</td>\n",
       "      <td>-0.070143</td>\n",
       "      <td>0.2460</td>\n",
       "      <td>0.001086</td>\n",
       "      <td>-13.11607</td>\n",
       "      <td>0.069623</td>\n",
       "      <td>0.069709</td>\n",
       "    </tr>\n",
       "    <tr>\n",
       "      <th>1500657</th>\n",
       "      <td>0.068694</td>\n",
       "      <td>-0.000428</td>\n",
       "      <td>0.3587</td>\n",
       "      <td>0.086522</td>\n",
       "      <td>-17.85486</td>\n",
       "      <td>0.068777</td>\n",
       "      <td>-0.070201</td>\n",
       "      <td>0.3587</td>\n",
       "      <td>0.086522</td>\n",
       "      <td>-17.85486</td>\n",
       "      <td>0.068694</td>\n",
       "      <td>0.068777</td>\n",
       "    </tr>\n",
       "    <tr>\n",
       "      <th>4507707731</th>\n",
       "      <td>0.071473</td>\n",
       "      <td>0.000709</td>\n",
       "      <td>0.2567</td>\n",
       "      <td>0.000522</td>\n",
       "      <td>-14.19486</td>\n",
       "      <td>0.071393</td>\n",
       "      <td>-0.069066</td>\n",
       "      <td>0.2567</td>\n",
       "      <td>0.000522</td>\n",
       "      <td>-14.19486</td>\n",
       "      <td>0.071473</td>\n",
       "      <td>0.071393</td>\n",
       "    </tr>\n",
       "    <tr>\n",
       "      <th>12408816</th>\n",
       "      <td>0.068597</td>\n",
       "      <td>-0.000192</td>\n",
       "      <td>0.3004</td>\n",
       "      <td>0.000370</td>\n",
       "      <td>-13.76130</td>\n",
       "      <td>0.068679</td>\n",
       "      <td>-0.069965</td>\n",
       "      <td>0.3004</td>\n",
       "      <td>0.000370</td>\n",
       "      <td>-13.76130</td>\n",
       "      <td>0.068597</td>\n",
       "      <td>0.068679</td>\n",
       "    </tr>\n",
       "    <tr>\n",
       "      <th>4504518602</th>\n",
       "      <td>0.070620</td>\n",
       "      <td>0.001026</td>\n",
       "      <td>0.3890</td>\n",
       "      <td>0.016567</td>\n",
       "      <td>-16.37512</td>\n",
       "      <td>0.070539</td>\n",
       "      <td>-0.068746</td>\n",
       "      <td>0.3890</td>\n",
       "      <td>0.016567</td>\n",
       "      <td>-16.37512</td>\n",
       "      <td>0.070620</td>\n",
       "      <td>0.070539</td>\n",
       "    </tr>\n",
       "    <tr>\n",
       "      <th>2626827</th>\n",
       "      <td>0.069502</td>\n",
       "      <td>0.000314</td>\n",
       "      <td>0.3855</td>\n",
       "      <td>0.010296</td>\n",
       "      <td>-16.98065</td>\n",
       "      <td>0.069585</td>\n",
       "      <td>-0.069457</td>\n",
       "      <td>0.3855</td>\n",
       "      <td>0.010296</td>\n",
       "      <td>-16.98065</td>\n",
       "      <td>0.069502</td>\n",
       "      <td>0.069585</td>\n",
       "    </tr>\n",
       "    <tr>\n",
       "      <th>1827140</th>\n",
       "      <td>0.069207</td>\n",
       "      <td>-0.000357</td>\n",
       "      <td>0.3695</td>\n",
       "      <td>0.003835</td>\n",
       "      <td>-17.31963</td>\n",
       "      <td>0.069291</td>\n",
       "      <td>-0.070129</td>\n",
       "      <td>0.3695</td>\n",
       "      <td>0.003835</td>\n",
       "      <td>-17.31963</td>\n",
       "      <td>0.069207</td>\n",
       "      <td>0.069291</td>\n",
       "    </tr>\n",
       "    <tr>\n",
       "      <th>4516737542</th>\n",
       "      <td>0.070066</td>\n",
       "      <td>0.001270</td>\n",
       "      <td>0.3737</td>\n",
       "      <td>0.000213</td>\n",
       "      <td>-13.50339</td>\n",
       "      <td>0.069985</td>\n",
       "      <td>-0.068501</td>\n",
       "      <td>0.3737</td>\n",
       "      <td>0.000213</td>\n",
       "      <td>-13.50339</td>\n",
       "      <td>0.070066</td>\n",
       "      <td>0.069985</td>\n",
       "    </tr>\n",
       "    <tr>\n",
       "      <th>10076934</th>\n",
       "      <td>0.068115</td>\n",
       "      <td>-0.001008</td>\n",
       "      <td>0.3419</td>\n",
       "      <td>0.005986</td>\n",
       "      <td>-14.81043</td>\n",
       "      <td>0.068199</td>\n",
       "      <td>-0.070782</td>\n",
       "      <td>0.3419</td>\n",
       "      <td>0.005986</td>\n",
       "      <td>-14.81043</td>\n",
       "      <td>0.068115</td>\n",
       "      <td>0.068199</td>\n",
       "    </tr>\n",
       "    <tr>\n",
       "      <th>4511487635</th>\n",
       "      <td>0.069997</td>\n",
       "      <td>0.001657</td>\n",
       "      <td>0.1963</td>\n",
       "      <td>0.001118</td>\n",
       "      <td>-13.14599</td>\n",
       "      <td>0.069917</td>\n",
       "      <td>-0.068114</td>\n",
       "      <td>0.1963</td>\n",
       "      <td>0.001118</td>\n",
       "      <td>-13.14599</td>\n",
       "      <td>0.069997</td>\n",
       "      <td>0.069917</td>\n",
       "    </tr>\n",
       "    <tr>\n",
       "      <th>4515268979</th>\n",
       "      <td>0.070356</td>\n",
       "      <td>0.001514</td>\n",
       "      <td>0.3984</td>\n",
       "      <td>0.000208</td>\n",
       "      <td>-13.86957</td>\n",
       "      <td>0.070276</td>\n",
       "      <td>-0.068258</td>\n",
       "      <td>0.3984</td>\n",
       "      <td>0.000208</td>\n",
       "      <td>-13.86957</td>\n",
       "      <td>0.070356</td>\n",
       "      <td>0.070276</td>\n",
       "    </tr>\n",
       "  </tbody>\n",
       "</table>\n",
       "<p>1000 rows × 12 columns</p>\n",
       "</div>"
      ],
      "text/plain": [
       "             raJ2000  decJ2000  redshift  mass_stellar  absmag_r_total  \\\n",
       "id                                                                       \n",
       "17091820    0.069190 -0.000982    0.2672      0.000115       -12.60134   \n",
       "4500972776  0.071364 -0.000739    0.1554      0.011406       -16.05485   \n",
       "4503936790  0.070202 -0.001564    0.2826      0.012869       -15.71839   \n",
       "659098      0.068192  0.000178    0.3746      0.133107       -19.13546   \n",
       "4515947541  0.070130 -0.001655    0.2687      0.000170       -12.91985   \n",
       "11796575    0.068579  0.000019    0.2874      0.001148       -13.97896   \n",
       "4503806488  0.070414 -0.001235    0.3927      0.003363       -16.62415   \n",
       "2646469     0.069716 -0.001616    0.3569      0.004056       -16.70559   \n",
       "4500007552  0.071194 -0.000987    0.2408      3.249657       -21.89512   \n",
       "1002390     0.068606 -0.000103    0.3549      0.032351       -18.05523   \n",
       "4503145449  0.070203  0.001081    0.1276      0.001756       -14.19619   \n",
       "4508664946  0.070426 -0.000366    0.3750      0.005881       -15.45323   \n",
       "1860389     0.068212  0.000280    0.3193      0.023921       -17.01403   \n",
       "8940585     0.069243  0.000981    0.2795      0.003066       -14.32899   \n",
       "4510115842  0.070555  0.001688    0.3072      0.000324       -14.24117   \n",
       "4512432192  0.070077 -0.000106    0.2703      0.001462       -13.72306   \n",
       "1184740     0.068543 -0.001386    0.2091      0.005222       -16.61719   \n",
       "11481703    0.069673 -0.000105    0.1964      0.000614       -13.16950   \n",
       "6299579     0.068767  0.001157    0.3594      0.003746       -15.61224   \n",
       "4502757676  0.071448 -0.001209    0.2875      0.017713       -16.26012   \n",
       "8981650     0.068791  0.001054    0.2674      0.002586       -14.08577   \n",
       "3187584     0.068746  0.000299    0.3869      0.012202       -16.85559   \n",
       "4698464     0.068598 -0.000448    0.2617      0.001988       -15.07181   \n",
       "4507216053  0.070809 -0.000017    0.1629      0.001165       -13.50552   \n",
       "4513657590  0.070430 -0.001438    0.2777      0.000674       -13.49708   \n",
       "3070170     0.069646 -0.001710    0.2033      0.008570       -15.16818   \n",
       "4508805952  0.070590 -0.000197    0.3330      0.005381       -14.83232   \n",
       "5451233     0.069454  0.000906    0.3395      0.013187       -15.76128   \n",
       "5342759     0.068537  0.000885    0.3403      0.017547       -16.18191   \n",
       "7553232     0.068277 -0.000538    0.3175      0.003957       -15.03806   \n",
       "...              ...       ...       ...           ...             ...   \n",
       "2199859     0.068545 -0.000990    0.3588      0.057156       -17.42475   \n",
       "4500255810  0.070795  0.001174    0.1979      0.121809       -18.45788   \n",
       "12290254    0.068843  0.001127    0.3817      0.004481       -14.77925   \n",
       "267950      0.068144 -0.000057    0.3584      0.808729       -20.32652   \n",
       "4503932890  0.070363 -0.000928    0.2917      0.010776       -15.66301   \n",
       "169107      0.069659 -0.000030    0.3945      0.482869       -20.43145   \n",
       "9004598     0.069155 -0.000051    0.2521      0.000472       -13.91650   \n",
       "4515409649  0.071241 -0.000145    0.2984      0.000273       -13.26430   \n",
       "4503771121  0.071462 -0.001461    0.3949      0.021350       -16.88898   \n",
       "4513441862  0.070578  0.000072    0.1861      0.000546       -12.68566   \n",
       "4510390918  0.071271  0.000886    0.2933      0.002554       -14.25885   \n",
       "41947       0.068092 -0.000569    0.2883      1.850931       -21.33238   \n",
       "1238907     0.069678  0.000944    0.3133      0.049273       -17.66092   \n",
       "4500866239  0.071373 -0.000276    0.2416      0.032301       -17.17819   \n",
       "423735      0.069240 -0.000882    0.3583      0.612250       -20.17847   \n",
       "8675329     0.068600  0.001077    0.3783      0.003947       -15.42586   \n",
       "12442214    0.069076  0.001666    0.2468      0.000772       -13.46242   \n",
       "655286      0.068743 -0.000624    0.3586      0.306431       -19.23857   \n",
       "1050584     0.069060  0.000914    0.3002      0.018066       -17.43113   \n",
       "14876185    0.069623 -0.000372    0.2460      0.001086       -13.11607   \n",
       "1500657     0.068694 -0.000428    0.3587      0.086522       -17.85486   \n",
       "4507707731  0.071473  0.000709    0.2567      0.000522       -14.19486   \n",
       "12408816    0.068597 -0.000192    0.3004      0.000370       -13.76130   \n",
       "4504518602  0.070620  0.001026    0.3890      0.016567       -16.37512   \n",
       "2626827     0.069502  0.000314    0.3855      0.010296       -16.98065   \n",
       "1827140     0.069207 -0.000357    0.3695      0.003835       -17.31963   \n",
       "4516737542  0.070066  0.001270    0.3737      0.000213       -13.50339   \n",
       "10076934    0.068115 -0.001008    0.3419      0.005986       -14.81043   \n",
       "4511487635  0.069997  0.001657    0.1963      0.001118       -13.14599   \n",
       "4515268979  0.070356  0.001514    0.3984      0.000208       -13.86957   \n",
       "\n",
       "            raJ2000_1  decJ2000_1  redshift_1  mass_stellar_1  \\\n",
       "id                                                              \n",
       "17091820     0.069276   -0.070754      0.2672        0.000115   \n",
       "4500972776   0.071281   -0.070514      0.1554        0.011406   \n",
       "4503936790   0.070114   -0.071335      0.2826        0.012869   \n",
       "659098       0.068273   -0.069596      0.3746        0.133107   \n",
       "4515947541   0.070042   -0.071427      0.2687        0.000170   \n",
       "11796575     0.068661   -0.069755      0.2874        0.001148   \n",
       "4503806488   0.070327   -0.071007      0.3927        0.003363   \n",
       "2646469      0.069805   -0.071387      0.3569        0.004056   \n",
       "4500007552   0.071110   -0.070761      0.2408        3.249657   \n",
       "1002390      0.068688   -0.069877      0.3549        0.032351   \n",
       "4503145449   0.070122   -0.068691      0.1276        0.001756   \n",
       "4508664946   0.070341   -0.070138      0.3750        0.005881   \n",
       "1860389      0.068293   -0.069494      0.3193        0.023921   \n",
       "8940585      0.069324   -0.068791      0.2795        0.003066   \n",
       "4510115842   0.070476   -0.068084      0.3072        0.000324   \n",
       "4512432192   0.069992   -0.069877      0.2703        0.001462   \n",
       "1184740      0.068628   -0.071159      0.2091        0.005222   \n",
       "11481703     0.069758   -0.069875      0.1964        0.000614   \n",
       "6299579      0.068847   -0.068616      0.3594        0.003746   \n",
       "4502757676   0.071364   -0.070984      0.2875        0.017713   \n",
       "8981650      0.068872   -0.068719      0.2674        0.002586   \n",
       "3187584      0.068828   -0.069474      0.3869        0.012202   \n",
       "4698464      0.068681   -0.070221      0.2617        0.001988   \n",
       "4507216053   0.070726   -0.069790      0.1629        0.001165   \n",
       "4513657590   0.070343   -0.071210      0.2777        0.000674   \n",
       "3070170      0.069735   -0.071481      0.2033        0.008570   \n",
       "4508805952   0.070506   -0.069969      0.3330        0.005381   \n",
       "5451233      0.069536   -0.068866      0.3395        0.013187   \n",
       "5342759      0.068617   -0.068888      0.3403        0.017547   \n",
       "7553232      0.068360   -0.070312      0.3175        0.003957   \n",
       "...               ...         ...         ...             ...   \n",
       "2199859      0.068629   -0.070764      0.3588        0.057156   \n",
       "4500255810   0.070715   -0.068599      0.1979        0.121809   \n",
       "12290254     0.068924   -0.068646      0.3817        0.004481   \n",
       "267950       0.068225   -0.069832      0.3584        0.808729   \n",
       "4503932890   0.070277   -0.070700      0.2917        0.010776   \n",
       "169107       0.069744   -0.069801      0.3945        0.482869   \n",
       "9004598      0.069238   -0.069823      0.2521        0.000472   \n",
       "4515409649   0.071159   -0.069919      0.2984        0.000273   \n",
       "4503771121   0.071378   -0.071235      0.3949        0.021350   \n",
       "4513441862   0.070495   -0.069700      0.1861        0.000546   \n",
       "4510390918   0.071191   -0.068888      0.2933        0.002554   \n",
       "41947        0.068174   -0.070344      0.2883        1.850931   \n",
       "1238907      0.069760   -0.068827      0.3133        0.049273   \n",
       "4500866239   0.071291   -0.070050      0.2416        0.032301   \n",
       "423735       0.069326   -0.070654      0.3583        0.612250   \n",
       "8675329      0.068679   -0.068697      0.3783        0.003947   \n",
       "12442214     0.069155   -0.068107      0.2468        0.000772   \n",
       "655286       0.068827   -0.070397      0.3586        0.306431   \n",
       "1050584      0.069142   -0.068858      0.3002        0.018066   \n",
       "14876185     0.069709   -0.070143      0.2460        0.001086   \n",
       "1500657      0.068777   -0.070201      0.3587        0.086522   \n",
       "4507707731   0.071393   -0.069066      0.2567        0.000522   \n",
       "12408816     0.068679   -0.069965      0.3004        0.000370   \n",
       "4504518602   0.070539   -0.068746      0.3890        0.016567   \n",
       "2626827      0.069585   -0.069457      0.3855        0.010296   \n",
       "1827140      0.069291   -0.070129      0.3695        0.003835   \n",
       "4516737542   0.069985   -0.068501      0.3737        0.000213   \n",
       "10076934     0.068199   -0.070782      0.3419        0.005986   \n",
       "4511487635   0.069917   -0.068114      0.1963        0.001118   \n",
       "4515268979   0.070276   -0.068258      0.3984        0.000208   \n",
       "\n",
       "            absmag_r_total_1  shiftedRA  shiftedRA_1  \n",
       "id                                                    \n",
       "17091820           -12.60134   0.069190     0.069276  \n",
       "4500972776         -16.05485   0.071364     0.071281  \n",
       "4503936790         -15.71839   0.070202     0.070114  \n",
       "659098             -19.13546   0.068192     0.068273  \n",
       "4515947541         -12.91985   0.070130     0.070042  \n",
       "11796575           -13.97896   0.068579     0.068661  \n",
       "4503806488         -16.62415   0.070414     0.070327  \n",
       "2646469            -16.70559   0.069716     0.069805  \n",
       "4500007552         -21.89512   0.071194     0.071110  \n",
       "1002390            -18.05523   0.068606     0.068688  \n",
       "4503145449         -14.19619   0.070203     0.070122  \n",
       "4508664946         -15.45323   0.070426     0.070341  \n",
       "1860389            -17.01403   0.068212     0.068293  \n",
       "8940585            -14.32899   0.069243     0.069324  \n",
       "4510115842         -14.24117   0.070555     0.070476  \n",
       "4512432192         -13.72306   0.070077     0.069992  \n",
       "1184740            -16.61719   0.068543     0.068628  \n",
       "11481703           -13.16950   0.069673     0.069758  \n",
       "6299579            -15.61224   0.068767     0.068847  \n",
       "4502757676         -16.26012   0.071448     0.071364  \n",
       "8981650            -14.08577   0.068791     0.068872  \n",
       "3187584            -16.85559   0.068746     0.068828  \n",
       "4698464            -15.07181   0.068598     0.068681  \n",
       "4507216053         -13.50552   0.070809     0.070726  \n",
       "4513657590         -13.49708   0.070430     0.070343  \n",
       "3070170            -15.16818   0.069646     0.069735  \n",
       "4508805952         -14.83232   0.070590     0.070506  \n",
       "5451233            -15.76128   0.069454     0.069536  \n",
       "5342759            -16.18191   0.068537     0.068617  \n",
       "7553232            -15.03806   0.068277     0.068360  \n",
       "...                      ...        ...          ...  \n",
       "2199859            -17.42475   0.068545     0.068629  \n",
       "4500255810         -18.45788   0.070795     0.070715  \n",
       "12290254           -14.77925   0.068843     0.068924  \n",
       "267950             -20.32652   0.068144     0.068225  \n",
       "4503932890         -15.66301   0.070363     0.070277  \n",
       "169107             -20.43145   0.069659     0.069744  \n",
       "9004598            -13.91650   0.069155     0.069238  \n",
       "4515409649         -13.26430   0.071241     0.071159  \n",
       "4503771121         -16.88898   0.071462     0.071378  \n",
       "4513441862         -12.68566   0.070578     0.070495  \n",
       "4510390918         -14.25885   0.071271     0.071191  \n",
       "41947              -21.33238   0.068092     0.068174  \n",
       "1238907            -17.66092   0.069678     0.069760  \n",
       "4500866239         -17.17819   0.071373     0.071291  \n",
       "423735             -20.17847   0.069240     0.069326  \n",
       "8675329            -15.42586   0.068600     0.068679  \n",
       "12442214           -13.46242   0.069076     0.069155  \n",
       "655286             -19.23857   0.068743     0.068827  \n",
       "1050584            -17.43113   0.069060     0.069142  \n",
       "14876185           -13.11607   0.069623     0.069709  \n",
       "1500657            -17.85486   0.068694     0.068777  \n",
       "4507707731         -14.19486   0.071473     0.071393  \n",
       "12408816           -13.76130   0.068597     0.068679  \n",
       "4504518602         -16.37512   0.070620     0.070539  \n",
       "2626827            -16.98065   0.069502     0.069585  \n",
       "1827140            -17.31963   0.069207     0.069291  \n",
       "4516737542         -13.50339   0.070066     0.069985  \n",
       "10076934           -14.81043   0.068115     0.068199  \n",
       "4511487635         -13.14599   0.069997     0.069917  \n",
       "4515268979         -13.86957   0.070356     0.070276  \n",
       "\n",
       "[1000 rows x 12 columns]"
      ]
     },
     "execution_count": 34,
     "metadata": {},
     "output_type": "execute_result"
    }
   ],
   "source": [
    "split_1"
   ]
  },
  {
   "cell_type": "code",
   "execution_count": 35,
   "metadata": {
    "collapsed": false
   },
   "outputs": [],
   "source": [
    "from lsst.sims.utils import haversine"
   ]
  },
  {
   "cell_type": "code",
   "execution_count": 36,
   "metadata": {
    "collapsed": false
   },
   "outputs": [],
   "source": [
    "df = pd.DataFrame({'ids_1': split_1.index.values,\n",
    "                   'ids_2': split_2.index.values,\n",
    "                   'raJ2000': split_1.raJ2000.values,\n",
    "                   'shiftedRA':split_1.shiftedRA.values,\n",
    "                   'decJ2000':split_1.decJ2000.values,\n",
    "                   'raJ2000_2': split_2.raJ2000.values,\n",
    "                   'shiftedRA_2': split_2.shiftedRA_1.values,\n",
    "                   'decJ2000_2':split_2.decJ2000.values,\n",
    "                   'angsep': haversine(split_1.decJ2000.values, split_1.raJ2000.values, split_2.decJ2000.values, \n",
    "                                       split_2.raJ2000.values),\n",
    "                  'angsep_1': haversine(split_1.decJ2000_1.values, split_1.raJ2000_1.values, split_2.decJ2000_1.values, \n",
    "                                       split_2.raJ2000_1.values)}\n",
    "                   #'angsep_1': haversine(split_1.decJ2000_1, split_1.raJ2000_1, split_2.decJ2000_1, split_2.raJ2000_1)}\n",
    "                  )"
   ]
  },
  {
   "cell_type": "code",
   "execution_count": 37,
   "metadata": {
    "collapsed": false
   },
   "outputs": [],
   "source": [
    "df['ratio'] = df.angsep_1/df.angsep "
   ]
  },
  {
   "cell_type": "code",
   "execution_count": 38,
   "metadata": {
    "collapsed": false
   },
   "outputs": [
    {
     "data": {
      "text/plain": [
       "count    1000.000000\n",
       "mean        0.967045\n",
       "std         0.045611\n",
       "min         0.561827\n",
       "25%         0.941758\n",
       "50%         0.999996\n",
       "75%         1.000462\n",
       "max         1.002551\n",
       "Name: ratio, dtype: float64"
      ]
     },
     "execution_count": 38,
     "metadata": {},
     "output_type": "execute_result"
    }
   ],
   "source": [
    "df.ratio.describe()"
   ]
  },
  {
   "cell_type": "code",
   "execution_count": 39,
   "metadata": {
    "collapsed": false
   },
   "outputs": [
    {
     "data": {
      "text/plain": [
       "False"
      ]
     },
     "execution_count": 39,
     "metadata": {},
     "output_type": "execute_result"
    }
   ],
   "source": [
    "df.ratio.isnull().any()"
   ]
  },
  {
   "cell_type": "code",
   "execution_count": 40,
   "metadata": {
    "collapsed": false
   },
   "outputs": [
    {
     "data": {
      "text/plain": [
       "<matplotlib.text.Text at 0x11a2ddd50>"
      ]
     },
     "execution_count": 40,
     "metadata": {},
     "output_type": "execute_result"
    },
    {
     "data": {
      "image/png": "[encoded data removed]",
      "text/plain": [
       "<matplotlib.figure.Figure at 0x103be1690>"
      ]
     },
     "metadata": {},
     "output_type": "display_data"
    }
   ],
   "source": [
    "fig, ax = plt.subplots(1, 2)\n",
    "_ = ax[0].hist(df.ratio.values - 1., bins=np.arange(-0.25, 0.25, 0.005),normed=1,\n",
    "        histtype='step', alpha=1, lw=2., color='k')\n",
    "# sns.kdeplot(df.ratio - 1., ax=ax)\n",
    "ax[0].set_xlabel('fractional difference')\n",
    "ax[0].set_ylabel('PDF')\n",
    "_ = ax[1].hist((df.ratio.values - 1.)*df.angsep,normed=1, bins=np.arange(-0.0003, 0.0001, 0.00002),\n",
    "        histtype='step', alpha=1, lw=2., color='k')\n",
    "xticks = ax[1].get_xticklabels()\n",
    "_ = [xtick.set_rotation(90.) for xtick in xticks]\n",
    "\n",
    "\n",
    "# sns.kdeplot(df.ratio - 1., ax=ax)\n",
    "ax[1].set_xlabel('Actual difference')\n",
    "ax[1].set_ylabel('PDF')"
   ]
  },
  {
   "cell_type": "code",
   "execution_count": 41,
   "metadata": {
    "collapsed": false
   },
   "outputs": [
    {
     "data": {
      "text/plain": [
       "<matplotlib.text.Text at 0x11a7765d0>"
      ]
     },
     "execution_count": 41,
     "metadata": {},
     "output_type": "execute_result"
    },
    {
     "data": {
      "image/png": "[encoded data removed]",
      "text/plain": [
       "<matplotlib.figure.Figure at 0x10a3aec50>"
      ]
     },
     "metadata": {},
     "output_type": "display_data"
    }
   ],
   "source": [
    "# Use if not using base tile\n",
    "fig, ax = plt.subplots(2, 3, sharey=True, squeeze=False)\n",
    "ax[0,0].plot(df.angsep, df.ratio-1, '.')\n",
    "xticks = ax[0, 0].get_xticklabels()\n",
    "_ = [xtick.set_rotation(90.) for xtick in xticks]\n",
    "ax[0, 0].set_xlabel('orig ang sep')\n",
    "ax[0, 0].xaxis.set_label_position('top') \n",
    "ax[0, 1].plot(df.decJ2000 - df.decJ2000_2, df.ratio - 1, '.')\n",
    "ax[0, 1].set_xlabel('diff in dec for 2 pts')\n",
    "ax[0, 1].xaxis.set_label_position('top') \n",
    "xticks = ax[0, 1].get_xticklabels()\n",
    "_ = [xtick.set_rotation(90.) for xtick in xticks]\n",
    "ax[0, 2].plot(df.raJ2000 - df.raJ2000_2, df.ratio - 1, '.r')\n",
    "xticks = ax[0, 2].get_xticklabels()\n",
    "_ = [xtick.set_rotation(90.) for xtick in xticks]\n",
    "ax[0, 2].set_xlabel('diff in ra for 2 pts')\n",
    "ax[0, 2].xaxis.set_label_position('top') \n",
    "\n",
    "\n",
    "ax[1, 1].plot(df.decJ2000, df.ratio - 1, '.')\n",
    "xticks = ax[1, 1].get_xticklabels()\n",
    "_ = [xtick.set_rotation(90.) for xtick in xticks]\n",
    "ax[1, 1].set_xlabel('dec in Base')\n",
    "ax[1, 2].plot(df.raJ2000, df.ratio - 1, '.')\n",
    "xticks = ax[1, 2].get_xticklabels()\n",
    "_ = [xtick.set_rotation(90.) for xtick in xticks]\n",
    "ax[1, 2].set_xlabel('ra in Base')\n",
    "\n",
    "\n",
    "#ax[1,0].plot(df.angsep, (df.ratio -1)* df.angsep, '.')"
   ]
  },
  {
   "cell_type": "code",
   "execution_count": 42,
   "metadata": {
    "collapsed": false
   },
   "outputs": [
    {
     "data": {
      "text/plain": [
       "<matplotlib.text.Text at 0x11af40f90>"
      ]
     },
     "execution_count": 42,
     "metadata": {},
     "output_type": "execute_result"
    },
    {
     "data": {
      "image/png": "[encoded data removed]",
      "text/plain": [
       "<matplotlib.figure.Figure at 0x11a890a50>"
      ]
     },
     "metadata": {},
     "output_type": "display_data"
    }
   ],
   "source": [
    "# Use shifts to take care of periodicity of ra newar ra=0.\n",
    "fig, ax = plt.subplots(2, 3, sharey=True, squeeze=False)\n",
    "ax[0,0].plot(df.angsep, df.ratio-1, '.')\n",
    "xticks = ax[0, 0].get_xticklabels()\n",
    "_ = [xtick.set_rotation(90.) for xtick in xticks]\n",
    "ax[0, 0].set_xlabel('orig ang sep')\n",
    "ax[0, 0].xaxis.set_label_position('top') \n",
    "ax[0, 1].plot(df.decJ2000 - df.decJ2000_2, df.ratio - 1, '.')\n",
    "ax[0, 1].set_xlabel('diff in dec for 2 pts')\n",
    "ax[0, 1].xaxis.set_label_position('top') \n",
    "xticks = ax[0, 1].get_xticklabels()\n",
    "_ = [xtick.set_rotation(90.) for xtick in xticks]\n",
    "ax[0, 2].plot(df.shiftedRA - df.shiftedRA_2, df.ratio - 1, '.r')\n",
    "xticks = ax[0, 2].get_xticklabels()\n",
    "_ = [xtick.set_rotation(90.) for xtick in xticks]\n",
    "ax[0, 2].set_xlabel('diff in ra for 2 pts')\n",
    "ax[0, 2].xaxis.set_label_position('top') \n",
    "\n",
    "\n",
    "ax[1, 1].plot(df.decJ2000, df.ratio - 1, '.')\n",
    "xticks = ax[1, 1].get_xticklabels()\n",
    "_ = [xtick.set_rotation(90.) for xtick in xticks]\n",
    "ax[1, 1].set_xlabel('dec in Base')\n",
    "ax[1, 2].plot(df.shiftedRA, df.ratio - 1, '.')\n",
    "xticks = ax[1, 2].get_xticklabels()\n",
    "_ = [xtick.set_rotation(90.) for xtick in xticks]\n",
    "ax[1, 2].set_xlabel('ra in Base')\n",
    "\n",
    "\n",
    "#ax[1,0].plot(df.angsep, (df.ratio -1)* df.angsep, '.')"
   ]
  },
  {
   "cell_type": "code",
   "execution_count": 43,
   "metadata": {
    "collapsed": false
   },
   "outputs": [
    {
     "name": "stdout",
     "output_type": "stream",
     "text": [
      "1000\n"
     ]
    }
   ],
   "source": [
    "print(len(df))"
   ]
  },
  {
   "cell_type": "code",
   "execution_count": 44,
   "metadata": {
    "collapsed": false
   },
   "outputs": [
    {
     "name": "stdout",
     "output_type": "stream",
     "text": [
      "2371\n"
     ]
    }
   ],
   "source": [
    "print(len(merged))"
   ]
  },
  {
   "cell_type": "markdown",
   "metadata": {},
   "source": [
    "## Scratch"
   ]
  },
  {
   "cell_type": "code",
   "execution_count": 45,
   "metadata": {
    "collapsed": false
   },
   "outputs": [
    {
     "data": {
      "text/plain": [
       "0.071557229999999999"
      ]
     },
     "execution_count": 45,
     "metadata": {},
     "output_type": "execute_result"
    }
   ],
   "source": [
    "df.raJ2000.max()"
   ]
  },
  {
   "cell_type": "code",
   "execution_count": 46,
   "metadata": {
    "collapsed": false
   },
   "outputs": [
    {
     "data": {
      "text/plain": [
       "0.068071060000000003"
      ]
     },
     "execution_count": 46,
     "metadata": {},
     "output_type": "execute_result"
    }
   ],
   "source": [
    "df.raJ2000.min()"
   ]
  },
  {
   "cell_type": "code",
   "execution_count": 47,
   "metadata": {
    "collapsed": false
   },
   "outputs": [
    {
     "data": {
      "text/plain": [
       "0.068069290000000005"
      ]
     },
     "execution_count": 47,
     "metadata": {},
     "output_type": "execute_result"
    }
   ],
   "source": [
    "gTile1_df.raJ2000_1.min()"
   ]
  },
  {
   "cell_type": "code",
   "execution_count": 48,
   "metadata": {
    "collapsed": false
   },
   "outputs": [
    {
     "data": {
      "text/plain": [
       "0.071554409999999999"
      ]
     },
     "execution_count": 48,
     "metadata": {},
     "output_type": "execute_result"
    }
   ],
   "source": [
    "gTile1_df.raJ2000_1.max()"
   ]
  },
  {
   "cell_type": "code",
   "execution_count": 49,
   "metadata": {
    "collapsed": false
   },
   "outputs": [
    {
     "data": {
      "text/plain": [
       "0.068068139999999999"
      ]
     },
     "execution_count": 49,
     "metadata": {},
     "output_type": "execute_result"
    }
   ],
   "source": [
    "gBase_df.raJ2000.min()"
   ]
  },
  {
   "cell_type": "code",
   "execution_count": 50,
   "metadata": {
    "collapsed": false
   },
   "outputs": [
    {
     "data": {
      "text/plain": [
       "4.0999272726469194"
      ]
     },
     "execution_count": 50,
     "metadata": {},
     "output_type": "execute_result"
    }
   ],
   "source": [
    "np.degrees(gBase_df.raJ2000.max())"
   ]
  },
  {
   "cell_type": "code",
   "execution_count": null,
   "metadata": {
    "collapsed": true
   },
   "outputs": [],
   "source": []
  }
 ],
 "metadata": {
  "kernelspec": {
   "display_name": "Python 2",
   "language": "python",
   "name": "python2"
  },
  "language_info": {
   "codemirror_mode": {
    "name": "ipython",
    "version": 2
   },
   "file_extension": ".py",
   "mimetype": "text/x-python",
   "name": "python",
   "nbconvert_exporter": "python",
   "pygments_lexer": "ipython2",
   "version": "2.7.11"
  }
 },
 "nbformat": 4,
 "nbformat_minor": 0
}
