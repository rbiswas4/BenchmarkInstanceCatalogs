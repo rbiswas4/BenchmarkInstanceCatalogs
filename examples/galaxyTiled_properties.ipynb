{
 "cells": [
  {
   "cell_type": "markdown",
   "metadata": {},
   "source": [
    "## Setup"
   ]
  },
  {
   "cell_type": "code",
   "execution_count": 1,
   "metadata": {
    "collapsed": true
   },
   "outputs": [],
   "source": [
    "from __future__ import division, print_function, absolute_import"
   ]
  },
  {
   "cell_type": "code",
   "execution_count": 2,
   "metadata": {
    "collapsed": true
   },
   "outputs": [],
   "source": [
    "import numpy as np\n",
    "import pandas as pd"
   ]
  },
  {
   "cell_type": "code",
   "execution_count": 3,
   "metadata": {
    "collapsed": false
   },
   "outputs": [
    {
     "name": "stderr",
     "output_type": "stream",
     "text": [
      "/usr/local/manual/anaconda/lib/python2.7/site-packages/matplotlib/__init__.py:872: UserWarning: axes.color_cycle is deprecated and replaced with axes.prop_cycle; please use the latter.\n",
      "  warnings.warn(self.msg_depr % (key, alt_key))\n"
     ]
    }
   ],
   "source": [
    "%matplotlib inline\n",
    "import matplotlib.pyplot as plt\n",
    "from matplotlib.patches import Polygon\n",
    "import seaborn as sns\n",
    "sns.set()"
   ]
  },
  {
   "cell_type": "code",
   "execution_count": 4,
   "metadata": {
    "collapsed": false
   },
   "outputs": [
    {
     "name": "stderr",
     "output_type": "stream",
     "text": [
      "/Users/rbiswas/src/LSST/sims_catalogs_generation/python/lsst/sims/catalogs/generation/db/dbConnection.py:438: UserWarning: Duplicate object type id 25 specified: \n",
      "Output object ids may not be unique.\n",
      "This may not be a problem if you do not want globally unique id values\n",
      "  'want globally unique id values')\n",
      "/Users/rbiswas/src/LSST/sims_catalogs_generation/python/lsst/sims/catalogs/generation/db/dbConnection.py:438: UserWarning: Duplicate object type id 40 specified: \n",
      "Output object ids may not be unique.\n",
      "This may not be a problem if you do not want globally unique id values\n",
      "  'want globally unique id values')\n"
     ]
    }
   ],
   "source": [
    "from lsst.sims.catalogs.measures.instance import InstanceCatalog\n",
    "import lsst.sims.catUtils.baseCatalogModels as bcm\n",
    "from lsst.sims.catalogs.generation.db import CatalogDBObject, DBObject\n",
    "from lsst.sims.catUtils.baseCatalogModels.GalaxyModels import GalaxyTileObj, GalaxyObj\n",
    "from lsst.sims.utils import ObservationMetaData"
   ]
  },
  {
   "cell_type": "markdown",
   "metadata": {},
   "source": [
    "## Catalogs"
   ]
  },
  {
   "cell_type": "markdown",
   "metadata": {},
   "source": [
    "Usual observation MetaData, for galaxy Tile. Note that this is shifted from the galaxy Base by a simple rotation along phi of size 2 degrees. We consider two Observation Meta Data boxes one which gives the base tile and one which is 4 degrees South. "
   ]
  },
  {
   "cell_type": "code",
   "execution_count": 5,
   "metadata": {
    "collapsed": true
   },
   "outputs": [],
   "source": [
    "observerMetaData = ObservationMetaData(boundType='box',\n",
    "                                  pointingRA=2.,\n",
    "                                  pointingDec=0.,\n",
    "                                  boundLength=0.1)"
   ]
  },
  {
   "cell_type": "code",
   "execution_count": 6,
   "metadata": {
    "collapsed": true
   },
   "outputs": [],
   "source": [
    "observerMetaData_1 = ObservationMetaData(boundType='box',\n",
    "                                  pointingRA=2.,\n",
    "                                  pointingDec=-4.,\n",
    "                                  boundLength=0.1)"
   ]
  },
  {
   "cell_type": "code",
   "execution_count": 7,
   "metadata": {
    "collapsed": true
   },
   "outputs": [],
   "source": [
    "class galCopy(InstanceCatalog):\n",
    "    column_outputs = ['galtileid', 'raJ2000', 'decJ2000', 'redshift', 'mass_stellar', 'absmag_r_total']#, 'a_d', 'b_d', 'pa_disk', 'mass_stellar', 'absmag_r_total']\n",
    "    override_formats = {'raJ2000': '%8e', 'decJ2000': '%8e', 'a_d': '%8e', 'b_d': '%8e', 'pa_disk': '%8e', \n",
    "                        'mass_stellar': '%8e', 'absmag_r_total': '%8e'}"
   ]
  },
  {
   "cell_type": "code",
   "execution_count": 8,
   "metadata": {
    "collapsed": true
   },
   "outputs": [],
   "source": [
    "def galIds(tileID, galTileID):\n",
    "    return galTileID - 100000000* tileID"
   ]
  },
  {
   "cell_type": "code",
   "execution_count": 9,
   "metadata": {
    "collapsed": false
   },
   "outputs": [
    {
     "name": "stderr",
     "output_type": "stream",
     "text": [
      "/usr/local/manual/anaconda/lib/python2.7/site-packages/sqlalchemy/dialects/mssql/base.py:1294: SAWarning: Did not recognize type 'geography' of column 'geopoint'\n",
      "  return fn(*arg, **kw)\n"
     ]
    }
   ],
   "source": [
    "galaxyTiled = GalaxyTileObj()"
   ]
  },
  {
   "cell_type": "code",
   "execution_count": 184,
   "metadata": {
    "collapsed": true
   },
   "outputs": [],
   "source": [
    "def myarccos(cosine):\n",
    "    \n",
    "    sinhalftheta = np.sqrt(0.5*(1.0 - cosine))\n",
    "    return 2.0 *np.arcsin(sinhalftheta)"
   ]
  },
  {
   "cell_type": "code",
   "execution_count": 213,
   "metadata": {
    "collapsed": false
   },
   "outputs": [],
   "source": [
    "theta = 4.0e-9"
   ]
  },
  {
   "cell_type": "code",
   "execution_count": 214,
   "metadata": {
    "collapsed": false
   },
   "outputs": [],
   "source": [
    "#theta = 2*np.arcsin(np.sqrt(0.5*(1 - theta)))"
   ]
  },
  {
   "cell_type": "code",
   "execution_count": 215,
   "metadata": {
    "collapsed": false
   },
   "outputs": [
    {
     "data": {
      "text/plain": [
       "1.0"
      ]
     },
     "execution_count": 215,
     "metadata": {},
     "output_type": "execute_result"
    }
   ],
   "source": [
    "np.cos(theta)"
   ]
  },
  {
   "cell_type": "code",
   "execution_count": 216,
   "metadata": {
    "collapsed": false
   },
   "outputs": [
    {
     "data": {
      "text/plain": [
       "0.0"
      ]
     },
     "execution_count": 216,
     "metadata": {},
     "output_type": "execute_result"
    }
   ],
   "source": [
    "2*np.arcsin(np.sqrt(0.5*(1 - np.cos(theta))))"
   ]
  },
  {
   "cell_type": "code",
   "execution_count": 219,
   "metadata": {
    "collapsed": false
   },
   "outputs": [],
   "source": [
    "lim = 1.0e-3/60./ 60. * np.pi/180."
   ]
  },
  {
   "cell_type": "code",
   "execution_count": 222,
   "metadata": {
    "collapsed": false
   },
   "outputs": [
    {
     "data": {
      "text/plain": [
       "0.0"
      ]
     },
     "execution_count": 222,
     "metadata": {},
     "output_type": "execute_result"
    }
   ],
   "source": [
    "np.arccos(np.cos(lim) - 1.) - np.pi/2."
   ]
  },
  {
   "cell_type": "code",
   "execution_count": 227,
   "metadata": {
    "collapsed": false
   },
   "outputs": [],
   "source": [
    "import palpy"
   ]
  },
  {
   "cell_type": "code",
   "execution_count": null,
   "metadata": {
    "collapsed": true
   },
   "outputs": [],
   "source": [
    "palpy.dsep()"
   ]
  },
  {
   "cell_type": "code",
   "execution_count": 194,
   "metadata": {
    "collapsed": false
   },
   "outputs": [
    {
     "data": {
      "text/plain": [
       "[<matplotlib.lines.Line2D at 0x11e91b350>]"
      ]
     },
     "execution_count": 194,
     "metadata": {},
     "output_type": "execute_result"
    },
    {
     "data": {
      "image/png": "[encoded data removed]",
      "text/plain": [
       "<matplotlib.figure.Figure at 0x11e91b3d0>"
      ]
     },
     "metadata": {},
     "output_type": "display_data"
    }
   ],
   "source": [
    "fig, ax = plt.subplots()\n",
    "rads = np.arange(0., np.pi, 0.000001)\n",
    "cosvals =  np.cos(rads)\n",
    "theta = myarccos(cosvals)\n",
    "phis = np.arccos(cosvals)\n",
    "ax.plot(cosvals, np.arccos(cosvals)/rads - 1.,'.')\n",
    "ax.plot(cosvals, theta/rads - 1.,'r.')\n",
    "#ax.set_xscale('log')"
   ]
  },
  {
   "cell_type": "code",
   "execution_count": 191,
   "metadata": {
    "collapsed": false
   },
   "outputs": [
    {
     "data": {
      "text/plain": [
       "array([  0.00000000e+00,   1.00004445e-06,   1.99997788e-06, ...,\n",
       "         3.14159000e+00,   3.14159100e+00,   3.14159200e+00])"
      ]
     },
     "execution_count": 191,
     "metadata": {},
     "output_type": "execute_result"
    }
   ],
   "source": [
    "phis"
   ]
  },
  {
   "cell_type": "code",
   "execution_count": 187,
   "metadata": {
    "collapsed": false
   },
   "outputs": [
    {
     "data": {
      "text/plain": [
       "array([  0.00000000e+00,   1.00004445e-06,   1.99997788e-06, ...,\n",
       "         3.14159000e+00,   3.14159100e+00,   3.14159200e+00])"
      ]
     },
     "execution_count": 187,
     "metadata": {},
     "output_type": "execute_result"
    }
   ],
   "source": [
    "theta"
   ]
  },
  {
   "cell_type": "code",
   "execution_count": 188,
   "metadata": {
    "collapsed": false
   },
   "outputs": [
    {
     "data": {
      "text/plain": [
       "array([  0.00000000e+00,   1.00000000e-06,   2.00000000e-06, ...,\n",
       "         3.14159000e+00,   3.14159100e+00,   3.14159200e+00])"
      ]
     },
     "execution_count": 188,
     "metadata": {},
     "output_type": "execute_result"
    }
   ],
   "source": [
    "rads"
   ]
  },
  {
   "cell_type": "code",
   "execution_count": 250,
   "metadata": {
    "collapsed": true
   },
   "outputs": [],
   "source": [
    "def angSep( df1 , df2,  theta, phi):\n",
    "    th1 = df1[theta].values\n",
    "    th2 = df2[theta].values\n",
    "    ph1 = df1[phi].values\n",
    "    ph2 = df2[phi].values\n",
    "    # Take the dot product\n",
    "    cos = np.sin(th1)* np.sin(th2)* np.cos(ph1- ph2) + np.cos(th1)*np.cos(th2)\n",
    "    # Calculate arccos differently to avoid loss of precision\n",
    "    #sinhalftheta = np.sqrt(0.5*(1.0 - cos))\n",
    "    #return 2.*(np.arcsin(sinhalftheta))\n",
    "    return cos, myarccos(cos)"
   ]
  },
  {
   "cell_type": "code",
   "execution_count": 269,
   "metadata": {
    "collapsed": true
   },
   "outputs": [],
   "source": [
    "def rotation(df, delta=0):\n",
    "    \"\"\"\n",
    "    delta : int\n",
    "    \"\"\"\n",
    "    d = delta\n",
    "    delta = np.radians(delta * 4.0)\n",
    "    cosDelta = np.cos(delta)\n",
    "    sinDelta = np.sin(delta)\n",
    "    \n",
    "    # spherical polar\n",
    "    df['theta'] = - df['decJ2000'] + np.pi/2.\n",
    "    df['phi'] = df['raJ2000'] - np.radians(2.)\n",
    "    sintheta = np.sin(df.theta)\n",
    "    costheta = np.cos(df.theta)\n",
    "    cosphi = np.cos(df.phi)\n",
    "    sinphi = np.sin(df.phi)\n",
    "    \n",
    "    zprime =  costheta * cosDelta - sinDelta * sintheta * cosphi\n",
    "    xprime = sintheta * cosphi * cosDelta + costheta * sinDelta\n",
    "    yprime = sintheta * sinphi\n",
    "    \n",
    "    rlat = np.sqrt(xprime **2. + yprime **2.)\n",
    "    #rlat = np.sqrt(1.0 - zprime**2)\n",
    "    #print(min(rlat), max(rlat))\n",
    "    thetaprime = 'thetaprime_{}'.format(int(d))\n",
    "    phiprime = 'phiprime_{}'.format(d)\n",
    "    # df[phiprime] = np.arccos(xprime / rlat) - np.radians(2.)\n",
    "    df[phiprime] = np.arcsin(yprime / rlat) - np.radians(2.)\n",
    "    \n",
    "    #df['x'] = sintheta * cosphi\n",
    "    #df['y'] = sintheta * sinphi\n",
    "    #df['z'] = costheta\n",
    "    #df['xprime'] = xprime\n",
    "    #df['yprime'] = yprime\n",
    "    #df['zprime'] = zprime\n",
    "    #df[thetaprime] = np.arccos(zprime)\n",
    "    df[thetaprime] = myarccos(zprime)\n",
    "    #df[thetaprime] = np.arctan(rlat/zprime) \n",
    "    #df.thetaprime[df[thetaprime] < 0 ] += np.pi\n",
    "    #df[thetaprime] = np.arcsin(np.sqrt(xprime**2. + yprime**2))#*np.sign(zprime)\n",
    "    # df[thetaprime] = np.arcsin(rlat) * np.sign(zprime)"
   ]
  },
  {
   "cell_type": "markdown",
   "metadata": {},
   "source": [
    "#### On Base Patch"
   ]
  },
  {
   "cell_type": "code",
   "execution_count": 44,
   "metadata": {
    "collapsed": true
   },
   "outputs": [],
   "source": [
    "# Read the two tiles into pd.DataFrames"
   ]
  },
  {
   "cell_type": "code",
   "execution_count": 51,
   "metadata": {
    "collapsed": false
   },
   "outputs": [
    {
     "name": "stderr",
     "output_type": "stream",
     "text": [
      "/usr/local/manual/anaconda/lib/python2.7/site-packages/ipykernel/__main__.py:4: ParserWarning: Falling back to the 'python' engine because the 'c' engine does not support regex separators; you can avoid this warning by specifying engine='python'.\n"
     ]
    },
    {
     "data": {
      "text/html": [
       "<div>\n",
       "<table border=\"1\" class=\"dataframe\">\n",
       "  <thead>\n",
       "    <tr style=\"text-align: right;\">\n",
       "      <th></th>\n",
       "      <th>raJ2000</th>\n",
       "      <th>decJ2000</th>\n",
       "      <th>redshift</th>\n",
       "      <th>mass_stellar</th>\n",
       "      <th>absmag_r_total</th>\n",
       "    </tr>\n",
       "    <tr>\n",
       "      <th>galtileid</th>\n",
       "      <th></th>\n",
       "      <th></th>\n",
       "      <th></th>\n",
       "      <th></th>\n",
       "      <th></th>\n",
       "    </tr>\n",
       "  </thead>\n",
       "  <tbody>\n",
       "    <tr>\n",
       "      <th>2209932244</th>\n",
       "      <td>0.034950</td>\n",
       "      <td>-0.000120</td>\n",
       "      <td>0.1995</td>\n",
       "      <td>0.000161</td>\n",
       "      <td>-13.24359</td>\n",
       "    </tr>\n",
       "    <tr>\n",
       "      <th>2201788073</th>\n",
       "      <td>0.034923</td>\n",
       "      <td>-0.000554</td>\n",
       "      <td>0.1964</td>\n",
       "      <td>0.002476</td>\n",
       "      <td>-15.88512</td>\n",
       "    </tr>\n",
       "    <tr>\n",
       "      <th>2201787850</th>\n",
       "      <td>0.035353</td>\n",
       "      <td>-0.000105</td>\n",
       "      <td>0.1835</td>\n",
       "      <td>0.002417</td>\n",
       "      <td>-15.63991</td>\n",
       "    </tr>\n",
       "    <tr>\n",
       "      <th>2200394567</th>\n",
       "      <td>0.035337</td>\n",
       "      <td>-0.000311</td>\n",
       "      <td>0.2112</td>\n",
       "      <td>0.069907</td>\n",
       "      <td>-18.30111</td>\n",
       "    </tr>\n",
       "    <tr>\n",
       "      <th>2211503240</th>\n",
       "      <td>0.035103</td>\n",
       "      <td>-0.000191</td>\n",
       "      <td>0.1947</td>\n",
       "      <td>0.000087</td>\n",
       "      <td>-13.10250</td>\n",
       "    </tr>\n",
       "  </tbody>\n",
       "</table>\n",
       "</div>"
      ],
      "text/plain": [
       "             raJ2000  decJ2000  redshift  mass_stellar  absmag_r_total\n",
       "galtileid                                                             \n",
       "2209932244  0.034950 -0.000120    0.1995      0.000161       -13.24359\n",
       "2201788073  0.034923 -0.000554    0.1964      0.002476       -15.88512\n",
       "2201787850  0.035353 -0.000105    0.1835      0.002417       -15.63991\n",
       "2200394567  0.035337 -0.000311    0.2112      0.069907       -18.30111\n",
       "2211503240  0.035103 -0.000191    0.1947      0.000087       -13.10250"
      ]
     },
     "execution_count": 51,
     "metadata": {},
     "output_type": "execute_result"
    }
   ],
   "source": [
    "constr='redshift < 0.4'\n",
    "gBase = galCopy(galaxyTiled, obs_metadata=observerMetaData, constraint=constr)\n",
    "gBase.write_catalog('gBase.csv')\n",
    "gBase_df  = pd.read_csv('gBase.csv', delimiter=', ',index_col='#galtileid')\n",
    "gBase_df.index.name = 'galtileid'\n",
    "gBase_df.head()"
   ]
  },
  {
   "cell_type": "code",
   "execution_count": 52,
   "metadata": {
    "collapsed": false
   },
   "outputs": [
    {
     "data": {
      "text/html": [
       "<div>\n",
       "<table border=\"1\" class=\"dataframe\">\n",
       "  <thead>\n",
       "    <tr style=\"text-align: right;\">\n",
       "      <th></th>\n",
       "      <th>raJ2000</th>\n",
       "      <th>decJ2000</th>\n",
       "      <th>redshift</th>\n",
       "      <th>mass_stellar</th>\n",
       "      <th>absmag_r_total</th>\n",
       "    </tr>\n",
       "    <tr>\n",
       "      <th>id</th>\n",
       "      <th></th>\n",
       "      <th></th>\n",
       "      <th></th>\n",
       "      <th></th>\n",
       "      <th></th>\n",
       "    </tr>\n",
       "  </thead>\n",
       "  <tbody>\n",
       "    <tr>\n",
       "      <th>9932244</th>\n",
       "      <td>0.034950</td>\n",
       "      <td>-0.000120</td>\n",
       "      <td>0.1995</td>\n",
       "      <td>0.000161</td>\n",
       "      <td>-13.24359</td>\n",
       "    </tr>\n",
       "    <tr>\n",
       "      <th>1788073</th>\n",
       "      <td>0.034923</td>\n",
       "      <td>-0.000554</td>\n",
       "      <td>0.1964</td>\n",
       "      <td>0.002476</td>\n",
       "      <td>-15.88512</td>\n",
       "    </tr>\n",
       "    <tr>\n",
       "      <th>1787850</th>\n",
       "      <td>0.035353</td>\n",
       "      <td>-0.000105</td>\n",
       "      <td>0.1835</td>\n",
       "      <td>0.002417</td>\n",
       "      <td>-15.63991</td>\n",
       "    </tr>\n",
       "    <tr>\n",
       "      <th>394567</th>\n",
       "      <td>0.035337</td>\n",
       "      <td>-0.000311</td>\n",
       "      <td>0.2112</td>\n",
       "      <td>0.069907</td>\n",
       "      <td>-18.30111</td>\n",
       "    </tr>\n",
       "    <tr>\n",
       "      <th>11503240</th>\n",
       "      <td>0.035103</td>\n",
       "      <td>-0.000191</td>\n",
       "      <td>0.1947</td>\n",
       "      <td>0.000087</td>\n",
       "      <td>-13.10250</td>\n",
       "    </tr>\n",
       "  </tbody>\n",
       "</table>\n",
       "</div>"
      ],
      "text/plain": [
       "           raJ2000  decJ2000  redshift  mass_stellar  absmag_r_total\n",
       "id                                                                  \n",
       "9932244   0.034950 -0.000120    0.1995      0.000161       -13.24359\n",
       "1788073   0.034923 -0.000554    0.1964      0.002476       -15.88512\n",
       "1787850   0.035353 -0.000105    0.1835      0.002417       -15.63991\n",
       "394567    0.035337 -0.000311    0.2112      0.069907       -18.30111\n",
       "11503240  0.035103 -0.000191    0.1947      0.000087       -13.10250"
      ]
     },
     "execution_count": 52,
     "metadata": {},
     "output_type": "execute_result"
    }
   ],
   "source": [
    "gBase_df['id'] = galIds(22, gBase_df.index.values)\n",
    "gBase_df.set_index('id', inplace=True)\n",
    "gBase_df.head()"
   ]
  },
  {
   "cell_type": "markdown",
   "metadata": {},
   "source": [
    "#### On a Tile 4 degrees South"
   ]
  },
  {
   "cell_type": "code",
   "execution_count": 53,
   "metadata": {
    "collapsed": false
   },
   "outputs": [
    {
     "name": "stderr",
     "output_type": "stream",
     "text": [
      "/usr/local/manual/anaconda/lib/python2.7/site-packages/ipykernel/__main__.py:3: ParserWarning: Falling back to the 'python' engine because the 'c' engine does not support regex separators; you can avoid this warning by specifying engine='python'.\n",
      "  app.launch_new_instance()\n"
     ]
    },
    {
     "data": {
      "text/html": [
       "<div>\n",
       "<table border=\"1\" class=\"dataframe\">\n",
       "  <thead>\n",
       "    <tr style=\"text-align: right;\">\n",
       "      <th></th>\n",
       "      <th>raJ2000</th>\n",
       "      <th>decJ2000</th>\n",
       "      <th>redshift</th>\n",
       "      <th>mass_stellar</th>\n",
       "      <th>absmag_r_total</th>\n",
       "    </tr>\n",
       "    <tr>\n",
       "      <th>galtileid</th>\n",
       "      <th></th>\n",
       "      <th></th>\n",
       "      <th></th>\n",
       "      <th></th>\n",
       "      <th></th>\n",
       "    </tr>\n",
       "  </thead>\n",
       "  <tbody>\n",
       "    <tr>\n",
       "      <th>2109932244</th>\n",
       "      <td>0.034951</td>\n",
       "      <td>-0.069933</td>\n",
       "      <td>0.1995</td>\n",
       "      <td>0.000161</td>\n",
       "      <td>-13.24359</td>\n",
       "    </tr>\n",
       "    <tr>\n",
       "      <th>2101788073</th>\n",
       "      <td>0.034924</td>\n",
       "      <td>-0.070367</td>\n",
       "      <td>0.1964</td>\n",
       "      <td>0.002476</td>\n",
       "      <td>-15.88512</td>\n",
       "    </tr>\n",
       "    <tr>\n",
       "      <th>2101787850</th>\n",
       "      <td>0.035354</td>\n",
       "      <td>-0.069918</td>\n",
       "      <td>0.1835</td>\n",
       "      <td>0.002417</td>\n",
       "      <td>-15.63991</td>\n",
       "    </tr>\n",
       "    <tr>\n",
       "      <th>2100394567</th>\n",
       "      <td>0.035338</td>\n",
       "      <td>-0.070124</td>\n",
       "      <td>0.2112</td>\n",
       "      <td>0.069907</td>\n",
       "      <td>-18.30111</td>\n",
       "    </tr>\n",
       "    <tr>\n",
       "      <th>2111503240</th>\n",
       "      <td>0.035104</td>\n",
       "      <td>-0.070005</td>\n",
       "      <td>0.1947</td>\n",
       "      <td>0.000087</td>\n",
       "      <td>-13.10250</td>\n",
       "    </tr>\n",
       "  </tbody>\n",
       "</table>\n",
       "</div>"
      ],
      "text/plain": [
       "             raJ2000  decJ2000  redshift  mass_stellar  absmag_r_total\n",
       "galtileid                                                             \n",
       "2109932244  0.034951 -0.069933    0.1995      0.000161       -13.24359\n",
       "2101788073  0.034924 -0.070367    0.1964      0.002476       -15.88512\n",
       "2101787850  0.035354 -0.069918    0.1835      0.002417       -15.63991\n",
       "2100394567  0.035338 -0.070124    0.2112      0.069907       -18.30111\n",
       "2111503240  0.035104 -0.070005    0.1947      0.000087       -13.10250"
      ]
     },
     "execution_count": 53,
     "metadata": {},
     "output_type": "execute_result"
    }
   ],
   "source": [
    "gTile_1 = galCopy(galaxyTiled, obs_metadata=observerMetaData_1, constraint=constr)\n",
    "gTile_1.write_catalog('gTile_1.csv')\n",
    "gTile1_df  = pd.read_csv('gTile_1.csv', delimiter=', ', index_col='#galtileid')\n",
    "gTile1_df.index.name = 'galtileid'\n",
    "gTile1_df.head()"
   ]
  },
  {
   "cell_type": "code",
   "execution_count": 54,
   "metadata": {
    "collapsed": false
   },
   "outputs": [
    {
     "data": {
      "text/html": [
       "<div>\n",
       "<table border=\"1\" class=\"dataframe\">\n",
       "  <thead>\n",
       "    <tr style=\"text-align: right;\">\n",
       "      <th></th>\n",
       "      <th>raJ2000_1</th>\n",
       "      <th>decJ2000_1</th>\n",
       "      <th>redshift_1</th>\n",
       "      <th>mass_stellar_1</th>\n",
       "      <th>absmag_r_total_1</th>\n",
       "    </tr>\n",
       "    <tr>\n",
       "      <th>id</th>\n",
       "      <th></th>\n",
       "      <th></th>\n",
       "      <th></th>\n",
       "      <th></th>\n",
       "      <th></th>\n",
       "    </tr>\n",
       "  </thead>\n",
       "  <tbody>\n",
       "    <tr>\n",
       "      <th>9932244</th>\n",
       "      <td>0.034951</td>\n",
       "      <td>-0.069933</td>\n",
       "      <td>0.1995</td>\n",
       "      <td>0.000161</td>\n",
       "      <td>-13.24359</td>\n",
       "    </tr>\n",
       "    <tr>\n",
       "      <th>1788073</th>\n",
       "      <td>0.034924</td>\n",
       "      <td>-0.070367</td>\n",
       "      <td>0.1964</td>\n",
       "      <td>0.002476</td>\n",
       "      <td>-15.88512</td>\n",
       "    </tr>\n",
       "    <tr>\n",
       "      <th>1787850</th>\n",
       "      <td>0.035354</td>\n",
       "      <td>-0.069918</td>\n",
       "      <td>0.1835</td>\n",
       "      <td>0.002417</td>\n",
       "      <td>-15.63991</td>\n",
       "    </tr>\n",
       "    <tr>\n",
       "      <th>394567</th>\n",
       "      <td>0.035338</td>\n",
       "      <td>-0.070124</td>\n",
       "      <td>0.2112</td>\n",
       "      <td>0.069907</td>\n",
       "      <td>-18.30111</td>\n",
       "    </tr>\n",
       "    <tr>\n",
       "      <th>11503240</th>\n",
       "      <td>0.035104</td>\n",
       "      <td>-0.070005</td>\n",
       "      <td>0.1947</td>\n",
       "      <td>0.000087</td>\n",
       "      <td>-13.10250</td>\n",
       "    </tr>\n",
       "  </tbody>\n",
       "</table>\n",
       "</div>"
      ],
      "text/plain": [
       "          raJ2000_1  decJ2000_1  redshift_1  mass_stellar_1  absmag_r_total_1\n",
       "id                                                                           \n",
       "9932244    0.034951   -0.069933      0.1995        0.000161         -13.24359\n",
       "1788073    0.034924   -0.070367      0.1964        0.002476         -15.88512\n",
       "1787850    0.035354   -0.069918      0.1835        0.002417         -15.63991\n",
       "394567     0.035338   -0.070124      0.2112        0.069907         -18.30111\n",
       "11503240   0.035104   -0.070005      0.1947        0.000087         -13.10250"
      ]
     },
     "execution_count": 54,
     "metadata": {},
     "output_type": "execute_result"
    }
   ],
   "source": [
    "gTile1_df['id'] = galIds(21, gTile1_df.index.values)\n",
    "gTile1_df.set_index('id', inplace=True)\n",
    "gTile1_df.rename(columns={'raJ2000':'raJ2000_1', 'decJ2000':'decJ2000_1', 'redshift': 'redshift_1',\n",
    "                          'mass_stellar':'mass_stellar_1', 'absmag_r_total':'absmag_r_total_1'},\n",
    "                 inplace=True)\n",
    "gTile1_df.head()"
   ]
  },
  {
   "cell_type": "markdown",
   "metadata": {},
   "source": [
    "We will merge the two dataFrames, using the ids of the galaxy calculated from the galtileID and the knowledge of the tileID. We look up the tileID for the two tiles as 22, 21 respectively."
   ]
  },
  {
   "cell_type": "code",
   "execution_count": 55,
   "metadata": {
    "collapsed": true
   },
   "outputs": [],
   "source": [
    "merged =  pd.concat([gBase_df, gTile1_df], axis=1)"
   ]
  },
  {
   "cell_type": "code",
   "execution_count": 56,
   "metadata": {
    "collapsed": false
   },
   "outputs": [
    {
     "data": {
      "text/html": [
       "<div>\n",
       "<table border=\"1\" class=\"dataframe\">\n",
       "  <thead>\n",
       "    <tr style=\"text-align: right;\">\n",
       "      <th></th>\n",
       "      <th>raJ2000</th>\n",
       "      <th>decJ2000</th>\n",
       "      <th>redshift</th>\n",
       "      <th>mass_stellar</th>\n",
       "      <th>absmag_r_total</th>\n",
       "      <th>raJ2000_1</th>\n",
       "      <th>decJ2000_1</th>\n",
       "      <th>redshift_1</th>\n",
       "      <th>mass_stellar_1</th>\n",
       "      <th>absmag_r_total_1</th>\n",
       "    </tr>\n",
       "    <tr>\n",
       "      <th>id</th>\n",
       "      <th></th>\n",
       "      <th></th>\n",
       "      <th></th>\n",
       "      <th></th>\n",
       "      <th></th>\n",
       "      <th></th>\n",
       "      <th></th>\n",
       "      <th></th>\n",
       "      <th></th>\n",
       "      <th></th>\n",
       "    </tr>\n",
       "  </thead>\n",
       "  <tbody>\n",
       "    <tr>\n",
       "      <th>259</th>\n",
       "      <td>0.033403</td>\n",
       "      <td>0.001036</td>\n",
       "      <td>0.1728</td>\n",
       "      <td>0.009030</td>\n",
       "      <td>-15.33565</td>\n",
       "      <td>0.033400</td>\n",
       "      <td>-0.068777</td>\n",
       "      <td>0.1728</td>\n",
       "      <td>0.009030</td>\n",
       "      <td>-15.33565</td>\n",
       "    </tr>\n",
       "    <tr>\n",
       "      <th>371</th>\n",
       "      <td>0.036230</td>\n",
       "      <td>-0.000562</td>\n",
       "      <td>0.0421</td>\n",
       "      <td>0.416331</td>\n",
       "      <td>-19.77124</td>\n",
       "      <td>0.036233</td>\n",
       "      <td>-0.070375</td>\n",
       "      <td>0.0421</td>\n",
       "      <td>0.416331</td>\n",
       "      <td>-19.77124</td>\n",
       "    </tr>\n",
       "    <tr>\n",
       "      <th>416</th>\n",
       "      <td>0.034866</td>\n",
       "      <td>0.000352</td>\n",
       "      <td>0.0544</td>\n",
       "      <td>2.260572</td>\n",
       "      <td>-21.29976</td>\n",
       "      <td>0.034866</td>\n",
       "      <td>-0.069461</td>\n",
       "      <td>0.0544</td>\n",
       "      <td>2.260572</td>\n",
       "      <td>-21.29976</td>\n",
       "    </tr>\n",
       "    <tr>\n",
       "      <th>1083</th>\n",
       "      <td>0.034761</td>\n",
       "      <td>-0.001270</td>\n",
       "      <td>0.1438</td>\n",
       "      <td>18.788060</td>\n",
       "      <td>-23.22925</td>\n",
       "      <td>0.034761</td>\n",
       "      <td>-0.071083</td>\n",
       "      <td>0.1438</td>\n",
       "      <td>18.788060</td>\n",
       "      <td>-23.22925</td>\n",
       "    </tr>\n",
       "    <tr>\n",
       "      <th>1605</th>\n",
       "      <td>0.034287</td>\n",
       "      <td>-0.000954</td>\n",
       "      <td>0.0545</td>\n",
       "      <td>1.074812</td>\n",
       "      <td>-20.27710</td>\n",
       "      <td>0.034285</td>\n",
       "      <td>-0.070767</td>\n",
       "      <td>0.0545</td>\n",
       "      <td>1.074812</td>\n",
       "      <td>-20.27710</td>\n",
       "    </tr>\n",
       "  </tbody>\n",
       "</table>\n",
       "</div>"
      ],
      "text/plain": [
       "       raJ2000  decJ2000  redshift  mass_stellar  absmag_r_total  raJ2000_1  \\\n",
       "id                                                                            \n",
       "259   0.033403  0.001036    0.1728      0.009030       -15.33565   0.033400   \n",
       "371   0.036230 -0.000562    0.0421      0.416331       -19.77124   0.036233   \n",
       "416   0.034866  0.000352    0.0544      2.260572       -21.29976   0.034866   \n",
       "1083  0.034761 -0.001270    0.1438     18.788060       -23.22925   0.034761   \n",
       "1605  0.034287 -0.000954    0.0545      1.074812       -20.27710   0.034285   \n",
       "\n",
       "      decJ2000_1  redshift_1  mass_stellar_1  absmag_r_total_1  \n",
       "id                                                              \n",
       "259    -0.068777      0.1728        0.009030         -15.33565  \n",
       "371    -0.070375      0.0421        0.416331         -19.77124  \n",
       "416    -0.069461      0.0544        2.260572         -21.29976  \n",
       "1083   -0.071083      0.1438       18.788060         -23.22925  \n",
       "1605   -0.070767      0.0545        1.074812         -20.27710  "
      ]
     },
     "execution_count": 56,
     "metadata": {},
     "output_type": "execute_result"
    }
   ],
   "source": [
    "merged.head()"
   ]
  },
  {
   "cell_type": "markdown",
   "metadata": {},
   "source": [
    "How many galaxies in one which are not in the other? Ideally, I think this number should be zero. In the following plot, these points are labelled in blue."
   ]
  },
  {
   "cell_type": "code",
   "execution_count": 57,
   "metadata": {
    "collapsed": true
   },
   "outputs": [],
   "source": [
    "uncommon = merged[merged.isnull().any(axis=1)].copy()"
   ]
  },
  {
   "cell_type": "code",
   "execution_count": 58,
   "metadata": {
    "collapsed": false
   },
   "outputs": [
    {
     "data": {
      "text/plain": [
       "4"
      ]
     },
     "execution_count": 58,
     "metadata": {},
     "output_type": "execute_result"
    }
   ],
   "source": [
    "len(uncommon)"
   ]
  },
  {
   "cell_type": "code",
   "execution_count": 59,
   "metadata": {
    "collapsed": false
   },
   "outputs": [
    {
     "data": {
      "text/plain": [
       "2284"
      ]
     },
     "execution_count": 59,
     "metadata": {},
     "output_type": "execute_result"
    }
   ],
   "source": [
    "len(merged)"
   ]
  },
  {
   "cell_type": "code",
   "execution_count": 60,
   "metadata": {
    "collapsed": false
   },
   "outputs": [
    {
     "data": {
      "text/plain": [
       "<matplotlib.text.Text at 0x1029b9990>"
      ]
     },
     "execution_count": 60,
     "metadata": {},
     "output_type": "execute_result"
    },
    {
     "data": {
      "image/png": "[encoded data removed]",
      "text/plain": [
       "<matplotlib.figure.Figure at 0x116c94c50>"
      ]
     },
     "metadata": {},
     "output_type": "display_data"
    }
   ],
   "source": [
    "fig, ax = plt.subplots(2, 1, figsize=(6, 12), sharex=True, squeeze=True)\n",
    "ax[0].plot(merged.raJ2000, merged.decJ2000, 'y.')\n",
    "ax[0].scatter(uncommon.raJ2000, uncommon.decJ2000, color='b')\n",
    "ax[1].plot(merged.raJ2000_1, merged.decJ2000_1, 'y.')\n",
    "ax[1].scatter(uncommon.raJ2000_1, uncommon.decJ2000_1, color='r')\n",
    "ax[0].set_ylabel('dec (rad)')\n",
    "ax[1].set_ylabel('dec (rad)')\n",
    "ax[1].set_xlabel('ra (rad)')"
   ]
  },
  {
   "cell_type": "code",
   "execution_count": 61,
   "metadata": {
    "collapsed": false
   },
   "outputs": [
    {
     "name": "stdout",
     "output_type": "stream",
     "text": [
      "2.0 2282.0\n"
     ]
    }
   ],
   "source": [
    "print(len(uncommon)/2., (len(gBase_df) + len(gTile1_df) )/2.)"
   ]
  },
  {
   "cell_type": "code",
   "execution_count": 62,
   "metadata": {
    "collapsed": false
   },
   "outputs": [
    {
     "data": {
      "text/plain": [
       "47.201694884823787"
      ]
     },
     "execution_count": 62,
     "metadata": {},
     "output_type": "execute_result"
    }
   ],
   "source": [
    "np.sqrt(2228.)"
   ]
  },
  {
   "cell_type": "markdown",
   "metadata": {},
   "source": [
    "## Tests Galaxies are correctly identified"
   ]
  },
  {
   "cell_type": "code",
   "execution_count": 270,
   "metadata": {
    "collapsed": false
   },
   "outputs": [],
   "source": [
    "common = merged[~merged.isnull().any(axis=1)]"
   ]
  },
  {
   "cell_type": "code",
   "execution_count": 64,
   "metadata": {
    "collapsed": false
   },
   "outputs": [
    {
     "data": {
      "text/plain": [
       "True"
      ]
     },
     "execution_count": 64,
     "metadata": {},
     "output_type": "execute_result"
    }
   ],
   "source": [
    "np.allclose(common.redshift, common.redshift_1)"
   ]
  },
  {
   "cell_type": "code",
   "execution_count": 65,
   "metadata": {
    "collapsed": false
   },
   "outputs": [
    {
     "data": {
      "text/plain": [
       "True"
      ]
     },
     "execution_count": 65,
     "metadata": {},
     "output_type": "execute_result"
    }
   ],
   "source": [
    "np.allclose(common.mass_stellar, common.mass_stellar_1)"
   ]
  },
  {
   "cell_type": "code",
   "execution_count": 66,
   "metadata": {
    "collapsed": false
   },
   "outputs": [
    {
     "data": {
      "text/plain": [
       "True"
      ]
     },
     "execution_count": 66,
     "metadata": {},
     "output_type": "execute_result"
    }
   ],
   "source": [
    "np.allclose(common.absmag_r_total, common.absmag_r_total_1)"
   ]
  },
  {
   "cell_type": "code",
   "execution_count": 67,
   "metadata": {
    "collapsed": false
   },
   "outputs": [
    {
     "name": "stdout",
     "output_type": "stream",
     "text": [
      "2280\n"
     ]
    }
   ],
   "source": [
    "print(len(common))"
   ]
  },
  {
   "cell_type": "markdown",
   "metadata": {},
   "source": [
    "## Angular Separations"
   ]
  },
  {
   "cell_type": "code",
   "execution_count": 271,
   "metadata": {
    "collapsed": false
   },
   "outputs": [
    {
     "name": "stderr",
     "output_type": "stream",
     "text": [
      "/usr/local/manual/anaconda/lib/python2.7/site-packages/ipykernel/__main__.py:11: SettingWithCopyWarning: \n",
      "A value is trying to be set on a copy of a slice from a DataFrame.\n",
      "Try using .loc[row_indexer,col_indexer] = value instead\n",
      "\n",
      "See the caveats in the documentation: http://pandas.pydata.org/pandas-docs/stable/indexing.html#indexing-view-versus-copy\n",
      "/usr/local/manual/anaconda/lib/python2.7/site-packages/ipykernel/__main__.py:12: SettingWithCopyWarning: \n",
      "A value is trying to be set on a copy of a slice from a DataFrame.\n",
      "Try using .loc[row_indexer,col_indexer] = value instead\n",
      "\n",
      "See the caveats in the documentation: http://pandas.pydata.org/pandas-docs/stable/indexing.html#indexing-view-versus-copy\n",
      "/usr/local/manual/anaconda/lib/python2.7/site-packages/ipykernel/__main__.py:28: SettingWithCopyWarning: \n",
      "A value is trying to be set on a copy of a slice from a DataFrame.\n",
      "Try using .loc[row_indexer,col_indexer] = value instead\n",
      "\n",
      "See the caveats in the documentation: http://pandas.pydata.org/pandas-docs/stable/indexing.html#indexing-view-versus-copy\n",
      "/usr/local/manual/anaconda/lib/python2.7/site-packages/ipykernel/__main__.py:37: SettingWithCopyWarning: \n",
      "A value is trying to be set on a copy of a slice from a DataFrame.\n",
      "Try using .loc[row_indexer,col_indexer] = value instead\n",
      "\n",
      "See the caveats in the documentation: http://pandas.pydata.org/pandas-docs/stable/indexing.html#indexing-view-versus-copy\n"
     ]
    },
    {
     "name": "stdout",
     "output_type": "stream",
     "text": [
      "1 loops, best of 3: 896 ms per loop\n"
     ]
    }
   ],
   "source": [
    "%timeit rotation(common, delta=1)"
   ]
  },
  {
   "cell_type": "code",
   "execution_count": 272,
   "metadata": {
    "collapsed": false
   },
   "outputs": [],
   "source": [
    "NSelect = 1000\n",
    "sel = np.random.choice(common.index.values, NSelect*2, replace=False)"
   ]
  },
  {
   "cell_type": "code",
   "execution_count": 273,
   "metadata": {
    "collapsed": true
   },
   "outputs": [],
   "source": [
    "split_1 = common.ix[sel[:NSelect]]\n",
    "split_2 = common.ix[sel[NSelect:]]"
   ]
  },
  {
   "cell_type": "code",
   "execution_count": 274,
   "metadata": {
    "collapsed": false
   },
   "outputs": [
    {
     "name": "stdout",
     "output_type": "stream",
     "text": [
      "1000 1000\n"
     ]
    }
   ],
   "source": [
    "print(len(split_1), len(split_2))"
   ]
  },
  {
   "cell_type": "code",
   "execution_count": 275,
   "metadata": {
    "collapsed": false
   },
   "outputs": [
    {
     "data": {
      "text/html": [
       "<div>\n",
       "<table border=\"1\" class=\"dataframe\">\n",
       "  <thead>\n",
       "    <tr style=\"text-align: right;\">\n",
       "      <th></th>\n",
       "      <th>raJ2000</th>\n",
       "      <th>decJ2000</th>\n",
       "      <th>redshift</th>\n",
       "      <th>mass_stellar</th>\n",
       "      <th>absmag_r_total</th>\n",
       "      <th>raJ2000_1</th>\n",
       "      <th>decJ2000_1</th>\n",
       "      <th>redshift_1</th>\n",
       "      <th>mass_stellar_1</th>\n",
       "      <th>absmag_r_total_1</th>\n",
       "      <th>theta</th>\n",
       "      <th>phi</th>\n",
       "      <th>phiprime_1</th>\n",
       "      <th>thetaprime_1</th>\n",
       "    </tr>\n",
       "    <tr>\n",
       "      <th>id</th>\n",
       "      <th></th>\n",
       "      <th></th>\n",
       "      <th></th>\n",
       "      <th></th>\n",
       "      <th></th>\n",
       "      <th></th>\n",
       "      <th></th>\n",
       "      <th></th>\n",
       "      <th></th>\n",
       "      <th></th>\n",
       "      <th></th>\n",
       "      <th></th>\n",
       "      <th></th>\n",
       "      <th></th>\n",
       "    </tr>\n",
       "  </thead>\n",
       "  <tbody>\n",
       "    <tr>\n",
       "      <th>58497</th>\n",
       "      <td>0.035309</td>\n",
       "      <td>0.000608</td>\n",
       "      <td>0.1258</td>\n",
       "      <td>0.166246</td>\n",
       "      <td>-18.91549</td>\n",
       "      <td>0.035309</td>\n",
       "      <td>-0.069205</td>\n",
       "      <td>0.1258</td>\n",
       "      <td>0.166246</td>\n",
       "      <td>-18.91549</td>\n",
       "      <td>1.570188</td>\n",
       "      <td>0.000402</td>\n",
       "      <td>-0.034504</td>\n",
       "      <td>1.640002</td>\n",
       "    </tr>\n",
       "    <tr>\n",
       "      <th>3766103</th>\n",
       "      <td>0.034684</td>\n",
       "      <td>0.001007</td>\n",
       "      <td>0.3961</td>\n",
       "      <td>0.024997</td>\n",
       "      <td>-16.78628</td>\n",
       "      <td>0.034684</td>\n",
       "      <td>-0.068806</td>\n",
       "      <td>0.3961</td>\n",
       "      <td>0.024997</td>\n",
       "      <td>-16.78628</td>\n",
       "      <td>1.569789</td>\n",
       "      <td>-0.000222</td>\n",
       "      <td>-0.035129</td>\n",
       "      <td>1.639602</td>\n",
       "    </tr>\n",
       "    <tr>\n",
       "      <th>423389</th>\n",
       "      <td>0.035127</td>\n",
       "      <td>-0.000256</td>\n",
       "      <td>0.3699</td>\n",
       "      <td>0.490097</td>\n",
       "      <td>-19.73293</td>\n",
       "      <td>0.035128</td>\n",
       "      <td>-0.070069</td>\n",
       "      <td>0.3699</td>\n",
       "      <td>0.490097</td>\n",
       "      <td>-19.73293</td>\n",
       "      <td>1.571052</td>\n",
       "      <td>0.000220</td>\n",
       "      <td>-0.034686</td>\n",
       "      <td>1.640866</td>\n",
       "    </tr>\n",
       "    <tr>\n",
       "      <th>7679642</th>\n",
       "      <td>0.034897</td>\n",
       "      <td>0.000304</td>\n",
       "      <td>0.2736</td>\n",
       "      <td>0.002655</td>\n",
       "      <td>-14.59074</td>\n",
       "      <td>0.034897</td>\n",
       "      <td>-0.069510</td>\n",
       "      <td>0.2736</td>\n",
       "      <td>0.002655</td>\n",
       "      <td>-14.59074</td>\n",
       "      <td>1.570493</td>\n",
       "      <td>-0.000010</td>\n",
       "      <td>-0.034916</td>\n",
       "      <td>1.640306</td>\n",
       "    </tr>\n",
       "    <tr>\n",
       "      <th>5563134</th>\n",
       "      <td>0.033876</td>\n",
       "      <td>-0.001283</td>\n",
       "      <td>0.2596</td>\n",
       "      <td>0.003623</td>\n",
       "      <td>-14.84929</td>\n",
       "      <td>0.033874</td>\n",
       "      <td>-0.071096</td>\n",
       "      <td>0.2596</td>\n",
       "      <td>0.003623</td>\n",
       "      <td>-14.84929</td>\n",
       "      <td>1.572080</td>\n",
       "      <td>-0.001030</td>\n",
       "      <td>-0.035939</td>\n",
       "      <td>1.641893</td>\n",
       "    </tr>\n",
       "  </tbody>\n",
       "</table>\n",
       "</div>"
      ],
      "text/plain": [
       "          raJ2000  decJ2000  redshift  mass_stellar  absmag_r_total  \\\n",
       "id                                                                    \n",
       "58497    0.035309  0.000608    0.1258      0.166246       -18.91549   \n",
       "3766103  0.034684  0.001007    0.3961      0.024997       -16.78628   \n",
       "423389   0.035127 -0.000256    0.3699      0.490097       -19.73293   \n",
       "7679642  0.034897  0.000304    0.2736      0.002655       -14.59074   \n",
       "5563134  0.033876 -0.001283    0.2596      0.003623       -14.84929   \n",
       "\n",
       "         raJ2000_1  decJ2000_1  redshift_1  mass_stellar_1  absmag_r_total_1  \\\n",
       "id                                                                             \n",
       "58497     0.035309   -0.069205      0.1258        0.166246         -18.91549   \n",
       "3766103   0.034684   -0.068806      0.3961        0.024997         -16.78628   \n",
       "423389    0.035128   -0.070069      0.3699        0.490097         -19.73293   \n",
       "7679642   0.034897   -0.069510      0.2736        0.002655         -14.59074   \n",
       "5563134   0.033874   -0.071096      0.2596        0.003623         -14.84929   \n",
       "\n",
       "            theta       phi  phiprime_1  thetaprime_1  \n",
       "id                                                     \n",
       "58497    1.570188  0.000402   -0.034504      1.640002  \n",
       "3766103  1.569789 -0.000222   -0.035129      1.639602  \n",
       "423389   1.571052  0.000220   -0.034686      1.640866  \n",
       "7679642  1.570493 -0.000010   -0.034916      1.640306  \n",
       "5563134  1.572080 -0.001030   -0.035939      1.641893  "
      ]
     },
     "execution_count": 275,
     "metadata": {},
     "output_type": "execute_result"
    }
   ],
   "source": [
    "split_1.head()"
   ]
  },
  {
   "cell_type": "code",
   "execution_count": 276,
   "metadata": {
    "collapsed": false
   },
   "outputs": [],
   "source": [
    "from lsst.sims.utils import haversine"
   ]
  },
  {
   "cell_type": "code",
   "execution_count": 277,
   "metadata": {
    "collapsed": false
   },
   "outputs": [],
   "source": [
    "df = pd.DataFrame({'ids_1': split_1.index.values,\n",
    "                   'ids_2': split_2.index.values,\n",
    "                   'raJ2000': split_1.raJ2000.values,\n",
    "                   #'shiftedRA':split_1.shiftedRA.values,\n",
    "                   'decJ2000':split_1.decJ2000.values,\n",
    "                   'raJ2000_2': split_2.raJ2000.values,\n",
    "                   #'shiftedRA_2': split_2.shiftedRA_1.values,\n",
    "                   'decJ2000_2':split_2.decJ2000.values,\n",
    "                   'angsep': haversine(split_1.decJ2000.values, split_1.raJ2000.values, split_2.decJ2000.values, \n",
    "                                       split_2.raJ2000.values),\n",
    "                  'angsep_1': haversine(split_1.decJ2000_1.values, split_1.raJ2000_1.values, split_2.decJ2000_1.values, \n",
    "                                       split_2.raJ2000_1.values),\n",
    "                  'angSep': angSep(split_1, split_2, 'theta', 'phi')[1] ,\n",
    "                  'angSep_1':angSep(split_1, split_2, 'thetaprime_1', 'phiprime_1')[1],\n",
    "                  'cosval': angSep(split_1, split_2, 'theta', 'phi')[0] ,\n",
    "                   'cosval_1': angSep(split_1, split_2, 'thetaprime_1', 'phiprime_1')[0] \n",
    "                  }\n",
    "                   #'angsep_1': haversine(split_1.decJ2000_1, split_1.raJ2000_1, split_2.decJ2000_1, split_2.raJ2000_1)}\n",
    "                  )"
   ]
  },
  {
   "cell_type": "code",
   "execution_count": 278,
   "metadata": {
    "collapsed": false
   },
   "outputs": [],
   "source": [
    "df['ratio'] = df.angsep_1/df.angsep "
   ]
  },
  {
   "cell_type": "code",
   "execution_count": 279,
   "metadata": {
    "collapsed": true
   },
   "outputs": [],
   "source": [
    "df['theta_ratio'] = df.angSep_1/df.angSep"
   ]
  },
  {
   "cell_type": "code",
   "execution_count": 280,
   "metadata": {
    "collapsed": false
   },
   "outputs": [
    {
     "data": {
      "text/plain": [
       "count    1000.000000\n",
       "mean        1.001247\n",
       "std         0.000833\n",
       "min         0.999969\n",
       "25%         1.000446\n",
       "50%         1.001256\n",
       "75%         1.002045\n",
       "max         1.002547\n",
       "Name: ratio, dtype: float64"
      ]
     },
     "execution_count": 280,
     "metadata": {},
     "output_type": "execute_result"
    }
   ],
   "source": [
    "df.ratio.describe()"
   ]
  },
  {
   "cell_type": "code",
   "execution_count": 281,
   "metadata": {
    "collapsed": false
   },
   "outputs": [
    {
     "data": {
      "text/plain": [
       "count    1.000000e+03\n",
       "mean     1.000000e+00\n",
       "std      1.281463e-09\n",
       "min      1.000000e+00\n",
       "25%      1.000000e+00\n",
       "50%      1.000000e+00\n",
       "75%      1.000000e+00\n",
       "max      1.000000e+00\n",
       "Name: theta_ratio, dtype: float64"
      ]
     },
     "execution_count": 281,
     "metadata": {},
     "output_type": "execute_result"
    }
   ],
   "source": [
    "df.theta_ratio.describe()"
   ]
  },
  {
   "cell_type": "code",
   "execution_count": null,
   "metadata": {
    "collapsed": true
   },
   "outputs": [],
   "source": []
  },
  {
   "cell_type": "code",
   "execution_count": 282,
   "metadata": {
    "collapsed": false
   },
   "outputs": [
    {
     "ename": "ValueError",
     "evalue": "min() arg is an empty sequence",
     "output_type": "error",
     "traceback": [
      "\u001b[0;31m---------------------------------------------------------------------------\u001b[0m",
      "\u001b[0;31mValueError\u001b[0m                                Traceback (most recent call last)",
      "\u001b[0;32m<ipython-input-282-300c64bcfa57>\u001b[0m in \u001b[0;36m<module>\u001b[0;34m()\u001b[0m\n\u001b[0;32m----> 1\u001b[0;31m \u001b[0mmin\u001b[0m\u001b[0;34m(\u001b[0m\u001b[0mdf\u001b[0m\u001b[0;34m.\u001b[0m\u001b[0mquery\u001b[0m\u001b[0;34m(\u001b[0m\u001b[0;34m'theta_ratio < 0.7'\u001b[0m\u001b[0;34m)\u001b[0m\u001b[0;34m.\u001b[0m\u001b[0mcosval_1\u001b[0m \u001b[0;34m-\u001b[0m \u001b[0;36m1\u001b[0m\u001b[0;34m)\u001b[0m\u001b[0;34m\u001b[0m\u001b[0m\n\u001b[0m",
      "\u001b[0;31mValueError\u001b[0m: min() arg is an empty sequence"
     ]
    }
   ],
   "source": [
    "min(df.query('theta_ratio < 0.7').cosval_1 - 1)"
   ]
  },
  {
   "cell_type": "code",
   "execution_count": 283,
   "metadata": {
    "collapsed": false
   },
   "outputs": [
    {
     "data": {
      "text/plain": [
       "(0.9999, 1.0001)"
      ]
     },
     "execution_count": 283,
     "metadata": {},
     "output_type": "execute_result"
    },
    {
     "data": {
      "image/png": "[encoded data removed]",
      "text/plain": [
       "<matplotlib.figure.Figure at 0x12b882490>"
      ]
     },
     "metadata": {},
     "output_type": "display_data"
    }
   ],
   "source": [
    "_ = plt.hist(df.cosval_1/np.cos(df.angSep_1), histtype='step', alpha=1, lw=2., bins=np.arange(0.5, 1.5, 0.000001))\n",
    "plt.xlim(0.9999, 1.0001)"
   ]
  },
  {
   "cell_type": "code",
   "execution_count": 284,
   "metadata": {
    "collapsed": false
   },
   "outputs": [
    {
     "data": {
      "text/plain": [
       "[<matplotlib.lines.Line2D at 0x126e8c490>]"
      ]
     },
     "execution_count": 284,
     "metadata": {},
     "output_type": "execute_result"
    },
    {
     "data": {
      "image/png": "[encoded data removed]",
      "text/plain": [
       "<matplotlib.figure.Figure at 0x127a66190>"
      ]
     },
     "metadata": {},
     "output_type": "display_data"
    }
   ],
   "source": [
    "plt.plot(1. - df.cosval, df.angSep_1/df.angSep -1., '.')"
   ]
  },
  {
   "cell_type": "code",
   "execution_count": 285,
   "metadata": {
    "collapsed": false
   },
   "outputs": [
    {
     "data": {
      "text/plain": [
       "[<matplotlib.lines.Line2D at 0x127657550>]"
      ]
     },
     "execution_count": 285,
     "metadata": {},
     "output_type": "execute_result"
    },
    {
     "data": {
      "image/png": "[encoded data removed]",
      "text/plain": [
       "<matplotlib.figure.Figure at 0x12bc26d10>"
      ]
     },
     "metadata": {},
     "output_type": "display_data"
    }
   ],
   "source": [
    "plt.plot(df.cosval_1/df.cosval, df.theta_ratio, '.')"
   ]
  },
  {
   "cell_type": "code",
   "execution_count": 286,
   "metadata": {
    "collapsed": false
   },
   "outputs": [
    {
     "data": {
      "text/plain": [
       "False"
      ]
     },
     "execution_count": 286,
     "metadata": {},
     "output_type": "execute_result"
    }
   ],
   "source": [
    "df.ratio.isnull().any()"
   ]
  },
  {
   "cell_type": "code",
   "execution_count": 287,
   "metadata": {
    "collapsed": false
   },
   "outputs": [
    {
     "data": {
      "text/plain": [
       "False"
      ]
     },
     "execution_count": 287,
     "metadata": {},
     "output_type": "execute_result"
    }
   ],
   "source": [
    "df.theta_ratio.isnull().any()"
   ]
  },
  {
   "cell_type": "code",
   "execution_count": 288,
   "metadata": {
    "collapsed": false
   },
   "outputs": [
    {
     "data": {
      "text/plain": [
       "dtype('float64')"
      ]
     },
     "execution_count": 288,
     "metadata": {},
     "output_type": "execute_result"
    }
   ],
   "source": [
    "df.theta_ratio.dtype"
   ]
  },
  {
   "cell_type": "code",
   "execution_count": 289,
   "metadata": {
    "collapsed": false
   },
   "outputs": [
    {
     "data": {
      "text/html": [
       "<div>\n",
       "<table border=\"1\" class=\"dataframe\">\n",
       "  <thead>\n",
       "    <tr style=\"text-align: right;\">\n",
       "      <th></th>\n",
       "      <th>angSep</th>\n",
       "      <th>angSep_1</th>\n",
       "      <th>angsep</th>\n",
       "      <th>angsep_1</th>\n",
       "      <th>cosval</th>\n",
       "      <th>cosval_1</th>\n",
       "      <th>decJ2000</th>\n",
       "      <th>decJ2000_2</th>\n",
       "      <th>ids_1</th>\n",
       "      <th>ids_2</th>\n",
       "      <th>raJ2000</th>\n",
       "      <th>raJ2000_2</th>\n",
       "      <th>ratio</th>\n",
       "      <th>theta_ratio</th>\n",
       "    </tr>\n",
       "  </thead>\n",
       "  <tbody>\n",
       "    <tr>\n",
       "      <th>0</th>\n",
       "      <td>0.002300</td>\n",
       "      <td>0.002300</td>\n",
       "      <td>0.002299</td>\n",
       "      <td>0.002300</td>\n",
       "      <td>0.999997</td>\n",
       "      <td>0.999997</td>\n",
       "      <td>0.000608</td>\n",
       "      <td>-0.001436</td>\n",
       "      <td>58497</td>\n",
       "      <td>8657302</td>\n",
       "      <td>0.035309</td>\n",
       "      <td>0.036364</td>\n",
       "      <td>1.000523</td>\n",
       "      <td>1</td>\n",
       "    </tr>\n",
       "    <tr>\n",
       "      <th>1</th>\n",
       "      <td>0.002852</td>\n",
       "      <td>0.002852</td>\n",
       "      <td>0.002851</td>\n",
       "      <td>0.002853</td>\n",
       "      <td>0.999996</td>\n",
       "      <td>0.999996</td>\n",
       "      <td>0.001007</td>\n",
       "      <td>-0.001426</td>\n",
       "      <td>3766103</td>\n",
       "      <td>8808588</td>\n",
       "      <td>0.034684</td>\n",
       "      <td>0.033197</td>\n",
       "      <td>1.000668</td>\n",
       "      <td>1</td>\n",
       "    </tr>\n",
       "    <tr>\n",
       "      <th>2</th>\n",
       "      <td>0.002315</td>\n",
       "      <td>0.002315</td>\n",
       "      <td>0.002314</td>\n",
       "      <td>0.002316</td>\n",
       "      <td>0.999997</td>\n",
       "      <td>0.999997</td>\n",
       "      <td>-0.000256</td>\n",
       "      <td>0.001693</td>\n",
       "      <td>423389</td>\n",
       "      <td>3728065</td>\n",
       "      <td>0.035127</td>\n",
       "      <td>0.036376</td>\n",
       "      <td>1.000694</td>\n",
       "      <td>1</td>\n",
       "    </tr>\n",
       "    <tr>\n",
       "      <th>3</th>\n",
       "      <td>0.001286</td>\n",
       "      <td>0.001286</td>\n",
       "      <td>0.001286</td>\n",
       "      <td>0.001290</td>\n",
       "      <td>0.999999</td>\n",
       "      <td>0.999999</td>\n",
       "      <td>0.000304</td>\n",
       "      <td>0.000357</td>\n",
       "      <td>7679642</td>\n",
       "      <td>1230723</td>\n",
       "      <td>0.034897</td>\n",
       "      <td>0.036182</td>\n",
       "      <td>1.002410</td>\n",
       "      <td>1</td>\n",
       "    </tr>\n",
       "    <tr>\n",
       "      <th>4</th>\n",
       "      <td>0.000347</td>\n",
       "      <td>0.000347</td>\n",
       "      <td>0.000347</td>\n",
       "      <td>0.000347</td>\n",
       "      <td>1.000000</td>\n",
       "      <td>1.000000</td>\n",
       "      <td>-0.001283</td>\n",
       "      <td>-0.001558</td>\n",
       "      <td>5563134</td>\n",
       "      <td>2782218</td>\n",
       "      <td>0.033876</td>\n",
       "      <td>0.034089</td>\n",
       "      <td>1.000976</td>\n",
       "      <td>1</td>\n",
       "    </tr>\n",
       "  </tbody>\n",
       "</table>\n",
       "</div>"
      ],
      "text/plain": [
       "     angSep  angSep_1    angsep  angsep_1    cosval  cosval_1  decJ2000  \\\n",
       "0  0.002300  0.002300  0.002299  0.002300  0.999997  0.999997  0.000608   \n",
       "1  0.002852  0.002852  0.002851  0.002853  0.999996  0.999996  0.001007   \n",
       "2  0.002315  0.002315  0.002314  0.002316  0.999997  0.999997 -0.000256   \n",
       "3  0.001286  0.001286  0.001286  0.001290  0.999999  0.999999  0.000304   \n",
       "4  0.000347  0.000347  0.000347  0.000347  1.000000  1.000000 -0.001283   \n",
       "\n",
       "   decJ2000_2    ids_1    ids_2   raJ2000  raJ2000_2     ratio  theta_ratio  \n",
       "0   -0.001436    58497  8657302  0.035309   0.036364  1.000523            1  \n",
       "1   -0.001426  3766103  8808588  0.034684   0.033197  1.000668            1  \n",
       "2    0.001693   423389  3728065  0.035127   0.036376  1.000694            1  \n",
       "3    0.000357  7679642  1230723  0.034897   0.036182  1.002410            1  \n",
       "4   -0.001558  5563134  2782218  0.033876   0.034089  1.000976            1  "
      ]
     },
     "execution_count": 289,
     "metadata": {},
     "output_type": "execute_result"
    }
   ],
   "source": [
    "df.head()"
   ]
  },
  {
   "cell_type": "code",
   "execution_count": 292,
   "metadata": {
    "collapsed": false
   },
   "outputs": [
    {
     "data": {
      "text/plain": [
       "<matplotlib.legend.Legend at 0x140ec2bd0>"
      ]
     },
     "execution_count": 292,
     "metadata": {},
     "output_type": "execute_result"
    },
    {
     "data": {
      "image/png": "[encoded data removed]",
      "text/plain": [
       "<matplotlib.figure.Figure at 0x140c8d590>"
      ]
     },
     "metadata": {},
     "output_type": "display_data"
    }
   ],
   "source": [
    "fig, ax = plt.subplots(1, 2, squeeze=True)\n",
    "\n",
    "\n",
    "_ = ax[0].hist(100.*(df.ratio.values - 1.), bins=np.arange(-0.1, 0.3, 0.01), normed=1,\n",
    "               histtype='step', alpha=1, lw=2., color='k')\n",
    "xticks = ax[0].get_xticklabels()\n",
    "_ = [xtick.set_rotation(90.) for xtick in xticks]\n",
    "\n",
    "_ = ax[0].hist(100.*(df.theta_ratio.values - 1.), bins=np.arange(-0.1, 0.3, 0.01), \n",
    "               normed=1,\n",
    "               histtype='step', alpha=1, lw=2., color='r', ls='dashed')\n",
    "\n",
    "\n",
    "\n",
    "# sns.kdeplot(df.ratio - 1., ax=ax)\n",
    "ax[0].set_xlabel('percentage difference')\n",
    "ax[0].set_ylabel('PDF')\n",
    "_ = ax[1].hist((df.ratio.values - 1.)*df.angsep,normed=0, bins=np.arange(-0.00001, 0.00001, 0.000001),\n",
    "        histtype='step', alpha=1, lw=2., color='k')\n",
    "_ = ax[1].hist((df.theta_ratio.values - 1.)*df.angSep,normed=0, bins=np.arange(-0.00001, 0.00001, 0.000001),\n",
    "        histtype='step', alpha=1, lw=2., color='r', ls='dashed')\n",
    "\n",
    "\n",
    "xticks = ax[1].get_xticklabels()\n",
    "_ = [xtick.set_rotation(90.) for xtick in xticks]\n",
    "\n",
    "\n",
    "# sns.kdeplot(df.ratio - 1., ax=ax)\n",
    "ax[1].set_xlabel('Actual difference')\n",
    "ax[1].set_ylabel('PDF')\n",
    "#fig.legend(loc='best')\n",
    "plt.legend()"
   ]
  },
  {
   "cell_type": "code",
   "execution_count": null,
   "metadata": {
    "collapsed": true
   },
   "outputs": [],
   "source": [
    "plt.plot()"
   ]
  },
  {
   "cell_type": "code",
   "execution_count": 84,
   "metadata": {
    "collapsed": false
   },
   "outputs": [
    {
     "data": {
      "image/png": "[encoded data removed]",
      "text/plain": [
       "<matplotlib.figure.Figure at 0x10ac25c10>"
      ]
     },
     "metadata": {},
     "output_type": "display_data"
    }
   ],
   "source": [
    "fig, ax = plt.subplots(1,2)\n",
    "_ = ax[0].hist(common.decJ2000_1 + common.thetaprime_1 - np.pi/2., histtype='step', alpha=1., lw=2.)\n",
    "_ = ax[1].hist(common.raJ2000_1 + common.phiprime_1, histtype='step', alpha=1., lw=2.)\n",
    "xticks = ax[1].get_xticklabels()\n",
    "_ = [xtick.set_rotation(90.) for xtick in xticks]\n",
    "\n",
    "\n"
   ]
  },
  {
   "cell_type": "code",
   "execution_count": 85,
   "metadata": {
    "collapsed": true
   },
   "outputs": [],
   "source": [
    "def angSep( df1 , df2,  theta, phi):\n",
    "    th1 = df1[theta].values\n",
    "    th2 = df2[theta].values\n",
    "    ph1 = df1[phi].values\n",
    "    ph2 = df2[phi].values\n",
    "\n",
    "    cos = np.sin(th1)* np.sin(th2)* np.cos(ph1- ph2) + np.cos(th1)*np.cos(th2)\n",
    "    return cos"
   ]
  },
  {
   "cell_type": "code",
   "execution_count": 86,
   "metadata": {
    "collapsed": true
   },
   "outputs": [],
   "source": [
    "theta_df= pd.DataFrame({'ids_1': split_1.index.values,\n",
    "                   'ids_2': split_2.index.values,\n",
    "                   'raJ2000': split_1.raJ2000.values,\n",
    "                   #'shiftedRA':split_1.shiftedRA.values,\n",
    "                   'decJ2000':split_1.decJ2000.values,\n",
    "                   'raJ2000_2': split_2.raJ2000.values,\n",
    "                   #'shiftedRA_2': split_2.shiftedRA_1.values,\n",
    "                   'decJ2000_2':split_2.decJ2000.values,\n",
    "                   'angSep': angSep(split_1, split_2, 'theta', 'phi') ,\n",
    "                   'angSep_1':angSep(split_1, split_2, 'thetaprime_1', 'phiprime_1')})"
   ]
  },
  {
   "cell_type": "code",
   "execution_count": 87,
   "metadata": {
    "collapsed": false
   },
   "outputs": [
    {
     "data": {
      "text/plain": [
       "<matplotlib.text.Text at 0x11abc5a10>"
      ]
     },
     "execution_count": 87,
     "metadata": {},
     "output_type": "execute_result"
    },
    {
     "data": {
      "image/png": "[encoded data removed]",
      "text/plain": [
       "<matplotlib.figure.Figure at 0x11a8d1890>"
      ]
     },
     "metadata": {},
     "output_type": "display_data"
    }
   ],
   "source": [
    "# Use if not using base tile\n",
    "fig, ax = plt.subplots(2, 3, sharey=True, squeeze=False)\n",
    "ax[0,0].plot(df.angsep, df.ratio-1, '.')\n",
    "xticks = ax[0, 0].get_xticklabels()\n",
    "_ = [xtick.set_rotation(90.) for xtick in xticks]\n",
    "ax[0, 0].set_xlabel('orig ang sep')\n",
    "ax[0, 0].xaxis.set_label_position('top') \n",
    "ax[0, 1].plot(df.decJ2000 - df.decJ2000_2, df.ratio - 1, '.')\n",
    "ax[0, 1].set_xlabel('diff in dec for 2 pts')\n",
    "ax[0, 1].xaxis.set_label_position('top') \n",
    "xticks = ax[0, 1].get_xticklabels()\n",
    "_ = [xtick.set_rotation(90.) for xtick in xticks]\n",
    "ax[0, 2].plot(df.raJ2000 - df.raJ2000_2, df.ratio - 1, '.r')\n",
    "xticks = ax[0, 2].get_xticklabels()\n",
    "_ = [xtick.set_rotation(90.) for xtick in xticks]\n",
    "ax[0, 2].set_xlabel('diff in ra for 2 pts')\n",
    "ax[0, 2].xaxis.set_label_position('top') \n",
    "\n",
    "\n",
    "ax[1, 1].plot(df.decJ2000, df.ratio - 1, '.')\n",
    "xticks = ax[1, 1].get_xticklabels()\n",
    "_ = [xtick.set_rotation(90.) for xtick in xticks]\n",
    "ax[1, 1].set_xlabel('dec in Base')\n",
    "ax[1, 2].plot(df.raJ2000, df.ratio - 1, '.')\n",
    "xticks = ax[1, 2].get_xticklabels()\n",
    "_ = [xtick.set_rotation(90.) for xtick in xticks]\n",
    "ax[1, 2].set_xlabel('ra in Base')\n",
    "\n",
    "\n",
    "#ax[1,0].plot(df.angsep, (df.ratio -1)* df.angsep, '.')"
   ]
  },
  {
   "cell_type": "markdown",
   "metadata": {},
   "source": [
    "## Rotations"
   ]
  },
  {
   "cell_type": "code",
   "execution_count": null,
   "metadata": {
    "collapsed": false
   },
   "outputs": [],
   "source": [
    "common['theta'] = - common['decJ2000'] + np.pi/2.\n",
    "common['phi'] = common['raJ2000'] - np.radians(2.)"
   ]
  },
  {
   "cell_type": "code",
   "execution_count": null,
   "metadata": {
    "collapsed": false
   },
   "outputs": [],
   "source": [
    "common.head()"
   ]
  },
  {
   "cell_type": "code",
   "execution_count": null,
   "metadata": {
    "collapsed": true
   },
   "outputs": [],
   "source": [
    "def rotation(df, delta=0):\n",
    "    \"\"\"\n",
    "    delta : int\n",
    "    \"\"\"\n",
    "    d = delta\n",
    "    delta = np.radians(delta * 4.0)\n",
    "    cosDelta = np.cos(delta)\n",
    "    sinDelta = np.sin(delta)\n",
    "    \n",
    "    df['theta'] = - df['decJ2000'] + np.pi/2.\n",
    "    df['phi'] = df['raJ2000'] - np.radians(2.)\n",
    "    sintheta = np.sin(df.theta)\n",
    "    costheta = np.cos(df.theta)\n",
    "    cosphi = np.cos(df.phi)\n",
    "    # sinphi = np.sin(df.phi)\n",
    "    \n",
    "    zprime =  costheta * cosDelta - sinDelta * sintheta * cosphi\n",
    "    xprime = sintheta * cosphi * cosDelta + costheta * sinDelta\n",
    "    # yprime = sintheta * sinphi\n",
    "    \n",
    "    #rlat = np.sqrt(xprime **2. + yprime **2.)\n",
    "    rlat = np.sqrt(1.0 - zprime**2)\n",
    "    #print(min(rlat), max(rlat))\n",
    "    thetaprime = 'thetaprime_{}'.format(int(d))\n",
    "    phiprime = 'phiprime_{}'.format(d)\n",
    "    df[phiprime] = np.arccos(xprime / rlat) + np.radians(2.)\n",
    "    #df['x'] = sintheta * cosphi\n",
    "    #df['y'] = sintheta * sinphi\n",
    "    #df['z'] = costheta\n",
    "    #df['xprime'] = xprime\n",
    "    #df['yprime'] = yprime\n",
    "    #df['zprime'] = zprime\n",
    "    df[thetaprime] = np.arccos(zprime)\n",
    "    #df[thetaprime] = np.arctan(rlat/zprime) \n",
    "    #df.thetaprime[df[thetaprime] < 0 ] += np.pi\n",
    "    #df[thetaprime] = np.arcsin(np.sqrt(xprime**2. + yprime**2))#*np.sign(zprime)\n",
    "    # df[thetaprime] = np.arcsin(rlat) * np.sign(zprime)"
   ]
  },
  {
   "cell_type": "code",
   "execution_count": null,
   "metadata": {
    "collapsed": false
   },
   "outputs": [],
   "source": [
    "rotation(common, delta=1)"
   ]
  },
  {
   "cell_type": "code",
   "execution_count": null,
   "metadata": {
    "collapsed": false
   },
   "outputs": [],
   "source": [
    "common.head()"
   ]
  },
  {
   "cell_type": "code",
   "execution_count": null,
   "metadata": {
    "collapsed": false
   },
   "outputs": [],
   "source": [
    "np.radians(2.)"
   ]
  },
  {
   "cell_type": "code",
   "execution_count": null,
   "metadata": {
    "collapsed": false
   },
   "outputs": [],
   "source": [
    "#common['deltaDec'] = common.decJ2000_1 + common.thetaprime_1 - np.pi/2."
   ]
  },
  {
   "cell_type": "code",
   "execution_count": null,
   "metadata": {
    "collapsed": false
   },
   "outputs": [],
   "source": [
    "#common['deltaRA'] = common.raJ2000_1 - common.phiprime_1 - np.radians(2.)"
   ]
  },
  {
   "cell_type": "code",
   "execution_count": null,
   "metadata": {
    "collapsed": false
   },
   "outputs": [],
   "source": [
    "_ = plt.hist(common.raJ2000_1 - common.phiprime_1, bins=np.arange(-0.004, 0.001, 0.0001), histtype='step', lw=2., alpha=1.,\n",
    "            normed=1)"
   ]
  },
  {
   "cell_type": "code",
   "execution_count": null,
   "metadata": {
    "collapsed": true
   },
   "outputs": [],
   "source": [
    "def angSep( df1 , df2,  theta, phi):\n",
    "    th1 = df1[theta].values\n",
    "    th2 = df2[theta].values\n",
    "    ph1 = df1[phi].values\n",
    "    ph2 = df2[phi].values\n",
    "\n",
    "    cos = np.sin(th1)* np.sin(th2)* np.cos(ph1- ph2) + np.cos(th1)*np.cos(th2)\n",
    "    return cos"
   ]
  },
  {
   "cell_type": "code",
   "execution_count": null,
   "metadata": {
    "collapsed": false
   },
   "outputs": [],
   "source": [
    "split_1.columns"
   ]
  },
  {
   "cell_type": "code",
   "execution_count": null,
   "metadata": {
    "collapsed": false
   },
   "outputs": [],
   "source": [
    "angSep(split_1, split_2, 'thetaprime_1', 'phiprime_1') - angSep(split_1, split_2, 'theta', 'phi')"
   ]
  },
  {
   "cell_type": "code",
   "execution_count": null,
   "metadata": {
    "collapsed": false
   },
   "outputs": [],
   "source": [
    "theta_df= pd.DataFrame({'ids_1': split_1.index.values,\n",
    "                   'ids_2': split_2.index.values,\n",
    "                   'raJ2000': split_1.raJ2000.values,\n",
    "                   #'shiftedRA':split_1.shiftedRA.values,\n",
    "                   'decJ2000':split_1.decJ2000.values,\n",
    "                   'raJ2000_2': split_2.raJ2000.values,\n",
    "                   #'shiftedRA_2': split_2.shiftedRA_1.values,\n",
    "                   'decJ2000_2':split_2.decJ2000.values,\n",
    "                   'angSep': angSep(split_1, split_2, 'theta', 'phi') ,\n",
    "                   'angSep_1':angSep(split_1, split_2, 'thetaprime_1', 'phiprime_1')})"
   ]
  },
  {
   "cell_type": "code",
   "execution_count": null,
   "metadata": {
    "collapsed": true
   },
   "outputs": [],
   "source": [
    "theta_df['ratio'] = theta_df.angSep_1 / theta_df.angSep"
   ]
  },
  {
   "cell_type": "code",
   "execution_count": null,
   "metadata": {
    "collapsed": false
   },
   "outputs": [],
   "source": [
    "_ = ax[0].hist(100.*(theta_df.ratio - 1), bins=np.arange(-0.1, 0.3, 0.01), normed=1, histtype='step', lw=2., alpha=1., color='r')\n",
    "_ = ax[1].hist((theta_df.ratio.values - 1.)*theta_df.angSep,normed=1, bins=np.arange(-0.00001, 0.00001, 0.000001),\n",
    "        histtype='step', alpha=1, lw=2., color='r')"
   ]
  },
  {
   "cell_type": "code",
   "execution_count": null,
   "metadata": {
    "collapsed": false
   },
   "outputs": [],
   "source": [
    "fig_hist"
   ]
  },
  {
   "cell_type": "code",
   "execution_count": null,
   "metadata": {
    "collapsed": false
   },
   "outputs": [],
   "source": [
    "common.head()"
   ]
  },
  {
   "cell_type": "code",
   "execution_count": null,
   "metadata": {
    "collapsed": false
   },
   "outputs": [],
   "source": [
    "# Use shifts to take care of periodicity of ra newar ra=0.\n",
    "fig, ax = plt.subplots(2, 3, sharey=True, squeeze=False)\n",
    "ax[0,0].plot(df.angsep, df.ratio-1, '.')\n",
    "xticks = ax[0, 0].get_xticklabels()\n",
    "_ = [xtick.set_rotation(90.) for xtick in xticks]\n",
    "ax[0, 0].set_xlabel('orig ang sep')\n",
    "ax[0, 0].xaxis.set_label_position('top') \n",
    "ax[0, 1].plot(df.decJ2000 - df.decJ2000_2, df.ratio - 1, '.')\n",
    "ax[0, 1].set_xlabel('diff in dec for 2 pts')\n",
    "ax[0, 1].xaxis.set_label_position('top') \n",
    "xticks = ax[0, 1].get_xticklabels()\n",
    "_ = [xtick.set_rotation(90.) for xtick in xticks]\n",
    "ax[0, 2].plot(df.shiftedRA - df.shiftedRA_2, df.ratio - 1, '.r')\n",
    "xticks = ax[0, 2].get_xticklabels()\n",
    "_ = [xtick.set_rotation(90.) for xtick in xticks]\n",
    "ax[0, 2].set_xlabel('diff in ra for 2 pts')\n",
    "ax[0, 2].xaxis.set_label_position('top') \n",
    "\n",
    "\n",
    "ax[1, 1].plot(df.decJ2000, df.ratio - 1, '.')\n",
    "xticks = ax[1, 1].get_xticklabels()\n",
    "_ = [xtick.set_rotation(90.) for xtick in xticks]\n",
    "ax[1, 1].set_xlabel('dec in Base')\n",
    "ax[1, 2].plot(df.shiftedRA, df.ratio - 1, '.')\n",
    "xticks = ax[1, 2].get_xticklabels()\n",
    "_ = [xtick.set_rotation(90.) for xtick in xticks]\n",
    "ax[1, 2].set_xlabel('ra in Base')\n",
    "\n",
    "\n",
    "#ax[1,0].plot(df.angsep, (df.ratio -1)* df.angsep, '.')"
   ]
  },
  {
   "cell_type": "code",
   "execution_count": null,
   "metadata": {
    "collapsed": false
   },
   "outputs": [],
   "source": [
    "print(len(df))a\n"
   ]
  },
  {
   "cell_type": "code",
   "execution_count": null,
   "metadata": {
    "collapsed": false
   },
   "outputs": [],
   "source": [
    "print(len(merged))"
   ]
  },
  {
   "cell_type": "markdown",
   "metadata": {},
   "source": [
    "## Scratch"
   ]
  },
  {
   "cell_type": "code",
   "execution_count": null,
   "metadata": {
    "collapsed": false
   },
   "outputs": [],
   "source": [
    "df.raJ2000.max()"
   ]
  },
  {
   "cell_type": "code",
   "execution_count": null,
   "metadata": {
    "collapsed": false
   },
   "outputs": [],
   "source": [
    "df.raJ2000.min()"
   ]
  },
  {
   "cell_type": "code",
   "execution_count": null,
   "metadata": {
    "collapsed": false
   },
   "outputs": [],
   "source": [
    "gTile1_df.raJ2000_1.min()"
   ]
  },
  {
   "cell_type": "code",
   "execution_count": null,
   "metadata": {
    "collapsed": false
   },
   "outputs": [],
   "source": [
    "gTile1_df.raJ2000_1.max()"
   ]
  },
  {
   "cell_type": "code",
   "execution_count": null,
   "metadata": {
    "collapsed": false
   },
   "outputs": [],
   "source": [
    "gBase_df.raJ2000.min()"
   ]
  },
  {
   "cell_type": "code",
   "execution_count": null,
   "metadata": {
    "collapsed": false
   },
   "outputs": [],
   "source": [
    "np.degrees(gBase_df.raJ2000.max())"
   ]
  },
  {
   "cell_type": "code",
   "execution_count": null,
   "metadata": {
    "collapsed": true
   },
   "outputs": [],
   "source": []
  }
 ],
 "metadata": {
  "kernelspec": {
   "display_name": "Python 2",
   "language": "python",
   "name": "python2"
  },
  "language_info": {
   "codemirror_mode": {
    "name": "ipython",
    "version": 2
   },
   "file_extension": ".py",
   "mimetype": "text/x-python",
   "name": "python",
   "nbconvert_exporter": "python",
   "pygments_lexer": "ipython2",
   "version": "2.7.11"
  }
 },
 "nbformat": 4,
 "nbformat_minor": 0
}
