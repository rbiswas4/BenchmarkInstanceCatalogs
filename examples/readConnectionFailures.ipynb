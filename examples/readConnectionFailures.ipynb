{
 "metadata": {
  "name": "",
  "signature": "sha256:36c4a19e56f4ddfd045738de35e01c43c29bd4b42d53d6fa5938cc9aceadf296"
 },
 "nbformat": 3,
 "nbformat_minor": 0,
 "worksheets": [
  {
   "cells": [
    {
     "cell_type": "code",
     "collapsed": false,
     "input": [
      "%matplotlib inline\n",
      "import matplotlib.pyplot as plt"
     ],
     "language": "python",
     "metadata": {},
     "outputs": [],
     "prompt_number": 1
    },
    {
     "cell_type": "code",
     "collapsed": false,
     "input": [
      "import pandas as pd"
     ],
     "language": "python",
     "metadata": {},
     "outputs": [],
     "prompt_number": 2
    },
    {
     "cell_type": "code",
     "collapsed": false,
     "input": [
      "from __future__ import division"
     ],
     "language": "python",
     "metadata": {},
     "outputs": [],
     "prompt_number": 3
    },
    {
     "cell_type": "code",
     "collapsed": false,
     "input": [
      "res = pd.DataFrame.from_csv('results.csv', index_col='Time')"
     ],
     "language": "python",
     "metadata": {},
     "outputs": [],
     "prompt_number": 4
    },
    {
     "cell_type": "code",
     "collapsed": false,
     "input": [
      "res['diff'] = res.timesec.diff()"
     ],
     "language": "python",
     "metadata": {},
     "outputs": [],
     "prompt_number": 5
    },
    {
     "cell_type": "code",
     "collapsed": false,
     "input": [
      "res.head(20)"
     ],
     "language": "python",
     "metadata": {},
     "outputs": [
      {
       "html": [
        "<div style=\"max-height:1000px;max-width:1500px;overflow:auto;\">\n",
        "<table border=\"1\" class=\"dataframe\">\n",
        "  <thead>\n",
        "    <tr style=\"text-align: right;\">\n",
        "      <th></th>\n",
        "      <th>queries</th>\n",
        "      <th>record</th>\n",
        "      <th>success</th>\n",
        "      <th>timesec</th>\n",
        "      <th>diff</th>\n",
        "    </tr>\n",
        "    <tr>\n",
        "      <th>Time</th>\n",
        "      <th></th>\n",
        "      <th></th>\n",
        "      <th></th>\n",
        "      <th></th>\n",
        "      <th></th>\n",
        "    </tr>\n",
        "  </thead>\n",
        "  <tbody>\n",
        "    <tr>\n",
        "      <th>2015-09-26 17:55:19.580983</th>\n",
        "      <td>1</td>\n",
        "      <td>0</td>\n",
        "      <td>1</td>\n",
        "      <td>1.443315e+09</td>\n",
        "      <td>NaN</td>\n",
        "    </tr>\n",
        "    <tr>\n",
        "      <th>2015-09-26 17:55:21.596949</th>\n",
        "      <td>1</td>\n",
        "      <td>1</td>\n",
        "      <td>1</td>\n",
        "      <td>1.443315e+09</td>\n",
        "      <td>2.015966</td>\n",
        "    </tr>\n",
        "    <tr>\n",
        "      <th>2015-09-26 17:55:23.328721</th>\n",
        "      <td>0</td>\n",
        "      <td>2</td>\n",
        "      <td>0</td>\n",
        "      <td>1.443315e+09</td>\n",
        "      <td>1.731772</td>\n",
        "    </tr>\n",
        "    <tr>\n",
        "      <th>2015-09-26 17:56:23.395952</th>\n",
        "      <td>1</td>\n",
        "      <td>3</td>\n",
        "      <td>1</td>\n",
        "      <td>1.443315e+09</td>\n",
        "      <td>60.067231</td>\n",
        "    </tr>\n",
        "    <tr>\n",
        "      <th>2015-09-26 17:56:25.161067</th>\n",
        "      <td>1</td>\n",
        "      <td>4</td>\n",
        "      <td>1</td>\n",
        "      <td>1.443315e+09</td>\n",
        "      <td>1.765115</td>\n",
        "    </tr>\n",
        "    <tr>\n",
        "      <th>2015-09-26 17:56:27.000792</th>\n",
        "      <td>1</td>\n",
        "      <td>5</td>\n",
        "      <td>1</td>\n",
        "      <td>1.443315e+09</td>\n",
        "      <td>1.839725</td>\n",
        "    </tr>\n",
        "    <tr>\n",
        "      <th>2015-09-26 17:56:28.999071</th>\n",
        "      <td>1</td>\n",
        "      <td>6</td>\n",
        "      <td>1</td>\n",
        "      <td>1.443315e+09</td>\n",
        "      <td>1.998279</td>\n",
        "    </tr>\n",
        "    <tr>\n",
        "      <th>2015-09-26 17:56:30.831533</th>\n",
        "      <td>1</td>\n",
        "      <td>7</td>\n",
        "      <td>1</td>\n",
        "      <td>1.443315e+09</td>\n",
        "      <td>1.832462</td>\n",
        "    </tr>\n",
        "    <tr>\n",
        "      <th>2015-09-26 17:56:32.608323</th>\n",
        "      <td>1</td>\n",
        "      <td>8</td>\n",
        "      <td>1</td>\n",
        "      <td>1.443315e+09</td>\n",
        "      <td>1.776790</td>\n",
        "    </tr>\n",
        "    <tr>\n",
        "      <th>2015-09-26 17:56:34.423974</th>\n",
        "      <td>1</td>\n",
        "      <td>9</td>\n",
        "      <td>1</td>\n",
        "      <td>1.443315e+09</td>\n",
        "      <td>1.815651</td>\n",
        "    </tr>\n",
        "    <tr>\n",
        "      <th>2015-09-26 17:56:36.217108</th>\n",
        "      <td>1</td>\n",
        "      <td>10</td>\n",
        "      <td>1</td>\n",
        "      <td>1.443315e+09</td>\n",
        "      <td>1.793134</td>\n",
        "    </tr>\n",
        "    <tr>\n",
        "      <th>2015-09-26 17:56:37.973393</th>\n",
        "      <td>0</td>\n",
        "      <td>11</td>\n",
        "      <td>0</td>\n",
        "      <td>1.443315e+09</td>\n",
        "      <td>1.756285</td>\n",
        "    </tr>\n",
        "    <tr>\n",
        "      <th>2015-09-26 17:57:38.041299</th>\n",
        "      <td>1</td>\n",
        "      <td>12</td>\n",
        "      <td>1</td>\n",
        "      <td>1.443315e+09</td>\n",
        "      <td>60.067906</td>\n",
        "    </tr>\n",
        "    <tr>\n",
        "      <th>2015-09-26 17:57:39.767918</th>\n",
        "      <td>1</td>\n",
        "      <td>13</td>\n",
        "      <td>1</td>\n",
        "      <td>1.443315e+09</td>\n",
        "      <td>1.726619</td>\n",
        "    </tr>\n",
        "    <tr>\n",
        "      <th>2015-09-26 17:57:41.514982</th>\n",
        "      <td>1</td>\n",
        "      <td>14</td>\n",
        "      <td>1</td>\n",
        "      <td>1.443315e+09</td>\n",
        "      <td>1.747064</td>\n",
        "    </tr>\n",
        "    <tr>\n",
        "      <th>2015-09-26 17:57:43.200429</th>\n",
        "      <td>1</td>\n",
        "      <td>15</td>\n",
        "      <td>1</td>\n",
        "      <td>1.443315e+09</td>\n",
        "      <td>1.685447</td>\n",
        "    </tr>\n",
        "    <tr>\n",
        "      <th>2015-09-26 17:57:44.945286</th>\n",
        "      <td>1</td>\n",
        "      <td>16</td>\n",
        "      <td>1</td>\n",
        "      <td>1.443315e+09</td>\n",
        "      <td>1.744857</td>\n",
        "    </tr>\n",
        "    <tr>\n",
        "      <th>2015-09-26 17:57:46.661192</th>\n",
        "      <td>1</td>\n",
        "      <td>17</td>\n",
        "      <td>1</td>\n",
        "      <td>1.443315e+09</td>\n",
        "      <td>1.715906</td>\n",
        "    </tr>\n",
        "    <tr>\n",
        "      <th>2015-09-26 17:57:48.482668</th>\n",
        "      <td>1</td>\n",
        "      <td>18</td>\n",
        "      <td>1</td>\n",
        "      <td>1.443315e+09</td>\n",
        "      <td>1.821476</td>\n",
        "    </tr>\n",
        "    <tr>\n",
        "      <th>2015-09-26 17:57:50.184394</th>\n",
        "      <td>1</td>\n",
        "      <td>19</td>\n",
        "      <td>1</td>\n",
        "      <td>1.443315e+09</td>\n",
        "      <td>1.701726</td>\n",
        "    </tr>\n",
        "  </tbody>\n",
        "</table>\n",
        "</div>"
       ],
       "metadata": {},
       "output_type": "pyout",
       "prompt_number": 6,
       "text": [
        "                            queries  record  success       timesec       diff\n",
        "Time                                                                         \n",
        "2015-09-26 17:55:19.580983        1       0        1  1.443315e+09        NaN\n",
        "2015-09-26 17:55:21.596949        1       1        1  1.443315e+09   2.015966\n",
        "2015-09-26 17:55:23.328721        0       2        0  1.443315e+09   1.731772\n",
        "2015-09-26 17:56:23.395952        1       3        1  1.443315e+09  60.067231\n",
        "2015-09-26 17:56:25.161067        1       4        1  1.443315e+09   1.765115\n",
        "2015-09-26 17:56:27.000792        1       5        1  1.443315e+09   1.839725\n",
        "2015-09-26 17:56:28.999071        1       6        1  1.443315e+09   1.998279\n",
        "2015-09-26 17:56:30.831533        1       7        1  1.443315e+09   1.832462\n",
        "2015-09-26 17:56:32.608323        1       8        1  1.443315e+09   1.776790\n",
        "2015-09-26 17:56:34.423974        1       9        1  1.443315e+09   1.815651\n",
        "2015-09-26 17:56:36.217108        1      10        1  1.443315e+09   1.793134\n",
        "2015-09-26 17:56:37.973393        0      11        0  1.443315e+09   1.756285\n",
        "2015-09-26 17:57:38.041299        1      12        1  1.443315e+09  60.067906\n",
        "2015-09-26 17:57:39.767918        1      13        1  1.443315e+09   1.726619\n",
        "2015-09-26 17:57:41.514982        1      14        1  1.443315e+09   1.747064\n",
        "2015-09-26 17:57:43.200429        1      15        1  1.443315e+09   1.685447\n",
        "2015-09-26 17:57:44.945286        1      16        1  1.443315e+09   1.744857\n",
        "2015-09-26 17:57:46.661192        1      17        1  1.443315e+09   1.715906\n",
        "2015-09-26 17:57:48.482668        1      18        1  1.443315e+09   1.821476\n",
        "2015-09-26 17:57:50.184394        1      19        1  1.443315e+09   1.701726"
       ]
      }
     ],
     "prompt_number": 6
    },
    {
     "cell_type": "code",
     "collapsed": false,
     "input": [
      "grouped = res.groupby('success')"
     ],
     "language": "python",
     "metadata": {},
     "outputs": [],
     "prompt_number": 7
    },
    {
     "cell_type": "code",
     "collapsed": false,
     "input": [
      "xx = grouped.get_group(0)\n",
      "fails = xx.copy(deep=True)\n",
      "fails['timeDelta'] = fails.timesec.diff()\n",
      "yy = grouped.get_group(1)\n",
      "success = yy.copy(deep=True)\n",
      "success['timeDelta'] = success.timesec.diff()"
     ],
     "language": "python",
     "metadata": {},
     "outputs": [],
     "prompt_number": 8
    },
    {
     "cell_type": "code",
     "collapsed": false,
     "input": [
      "fails.head()"
     ],
     "language": "python",
     "metadata": {},
     "outputs": [
      {
       "html": [
        "<div style=\"max-height:1000px;max-width:1500px;overflow:auto;\">\n",
        "<table border=\"1\" class=\"dataframe\">\n",
        "  <thead>\n",
        "    <tr style=\"text-align: right;\">\n",
        "      <th></th>\n",
        "      <th>queries</th>\n",
        "      <th>record</th>\n",
        "      <th>success</th>\n",
        "      <th>timesec</th>\n",
        "      <th>diff</th>\n",
        "      <th>timeDelta</th>\n",
        "    </tr>\n",
        "    <tr>\n",
        "      <th>Time</th>\n",
        "      <th></th>\n",
        "      <th></th>\n",
        "      <th></th>\n",
        "      <th></th>\n",
        "      <th></th>\n",
        "      <th></th>\n",
        "    </tr>\n",
        "  </thead>\n",
        "  <tbody>\n",
        "    <tr>\n",
        "      <th>2015-09-26 17:55:23.328721</th>\n",
        "      <td>0</td>\n",
        "      <td>2</td>\n",
        "      <td>0</td>\n",
        "      <td>1.443315e+09</td>\n",
        "      <td>1.731772</td>\n",
        "      <td>NaN</td>\n",
        "    </tr>\n",
        "    <tr>\n",
        "      <th>2015-09-26 17:56:37.973393</th>\n",
        "      <td>0</td>\n",
        "      <td>11</td>\n",
        "      <td>0</td>\n",
        "      <td>1.443315e+09</td>\n",
        "      <td>1.756285</td>\n",
        "      <td>74.644672</td>\n",
        "    </tr>\n",
        "    <tr>\n",
        "      <th>2015-09-26 17:58:11.924012</th>\n",
        "      <td>0</td>\n",
        "      <td>31</td>\n",
        "      <td>0</td>\n",
        "      <td>1.443315e+09</td>\n",
        "      <td>1.744899</td>\n",
        "      <td>93.950619</td>\n",
        "    </tr>\n",
        "    <tr>\n",
        "      <th>2015-09-26 17:59:22.102462</th>\n",
        "      <td>0</td>\n",
        "      <td>38</td>\n",
        "      <td>0</td>\n",
        "      <td>1.443316e+09</td>\n",
        "      <td>1.703951</td>\n",
        "      <td>70.178450</td>\n",
        "    </tr>\n",
        "    <tr>\n",
        "      <th>2015-09-26 18:00:47.043188</th>\n",
        "      <td>0</td>\n",
        "      <td>53</td>\n",
        "      <td>0</td>\n",
        "      <td>1.443316e+09</td>\n",
        "      <td>1.656789</td>\n",
        "      <td>84.940726</td>\n",
        "    </tr>\n",
        "  </tbody>\n",
        "</table>\n",
        "</div>"
       ],
       "metadata": {},
       "output_type": "pyout",
       "prompt_number": 9,
       "text": [
        "                            queries  record  success       timesec      diff  \\\n",
        "Time                                                                           \n",
        "2015-09-26 17:55:23.328721        0       2        0  1.443315e+09  1.731772   \n",
        "2015-09-26 17:56:37.973393        0      11        0  1.443315e+09  1.756285   \n",
        "2015-09-26 17:58:11.924012        0      31        0  1.443315e+09  1.744899   \n",
        "2015-09-26 17:59:22.102462        0      38        0  1.443316e+09  1.703951   \n",
        "2015-09-26 18:00:47.043188        0      53        0  1.443316e+09  1.656789   \n",
        "\n",
        "                            timeDelta  \n",
        "Time                                   \n",
        "2015-09-26 17:55:23.328721        NaN  \n",
        "2015-09-26 17:56:37.973393  74.644672  \n",
        "2015-09-26 17:58:11.924012  93.950619  \n",
        "2015-09-26 17:59:22.102462  70.178450  \n",
        "2015-09-26 18:00:47.043188  84.940726  "
       ]
      }
     ],
     "prompt_number": 9
    },
    {
     "cell_type": "code",
     "collapsed": false,
     "input": [
      "success.head()"
     ],
     "language": "python",
     "metadata": {},
     "outputs": [
      {
       "html": [
        "<div style=\"max-height:1000px;max-width:1500px;overflow:auto;\">\n",
        "<table border=\"1\" class=\"dataframe\">\n",
        "  <thead>\n",
        "    <tr style=\"text-align: right;\">\n",
        "      <th></th>\n",
        "      <th>queries</th>\n",
        "      <th>record</th>\n",
        "      <th>success</th>\n",
        "      <th>timesec</th>\n",
        "      <th>diff</th>\n",
        "      <th>timeDelta</th>\n",
        "    </tr>\n",
        "    <tr>\n",
        "      <th>Time</th>\n",
        "      <th></th>\n",
        "      <th></th>\n",
        "      <th></th>\n",
        "      <th></th>\n",
        "      <th></th>\n",
        "      <th></th>\n",
        "    </tr>\n",
        "  </thead>\n",
        "  <tbody>\n",
        "    <tr>\n",
        "      <th>2015-09-26 17:55:19.580983</th>\n",
        "      <td>1</td>\n",
        "      <td>0</td>\n",
        "      <td>1</td>\n",
        "      <td>1.443315e+09</td>\n",
        "      <td>NaN</td>\n",
        "      <td>NaN</td>\n",
        "    </tr>\n",
        "    <tr>\n",
        "      <th>2015-09-26 17:55:21.596949</th>\n",
        "      <td>1</td>\n",
        "      <td>1</td>\n",
        "      <td>1</td>\n",
        "      <td>1.443315e+09</td>\n",
        "      <td>2.015966</td>\n",
        "      <td>2.015966</td>\n",
        "    </tr>\n",
        "    <tr>\n",
        "      <th>2015-09-26 17:56:23.395952</th>\n",
        "      <td>1</td>\n",
        "      <td>3</td>\n",
        "      <td>1</td>\n",
        "      <td>1.443315e+09</td>\n",
        "      <td>60.067231</td>\n",
        "      <td>61.799003</td>\n",
        "    </tr>\n",
        "    <tr>\n",
        "      <th>2015-09-26 17:56:25.161067</th>\n",
        "      <td>1</td>\n",
        "      <td>4</td>\n",
        "      <td>1</td>\n",
        "      <td>1.443315e+09</td>\n",
        "      <td>1.765115</td>\n",
        "      <td>1.765115</td>\n",
        "    </tr>\n",
        "    <tr>\n",
        "      <th>2015-09-26 17:56:27.000792</th>\n",
        "      <td>1</td>\n",
        "      <td>5</td>\n",
        "      <td>1</td>\n",
        "      <td>1.443315e+09</td>\n",
        "      <td>1.839725</td>\n",
        "      <td>1.839725</td>\n",
        "    </tr>\n",
        "  </tbody>\n",
        "</table>\n",
        "</div>"
       ],
       "metadata": {},
       "output_type": "pyout",
       "prompt_number": 10,
       "text": [
        "                            queries  record  success       timesec       diff  \\\n",
        "Time                                                                            \n",
        "2015-09-26 17:55:19.580983        1       0        1  1.443315e+09        NaN   \n",
        "2015-09-26 17:55:21.596949        1       1        1  1.443315e+09   2.015966   \n",
        "2015-09-26 17:56:23.395952        1       3        1  1.443315e+09  60.067231   \n",
        "2015-09-26 17:56:25.161067        1       4        1  1.443315e+09   1.765115   \n",
        "2015-09-26 17:56:27.000792        1       5        1  1.443315e+09   1.839725   \n",
        "\n",
        "                            timeDelta  \n",
        "Time                                   \n",
        "2015-09-26 17:55:19.580983        NaN  \n",
        "2015-09-26 17:55:21.596949   2.015966  \n",
        "2015-09-26 17:56:23.395952  61.799003  \n",
        "2015-09-26 17:56:25.161067   1.765115  \n",
        "2015-09-26 17:56:27.000792   1.839725  "
       ]
      }
     ],
     "prompt_number": 10
    },
    {
     "cell_type": "code",
     "collapsed": false,
     "input": [
      "plt.plot(fails.timesec - fails.timesec.iloc[0], fails.timeDelta.values, 'o')\n",
      "plt.axhline(fails.timeDelta.mean())"
     ],
     "language": "python",
     "metadata": {},
     "outputs": [
      {
       "metadata": {},
       "output_type": "pyout",
       "prompt_number": 11,
       "text": [
        "<matplotlib.lines.Line2D at 0x1078ebb50>"
       ]
      },
      {
       "metadata": {},
       "output_type": "display_data",
       "png": "[encoded data removed]",
       "text": [
        "<matplotlib.figure.Figure at 0x107c53310>"
       ]
      }
     ],
     "prompt_number": 11
    },
    {
     "cell_type": "code",
     "collapsed": false,
     "input": [
      "res.index"
     ],
     "language": "python",
     "metadata": {},
     "outputs": [
      {
       "metadata": {},
       "output_type": "pyout",
       "prompt_number": 12,
       "text": [
        "<class 'pandas.tseries.index.DatetimeIndex'>\n",
        "[2015-09-26 17:55:19.580983, ..., 2015-09-27 00:42:09.933048]\n",
        "Length: 4951, Freq: None, Timezone: None"
       ]
      }
     ],
     "prompt_number": 12
    },
    {
     "cell_type": "code",
     "collapsed": false,
     "input": [
      "fails.plot(kind='scatter',x='record', y='timeDelta')\n",
      "fails.plot(y='timeDelta')"
     ],
     "language": "python",
     "metadata": {},
     "outputs": [
      {
       "metadata": {},
       "output_type": "pyout",
       "prompt_number": 13,
       "text": [
        "<matplotlib.axes._subplots.AxesSubplot at 0x107cb0690>"
       ]
      },
      {
       "metadata": {},
       "output_type": "display_data",
       "png": "[encoded data removed]",
       "text": [
        "<matplotlib.figure.Figure at 0x1079452d0>"
       ]
      },
      {
       "metadata": {},
       "output_type": "display_data",
       "png": "[encoded data removed]",
       "text": [
        "<matplotlib.figure.Figure at 0x107c6e6d0>"
       ]
      }
     ],
     "prompt_number": 13
    },
    {
     "cell_type": "code",
     "collapsed": false,
     "input": [
      "failure_rate = len(fails) / len(res)\n",
      "print failure_rate"
     ],
     "language": "python",
     "metadata": {},
     "outputs": [
      {
       "output_type": "stream",
       "stream": "stdout",
       "text": [
        "0.0551403756817\n"
       ]
      }
     ],
     "prompt_number": 14
    },
    {
     "cell_type": "code",
     "collapsed": false,
     "input": [
      "failfig, ax = plt.subplots()\n",
      "fails.hist('timeDelta', bins=100, ax=ax)\n",
      "ax.set_xlabel('Time Diffs (sec)')\n",
      "ax.set_ylabel('Freq')\n",
      "failfig.savefig('failTimeDiffs')\n"
     ],
     "language": "python",
     "metadata": {},
     "outputs": [
      {
       "metadata": {},
       "output_type": "display_data",
       "png": "[encoded data removed]",
       "text": [
        "<matplotlib.figure.Figure at 0x10794e8d0>"
       ]
      }
     ],
     "prompt_number": 15
    },
    {
     "cell_type": "code",
     "collapsed": false,
     "input": [
      "success.hist('timeDelta', bins=100)"
     ],
     "language": "python",
     "metadata": {},
     "outputs": [
      {
       "metadata": {},
       "output_type": "pyout",
       "prompt_number": 16,
       "text": [
        "array([[<matplotlib.axes._subplots.AxesSubplot object at 0x108084d10>]], dtype=object)"
       ]
      },
      {
       "metadata": {},
       "output_type": "display_data",
       "png": "[encoded data removed]",
       "text": [
        "<matplotlib.figure.Figure at 0x10794e2d0>"
       ]
      }
     ],
     "prompt_number": 16
    },
    {
     "cell_type": "code",
     "collapsed": false,
     "input": [
      "from scipy.signal import lombscargle\n",
      "import numpy as np"
     ],
     "language": "python",
     "metadata": {},
     "outputs": [],
     "prompt_number": 25
    },
    {
     "cell_type": "code",
     "collapsed": false,
     "input": [
      "periods = np.arange(0.5, 400., 0.5)\n",
      "angfreq =  2 * np.pi / periods"
     ],
     "language": "python",
     "metadata": {},
     "outputs": [],
     "prompt_number": 50
    },
    {
     "cell_type": "code",
     "collapsed": false,
     "input": [
      "power = lombscargle(res.timesec.values, res.success.values - res.success.mean(), angfreq)"
     ],
     "language": "python",
     "metadata": {},
     "outputs": [],
     "prompt_number": 51
    },
    {
     "cell_type": "code",
     "collapsed": false,
     "input": [
      "# power *= 2.0 / (len(res) * res.success.std() ** 2)\n"
     ],
     "language": "python",
     "metadata": {},
     "outputs": [],
     "prompt_number": 32
    },
    {
     "cell_type": "code",
     "collapsed": false,
     "input": [
      "# plot the results\n",
      "xt = np.arange(0., 400., 20.)\n",
      "fig, ax = plt.subplots()\n",
      "ax.plot(periods, power)\n",
      "ax.set(ylim=(0, 0.8), xlabel='period (sec)',\n",
      "       ylabel='Lomb-Scargle Power');\n",
      "ax.set_xticks(xt)\n",
      "ax.grid(True)\n",
      "# xtl = ax.get_xticklabels(visi)\n",
      "# ax.set_xticklabels(xtl, rotation=30)"
     ],
     "language": "python",
     "metadata": {},
     "outputs": [
      {
       "metadata": {},
       "output_type": "display_data",
       "png": "[encoded data removed]",
       "text": [
        "<matplotlib.figure.Figure at 0x10d7eec50>"
       ]
      }
     ],
     "prompt_number": 52
    },
    {
     "cell_type": "code",
     "collapsed": false,
     "input": [
      "power"
     ],
     "language": "python",
     "metadata": {},
     "outputs": [
      {
       "metadata": {},
       "output_type": "pyout",
       "prompt_number": 47,
       "text": [
        "array([ nan,  nan,  nan, ...,  nan,  nan,  nan])"
       ]
      }
     ],
     "prompt_number": 47
    },
    {
     "cell_type": "code",
     "collapsed": false,
     "input": [
      "from gatspy.periodic import LombScargle"
     ],
     "language": "python",
     "metadata": {},
     "outputs": [],
     "prompt_number": 17
    },
    {
     "cell_type": "code",
     "collapsed": false,
     "input": [
      "model = LombScargle().fit(res.timesec.values, res.success.values, np.zeros(len(res.success.values)))"
     ],
     "language": "python",
     "metadata": {},
     "outputs": [],
     "prompt_number": 40
    },
    {
     "cell_type": "code",
     "collapsed": false,
     "input": [
      "periods, power = model.periodogram_auto(nyquist_factor=10)"
     ],
     "language": "python",
     "metadata": {},
     "outputs": [],
     "prompt_number": 42
    }
   ],
   "metadata": {}
  }
 ]
}